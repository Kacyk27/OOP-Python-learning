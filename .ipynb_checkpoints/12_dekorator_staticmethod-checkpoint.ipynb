{
 "cells": [
  {
   "cell_type": "markdown",
   "id": "4d7a3fbc",
   "metadata": {},
   "source": [
    "## Metoda statyczna i Dekorator staticmethod"
   ]
  },
  {
   "cell_type": "code",
   "execution_count": 1,
   "id": "592c9d94",
   "metadata": {},
   "outputs": [
    {
     "name": "stdout",
     "output_type": "stream",
     "text": [
      "Help on class staticmethod in module builtins:\n",
      "\n",
      "class staticmethod(object)\n",
      " |  staticmethod(function) -> method\n",
      " |  \n",
      " |  Convert a function to be a static method.\n",
      " |  \n",
      " |  A static method does not receive an implicit first argument.\n",
      " |  To declare a static method, use this idiom:\n",
      " |  \n",
      " |       class C:\n",
      " |           @staticmethod\n",
      " |           def f(arg1, arg2, ...):\n",
      " |               ...\n",
      " |  \n",
      " |  It can be called either on the class (e.g. C.f()) or on an instance\n",
      " |  (e.g. C().f()). Both the class and the instance are ignored, and\n",
      " |  neither is passed implicitly as the first argument to the method.\n",
      " |  \n",
      " |  Static methods in Python are similar to those found in Java or C++.\n",
      " |  For a more advanced concept, see the classmethod builtin.\n",
      " |  \n",
      " |  Methods defined here:\n",
      " |  \n",
      " |  __get__(self, instance, owner, /)\n",
      " |      Return an attribute of instance, which is of type owner.\n",
      " |  \n",
      " |  __init__(self, /, *args, **kwargs)\n",
      " |      Initialize self.  See help(type(self)) for accurate signature.\n",
      " |  \n",
      " |  ----------------------------------------------------------------------\n",
      " |  Static methods defined here:\n",
      " |  \n",
      " |  __new__(*args, **kwargs) from builtins.type\n",
      " |      Create and return a new object.  See help(type) for accurate signature.\n",
      " |  \n",
      " |  ----------------------------------------------------------------------\n",
      " |  Data descriptors defined here:\n",
      " |  \n",
      " |  __dict__\n",
      " |  \n",
      " |  __func__\n",
      " |  \n",
      " |  __isabstractmethod__\n",
      "\n"
     ]
    }
   ],
   "source": [
    "help(staticmethod)"
   ]
  },
  {
   "cell_type": "code",
   "execution_count": 2,
   "id": "3e3896f0",
   "metadata": {},
   "outputs": [
    {
     "data": {
      "text/plain": [
       "mappingproxy({'__module__': '__main__',\n",
       "              'get_current_time': <function __main__.Phone.get_current_time()>,\n",
       "              '__dict__': <attribute '__dict__' of 'Phone' objects>,\n",
       "              '__weakref__': <attribute '__weakref__' of 'Phone' objects>,\n",
       "              '__doc__': None})"
      ]
     },
     "execution_count": 2,
     "metadata": {},
     "output_type": "execute_result"
    }
   ],
   "source": [
    "import time\n",
    "class Phone:\n",
    "    \n",
    "    def get_current_time():\n",
    "        \n",
    "        return time.strftime(\"%H:%M:%S\",time.localtime())\n",
    "\n",
    "Phone.__dict__"
   ]
  },
  {
   "cell_type": "code",
   "execution_count": 3,
   "id": "669dac70",
   "metadata": {},
   "outputs": [
    {
     "data": {
      "text/plain": [
       "'14:18:09'"
      ]
     },
     "execution_count": 3,
     "metadata": {},
     "output_type": "execute_result"
    }
   ],
   "source": [
    "Phone.get_current_time()"
   ]
  },
  {
   "cell_type": "code",
   "execution_count": 4,
   "id": "4f863788",
   "metadata": {},
   "outputs": [
    {
     "ename": "TypeError",
     "evalue": "get_current_time() takes 0 positional arguments but 1 was given",
     "output_type": "error",
     "traceback": [
      "\u001b[1;31m---------------------------------------------------------------------------\u001b[0m",
      "\u001b[1;31mTypeError\u001b[0m                                 Traceback (most recent call last)",
      "\u001b[1;32m<ipython-input-4-01c4868676ce>\u001b[0m in \u001b[0;36m<module>\u001b[1;34m\u001b[0m\n\u001b[0;32m      1\u001b[0m \u001b[0mphone\u001b[0m\u001b[1;33m=\u001b[0m\u001b[0mPhone\u001b[0m\u001b[1;33m(\u001b[0m\u001b[1;33m)\u001b[0m\u001b[1;33m\u001b[0m\u001b[1;33m\u001b[0m\u001b[0m\n\u001b[1;32m----> 2\u001b[1;33m \u001b[0mphone\u001b[0m\u001b[1;33m.\u001b[0m\u001b[0mget_current_time\u001b[0m\u001b[1;33m(\u001b[0m\u001b[1;33m)\u001b[0m\u001b[1;33m\u001b[0m\u001b[1;33m\u001b[0m\u001b[0m\n\u001b[0m",
      "\u001b[1;31mTypeError\u001b[0m: get_current_time() takes 0 positional arguments but 1 was given"
     ]
    }
   ],
   "source": [
    "phone=Phone()\n",
    "phone.get_current_time()"
   ]
  },
  {
   "cell_type": "code",
   "execution_count": 5,
   "id": "3325a29e",
   "metadata": {},
   "outputs": [],
   "source": [
    "phone=Phone()"
   ]
  },
  {
   "cell_type": "code",
   "execution_count": 6,
   "id": "42e2180a",
   "metadata": {},
   "outputs": [
    {
     "data": {
      "text/plain": [
       "mappingproxy({'__module__': '__main__',\n",
       "              'get_current_time': <staticmethod at 0x175e605efd0>,\n",
       "              '__dict__': <attribute '__dict__' of 'Phone' objects>,\n",
       "              '__weakref__': <attribute '__weakref__' of 'Phone' objects>,\n",
       "              '__doc__': None})"
      ]
     },
     "execution_count": 6,
     "metadata": {},
     "output_type": "execute_result"
    }
   ],
   "source": [
    "import time\n",
    "class Phone:\n",
    "    \n",
    "    @staticmethod\n",
    "    def get_current_time():\n",
    "        \n",
    "        return time.strftime(\"%H:%M:%S\",time.localtime())\n",
    "    \n",
    "    \n",
    "Phone.__dict__"
   ]
  },
  {
   "cell_type": "code",
   "execution_count": 7,
   "id": "8e5bf47d",
   "metadata": {},
   "outputs": [
    {
     "data": {
      "text/plain": [
       "'14:18:16'"
      ]
     },
     "execution_count": 7,
     "metadata": {},
     "output_type": "execute_result"
    }
   ],
   "source": [
    "Phone.get_current_time()"
   ]
  },
  {
   "cell_type": "code",
   "execution_count": 8,
   "id": "e271ed72",
   "metadata": {},
   "outputs": [
    {
     "data": {
      "text/plain": [
       "<bound method Phone.get_current_time of <__main__.Phone object at 0x00000175E605E730>>"
      ]
     },
     "execution_count": 8,
     "metadata": {},
     "output_type": "execute_result"
    }
   ],
   "source": [
    "phone.get_current_time"
   ]
  },
  {
   "cell_type": "code",
   "execution_count": 9,
   "id": "0fef35fd",
   "metadata": {},
   "outputs": [
    {
     "ename": "TypeError",
     "evalue": "get_current_time() takes 0 positional arguments but 1 was given",
     "output_type": "error",
     "traceback": [
      "\u001b[1;31m---------------------------------------------------------------------------\u001b[0m",
      "\u001b[1;31mTypeError\u001b[0m                                 Traceback (most recent call last)",
      "\u001b[1;32m<ipython-input-9-a04f72bebe3a>\u001b[0m in \u001b[0;36m<module>\u001b[1;34m\u001b[0m\n\u001b[1;32m----> 1\u001b[1;33m \u001b[0mprint\u001b[0m\u001b[1;33m(\u001b[0m\u001b[0mphone\u001b[0m\u001b[1;33m.\u001b[0m\u001b[0mget_current_time\u001b[0m\u001b[1;33m(\u001b[0m\u001b[1;33m)\u001b[0m\u001b[1;33m)\u001b[0m\u001b[1;33m\u001b[0m\u001b[1;33m\u001b[0m\u001b[0m\n\u001b[0m",
      "\u001b[1;31mTypeError\u001b[0m: get_current_time() takes 0 positional arguments but 1 was given"
     ]
    }
   ],
   "source": [
    "print(phone.get_current_time())"
   ]
  },
  {
   "cell_type": "code",
   "execution_count": 1,
   "id": "237d3a57",
   "metadata": {},
   "outputs": [
    {
     "data": {
      "text/plain": [
       "mappingproxy({'__module__': '__main__',\n",
       "              'get_current_time': <staticmethod at 0x267dcd4eeb0>,\n",
       "              '__dict__': <attribute '__dict__' of 'Phone' objects>,\n",
       "              '__weakref__': <attribute '__weakref__' of 'Phone' objects>,\n",
       "              '__doc__': None})"
      ]
     },
     "execution_count": 1,
     "metadata": {},
     "output_type": "execute_result"
    }
   ],
   "source": [
    "import time\n",
    "class Phone:\n",
    "    \n",
    "    @staticmethod\n",
    "    def get_current_time():\n",
    "        \n",
    "        return time.strftime(\"%H:%M:%S\",time.localtime())\n",
    "\n",
    "Phone.__dict__"
   ]
  },
  {
   "cell_type": "code",
   "execution_count": 2,
   "id": "6525d3b9",
   "metadata": {},
   "outputs": [
    {
     "data": {
      "text/plain": [
       "<function __main__.Phone.get_current_time()>"
      ]
     },
     "execution_count": 2,
     "metadata": {},
     "output_type": "execute_result"
    }
   ],
   "source": [
    "Phone.get_current_time"
   ]
  },
  {
   "cell_type": "code",
   "execution_count": 3,
   "id": "27d0a36e",
   "metadata": {},
   "outputs": [
    {
     "data": {
      "text/plain": [
       "'15:12:25'"
      ]
     },
     "execution_count": 3,
     "metadata": {},
     "output_type": "execute_result"
    }
   ],
   "source": [
    "Phone.get_current_time()"
   ]
  },
  {
   "cell_type": "code",
   "execution_count": 4,
   "id": "9c831848",
   "metadata": {},
   "outputs": [],
   "source": [
    "phone=Phone()"
   ]
  },
  {
   "cell_type": "code",
   "execution_count": 5,
   "id": "1863c40f",
   "metadata": {},
   "outputs": [
    {
     "data": {
      "text/plain": [
       "<function __main__.Phone.get_current_time()>"
      ]
     },
     "execution_count": 5,
     "metadata": {},
     "output_type": "execute_result"
    }
   ],
   "source": [
    "phone.get_current_time"
   ]
  },
  {
   "cell_type": "code",
   "execution_count": 6,
   "id": "0bc6bdbd",
   "metadata": {},
   "outputs": [
    {
     "data": {
      "text/plain": [
       "'15:12:42'"
      ]
     },
     "execution_count": 6,
     "metadata": {},
     "output_type": "execute_result"
    }
   ],
   "source": [
    "phone.get_current_time()"
   ]
  },
  {
   "cell_type": "markdown",
   "id": "be593aef",
   "metadata": {},
   "source": [
    "## Przykład"
   ]
  },
  {
   "cell_type": "code",
   "execution_count": 11,
   "id": "3fdd94c4",
   "metadata": {},
   "outputs": [
    {
     "data": {
      "text/plain": [
       "mappingproxy({'__module__': '__main__',\n",
       "              'instances': [],\n",
       "              '__init__': <function __main__.Phone.__init__(self)>,\n",
       "              'get_current_time': <staticmethod at 0x267de234c10>,\n",
       "              '__dict__': <attribute '__dict__' of 'Phone' objects>,\n",
       "              '__weakref__': <attribute '__weakref__' of 'Phone' objects>,\n",
       "              '__doc__': None})"
      ]
     },
     "execution_count": 11,
     "metadata": {},
     "output_type": "execute_result"
    }
   ],
   "source": [
    "import time\n",
    "class Phone:\n",
    "    \n",
    "    instances=[]\n",
    "    \n",
    "    def __init__(self):\n",
    "        creation_time=Phone.get_current_time()\n",
    "        Phone.instances.append((creation_time,self))\n",
    "    \n",
    "    @staticmethod\n",
    "    def get_current_time():\n",
    "        \n",
    "        return time.strftime(\"%H:%M:%S\",time.localtime())\n",
    "\n",
    "Phone.__dict__"
   ]
  },
  {
   "cell_type": "code",
   "execution_count": 12,
   "id": "0d7f66de",
   "metadata": {},
   "outputs": [],
   "source": [
    "phone1=Phone()\n",
    "time.sleep(1)\n",
    "phone2=Phone()\n",
    "time.sleep(2)\n",
    "phone3=Phone()"
   ]
  },
  {
   "cell_type": "code",
   "execution_count": 13,
   "id": "71117d87",
   "metadata": {},
   "outputs": [
    {
     "data": {
      "text/plain": [
       "[('15:15:29', <__main__.Phone at 0x267de234670>),\n",
       " ('15:15:30', <__main__.Phone at 0x267de24c4f0>),\n",
       " ('15:15:32', <__main__.Phone at 0x267de24cb50>)]"
      ]
     },
     "execution_count": 13,
     "metadata": {},
     "output_type": "execute_result"
    }
   ],
   "source": [
    "Phone.instances"
   ]
  },
  {
   "cell_type": "code",
   "execution_count": 17,
   "id": "f8b416eb",
   "metadata": {},
   "outputs": [
    {
     "data": {
      "text/plain": [
       "mappingproxy({'__module__': '__main__',\n",
       "              'instances': [],\n",
       "              '__init__': <function __main__.Phone.__init__(self)>,\n",
       "              'get_current_time': <staticmethod at 0x267de24a340>,\n",
       "              '__dict__': <attribute '__dict__' of 'Phone' objects>,\n",
       "              '__weakref__': <attribute '__weakref__' of 'Phone' objects>,\n",
       "              '__doc__': None})"
      ]
     },
     "execution_count": 17,
     "metadata": {},
     "output_type": "execute_result"
    }
   ],
   "source": [
    "import time\n",
    "class Phone:\n",
    "    \n",
    "    instances=[]\n",
    "    \n",
    "    def __init__(self):\n",
    "        self.creation_time=Phone.get_current_time()\n",
    "        Phone.instances.append(self)\n",
    "    \n",
    "    @staticmethod\n",
    "    def get_current_time():\n",
    "        \n",
    "        return time.strftime(\"%H:%M:%S\",time.localtime())\n",
    "\n",
    "Phone.__dict__"
   ]
  },
  {
   "cell_type": "code",
   "execution_count": 18,
   "id": "e18e6b29",
   "metadata": {},
   "outputs": [],
   "source": [
    "phone1=Phone()\n",
    "time.sleep(1)\n",
    "phone2=Phone()\n",
    "time.sleep(2)\n",
    "phone3=Phone()"
   ]
  },
  {
   "cell_type": "code",
   "execution_count": 19,
   "id": "8613c750",
   "metadata": {},
   "outputs": [
    {
     "data": {
      "text/plain": [
       "[<__main__.Phone at 0x267de24a040>,\n",
       " <__main__.Phone at 0x267de8cde20>,\n",
       " <__main__.Phone at 0x267de3616d0>]"
      ]
     },
     "execution_count": 19,
     "metadata": {},
     "output_type": "execute_result"
    }
   ],
   "source": [
    "Phone.instances"
   ]
  },
  {
   "cell_type": "code",
   "execution_count": 20,
   "id": "5eed7693",
   "metadata": {},
   "outputs": [
    {
     "name": "stdout",
     "output_type": "stream",
     "text": [
      "15:16:44 <__main__.Phone object at 0x00000267DE24A040>\n",
      "15:16:45 <__main__.Phone object at 0x00000267DE8CDE20>\n",
      "15:16:47 <__main__.Phone object at 0x00000267DE3616D0>\n"
     ]
    }
   ],
   "source": [
    "for instance in Phone.instances:\n",
    "    print(instance.creation_time,instance)"
   ]
  },
  {
   "cell_type": "markdown",
   "id": "c071cc57",
   "metadata": {},
   "source": [
    "## Przykład"
   ]
  },
  {
   "cell_type": "code",
   "execution_count": 21,
   "id": "ce947d25",
   "metadata": {},
   "outputs": [
    {
     "data": {
      "text/plain": [
       "mappingproxy({'__module__': '__main__',\n",
       "              '__init__': <function __main__.Person.__init__(self, input_str)>,\n",
       "              'name': <property at 0x267de3da130>,\n",
       "              'surname': <property at 0x267ddff0e00>,\n",
       "              '__dict__': <attribute '__dict__' of 'Person' objects>,\n",
       "              '__weakref__': <attribute '__weakref__' of 'Person' objects>,\n",
       "              '__doc__': None})"
      ]
     },
     "execution_count": 21,
     "metadata": {},
     "output_type": "execute_result"
    }
   ],
   "source": [
    "class Person:\n",
    "    \n",
    "    def __init__(self,input_str):\n",
    "        items= input_str.split(\" \")\n",
    "        if len(items) > 1:\n",
    "            self._name = items[0]\n",
    "            self._surname = items[1]\n",
    "        else:\n",
    "            raise ValueError(\"The obj cannot be created.\")\n",
    "    \n",
    "    @property\n",
    "    def name(self):\n",
    "        return self._name\n",
    "\n",
    "    @property\n",
    "    def surname(self):\n",
    "        return self._surname\n",
    "    \n",
    "    \n",
    "Person.__dict__"
   ]
  },
  {
   "cell_type": "code",
   "execution_count": 22,
   "id": "1145bd44",
   "metadata": {},
   "outputs": [],
   "source": [
    "person=Person(\"Mark Twain\")"
   ]
  },
  {
   "cell_type": "code",
   "execution_count": 23,
   "id": "0187e200",
   "metadata": {},
   "outputs": [
    {
     "data": {
      "text/plain": [
       "{'_name': 'Mark', '_surname': 'Twain'}"
      ]
     },
     "execution_count": 23,
     "metadata": {},
     "output_type": "execute_result"
    }
   ],
   "source": [
    "person.__dict__"
   ]
  },
  {
   "cell_type": "code",
   "execution_count": 24,
   "id": "0a194f07",
   "metadata": {},
   "outputs": [
    {
     "data": {
      "text/plain": [
       "('Mark', 'Twain')"
      ]
     },
     "execution_count": 24,
     "metadata": {},
     "output_type": "execute_result"
    }
   ],
   "source": [
    "person.name, person.surname"
   ]
  },
  {
   "cell_type": "code",
   "execution_count": 25,
   "id": "b834aab7",
   "metadata": {},
   "outputs": [
    {
     "ename": "ValueError",
     "evalue": "The obj cannot be created.",
     "output_type": "error",
     "traceback": [
      "\u001b[1;31m---------------------------------------------------------------------------\u001b[0m",
      "\u001b[1;31mValueError\u001b[0m                                Traceback (most recent call last)",
      "\u001b[1;32m<ipython-input-25-972489ae6096>\u001b[0m in \u001b[0;36m<module>\u001b[1;34m\u001b[0m\n\u001b[1;32m----> 1\u001b[1;33m \u001b[0mperson1\u001b[0m\u001b[1;33m=\u001b[0m\u001b[0mPerson\u001b[0m\u001b[1;33m(\u001b[0m\u001b[1;34m\"Mark\"\u001b[0m\u001b[1;33m)\u001b[0m\u001b[1;33m\u001b[0m\u001b[1;33m\u001b[0m\u001b[0m\n\u001b[0m",
      "\u001b[1;32m<ipython-input-21-52cb9ba41093>\u001b[0m in \u001b[0;36m__init__\u001b[1;34m(self, input_str)\u001b[0m\n\u001b[0;32m      7\u001b[0m             \u001b[0mself\u001b[0m\u001b[1;33m.\u001b[0m\u001b[0m_surname\u001b[0m \u001b[1;33m=\u001b[0m \u001b[0mitems\u001b[0m\u001b[1;33m[\u001b[0m\u001b[1;36m1\u001b[0m\u001b[1;33m]\u001b[0m\u001b[1;33m\u001b[0m\u001b[1;33m\u001b[0m\u001b[0m\n\u001b[0;32m      8\u001b[0m         \u001b[1;32melse\u001b[0m\u001b[1;33m:\u001b[0m\u001b[1;33m\u001b[0m\u001b[1;33m\u001b[0m\u001b[0m\n\u001b[1;32m----> 9\u001b[1;33m             \u001b[1;32mraise\u001b[0m \u001b[0mValueError\u001b[0m\u001b[1;33m(\u001b[0m\u001b[1;34m\"The obj cannot be created.\"\u001b[0m\u001b[1;33m)\u001b[0m\u001b[1;33m\u001b[0m\u001b[1;33m\u001b[0m\u001b[0m\n\u001b[0m\u001b[0;32m     10\u001b[0m \u001b[1;33m\u001b[0m\u001b[0m\n\u001b[0;32m     11\u001b[0m     \u001b[1;33m@\u001b[0m\u001b[0mproperty\u001b[0m\u001b[1;33m\u001b[0m\u001b[1;33m\u001b[0m\u001b[0m\n",
      "\u001b[1;31mValueError\u001b[0m: The obj cannot be created."
     ]
    }
   ],
   "source": [
    "person1=Person(\"Mark\")"
   ]
  },
  {
   "cell_type": "code",
   "execution_count": 26,
   "id": "45ed632e",
   "metadata": {},
   "outputs": [
    {
     "ename": "ValueError",
     "evalue": "The obj cannot be created.",
     "output_type": "error",
     "traceback": [
      "\u001b[1;31m---------------------------------------------------------------------------\u001b[0m",
      "\u001b[1;31mValueError\u001b[0m                                Traceback (most recent call last)",
      "\u001b[1;32m<ipython-input-26-3a9b8728b6a8>\u001b[0m in \u001b[0;36m<module>\u001b[1;34m\u001b[0m\n\u001b[1;32m----> 1\u001b[1;33m \u001b[0mperson\u001b[0m\u001b[1;33m=\u001b[0m\u001b[0mPerson\u001b[0m\u001b[1;33m(\u001b[0m\u001b[1;34m\"Mark-Twain\"\u001b[0m\u001b[1;33m)\u001b[0m\u001b[1;33m\u001b[0m\u001b[1;33m\u001b[0m\u001b[0m\n\u001b[0m",
      "\u001b[1;32m<ipython-input-21-52cb9ba41093>\u001b[0m in \u001b[0;36m__init__\u001b[1;34m(self, input_str)\u001b[0m\n\u001b[0;32m      7\u001b[0m             \u001b[0mself\u001b[0m\u001b[1;33m.\u001b[0m\u001b[0m_surname\u001b[0m \u001b[1;33m=\u001b[0m \u001b[0mitems\u001b[0m\u001b[1;33m[\u001b[0m\u001b[1;36m1\u001b[0m\u001b[1;33m]\u001b[0m\u001b[1;33m\u001b[0m\u001b[1;33m\u001b[0m\u001b[0m\n\u001b[0;32m      8\u001b[0m         \u001b[1;32melse\u001b[0m\u001b[1;33m:\u001b[0m\u001b[1;33m\u001b[0m\u001b[1;33m\u001b[0m\u001b[0m\n\u001b[1;32m----> 9\u001b[1;33m             \u001b[1;32mraise\u001b[0m \u001b[0mValueError\u001b[0m\u001b[1;33m(\u001b[0m\u001b[1;34m\"The obj cannot be created.\"\u001b[0m\u001b[1;33m)\u001b[0m\u001b[1;33m\u001b[0m\u001b[1;33m\u001b[0m\u001b[0m\n\u001b[0m\u001b[0;32m     10\u001b[0m \u001b[1;33m\u001b[0m\u001b[0m\n\u001b[0;32m     11\u001b[0m     \u001b[1;33m@\u001b[0m\u001b[0mproperty\u001b[0m\u001b[1;33m\u001b[0m\u001b[1;33m\u001b[0m\u001b[0m\n",
      "\u001b[1;31mValueError\u001b[0m: The obj cannot be created."
     ]
    }
   ],
   "source": [
    "person=Person(\"Mark-Twain\")"
   ]
  },
  {
   "cell_type": "code",
   "execution_count": 43,
   "id": "cb6b8857",
   "metadata": {},
   "outputs": [
    {
     "data": {
      "text/plain": [
       "mappingproxy({'__module__': '__main__',\n",
       "              '__init__': <function __main__.Person.__init__(self, input_str)>,\n",
       "              'name': <property at 0x267de45d680>,\n",
       "              'surname': <property at 0x267de9d26d0>,\n",
       "              '_is_string_with_space': <staticmethod at 0x267de9ff250>,\n",
       "              '__dict__': <attribute '__dict__' of 'Person' objects>,\n",
       "              '__weakref__': <attribute '__weakref__' of 'Person' objects>,\n",
       "              '__doc__': None})"
      ]
     },
     "execution_count": 43,
     "metadata": {},
     "output_type": "execute_result"
    }
   ],
   "source": [
    "class Person:\n",
    "    \n",
    "    def __init__(self,input_str):\n",
    "        if Person._is_string_with_space(input_str):\n",
    "            items= input_str.split(\" \")\n",
    "            if len(items) == 2:\n",
    "                self._name = items[0]\n",
    "                self._surname = items[1]\n",
    "            else:\n",
    "                raise ValueError(\"Obj cannot be created.\")\n",
    "        else:\n",
    "            raise ValueError(\"Please insert a space betwen name and surname.\")\n",
    "    @property\n",
    "    def name(self):\n",
    "        return self._name\n",
    "\n",
    "    @property\n",
    "    def surname(self):\n",
    "        return self._surname\n",
    "\n",
    "    @staticmethod\n",
    "    def _is_string_with_space(input_str):\n",
    "        return isinstance(input_str, str) and \" \" in input_str\n",
    "    \n",
    "    \n",
    "Person.__dict__"
   ]
  },
  {
   "cell_type": "code",
   "execution_count": 44,
   "id": "bcadb95e",
   "metadata": {},
   "outputs": [],
   "source": [
    "person=Person(\"Mark Twain\")"
   ]
  },
  {
   "cell_type": "code",
   "execution_count": 45,
   "id": "560d9824",
   "metadata": {},
   "outputs": [
    {
     "data": {
      "text/plain": [
       "'Mark'"
      ]
     },
     "execution_count": 45,
     "metadata": {},
     "output_type": "execute_result"
    }
   ],
   "source": [
    "person.name"
   ]
  },
  {
   "cell_type": "code",
   "execution_count": 46,
   "id": "6b0b0287",
   "metadata": {},
   "outputs": [
    {
     "data": {
      "text/plain": [
       "'Twain'"
      ]
     },
     "execution_count": 46,
     "metadata": {},
     "output_type": "execute_result"
    }
   ],
   "source": [
    "person.surname"
   ]
  },
  {
   "cell_type": "code",
   "execution_count": 47,
   "id": "6ca5ef81",
   "metadata": {},
   "outputs": [
    {
     "ename": "ValueError",
     "evalue": "Please insert a space betwen name and surname.",
     "output_type": "error",
     "traceback": [
      "\u001b[1;31m---------------------------------------------------------------------------\u001b[0m",
      "\u001b[1;31mValueError\u001b[0m                                Traceback (most recent call last)",
      "\u001b[1;32m<ipython-input-47-4631bfd01dda>\u001b[0m in \u001b[0;36m<module>\u001b[1;34m\u001b[0m\n\u001b[1;32m----> 1\u001b[1;33m \u001b[0mperson\u001b[0m\u001b[1;33m=\u001b[0m\u001b[0mPerson\u001b[0m\u001b[1;33m(\u001b[0m\u001b[1;34m\"Mark_Twain\"\u001b[0m\u001b[1;33m)\u001b[0m\u001b[1;33m\u001b[0m\u001b[1;33m\u001b[0m\u001b[0m\n\u001b[0m",
      "\u001b[1;32m<ipython-input-43-2bec267fa175>\u001b[0m in \u001b[0;36m__init__\u001b[1;34m(self, input_str)\u001b[0m\n\u001b[0;32m     10\u001b[0m                 \u001b[1;32mraise\u001b[0m \u001b[0mValueError\u001b[0m\u001b[1;33m(\u001b[0m\u001b[1;34m\"Obj cannot be created.\"\u001b[0m\u001b[1;33m)\u001b[0m\u001b[1;33m\u001b[0m\u001b[1;33m\u001b[0m\u001b[0m\n\u001b[0;32m     11\u001b[0m         \u001b[1;32melse\u001b[0m\u001b[1;33m:\u001b[0m\u001b[1;33m\u001b[0m\u001b[1;33m\u001b[0m\u001b[0m\n\u001b[1;32m---> 12\u001b[1;33m             \u001b[1;32mraise\u001b[0m \u001b[0mValueError\u001b[0m\u001b[1;33m(\u001b[0m\u001b[1;34m\"Please insert a space betwen name and surname.\"\u001b[0m\u001b[1;33m)\u001b[0m\u001b[1;33m\u001b[0m\u001b[1;33m\u001b[0m\u001b[0m\n\u001b[0m\u001b[0;32m     13\u001b[0m     \u001b[1;33m@\u001b[0m\u001b[0mproperty\u001b[0m\u001b[1;33m\u001b[0m\u001b[1;33m\u001b[0m\u001b[0m\n\u001b[0;32m     14\u001b[0m     \u001b[1;32mdef\u001b[0m \u001b[0mname\u001b[0m\u001b[1;33m(\u001b[0m\u001b[0mself\u001b[0m\u001b[1;33m)\u001b[0m\u001b[1;33m:\u001b[0m\u001b[1;33m\u001b[0m\u001b[1;33m\u001b[0m\u001b[0m\n",
      "\u001b[1;31mValueError\u001b[0m: Please insert a space betwen name and surname."
     ]
    }
   ],
   "source": [
    "person=Person(\"Mark_Twain\")"
   ]
  },
  {
   "cell_type": "code",
   "execution_count": 48,
   "id": "d3826354",
   "metadata": {},
   "outputs": [
    {
     "data": {
      "text/plain": [
       "('Mark', 'Twain')"
      ]
     },
     "execution_count": 48,
     "metadata": {},
     "output_type": "execute_result"
    }
   ],
   "source": [
    "person.name, person.surname"
   ]
  },
  {
   "cell_type": "code",
   "execution_count": 49,
   "id": "0e7acfc9",
   "metadata": {},
   "outputs": [
    {
     "ename": "ValueError",
     "evalue": "Please insert a space betwen name and surname.",
     "output_type": "error",
     "traceback": [
      "\u001b[1;31m---------------------------------------------------------------------------\u001b[0m",
      "\u001b[1;31mValueError\u001b[0m                                Traceback (most recent call last)",
      "\u001b[1;32m<ipython-input-49-ebe955917706>\u001b[0m in \u001b[0;36m<module>\u001b[1;34m\u001b[0m\n\u001b[1;32m----> 1\u001b[1;33m \u001b[0mperson\u001b[0m\u001b[1;33m=\u001b[0m\u001b[0mPerson\u001b[0m\u001b[1;33m(\u001b[0m\u001b[1;36m4\u001b[0m\u001b[1;33m)\u001b[0m\u001b[1;33m\u001b[0m\u001b[1;33m\u001b[0m\u001b[0m\n\u001b[0m",
      "\u001b[1;32m<ipython-input-43-2bec267fa175>\u001b[0m in \u001b[0;36m__init__\u001b[1;34m(self, input_str)\u001b[0m\n\u001b[0;32m     10\u001b[0m                 \u001b[1;32mraise\u001b[0m \u001b[0mValueError\u001b[0m\u001b[1;33m(\u001b[0m\u001b[1;34m\"Obj cannot be created.\"\u001b[0m\u001b[1;33m)\u001b[0m\u001b[1;33m\u001b[0m\u001b[1;33m\u001b[0m\u001b[0m\n\u001b[0;32m     11\u001b[0m         \u001b[1;32melse\u001b[0m\u001b[1;33m:\u001b[0m\u001b[1;33m\u001b[0m\u001b[1;33m\u001b[0m\u001b[0m\n\u001b[1;32m---> 12\u001b[1;33m             \u001b[1;32mraise\u001b[0m \u001b[0mValueError\u001b[0m\u001b[1;33m(\u001b[0m\u001b[1;34m\"Please insert a space betwen name and surname.\"\u001b[0m\u001b[1;33m)\u001b[0m\u001b[1;33m\u001b[0m\u001b[1;33m\u001b[0m\u001b[0m\n\u001b[0m\u001b[0;32m     13\u001b[0m     \u001b[1;33m@\u001b[0m\u001b[0mproperty\u001b[0m\u001b[1;33m\u001b[0m\u001b[1;33m\u001b[0m\u001b[0m\n\u001b[0;32m     14\u001b[0m     \u001b[1;32mdef\u001b[0m \u001b[0mname\u001b[0m\u001b[1;33m(\u001b[0m\u001b[0mself\u001b[0m\u001b[1;33m)\u001b[0m\u001b[1;33m:\u001b[0m\u001b[1;33m\u001b[0m\u001b[1;33m\u001b[0m\u001b[0m\n",
      "\u001b[1;31mValueError\u001b[0m: Please insert a space betwen name and surname."
     ]
    }
   ],
   "source": [
    "person=Person(4)"
   ]
  },
  {
   "cell_type": "code",
   "execution_count": 50,
   "id": "a55f6502",
   "metadata": {},
   "outputs": [
    {
     "data": {
      "text/plain": [
       "'Mark'"
      ]
     },
     "execution_count": 50,
     "metadata": {},
     "output_type": "execute_result"
    }
   ],
   "source": [
    "person.name"
   ]
  },
  {
   "cell_type": "code",
   "execution_count": null,
   "id": "2aa2675c",
   "metadata": {},
   "outputs": [],
   "source": []
  },
  {
   "cell_type": "code",
   "execution_count": null,
   "id": "87226139",
   "metadata": {},
   "outputs": [],
   "source": []
  }
 ],
 "metadata": {
  "kernelspec": {
   "display_name": "Python 3",
   "language": "python",
   "name": "python3"
  },
  "language_info": {
   "codemirror_mode": {
    "name": "ipython",
    "version": 3
   },
   "file_extension": ".py",
   "mimetype": "text/x-python",
   "name": "python",
   "nbconvert_exporter": "python",
   "pygments_lexer": "ipython3",
   "version": "3.8.10"
  }
 },
 "nbformat": 4,
 "nbformat_minor": 5
}
