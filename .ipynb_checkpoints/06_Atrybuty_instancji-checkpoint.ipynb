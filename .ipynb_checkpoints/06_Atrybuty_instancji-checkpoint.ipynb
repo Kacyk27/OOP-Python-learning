{
 "cells": [
  {
   "cell_type": "markdown",
   "id": "fdb8c984",
   "metadata": {},
   "source": [
    "## Tworzenie instancji klasy"
   ]
  },
  {
   "cell_type": "code",
   "execution_count": 1,
   "id": "c634969f",
   "metadata": {},
   "outputs": [
    {
     "data": {
      "text/plain": [
       "mappingproxy({'__module__': '__main__',\n",
       "              'language': 'PL',\n",
       "              'show': <function __main__.Book.show()>,\n",
       "              '__dict__': <attribute '__dict__' of 'Book' objects>,\n",
       "              '__weakref__': <attribute '__weakref__' of 'Book' objects>,\n",
       "              '__doc__': None})"
      ]
     },
     "execution_count": 1,
     "metadata": {},
     "output_type": "execute_result"
    }
   ],
   "source": [
    "class Book:\n",
    "    \n",
    "    language=\"PL\"\n",
    "    \n",
    "    def show():\n",
    "        print(Book.language)\n",
    "\n",
    "Book.__dict__"
   ]
  },
  {
   "cell_type": "code",
   "execution_count": 2,
   "id": "88a9d742",
   "metadata": {},
   "outputs": [
    {
     "data": {
      "text/plain": [
       "<__main__.Book at 0x1ac181b5d00>"
      ]
     },
     "execution_count": 2,
     "metadata": {},
     "output_type": "execute_result"
    }
   ],
   "source": [
    "Book()"
   ]
  },
  {
   "cell_type": "code",
   "execution_count": 3,
   "id": "69c74604",
   "metadata": {},
   "outputs": [],
   "source": [
    "book1=Book()"
   ]
  },
  {
   "cell_type": "code",
   "execution_count": 4,
   "id": "f914d582",
   "metadata": {},
   "outputs": [
    {
     "data": {
      "text/plain": [
       "<__main__.Book at 0x1ac181b59a0>"
      ]
     },
     "execution_count": 4,
     "metadata": {},
     "output_type": "execute_result"
    }
   ],
   "source": [
    "book1"
   ]
  },
  {
   "cell_type": "code",
   "execution_count": 6,
   "id": "f3acffa2",
   "metadata": {},
   "outputs": [
    {
     "data": {
      "text/plain": [
       "<bound method Book.show of <__main__.Book object at 0x000001AC181B59A0>>"
      ]
     },
     "execution_count": 6,
     "metadata": {},
     "output_type": "execute_result"
    }
   ],
   "source": [
    "book1.show"
   ]
  },
  {
   "cell_type": "code",
   "execution_count": 7,
   "id": "f2ad5bee",
   "metadata": {},
   "outputs": [
    {
     "name": "stdout",
     "output_type": "stream",
     "text": [
      "PL\n"
     ]
    }
   ],
   "source": [
    "Book.show()"
   ]
  },
  {
   "cell_type": "code",
   "execution_count": 13,
   "id": "783019d8",
   "metadata": {},
   "outputs": [
    {
     "data": {
      "text/plain": [
       "<bound method Book.show of <__main__.Book object at 0x000001AC181B59A0>>"
      ]
     },
     "execution_count": 13,
     "metadata": {},
     "output_type": "execute_result"
    }
   ],
   "source": [
    "book1.show"
   ]
  },
  {
   "cell_type": "code",
   "execution_count": 9,
   "id": "d0f30162",
   "metadata": {},
   "outputs": [
    {
     "data": {
      "text/plain": [
       "(__main__.Book, type)"
      ]
     },
     "execution_count": 9,
     "metadata": {},
     "output_type": "execute_result"
    }
   ],
   "source": [
    "type(book1), type(Book)"
   ]
  },
  {
   "cell_type": "code",
   "execution_count": 10,
   "id": "8f5cfbcd",
   "metadata": {},
   "outputs": [
    {
     "data": {
      "text/plain": [
       "True"
      ]
     },
     "execution_count": 10,
     "metadata": {},
     "output_type": "execute_result"
    }
   ],
   "source": [
    "isinstance(book1,Book)"
   ]
  },
  {
   "cell_type": "markdown",
   "id": "715b75e5",
   "metadata": {},
   "source": [
    "## (Wbudowane) atrybuty klasy vs. (wbudowane) atrybuty instancji"
   ]
  },
  {
   "cell_type": "code",
   "execution_count": 14,
   "id": "60a8cb0c",
   "metadata": {},
   "outputs": [
    {
     "data": {
      "text/plain": [
       "mappingproxy({'__module__': '__main__',\n",
       "              'language': 'PL',\n",
       "              'show': <function __main__.Book.show()>,\n",
       "              '__dict__': <attribute '__dict__' of 'Book' objects>,\n",
       "              '__weakref__': <attribute '__weakref__' of 'Book' objects>,\n",
       "              '__doc__': None})"
      ]
     },
     "execution_count": 14,
     "metadata": {},
     "output_type": "execute_result"
    }
   ],
   "source": [
    "class Book:\n",
    "    \n",
    "    language=\"PL\"\n",
    "    \n",
    "    def show():\n",
    "        print(Book.language)\n",
    "        \n",
    "        \n",
    "Book.__dict__"
   ]
  },
  {
   "cell_type": "code",
   "execution_count": 15,
   "id": "b3850f83",
   "metadata": {},
   "outputs": [
    {
     "data": {
      "text/plain": [
       "<__main__.Book at 0x1ac181b5e50>"
      ]
     },
     "execution_count": 15,
     "metadata": {},
     "output_type": "execute_result"
    }
   ],
   "source": [
    "book1=Book()\n",
    "book1"
   ]
  },
  {
   "cell_type": "code",
   "execution_count": 16,
   "id": "3e3c152e",
   "metadata": {},
   "outputs": [
    {
     "data": {
      "text/plain": [
       "{}"
      ]
     },
     "execution_count": 16,
     "metadata": {},
     "output_type": "execute_result"
    }
   ],
   "source": [
    "book1.__dict__"
   ]
  },
  {
   "cell_type": "code",
   "execution_count": 18,
   "id": "1d8c8355",
   "metadata": {},
   "outputs": [
    {
     "data": {
      "text/plain": [
       "dict"
      ]
     },
     "execution_count": 18,
     "metadata": {},
     "output_type": "execute_result"
    }
   ],
   "source": [
    "type(book1.__dict__)"
   ]
  },
  {
   "cell_type": "code",
   "execution_count": 19,
   "id": "1912fb30",
   "metadata": {},
   "outputs": [
    {
     "data": {
      "text/plain": [
       "type"
      ]
     },
     "execution_count": 19,
     "metadata": {},
     "output_type": "execute_result"
    }
   ],
   "source": [
    "Book.__class__"
   ]
  },
  {
   "cell_type": "markdown",
   "id": "7dc6c467",
   "metadata": {},
   "source": [
    "## Atrybuty klasy oraz atrybuty instancji"
   ]
  },
  {
   "cell_type": "code",
   "execution_count": 20,
   "id": "b2a4dd08",
   "metadata": {},
   "outputs": [
    {
     "data": {
      "text/plain": [
       "mappingproxy({'__module__': '__main__',\n",
       "              'language': 'PL',\n",
       "              '__dict__': <attribute '__dict__' of 'Book' objects>,\n",
       "              '__weakref__': <attribute '__weakref__' of 'Book' objects>,\n",
       "              '__doc__': None})"
      ]
     },
     "execution_count": 20,
     "metadata": {},
     "output_type": "execute_result"
    }
   ],
   "source": [
    "class Book:\n",
    "    \n",
    "    language=\"PL\"\n",
    "    \n",
    "Book.__dict__"
   ]
  },
  {
   "cell_type": "code",
   "execution_count": 21,
   "id": "8f230024",
   "metadata": {},
   "outputs": [],
   "source": [
    "book1=Book()\n",
    "book2=Book()"
   ]
  },
  {
   "cell_type": "code",
   "execution_count": 22,
   "id": "912a3ead",
   "metadata": {},
   "outputs": [
    {
     "data": {
      "text/plain": [
       "(<__main__.Book at 0x1ac1826df40>, <__main__.Book at 0x1ac1826d9d0>)"
      ]
     },
     "execution_count": 22,
     "metadata": {},
     "output_type": "execute_result"
    }
   ],
   "source": [
    "book1,book2"
   ]
  },
  {
   "cell_type": "code",
   "execution_count": 23,
   "id": "5638babd",
   "metadata": {},
   "outputs": [
    {
     "data": {
      "text/plain": [
       "False"
      ]
     },
     "execution_count": 23,
     "metadata": {},
     "output_type": "execute_result"
    }
   ],
   "source": [
    "book1 is book2"
   ]
  },
  {
   "cell_type": "code",
   "execution_count": 24,
   "id": "5cc49e57",
   "metadata": {},
   "outputs": [
    {
     "data": {
      "text/plain": [
       "({}, {})"
      ]
     },
     "execution_count": 24,
     "metadata": {},
     "output_type": "execute_result"
    }
   ],
   "source": [
    "book1.__dict__, book2.__dict__"
   ]
  },
  {
   "cell_type": "code",
   "execution_count": 25,
   "id": "9491ca3f",
   "metadata": {},
   "outputs": [
    {
     "data": {
      "text/plain": [
       "('PL', 'PL')"
      ]
     },
     "execution_count": 25,
     "metadata": {},
     "output_type": "execute_result"
    }
   ],
   "source": [
    "book1.language, book2.language"
   ]
  },
  {
   "cell_type": "code",
   "execution_count": 26,
   "id": "7010082d",
   "metadata": {},
   "outputs": [
    {
     "data": {
      "text/plain": [
       "mappingproxy({'__module__': '__main__',\n",
       "              'language': 'PL',\n",
       "              '__dict__': <attribute '__dict__' of 'Book' objects>,\n",
       "              '__weakref__': <attribute '__weakref__' of 'Book' objects>,\n",
       "              '__doc__': None,\n",
       "              'author': 'Adam Mickiewicz'})"
      ]
     },
     "execution_count": 26,
     "metadata": {},
     "output_type": "execute_result"
    }
   ],
   "source": [
    "Book.author=\"Adam Mickiewicz\"\n",
    "Book.__dict__"
   ]
  },
  {
   "cell_type": "code",
   "execution_count": 27,
   "id": "d959dfcd",
   "metadata": {},
   "outputs": [
    {
     "data": {
      "text/plain": [
       "'Adam Mickiewicz'"
      ]
     },
     "execution_count": 27,
     "metadata": {},
     "output_type": "execute_result"
    }
   ],
   "source": [
    "Book.author"
   ]
  },
  {
   "cell_type": "code",
   "execution_count": 28,
   "id": "8801d90c",
   "metadata": {},
   "outputs": [
    {
     "data": {
      "text/plain": [
       "('Adam Mickiewicz', 'Adam Mickiewicz')"
      ]
     },
     "execution_count": 28,
     "metadata": {},
     "output_type": "execute_result"
    }
   ],
   "source": [
    "book1.author,book2.author"
   ]
  },
  {
   "cell_type": "code",
   "execution_count": 29,
   "id": "2aebaf64",
   "metadata": {},
   "outputs": [
    {
     "data": {
      "text/plain": [
       "({}, {})"
      ]
     },
     "execution_count": 29,
     "metadata": {},
     "output_type": "execute_result"
    }
   ],
   "source": [
    "book1.__dict__, book2.__dict__"
   ]
  },
  {
   "cell_type": "code",
   "execution_count": 30,
   "id": "a7c9a4ef",
   "metadata": {},
   "outputs": [],
   "source": [
    "book1.author = \"Juliusz Słowacki\""
   ]
  },
  {
   "cell_type": "code",
   "execution_count": 31,
   "id": "b5bc4087",
   "metadata": {},
   "outputs": [
    {
     "data": {
      "text/plain": [
       "('Juliusz Słowacki', 'Adam Mickiewicz')"
      ]
     },
     "execution_count": 31,
     "metadata": {},
     "output_type": "execute_result"
    }
   ],
   "source": [
    "book1.author,book2.author"
   ]
  },
  {
   "cell_type": "code",
   "execution_count": 32,
   "id": "0b0eb70d",
   "metadata": {},
   "outputs": [
    {
     "data": {
      "text/plain": [
       "({'author': 'Juliusz Słowacki'}, {})"
      ]
     },
     "execution_count": 32,
     "metadata": {},
     "output_type": "execute_result"
    }
   ],
   "source": [
    "book1.__dict__, book2.__dict__"
   ]
  },
  {
   "cell_type": "code",
   "execution_count": 33,
   "id": "a4356b9b",
   "metadata": {},
   "outputs": [],
   "source": [
    "del book1.author"
   ]
  },
  {
   "cell_type": "code",
   "execution_count": 34,
   "id": "5f28d19e",
   "metadata": {},
   "outputs": [
    {
     "data": {
      "text/plain": [
       "({}, {})"
      ]
     },
     "execution_count": 34,
     "metadata": {},
     "output_type": "execute_result"
    }
   ],
   "source": [
    "book1.__dict__, book2.__dict__"
   ]
  },
  {
   "cell_type": "code",
   "execution_count": 35,
   "id": "c0592740",
   "metadata": {},
   "outputs": [
    {
     "data": {
      "text/plain": [
       "mappingproxy({'__module__': '__main__',\n",
       "              'language': 'PL',\n",
       "              '__dict__': <attribute '__dict__' of 'Book' objects>,\n",
       "              '__weakref__': <attribute '__weakref__' of 'Book' objects>,\n",
       "              '__doc__': None,\n",
       "              'author': 'Adam Mickiewicz'})"
      ]
     },
     "execution_count": 35,
     "metadata": {},
     "output_type": "execute_result"
    }
   ],
   "source": [
    "Book.__dict__"
   ]
  },
  {
   "cell_type": "code",
   "execution_count": 36,
   "id": "0b4b160f",
   "metadata": {},
   "outputs": [
    {
     "data": {
      "text/plain": [
       "('Adam Mickiewicz', 'Adam Mickiewicz')"
      ]
     },
     "execution_count": 36,
     "metadata": {},
     "output_type": "execute_result"
    }
   ],
   "source": [
    "book1.author, book2.author"
   ]
  },
  {
   "cell_type": "code",
   "execution_count": 37,
   "id": "fff352e6",
   "metadata": {},
   "outputs": [
    {
     "data": {
      "text/plain": [
       "mappingproxy({'__module__': '__main__',\n",
       "              'language': 'PL',\n",
       "              '__dict__': <attribute '__dict__' of 'Book' objects>,\n",
       "              '__weakref__': <attribute '__weakref__' of 'Book' objects>,\n",
       "              '__doc__': None})"
      ]
     },
     "execution_count": 37,
     "metadata": {},
     "output_type": "execute_result"
    }
   ],
   "source": [
    "class Book:\n",
    "    \n",
    "    language=\"PL\"\n",
    "    \n",
    "Book.__dict__"
   ]
  },
  {
   "cell_type": "code",
   "execution_count": 38,
   "id": "4baab3e7",
   "metadata": {},
   "outputs": [],
   "source": [
    "book1=Book()\n",
    "book2=Book()"
   ]
  },
  {
   "cell_type": "code",
   "execution_count": 39,
   "id": "d1a947d7",
   "metadata": {},
   "outputs": [
    {
     "data": {
      "text/plain": [
       "(<__main__.Book at 0x1ac18285730>, <__main__.Book at 0x1ac182855e0>)"
      ]
     },
     "execution_count": 39,
     "metadata": {},
     "output_type": "execute_result"
    }
   ],
   "source": [
    "book1,book2"
   ]
  },
  {
   "cell_type": "code",
   "execution_count": 40,
   "id": "19ddf39c",
   "metadata": {},
   "outputs": [],
   "source": [
    "book1.title=\"Pan Tadeusz\"\n",
    "book2.year=1984"
   ]
  },
  {
   "cell_type": "code",
   "execution_count": 41,
   "id": "cf8679a6",
   "metadata": {},
   "outputs": [
    {
     "data": {
      "text/plain": [
       "({'title': 'Pan Tadeusz'}, {'year': 1984})"
      ]
     },
     "execution_count": 41,
     "metadata": {},
     "output_type": "execute_result"
    }
   ],
   "source": [
    "book1.__dict__, book2.__dict__"
   ]
  },
  {
   "cell_type": "code",
   "execution_count": 42,
   "id": "35cd8ed5",
   "metadata": {},
   "outputs": [
    {
     "data": {
      "text/plain": [
       "'Pan Tadeusz'"
      ]
     },
     "execution_count": 42,
     "metadata": {},
     "output_type": "execute_result"
    }
   ],
   "source": [
    "book1.title"
   ]
  },
  {
   "cell_type": "code",
   "execution_count": 43,
   "id": "8538f41e",
   "metadata": {},
   "outputs": [
    {
     "data": {
      "text/plain": [
       "1984"
      ]
     },
     "execution_count": 43,
     "metadata": {},
     "output_type": "execute_result"
    }
   ],
   "source": [
    "book2.year"
   ]
  },
  {
   "cell_type": "code",
   "execution_count": 44,
   "id": "8be86b36",
   "metadata": {},
   "outputs": [
    {
     "data": {
      "text/plain": [
       "mappingproxy({'__module__': '__main__',\n",
       "              'language': 'PL',\n",
       "              '__dict__': <attribute '__dict__' of 'Book' objects>,\n",
       "              '__weakref__': <attribute '__weakref__' of 'Book' objects>,\n",
       "              '__doc__': None})"
      ]
     },
     "execution_count": 44,
     "metadata": {},
     "output_type": "execute_result"
    }
   ],
   "source": [
    "Book.__dict__"
   ]
  },
  {
   "cell_type": "markdown",
   "id": "fe26ec62",
   "metadata": {},
   "source": [
    "## Przykład"
   ]
  },
  {
   "cell_type": "code",
   "execution_count": 45,
   "id": "766a5479",
   "metadata": {},
   "outputs": [
    {
     "data": {
      "text/plain": [
       "mappingproxy({'__module__': '__main__',\n",
       "              'language': 'PL',\n",
       "              'author': 'Mieckiewicz',\n",
       "              '__dict__': <attribute '__dict__' of 'Book' objects>,\n",
       "              '__weakref__': <attribute '__weakref__' of 'Book' objects>,\n",
       "              '__doc__': None})"
      ]
     },
     "execution_count": 45,
     "metadata": {},
     "output_type": "execute_result"
    }
   ],
   "source": [
    "class Book:\n",
    "    \n",
    "    language=\"PL\"\n",
    "    author=\"Mieckiewicz\"\n",
    "\n",
    "Book.__dict__"
   ]
  },
  {
   "cell_type": "code",
   "execution_count": 46,
   "id": "b7769c89",
   "metadata": {},
   "outputs": [
    {
     "data": {
      "text/plain": [
       "[<__main__.Book at 0x1ac1868a340>,\n",
       " <__main__.Book at 0x1ac1868a2e0>,\n",
       " <__main__.Book at 0x1ac1868a250>]"
      ]
     },
     "execution_count": 46,
     "metadata": {},
     "output_type": "execute_result"
    }
   ],
   "source": [
    "books=[Book(),Book(),Book()]\n",
    "books"
   ]
  },
  {
   "cell_type": "code",
   "execution_count": 47,
   "id": "c5e126b1",
   "metadata": {},
   "outputs": [
    {
     "name": "stdout",
     "output_type": "stream",
     "text": [
      "język: PL, autor: Mieckiewicz\n",
      "język: PL, autor: Mieckiewicz\n",
      "język: PL, autor: Mieckiewicz\n"
     ]
    }
   ],
   "source": [
    "for book in books:\n",
    "    print(f\"język: {book.language}, autor: {book.author}\")"
   ]
  },
  {
   "cell_type": "code",
   "execution_count": 49,
   "id": "e8e6120c",
   "metadata": {},
   "outputs": [],
   "source": [
    "titles=[\"Sonety krymskie\",\"Pan Tadeusz\",\"Konrad Wallenrod\"]\n",
    "\n",
    "for book, value in zip(books,titles):\n",
    "    book.title=value"
   ]
  },
  {
   "cell_type": "code",
   "execution_count": 50,
   "id": "ce4d10b0",
   "metadata": {},
   "outputs": [
    {
     "name": "stdout",
     "output_type": "stream",
     "text": [
      "język: PL, autor: Mieckiewicz, tytuł: Sonety krymskie\n",
      "język: PL, autor: Mieckiewicz, tytuł: Pan Tadeusz\n",
      "język: PL, autor: Mieckiewicz, tytuł: Konrad Wallenrod\n"
     ]
    }
   ],
   "source": [
    "for book in books:\n",
    "    print(f\"język: {book.language}, autor: {book.author}, tytuł: {book.title}\")"
   ]
  },
  {
   "cell_type": "code",
   "execution_count": 51,
   "id": "06771666",
   "metadata": {},
   "outputs": [],
   "source": [
    "titles=[\"Sonety krymskie\",\"Pan Tadeusz\",\"Konrad Wallenrod\"]\n",
    "for book, value in zip(books,titles):\n",
    "    #book.title=value\n",
    "    setattr(book,\"title\",value)"
   ]
  },
  {
   "cell_type": "code",
   "execution_count": 52,
   "id": "1c6dc4fc",
   "metadata": {},
   "outputs": [
    {
     "name": "stdout",
     "output_type": "stream",
     "text": [
      "{'title': 'Sonety krymskie'}\n",
      "{'title': 'Pan Tadeusz'}\n",
      "{'title': 'Konrad Wallenrod'}\n"
     ]
    }
   ],
   "source": [
    "for book in books:\n",
    "    print(book.__dict__)"
   ]
  },
  {
   "cell_type": "markdown",
   "id": "c5e680ec",
   "metadata": {},
   "source": [
    "## Wywoływalne atrybuty klasy(funkcje) oraz wywoływalne atrybuty instancji(metody)"
   ]
  },
  {
   "cell_type": "code",
   "execution_count": 56,
   "id": "ecdd89bf",
   "metadata": {},
   "outputs": [
    {
     "data": {
      "text/plain": [
       "mappingproxy({'__module__': '__main__',\n",
       "              'language': 'PL',\n",
       "              'author': 'Mieckiewicz',\n",
       "              'show_details': <function __main__.Book.show_details()>,\n",
       "              '__dict__': <attribute '__dict__' of 'Book' objects>,\n",
       "              '__weakref__': <attribute '__weakref__' of 'Book' objects>,\n",
       "              '__doc__': None})"
      ]
     },
     "execution_count": 56,
     "metadata": {},
     "output_type": "execute_result"
    }
   ],
   "source": [
    "class Book:\n",
    "    \n",
    "    language=\"PL\"\n",
    "    author=\"Mieckiewicz\"\n",
    "    \n",
    "    def show_details():\n",
    "        print(f\"Autor: {Book.author}\\nJęzyk: {Book.language}\")\n",
    "\n",
    "Book.__dict__\n"
   ]
  },
  {
   "cell_type": "code",
   "execution_count": 57,
   "id": "570f0729",
   "metadata": {},
   "outputs": [
    {
     "data": {
      "text/plain": [
       "<function __main__.Book.show_details()>"
      ]
     },
     "execution_count": 57,
     "metadata": {},
     "output_type": "execute_result"
    }
   ],
   "source": [
    "Book.show_details"
   ]
  },
  {
   "cell_type": "code",
   "execution_count": 58,
   "id": "26c717f5",
   "metadata": {},
   "outputs": [
    {
     "name": "stdout",
     "output_type": "stream",
     "text": [
      "Autor: Mieckiewicz\n",
      "Język: PL\n"
     ]
    }
   ],
   "source": [
    "Book.show_details()"
   ]
  },
  {
   "cell_type": "code",
   "execution_count": 59,
   "id": "b9140d64",
   "metadata": {},
   "outputs": [],
   "source": [
    "Book.show_language = lambda: print(f\"Język: {Book.language}\")"
   ]
  },
  {
   "cell_type": "code",
   "execution_count": 60,
   "id": "41af9b57",
   "metadata": {},
   "outputs": [
    {
     "data": {
      "text/plain": [
       "mappingproxy({'__module__': '__main__',\n",
       "              'language': 'PL',\n",
       "              'author': 'Mieckiewicz',\n",
       "              'show_details': <function __main__.Book.show_details()>,\n",
       "              '__dict__': <attribute '__dict__' of 'Book' objects>,\n",
       "              '__weakref__': <attribute '__weakref__' of 'Book' objects>,\n",
       "              '__doc__': None,\n",
       "              'show_language': <function __main__.<lambda>()>})"
      ]
     },
     "execution_count": 60,
     "metadata": {},
     "output_type": "execute_result"
    }
   ],
   "source": [
    "Book.__dict__"
   ]
  },
  {
   "cell_type": "code",
   "execution_count": 62,
   "id": "59c9a7ad",
   "metadata": {},
   "outputs": [
    {
     "name": "stdout",
     "output_type": "stream",
     "text": [
      "Język: PL\n"
     ]
    }
   ],
   "source": [
    "Book.show_language()"
   ]
  },
  {
   "cell_type": "code",
   "execution_count": 63,
   "id": "b2a71d88",
   "metadata": {},
   "outputs": [],
   "source": [
    "book1=Book()"
   ]
  },
  {
   "cell_type": "code",
   "execution_count": 64,
   "id": "0f6616e8",
   "metadata": {},
   "outputs": [
    {
     "data": {
      "text/plain": [
       "{}"
      ]
     },
     "execution_count": 64,
     "metadata": {},
     "output_type": "execute_result"
    }
   ],
   "source": [
    "book1.__dict__"
   ]
  },
  {
   "cell_type": "code",
   "execution_count": 65,
   "id": "f9960194",
   "metadata": {},
   "outputs": [
    {
     "data": {
      "text/plain": [
       "<bound method Book.show_details of <__main__.Book object at 0x000001AC185C2190>>"
      ]
     },
     "execution_count": 65,
     "metadata": {},
     "output_type": "execute_result"
    }
   ],
   "source": [
    "book1.show_details"
   ]
  },
  {
   "cell_type": "code",
   "execution_count": 66,
   "id": "ad926f56",
   "metadata": {},
   "outputs": [
    {
     "ename": "TypeError",
     "evalue": "show_details() takes 0 positional arguments but 1 was given",
     "output_type": "error",
     "traceback": [
      "\u001b[1;31m---------------------------------------------------------------------------\u001b[0m",
      "\u001b[1;31mTypeError\u001b[0m                                 Traceback (most recent call last)",
      "\u001b[1;32m<ipython-input-66-40abf9f7ba87>\u001b[0m in \u001b[0;36m<module>\u001b[1;34m\u001b[0m\n\u001b[1;32m----> 1\u001b[1;33m \u001b[0mbook1\u001b[0m\u001b[1;33m.\u001b[0m\u001b[0mshow_details\u001b[0m\u001b[1;33m(\u001b[0m\u001b[1;33m)\u001b[0m\u001b[1;33m\u001b[0m\u001b[1;33m\u001b[0m\u001b[0m\n\u001b[0m",
      "\u001b[1;31mTypeError\u001b[0m: show_details() takes 0 positional arguments but 1 was given"
     ]
    }
   ],
   "source": [
    "book1.show_details()"
   ]
  },
  {
   "cell_type": "code",
   "execution_count": 67,
   "id": "6e27b9cb",
   "metadata": {},
   "outputs": [
    {
     "data": {
      "text/plain": [
       "(function, method)"
      ]
     },
     "execution_count": 67,
     "metadata": {},
     "output_type": "execute_result"
    }
   ],
   "source": [
    "type(Book.show_details), type(book1.show_details)"
   ]
  },
  {
   "cell_type": "markdown",
   "id": "a28b0399",
   "metadata": {},
   "source": [
    "## Atrybuty instancji przykład"
   ]
  },
  {
   "cell_type": "code",
   "execution_count": 68,
   "id": "99a01b66",
   "metadata": {},
   "outputs": [
    {
     "data": {
      "text/plain": [
       "mappingproxy({'__module__': '__main__',\n",
       "              'language': 'PL',\n",
       "              'author': 'Mieckiewicz',\n",
       "              'show_details': <function __main__.Book.show_details(*args)>,\n",
       "              '__dict__': <attribute '__dict__' of 'Book' objects>,\n",
       "              '__weakref__': <attribute '__weakref__' of 'Book' objects>,\n",
       "              '__doc__': None})"
      ]
     },
     "execution_count": 68,
     "metadata": {},
     "output_type": "execute_result"
    }
   ],
   "source": [
    "class Book:\n",
    "    \n",
    "    language=\"PL\"\n",
    "    author=\"Mieckiewicz\"\n",
    "    \n",
    "    def show_details(*args):\n",
    "        print(args)\n",
    "        for arg in args:\n",
    "            print(f\"{arg} -> {type(arg)}\")\n",
    "\n",
    "Book.__dict__"
   ]
  },
  {
   "cell_type": "code",
   "execution_count": 69,
   "id": "a048583a",
   "metadata": {},
   "outputs": [
    {
     "name": "stdout",
     "output_type": "stream",
     "text": [
      "()\n"
     ]
    }
   ],
   "source": [
    "Book.show_details()"
   ]
  },
  {
   "cell_type": "code",
   "execution_count": 70,
   "id": "ece9d873",
   "metadata": {},
   "outputs": [],
   "source": [
    "book1=Book()"
   ]
  },
  {
   "cell_type": "code",
   "execution_count": 72,
   "id": "ecc0fd90",
   "metadata": {},
   "outputs": [
    {
     "name": "stdout",
     "output_type": "stream",
     "text": [
      "(<__main__.Book object at 0x000001AC18297430>,)\n",
      "<__main__.Book object at 0x000001AC18297430> -> <class '__main__.Book'>\n"
     ]
    }
   ],
   "source": [
    "book1.show_details()"
   ]
  },
  {
   "cell_type": "code",
   "execution_count": 73,
   "id": "ab3df7d3",
   "metadata": {},
   "outputs": [
    {
     "data": {
      "text/plain": [
       "<__main__.Book at 0x1ac18297430>"
      ]
     },
     "execution_count": 73,
     "metadata": {},
     "output_type": "execute_result"
    }
   ],
   "source": [
    "book1"
   ]
  },
  {
   "cell_type": "code",
   "execution_count": 74,
   "id": "fd99d7e4",
   "metadata": {},
   "outputs": [
    {
     "name": "stdout",
     "output_type": "stream",
     "text": [
      "(<__main__.Book object at 0x000001AC18297430>, 'Tom II')\n",
      "<__main__.Book object at 0x000001AC18297430> -> <class '__main__.Book'>\n",
      "Tom II -> <class 'str'>\n"
     ]
    }
   ],
   "source": [
    "book1.show_details(\"Tom II\")"
   ]
  },
  {
   "cell_type": "code",
   "execution_count": 75,
   "id": "40fe52e3",
   "metadata": {},
   "outputs": [
    {
     "name": "stdout",
     "output_type": "stream",
     "text": [
      "(<__main__.Book object at 0x000001AC18297430>, 'Tom II', 190.0)\n",
      "<__main__.Book object at 0x000001AC18297430> -> <class '__main__.Book'>\n",
      "Tom II -> <class 'str'>\n",
      "190.0 -> <class 'float'>\n"
     ]
    }
   ],
   "source": [
    "book1.show_details(\"Tom II\",190.0)"
   ]
  },
  {
   "cell_type": "markdown",
   "id": "ccee69ea",
   "metadata": {},
   "source": [
    "## Przykład"
   ]
  },
  {
   "cell_type": "code",
   "execution_count": 76,
   "id": "4ff0bbc6",
   "metadata": {},
   "outputs": [
    {
     "data": {
      "text/plain": [
       "mappingproxy({'__module__': '__main__',\n",
       "              'language': 'PL',\n",
       "              'author': 'Mieckiewicz',\n",
       "              'set_title': <function __main__.Book.set_title(instance, value)>,\n",
       "              '__dict__': <attribute '__dict__' of 'Book' objects>,\n",
       "              '__weakref__': <attribute '__weakref__' of 'Book' objects>,\n",
       "              '__doc__': None})"
      ]
     },
     "execution_count": 76,
     "metadata": {},
     "output_type": "execute_result"
    }
   ],
   "source": [
    "class Book:\n",
    "    \n",
    "    language=\"PL\"\n",
    "    author=\"Mieckiewicz\"\n",
    "    \n",
    "    def set_title(instance,value):\n",
    "        instance.title=value\n",
    "\n",
    "Book.__dict__"
   ]
  },
  {
   "cell_type": "code",
   "execution_count": 77,
   "id": "fe0383c1",
   "metadata": {},
   "outputs": [
    {
     "data": {
      "text/plain": [
       "<__main__.Book at 0x1ac18044280>"
      ]
     },
     "execution_count": 77,
     "metadata": {},
     "output_type": "execute_result"
    }
   ],
   "source": [
    "book1=Book()\n",
    "book1"
   ]
  },
  {
   "cell_type": "code",
   "execution_count": 78,
   "id": "22e93427",
   "metadata": {},
   "outputs": [
    {
     "data": {
      "text/plain": [
       "{}"
      ]
     },
     "execution_count": 78,
     "metadata": {},
     "output_type": "execute_result"
    }
   ],
   "source": [
    "book1.__dict__"
   ]
  },
  {
   "cell_type": "code",
   "execution_count": 79,
   "id": "2278f38f",
   "metadata": {},
   "outputs": [
    {
     "data": {
      "text/plain": [
       "<bound method Book.set_title of <__main__.Book object at 0x000001AC18044280>>"
      ]
     },
     "execution_count": 79,
     "metadata": {},
     "output_type": "execute_result"
    }
   ],
   "source": [
    "book1.set_title"
   ]
  },
  {
   "cell_type": "code",
   "execution_count": 80,
   "id": "2f69115d",
   "metadata": {},
   "outputs": [],
   "source": [
    "book1.set_title(\"Pan Tadeusz\")"
   ]
  },
  {
   "cell_type": "code",
   "execution_count": 81,
   "id": "429a0a9d",
   "metadata": {},
   "outputs": [
    {
     "data": {
      "text/plain": [
       "{'title': 'Pan Tadeusz'}"
      ]
     },
     "execution_count": 81,
     "metadata": {},
     "output_type": "execute_result"
    }
   ],
   "source": [
    "book1.__dict__"
   ]
  },
  {
   "cell_type": "code",
   "execution_count": 82,
   "id": "3ac7f908",
   "metadata": {},
   "outputs": [
    {
     "data": {
      "text/plain": [
       "'Pan Tadeusz'"
      ]
     },
     "execution_count": 82,
     "metadata": {},
     "output_type": "execute_result"
    }
   ],
   "source": [
    "book1.title"
   ]
  },
  {
   "cell_type": "code",
   "execution_count": 83,
   "id": "82a89967",
   "metadata": {},
   "outputs": [],
   "source": [
    "Book.set_title(book1, \"Konrad Wallenrod\")"
   ]
  },
  {
   "cell_type": "code",
   "execution_count": 84,
   "id": "f9639d75",
   "metadata": {},
   "outputs": [
    {
     "data": {
      "text/plain": [
       "{'title': 'Konrad Wallenrod'}"
      ]
     },
     "execution_count": 84,
     "metadata": {},
     "output_type": "execute_result"
    }
   ],
   "source": [
    "book1.__dict__"
   ]
  },
  {
   "cell_type": "code",
   "execution_count": 85,
   "id": "3ea53293",
   "metadata": {},
   "outputs": [
    {
     "data": {
      "text/plain": [
       "'Konrad Wallenrod'"
      ]
     },
     "execution_count": 85,
     "metadata": {},
     "output_type": "execute_result"
    }
   ],
   "source": [
    "book1.title"
   ]
  },
  {
   "cell_type": "code",
   "execution_count": 86,
   "id": "1a67063e",
   "metadata": {},
   "outputs": [
    {
     "data": {
      "text/plain": [
       "mappingproxy({'__module__': '__main__',\n",
       "              'language': 'PL',\n",
       "              'author': 'Mieckiewicz',\n",
       "              'set_title': <function __main__.Book.set_title(self, value)>,\n",
       "              '__dict__': <attribute '__dict__' of 'Book' objects>,\n",
       "              '__weakref__': <attribute '__weakref__' of 'Book' objects>,\n",
       "              '__doc__': None})"
      ]
     },
     "execution_count": 86,
     "metadata": {},
     "output_type": "execute_result"
    }
   ],
   "source": [
    "class Book:\n",
    "    \n",
    "    language=\"PL\"\n",
    "    author=\"Mieckiewicz\"\n",
    "    \n",
    "    def set_title(self,value):\n",
    "        self.title=value\n",
    "\n",
    "Book.__dict__"
   ]
  },
  {
   "cell_type": "code",
   "execution_count": 87,
   "id": "92bd35c4",
   "metadata": {},
   "outputs": [],
   "source": [
    "Book.get_title = lambda self: self.title"
   ]
  },
  {
   "cell_type": "code",
   "execution_count": 88,
   "id": "e20f1b2a",
   "metadata": {},
   "outputs": [],
   "source": [
    "book1=Book()"
   ]
  },
  {
   "cell_type": "code",
   "execution_count": 89,
   "id": "f290104d",
   "metadata": {},
   "outputs": [
    {
     "data": {
      "text/plain": [
       "<bound method <lambda> of <__main__.Book object at 0x000001AC1876C250>>"
      ]
     },
     "execution_count": 89,
     "metadata": {},
     "output_type": "execute_result"
    }
   ],
   "source": [
    "book1.get_title"
   ]
  },
  {
   "cell_type": "code",
   "execution_count": 90,
   "id": "1cab42e2",
   "metadata": {},
   "outputs": [
    {
     "ename": "AttributeError",
     "evalue": "'Book' object has no attribute 'title'",
     "output_type": "error",
     "traceback": [
      "\u001b[1;31m---------------------------------------------------------------------------\u001b[0m",
      "\u001b[1;31mAttributeError\u001b[0m                            Traceback (most recent call last)",
      "\u001b[1;32m<ipython-input-90-7c5ac2e0ea8e>\u001b[0m in \u001b[0;36m<module>\u001b[1;34m\u001b[0m\n\u001b[1;32m----> 1\u001b[1;33m \u001b[0mbook1\u001b[0m\u001b[1;33m.\u001b[0m\u001b[0mget_title\u001b[0m\u001b[1;33m(\u001b[0m\u001b[1;33m)\u001b[0m\u001b[1;33m\u001b[0m\u001b[1;33m\u001b[0m\u001b[0m\n\u001b[0m",
      "\u001b[1;32m<ipython-input-87-b389cd06a7f7>\u001b[0m in \u001b[0;36m<lambda>\u001b[1;34m(self)\u001b[0m\n\u001b[1;32m----> 1\u001b[1;33m \u001b[0mBook\u001b[0m\u001b[1;33m.\u001b[0m\u001b[0mget_title\u001b[0m \u001b[1;33m=\u001b[0m \u001b[1;32mlambda\u001b[0m \u001b[0mself\u001b[0m\u001b[1;33m:\u001b[0m \u001b[0mself\u001b[0m\u001b[1;33m.\u001b[0m\u001b[0mtitle\u001b[0m\u001b[1;33m\u001b[0m\u001b[1;33m\u001b[0m\u001b[0m\n\u001b[0m",
      "\u001b[1;31mAttributeError\u001b[0m: 'Book' object has no attribute 'title'"
     ]
    }
   ],
   "source": [
    "book1.get_title()"
   ]
  },
  {
   "cell_type": "code",
   "execution_count": 91,
   "id": "e8cc8897",
   "metadata": {},
   "outputs": [],
   "source": [
    "book1.set_title(\"Pan Tadeusz\")"
   ]
  },
  {
   "cell_type": "code",
   "execution_count": 92,
   "id": "2a92c217",
   "metadata": {},
   "outputs": [
    {
     "data": {
      "text/plain": [
       "'Pan Tadeusz'"
      ]
     },
     "execution_count": 92,
     "metadata": {},
     "output_type": "execute_result"
    }
   ],
   "source": [
    "book1.get_title()"
   ]
  },
  {
   "cell_type": "markdown",
   "id": "b9274274",
   "metadata": {},
   "source": [
    "## Zadanie\n",
    "\n",
    "#### Podana jest klasa, dodaj metodę set_color(), pozwalającą ustawić atrybut instacji o nazwie color."
   ]
  },
  {
   "cell_type": "code",
   "execution_count": 95,
   "id": "04b5b0b5",
   "metadata": {},
   "outputs": [
    {
     "data": {
      "text/plain": [
       "mappingproxy({'__module__': '__main__',\n",
       "              'number_of_floors': 2,\n",
       "              'area': 100,\n",
       "              'describe_project': <function __main__.HouseProject.describe_project()>,\n",
       "              'set_color': <function __main__.HouseProject.set_color(self, value)>,\n",
       "              '__dict__': <attribute '__dict__' of 'HouseProject' objects>,\n",
       "              '__weakref__': <attribute '__weakref__' of 'HouseProject' objects>,\n",
       "              '__doc__': None})"
      ]
     },
     "execution_count": 95,
     "metadata": {},
     "output_type": "execute_result"
    }
   ],
   "source": [
    "class HouseProject:\n",
    "    \n",
    "    number_of_floors=2\n",
    "    area=100\n",
    "    \n",
    "    def describe_project():\n",
    "        print(f\"Area: {HouseProject.area} m2.\")\n",
    "        print(f\"Number of floors: {HouseProject.number_of_floors}.\")\n",
    "    \n",
    "    def set_color(self,value):\n",
    "        self.color = value\n",
    "        \n",
    "        \n",
    "HouseProject.__dict__"
   ]
  },
  {
   "cell_type": "code",
   "execution_count": 96,
   "id": "93c13c8b",
   "metadata": {},
   "outputs": [],
   "source": [
    "house1=HouseProject()"
   ]
  },
  {
   "cell_type": "code",
   "execution_count": 97,
   "id": "4a298d1f",
   "metadata": {},
   "outputs": [
    {
     "data": {
      "text/plain": [
       "<__main__.HouseProject at 0x1ac182c5640>"
      ]
     },
     "execution_count": 97,
     "metadata": {},
     "output_type": "execute_result"
    }
   ],
   "source": [
    "house1"
   ]
  },
  {
   "cell_type": "code",
   "execution_count": 98,
   "id": "585a10e5",
   "metadata": {},
   "outputs": [
    {
     "data": {
      "text/plain": [
       "{}"
      ]
     },
     "execution_count": 98,
     "metadata": {},
     "output_type": "execute_result"
    }
   ],
   "source": [
    "house1.__dict__"
   ]
  },
  {
   "cell_type": "code",
   "execution_count": 99,
   "id": "860ebda7",
   "metadata": {},
   "outputs": [],
   "source": [
    "house1.set_color(\"Blue\")"
   ]
  },
  {
   "cell_type": "code",
   "execution_count": 109,
   "id": "209f56e7",
   "metadata": {},
   "outputs": [],
   "source": [
    "house1.get_color = lambda: house1.color"
   ]
  },
  {
   "cell_type": "code",
   "execution_count": 110,
   "id": "571f8546",
   "metadata": {},
   "outputs": [
    {
     "data": {
      "text/plain": [
       "'black'"
      ]
     },
     "execution_count": 110,
     "metadata": {},
     "output_type": "execute_result"
    }
   ],
   "source": [
    "house1.get_color()"
   ]
  },
  {
   "cell_type": "code",
   "execution_count": 103,
   "id": "22b172c9",
   "metadata": {},
   "outputs": [],
   "source": [
    "HouseProject.set_color(house1,\"black\")"
   ]
  },
  {
   "cell_type": "code",
   "execution_count": 104,
   "id": "4dc3e469",
   "metadata": {},
   "outputs": [
    {
     "data": {
      "text/plain": [
       "'black'"
      ]
     },
     "execution_count": 104,
     "metadata": {},
     "output_type": "execute_result"
    }
   ],
   "source": [
    "house1.color"
   ]
  },
  {
   "cell_type": "code",
   "execution_count": 111,
   "id": "8a64c826",
   "metadata": {},
   "outputs": [],
   "source": [
    "HouseProject.get_color = lambda self: self.color"
   ]
  },
  {
   "cell_type": "code",
   "execution_count": 112,
   "id": "a6f9c967",
   "metadata": {},
   "outputs": [],
   "source": [
    "house2=HouseProject()"
   ]
  },
  {
   "cell_type": "code",
   "execution_count": 113,
   "id": "7b1e8701",
   "metadata": {},
   "outputs": [],
   "source": [
    "house2.set_color(\"Oceanic\")"
   ]
  },
  {
   "cell_type": "code",
   "execution_count": 114,
   "id": "5e1d2540",
   "metadata": {},
   "outputs": [
    {
     "data": {
      "text/plain": [
       "'Oceanic'"
      ]
     },
     "execution_count": 114,
     "metadata": {},
     "output_type": "execute_result"
    }
   ],
   "source": [
    "house2.get_color()"
   ]
  },
  {
   "cell_type": "markdown",
   "id": "56f95a38",
   "metadata": {},
   "source": [
    "## Przestrzeń nazw klasy i instancji"
   ]
  },
  {
   "cell_type": "code",
   "execution_count": 115,
   "id": "3d7278c6",
   "metadata": {},
   "outputs": [
    {
     "data": {
      "text/plain": [
       "mappingproxy({'__module__': '__main__',\n",
       "              '__dict__': <attribute '__dict__' of 'Phone' objects>,\n",
       "              '__weakref__': <attribute '__weakref__' of 'Phone' objects>,\n",
       "              '__doc__': None})"
      ]
     },
     "execution_count": 115,
     "metadata": {},
     "output_type": "execute_result"
    }
   ],
   "source": [
    "class Phone:\n",
    "    pass\n",
    "\n",
    "Phone.__dict__"
   ]
  },
  {
   "cell_type": "code",
   "execution_count": 116,
   "id": "33898caa",
   "metadata": {},
   "outputs": [
    {
     "data": {
      "text/plain": [
       "mappingproxy({'__module__': '__main__',\n",
       "              'brand': 'Apple',\n",
       "              'short_name': 'APP',\n",
       "              '__dict__': <attribute '__dict__' of 'Phone' objects>,\n",
       "              '__weakref__': <attribute '__weakref__' of 'Phone' objects>,\n",
       "              '__doc__': None})"
      ]
     },
     "execution_count": 116,
     "metadata": {},
     "output_type": "execute_result"
    }
   ],
   "source": [
    "class Phone:\n",
    "    \n",
    "    brand=\"Apple\"\n",
    "    short_name=brand[:3].upper()\n",
    "\n",
    "Phone.__dict__"
   ]
  },
  {
   "cell_type": "code",
   "execution_count": 117,
   "id": "a3a07ff9",
   "metadata": {},
   "outputs": [
    {
     "ename": "NameError",
     "evalue": "name 'brand' is not defined",
     "output_type": "error",
     "traceback": [
      "\u001b[1;31m---------------------------------------------------------------------------\u001b[0m",
      "\u001b[1;31mNameError\u001b[0m                                 Traceback (most recent call last)",
      "\u001b[1;32m<ipython-input-117-d34b9699df53>\u001b[0m in \u001b[0;36m<module>\u001b[1;34m\u001b[0m\n\u001b[1;32m----> 1\u001b[1;33m \u001b[0mbrand\u001b[0m\u001b[1;33m\u001b[0m\u001b[1;33m\u001b[0m\u001b[0m\n\u001b[0m",
      "\u001b[1;31mNameError\u001b[0m: name 'brand' is not defined"
     ]
    }
   ],
   "source": [
    "brand"
   ]
  },
  {
   "cell_type": "code",
   "execution_count": 118,
   "id": "30065ca8",
   "metadata": {},
   "outputs": [
    {
     "data": {
      "text/plain": [
       "'Apple'"
      ]
     },
     "execution_count": 118,
     "metadata": {},
     "output_type": "execute_result"
    }
   ],
   "source": [
    "Phone.brand"
   ]
  },
  {
   "cell_type": "code",
   "execution_count": 119,
   "id": "09e55d00",
   "metadata": {},
   "outputs": [
    {
     "data": {
      "text/plain": [
       "'APP'"
      ]
     },
     "execution_count": 119,
     "metadata": {},
     "output_type": "execute_result"
    }
   ],
   "source": [
    "Phone.short_name"
   ]
  },
  {
   "cell_type": "code",
   "execution_count": 120,
   "id": "af4c1616",
   "metadata": {},
   "outputs": [
    {
     "data": {
      "text/plain": [
       "('Apple', 'APP')"
      ]
     },
     "execution_count": 120,
     "metadata": {},
     "output_type": "execute_result"
    }
   ],
   "source": [
    "phone1=Phone()\n",
    "phone1.brand, phone1.short_name"
   ]
  },
  {
   "cell_type": "code",
   "execution_count": 121,
   "id": "807f63c8",
   "metadata": {},
   "outputs": [
    {
     "data": {
      "text/plain": [
       "'Apple'"
      ]
     },
     "execution_count": 121,
     "metadata": {},
     "output_type": "execute_result"
    }
   ],
   "source": [
    "Phone.brand"
   ]
  },
  {
   "cell_type": "code",
   "execution_count": 122,
   "id": "6f712c38",
   "metadata": {},
   "outputs": [],
   "source": [
    "Phone.brand=\"Samsung\""
   ]
  },
  {
   "cell_type": "code",
   "execution_count": 123,
   "id": "0e638195",
   "metadata": {},
   "outputs": [
    {
     "data": {
      "text/plain": [
       "'Samsung'"
      ]
     },
     "execution_count": 123,
     "metadata": {},
     "output_type": "execute_result"
    }
   ],
   "source": [
    "phone1.brand"
   ]
  },
  {
   "cell_type": "code",
   "execution_count": 125,
   "id": "d5fec2d8",
   "metadata": {},
   "outputs": [
    {
     "data": {
      "text/plain": [
       "{}"
      ]
     },
     "execution_count": 125,
     "metadata": {},
     "output_type": "execute_result"
    }
   ],
   "source": [
    "class Phone:\n",
    "    \n",
    "    brand=\"Apple\"\n",
    "    short_name=brand[:3].upper()\n",
    "\n",
    "phone1=Phone()\n",
    "phone1.__dict__"
   ]
  },
  {
   "cell_type": "markdown",
   "id": "007a3de6",
   "metadata": {},
   "source": [
    "## Dostęp do atrybutu klasy z poziomu funkcji/metody"
   ]
  },
  {
   "cell_type": "code",
   "execution_count": 138,
   "id": "bcfb3910",
   "metadata": {},
   "outputs": [],
   "source": [
    "class Phone:\n",
    "    \n",
    "    brand=\"Apple\"\n",
    "    short_name=brand[:3].upper()\n",
    "    \n",
    "    def print_brand():\n",
    "        print(f\"{Phone.__name__} class.\")\n",
    "        print(f\"Brand: {Phone.brand}\")"
   ]
  },
  {
   "cell_type": "code",
   "execution_count": 139,
   "id": "9768f62e",
   "metadata": {},
   "outputs": [
    {
     "name": "stdout",
     "output_type": "stream",
     "text": [
      "Phone class.\n",
      "Brand: Apple\n"
     ]
    }
   ],
   "source": [
    "Phone.print_brand()"
   ]
  },
  {
   "cell_type": "code",
   "execution_count": 140,
   "id": "ee3c4c6f",
   "metadata": {},
   "outputs": [],
   "source": [
    "phone=Phone()"
   ]
  },
  {
   "cell_type": "code",
   "execution_count": 141,
   "id": "5e4aee2c",
   "metadata": {},
   "outputs": [
    {
     "ename": "TypeError",
     "evalue": "print_brand() takes 0 positional arguments but 1 was given",
     "output_type": "error",
     "traceback": [
      "\u001b[1;31m---------------------------------------------------------------------------\u001b[0m",
      "\u001b[1;31mTypeError\u001b[0m                                 Traceback (most recent call last)",
      "\u001b[1;32m<ipython-input-141-bf730a937c14>\u001b[0m in \u001b[0;36m<module>\u001b[1;34m\u001b[0m\n\u001b[1;32m----> 1\u001b[1;33m \u001b[0mphone\u001b[0m\u001b[1;33m.\u001b[0m\u001b[0mprint_brand\u001b[0m\u001b[1;33m(\u001b[0m\u001b[1;33m)\u001b[0m\u001b[1;33m\u001b[0m\u001b[1;33m\u001b[0m\u001b[0m\n\u001b[0m",
      "\u001b[1;31mTypeError\u001b[0m: print_brand() takes 0 positional arguments but 1 was given"
     ]
    }
   ],
   "source": [
    "phone.print_brand()"
   ]
  },
  {
   "cell_type": "code",
   "execution_count": 142,
   "id": "1ff6c6a2",
   "metadata": {},
   "outputs": [],
   "source": [
    "class Phone:\n",
    "    \n",
    "    brand=\"Apple\"\n",
    "    short_name=brand[:3].upper()\n",
    "    \n",
    "    def print_brand(self):\n",
    "        print(f\"{Phone.__name__} class.\")\n",
    "        print(f\"Brand: {Phone.brand}\")"
   ]
  },
  {
   "cell_type": "code",
   "execution_count": 143,
   "id": "1f75ef4a",
   "metadata": {},
   "outputs": [],
   "source": [
    "phone=Phone()"
   ]
  },
  {
   "cell_type": "code",
   "execution_count": 144,
   "id": "c1ea1aa1",
   "metadata": {},
   "outputs": [
    {
     "name": "stdout",
     "output_type": "stream",
     "text": [
      "Phone class.\n",
      "Brand: Apple\n"
     ]
    }
   ],
   "source": [
    "phone.print_brand()"
   ]
  },
  {
   "cell_type": "code",
   "execution_count": 145,
   "id": "ce45f171",
   "metadata": {},
   "outputs": [
    {
     "name": "stdout",
     "output_type": "stream",
     "text": [
      "Phone class.\n",
      "Brand: Apple\n"
     ]
    }
   ],
   "source": [
    "Phone.print_brand(phone1)"
   ]
  },
  {
   "cell_type": "markdown",
   "id": "4a370833",
   "metadata": {},
   "source": [
    "## Dostęp do atrubutu instancji z poziomu funkcji/metody"
   ]
  },
  {
   "cell_type": "code",
   "execution_count": 146,
   "id": "eb513aeb",
   "metadata": {},
   "outputs": [],
   "source": [
    "class Phone:\n",
    "    \n",
    "    def __init__(self,brand):\n",
    "        self.brand=brand\n",
    "    \n",
    "    \n",
    "    def print_brand():\n",
    "        print(f\"{Phone.__name__} class.\")\n",
    "        print(f\"Brand: {Phone.brand}\")\n",
    "\n",
    "\n"
   ]
  },
  {
   "cell_type": "code",
   "execution_count": 147,
   "id": "ec18c422",
   "metadata": {},
   "outputs": [
    {
     "data": {
      "text/plain": [
       "{'brand': 'Apple'}"
      ]
     },
     "execution_count": 147,
     "metadata": {},
     "output_type": "execute_result"
    }
   ],
   "source": [
    "phone1=Phone(\"Apple\")\n",
    "phone1.__dict__"
   ]
  },
  {
   "cell_type": "code",
   "execution_count": 148,
   "id": "11fcc2e8",
   "metadata": {},
   "outputs": [
    {
     "data": {
      "text/plain": [
       "mappingproxy({'__module__': '__main__',\n",
       "              '__init__': <function __main__.Phone.__init__(self, brand)>,\n",
       "              'print_brand': <function __main__.Phone.print_brand()>,\n",
       "              '__dict__': <attribute '__dict__' of 'Phone' objects>,\n",
       "              '__weakref__': <attribute '__weakref__' of 'Phone' objects>,\n",
       "              '__doc__': None})"
      ]
     },
     "execution_count": 148,
     "metadata": {},
     "output_type": "execute_result"
    }
   ],
   "source": [
    "Phone.__dict__"
   ]
  },
  {
   "cell_type": "code",
   "execution_count": 149,
   "id": "a3195a70",
   "metadata": {},
   "outputs": [
    {
     "ename": "AttributeError",
     "evalue": "type object 'Phone' has no attribute 'brand'",
     "output_type": "error",
     "traceback": [
      "\u001b[1;31m---------------------------------------------------------------------------\u001b[0m",
      "\u001b[1;31mAttributeError\u001b[0m                            Traceback (most recent call last)",
      "\u001b[1;32m<ipython-input-149-336fb54af079>\u001b[0m in \u001b[0;36m<module>\u001b[1;34m\u001b[0m\n\u001b[1;32m----> 1\u001b[1;33m \u001b[0mPhone\u001b[0m\u001b[1;33m.\u001b[0m\u001b[0mbrand\u001b[0m\u001b[1;33m\u001b[0m\u001b[1;33m\u001b[0m\u001b[0m\n\u001b[0m",
      "\u001b[1;31mAttributeError\u001b[0m: type object 'Phone' has no attribute 'brand'"
     ]
    }
   ],
   "source": [
    "Phone.brand"
   ]
  },
  {
   "cell_type": "code",
   "execution_count": 153,
   "id": "18169ee2",
   "metadata": {},
   "outputs": [],
   "source": [
    "class Phone:\n",
    "    \n",
    "    def __init__(self,brand):\n",
    "        self.brand=brand\n",
    "    \n",
    "    \n",
    "    def print_brand(self):\n",
    "        print(f\"{Phone.__name__} class.\")\n",
    "        print(f\"Brand: {self.brand}\")\n"
   ]
  },
  {
   "cell_type": "code",
   "execution_count": 154,
   "id": "915e5c1d",
   "metadata": {},
   "outputs": [
    {
     "name": "stdout",
     "output_type": "stream",
     "text": [
      "Phone class.\n",
      "Brand: Apple\n"
     ]
    }
   ],
   "source": [
    "phone1=Phone(\"Apple\")\n",
    "phone1.print_brand()"
   ]
  },
  {
   "cell_type": "code",
   "execution_count": 155,
   "id": "803998f7",
   "metadata": {},
   "outputs": [
    {
     "data": {
      "text/plain": [
       "__main__.Phone"
      ]
     },
     "execution_count": 155,
     "metadata": {},
     "output_type": "execute_result"
    }
   ],
   "source": [
    "phone1.__class__"
   ]
  },
  {
   "cell_type": "code",
   "execution_count": 160,
   "id": "23d82610",
   "metadata": {},
   "outputs": [],
   "source": [
    "class Phone:\n",
    "    \n",
    "    def __init__(self,brand):\n",
    "        self.brand=brand\n",
    "    \n",
    "    \n",
    "    def print_brand(self):\n",
    "        print(f\"{self.__class__.__name__} class.\")\n",
    "        print(f\"Brand: {self.brand}\")\n"
   ]
  },
  {
   "cell_type": "code",
   "execution_count": 161,
   "id": "5ce30aaf",
   "metadata": {},
   "outputs": [
    {
     "name": "stdout",
     "output_type": "stream",
     "text": [
      "Phone class.\n",
      "Brand: Apple\n"
     ]
    }
   ],
   "source": [
    "phone1=Phone(\"Apple\")\n",
    "phone1.print_brand()"
   ]
  },
  {
   "cell_type": "markdown",
   "id": "479b6b71",
   "metadata": {},
   "source": [
    "## Przestrzeń nazw klasy i instancji = dostęp do atrybutu klasy i instancji"
   ]
  },
  {
   "cell_type": "code",
   "execution_count": 162,
   "id": "7896c800",
   "metadata": {},
   "outputs": [
    {
     "data": {
      "text/plain": [
       "mappingproxy({'__module__': '__main__',\n",
       "              'brand': 'Apple',\n",
       "              '__init__': <function __main__.Phone.__init__(self, brand)>,\n",
       "              '__dict__': <attribute '__dict__' of 'Phone' objects>,\n",
       "              '__weakref__': <attribute '__weakref__' of 'Phone' objects>,\n",
       "              '__doc__': None})"
      ]
     },
     "execution_count": 162,
     "metadata": {},
     "output_type": "execute_result"
    }
   ],
   "source": [
    "class Phone:\n",
    "    \n",
    "    brand=\"Apple\"\n",
    "    \n",
    "    def __init__(self,brand):\n",
    "        self.brand=brand\n",
    "\n",
    "\n",
    "Phone.__dict__"
   ]
  },
  {
   "cell_type": "code",
   "execution_count": 163,
   "id": "ac387c94",
   "metadata": {},
   "outputs": [
    {
     "data": {
      "text/plain": [
       "'Samsung'"
      ]
     },
     "execution_count": 163,
     "metadata": {},
     "output_type": "execute_result"
    }
   ],
   "source": [
    "phone1=Phone(\"Samsung\")\n",
    "phone1.brand"
   ]
  },
  {
   "cell_type": "code",
   "execution_count": 164,
   "id": "d348aab1",
   "metadata": {},
   "outputs": [
    {
     "data": {
      "text/plain": [
       "mappingproxy({'__module__': '__main__',\n",
       "              'brand': 'Apple',\n",
       "              '__init__': <function __main__.Phone.__init__(self, brand)>,\n",
       "              'print_brand': <function __main__.Phone.print_brand(self)>,\n",
       "              '__dict__': <attribute '__dict__' of 'Phone' objects>,\n",
       "              '__weakref__': <attribute '__weakref__' of 'Phone' objects>,\n",
       "              '__doc__': None})"
      ]
     },
     "execution_count": 164,
     "metadata": {},
     "output_type": "execute_result"
    }
   ],
   "source": [
    "class Phone:\n",
    "    \n",
    "    brand=\"Apple\"\n",
    "    \n",
    "    def __init__(self,brand):\n",
    "        self.brand=brand\n",
    "    \n",
    "    \n",
    "    def print_brand(self):\n",
    "        print(f\"Wartość atrybutu klasy {Phone.brand}\")\n",
    "        print(f\"Wartość atrubutu instancji: {self.brand}\")\n",
    "\n",
    "\n",
    "Phone.__dict__"
   ]
  },
  {
   "cell_type": "code",
   "execution_count": 165,
   "id": "bd3345f2",
   "metadata": {},
   "outputs": [
    {
     "name": "stdout",
     "output_type": "stream",
     "text": [
      "Wartość atrybutu klasy Apple\n",
      "Wartość atrubutu instancji: Samsung\n"
     ]
    }
   ],
   "source": [
    "phone1 = Phone(\"Samsung\")\n",
    "phone1.print_brand()"
   ]
  },
  {
   "cell_type": "code",
   "execution_count": 166,
   "id": "b160f8bf",
   "metadata": {},
   "outputs": [
    {
     "data": {
      "text/plain": [
       "mappingproxy({'__module__': '__main__',\n",
       "              'brand': 'Apple',\n",
       "              '__init__': <function __main__.Phone.__init__(self, brand)>,\n",
       "              'print_brand': <function __main__.Phone.print_brand(self)>,\n",
       "              '__dict__': <attribute '__dict__' of 'Phone' objects>,\n",
       "              '__weakref__': <attribute '__weakref__' of 'Phone' objects>,\n",
       "              '__doc__': None})"
      ]
     },
     "execution_count": 166,
     "metadata": {},
     "output_type": "execute_result"
    }
   ],
   "source": [
    "Phone.__dict__"
   ]
  },
  {
   "cell_type": "code",
   "execution_count": 167,
   "id": "3b790909",
   "metadata": {},
   "outputs": [
    {
     "data": {
      "text/plain": [
       "{'brand': 'Samsung'}"
      ]
     },
     "execution_count": 167,
     "metadata": {},
     "output_type": "execute_result"
    }
   ],
   "source": [
    "phone1.__dict__"
   ]
  },
  {
   "cell_type": "markdown",
   "id": "4107f93f",
   "metadata": {},
   "source": [
    "## Przykład"
   ]
  },
  {
   "cell_type": "code",
   "execution_count": 172,
   "id": "cdbd0f1e",
   "metadata": {},
   "outputs": [
    {
     "data": {
      "text/plain": [
       "mappingproxy({'__module__': '__main__',\n",
       "              'brand': 'Apple',\n",
       "              'result1': ['Apple', 'Apple', 'Apple', 'Apple', 'Apple'],\n",
       "              'result2': ['HP', 'HP', 'HP', 'HP', 'HP'],\n",
       "              '__dict__': <attribute '__dict__' of 'Phone' objects>,\n",
       "              '__weakref__': <attribute '__weakref__' of 'Phone' objects>,\n",
       "              '__doc__': None})"
      ]
     },
     "execution_count": 172,
     "metadata": {},
     "output_type": "execute_result"
    }
   ],
   "source": [
    "brand=\"HP\"\n",
    "\n",
    "class Phone:\n",
    "    \n",
    "    brand=\"Apple\"\n",
    "    result1=[brand]*5\n",
    "    result2 = [brand for i in range(5)]\n",
    "    \n",
    "\n",
    "Phone.__dict__"
   ]
  },
  {
   "cell_type": "code",
   "execution_count": 173,
   "id": "9514de92",
   "metadata": {},
   "outputs": [
    {
     "data": {
      "text/plain": [
       "mappingproxy({'__module__': '__main__',\n",
       "              'brand': 'Apple',\n",
       "              'result1': ['Apple', 'Apple', 'Apple', 'Apple', 'Apple'],\n",
       "              'result2': ['Apple', 'Apple', 'Apple', 'Apple', 'Apple'],\n",
       "              '__dict__': <attribute '__dict__' of 'Phone' objects>,\n",
       "              '__weakref__': <attribute '__weakref__' of 'Phone' objects>,\n",
       "              '__doc__': None})"
      ]
     },
     "execution_count": 173,
     "metadata": {},
     "output_type": "execute_result"
    }
   ],
   "source": [
    "brand=\"HP\"\n",
    "\n",
    "class Phone:\n",
    "    \n",
    "    brand=\"Apple\"\n",
    "    result1=[brand]*5\n",
    "    result2 = [Phone.brand for i in range(5)]\n",
    "    \n",
    "\n",
    "Phone.__dict__"
   ]
  },
  {
   "cell_type": "code",
   "execution_count": null,
   "id": "fd322632",
   "metadata": {},
   "outputs": [],
   "source": []
  }
 ],
 "metadata": {
  "kernelspec": {
   "display_name": "Python 3",
   "language": "python",
   "name": "python3"
  },
  "language_info": {
   "codemirror_mode": {
    "name": "ipython",
    "version": 3
   },
   "file_extension": ".py",
   "mimetype": "text/x-python",
   "name": "python",
   "nbconvert_exporter": "python",
   "pygments_lexer": "ipython3",
   "version": "3.8.10"
  }
 },
 "nbformat": 4,
 "nbformat_minor": 5
}
