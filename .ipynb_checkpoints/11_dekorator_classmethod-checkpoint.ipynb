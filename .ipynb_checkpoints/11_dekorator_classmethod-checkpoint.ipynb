{
 "cells": [
  {
   "cell_type": "markdown",
   "id": "7ca4c64a",
   "metadata": {},
   "source": [
    "## Metoda klasy i dekorator classmethod"
   ]
  },
  {
   "cell_type": "code",
   "execution_count": 7,
   "id": "6a9d2b3c",
   "metadata": {},
   "outputs": [
    {
     "data": {
      "text/plain": [
       "mappingproxy({'__module__': '__main__',\n",
       "              'show': <function __main__.Phone.show(self)>,\n",
       "              '__dict__': <attribute '__dict__' of 'Phone' objects>,\n",
       "              '__weakref__': <attribute '__weakref__' of 'Phone' objects>,\n",
       "              '__doc__': None})"
      ]
     },
     "execution_count": 7,
     "metadata": {},
     "output_type": "execute_result"
    }
   ],
   "source": [
    "class Phone:\n",
    "    \n",
    "    def show(self):\n",
    "        print(f\"Running {self}...\")\n",
    "        \n",
    "        \n",
    "Phone.__dict__"
   ]
  },
  {
   "cell_type": "code",
   "execution_count": 8,
   "id": "423a0e7c",
   "metadata": {},
   "outputs": [
    {
     "ename": "TypeError",
     "evalue": "show() missing 1 required positional argument: 'self'",
     "output_type": "error",
     "traceback": [
      "\u001b[1;31m---------------------------------------------------------------------------\u001b[0m",
      "\u001b[1;31mTypeError\u001b[0m                                 Traceback (most recent call last)",
      "\u001b[1;32m<ipython-input-8-f6d0c91102a2>\u001b[0m in \u001b[0;36m<module>\u001b[1;34m\u001b[0m\n\u001b[1;32m----> 1\u001b[1;33m \u001b[0mPhone\u001b[0m\u001b[1;33m.\u001b[0m\u001b[0mshow\u001b[0m\u001b[1;33m(\u001b[0m\u001b[1;33m)\u001b[0m\u001b[1;33m\u001b[0m\u001b[1;33m\u001b[0m\u001b[0m\n\u001b[0m",
      "\u001b[1;31mTypeError\u001b[0m: show() missing 1 required positional argument: 'self'"
     ]
    }
   ],
   "source": [
    "Phone.show()"
   ]
  },
  {
   "cell_type": "code",
   "execution_count": 9,
   "id": "38b044f2",
   "metadata": {},
   "outputs": [
    {
     "data": {
      "text/plain": [
       "<function __main__.Phone.show(self)>"
      ]
     },
     "execution_count": 9,
     "metadata": {},
     "output_type": "execute_result"
    }
   ],
   "source": [
    "Phone.show"
   ]
  },
  {
   "cell_type": "code",
   "execution_count": 10,
   "id": "d416a433",
   "metadata": {},
   "outputs": [
    {
     "name": "stdout",
     "output_type": "stream",
     "text": [
      "Running <__main__.Phone object at 0x000001FA5D2C60D0>...\n"
     ]
    }
   ],
   "source": [
    "phone=Phone()\n",
    "phone.show()"
   ]
  },
  {
   "cell_type": "code",
   "execution_count": 11,
   "id": "4f25a76f",
   "metadata": {},
   "outputs": [
    {
     "data": {
      "text/plain": [
       "<bound method Phone.show of <__main__.Phone object at 0x000001FA5D2C60D0>>"
      ]
     },
     "execution_count": 11,
     "metadata": {},
     "output_type": "execute_result"
    }
   ],
   "source": [
    "phone.show"
   ]
  },
  {
   "cell_type": "code",
   "execution_count": 12,
   "id": "d8b0eddf",
   "metadata": {},
   "outputs": [],
   "source": [
    "phone=Phone()"
   ]
  },
  {
   "cell_type": "code",
   "execution_count": 13,
   "id": "9342af62",
   "metadata": {},
   "outputs": [
    {
     "name": "stdout",
     "output_type": "stream",
     "text": [
      "Running <__main__.Phone object at 0x000001FA5D274D00>...\n"
     ]
    }
   ],
   "source": [
    "phone.show()"
   ]
  },
  {
   "cell_type": "code",
   "execution_count": 14,
   "id": "dbc9f6a5",
   "metadata": {},
   "outputs": [
    {
     "name": "stdout",
     "output_type": "stream",
     "text": [
      "Running <__main__.Phone object at 0x000001FA5D274D00>...\n"
     ]
    }
   ],
   "source": [
    "Phone.show(phone)"
   ]
  },
  {
   "cell_type": "code",
   "execution_count": 15,
   "id": "00680d77",
   "metadata": {},
   "outputs": [
    {
     "name": "stdout",
     "output_type": "stream",
     "text": [
      "Help on class classmethod in module builtins:\n",
      "\n",
      "class classmethod(object)\n",
      " |  classmethod(function) -> method\n",
      " |  \n",
      " |  Convert a function to be a class method.\n",
      " |  \n",
      " |  A class method receives the class as implicit first argument,\n",
      " |  just like an instance method receives the instance.\n",
      " |  To declare a class method, use this idiom:\n",
      " |  \n",
      " |    class C:\n",
      " |        @classmethod\n",
      " |        def f(cls, arg1, arg2, ...):\n",
      " |            ...\n",
      " |  \n",
      " |  It can be called either on the class (e.g. C.f()) or on an instance\n",
      " |  (e.g. C().f()).  The instance is ignored except for its class.\n",
      " |  If a class method is called for a derived class, the derived class\n",
      " |  object is passed as the implied first argument.\n",
      " |  \n",
      " |  Class methods are different than C++ or Java static methods.\n",
      " |  If you want those, see the staticmethod builtin.\n",
      " |  \n",
      " |  Methods defined here:\n",
      " |  \n",
      " |  __get__(self, instance, owner, /)\n",
      " |      Return an attribute of instance, which is of type owner.\n",
      " |  \n",
      " |  __init__(self, /, *args, **kwargs)\n",
      " |      Initialize self.  See help(type(self)) for accurate signature.\n",
      " |  \n",
      " |  ----------------------------------------------------------------------\n",
      " |  Static methods defined here:\n",
      " |  \n",
      " |  __new__(*args, **kwargs) from builtins.type\n",
      " |      Create and return a new object.  See help(type) for accurate signature.\n",
      " |  \n",
      " |  ----------------------------------------------------------------------\n",
      " |  Data descriptors defined here:\n",
      " |  \n",
      " |  __dict__\n",
      " |  \n",
      " |  __func__\n",
      " |  \n",
      " |  __isabstractmethod__\n",
      "\n"
     ]
    }
   ],
   "source": [
    "help(classmethod)"
   ]
  },
  {
   "cell_type": "code",
   "execution_count": 18,
   "id": "a42f499b",
   "metadata": {},
   "outputs": [
    {
     "data": {
      "text/plain": [
       "mappingproxy({'__module__': '__main__',\n",
       "              'show': <classmethod at 0x1fa5e89e7c0>,\n",
       "              '__dict__': <attribute '__dict__' of 'Phone' objects>,\n",
       "              '__weakref__': <attribute '__weakref__' of 'Phone' objects>,\n",
       "              '__doc__': None})"
      ]
     },
     "execution_count": 18,
     "metadata": {},
     "output_type": "execute_result"
    }
   ],
   "source": [
    "class Phone:\n",
    "    \n",
    "    def show(cls):\n",
    "        print(f\"Running...\")\n",
    "        \n",
    "    show=classmethod(show)\n",
    "        \n",
    "        \n",
    "Phone.__dict__"
   ]
  },
  {
   "cell_type": "code",
   "execution_count": 19,
   "id": "c4b995f6",
   "metadata": {},
   "outputs": [],
   "source": [
    "phone=Phone()"
   ]
  },
  {
   "cell_type": "code",
   "execution_count": 20,
   "id": "100472d9",
   "metadata": {},
   "outputs": [
    {
     "name": "stdout",
     "output_type": "stream",
     "text": [
      "Running...\n"
     ]
    }
   ],
   "source": [
    "phone.show()"
   ]
  },
  {
   "cell_type": "code",
   "execution_count": 21,
   "id": "f744bf07",
   "metadata": {},
   "outputs": [
    {
     "name": "stdout",
     "output_type": "stream",
     "text": [
      "Running...\n"
     ]
    }
   ],
   "source": [
    "Phone.show()"
   ]
  },
  {
   "cell_type": "code",
   "execution_count": 22,
   "id": "fc917e59",
   "metadata": {},
   "outputs": [
    {
     "data": {
      "text/plain": [
       "<bound method Phone.show of <class '__main__.Phone'>>"
      ]
     },
     "execution_count": 22,
     "metadata": {},
     "output_type": "execute_result"
    }
   ],
   "source": [
    "phone.show"
   ]
  },
  {
   "cell_type": "code",
   "execution_count": 23,
   "id": "cb01a3bb",
   "metadata": {},
   "outputs": [
    {
     "data": {
      "text/plain": [
       "mappingproxy({'__module__': '__main__',\n",
       "              'show': <classmethod at 0x1fa5e20a310>,\n",
       "              '__dict__': <attribute '__dict__' of 'Phone' objects>,\n",
       "              '__weakref__': <attribute '__weakref__' of 'Phone' objects>,\n",
       "              '__doc__': None})"
      ]
     },
     "execution_count": 23,
     "metadata": {},
     "output_type": "execute_result"
    }
   ],
   "source": [
    "class Phone:\n",
    "    \n",
    "    @classmethod\n",
    "    def show(cls):\n",
    "        print(f\"Running...\")\n",
    "\n",
    "Phone.__dict__"
   ]
  },
  {
   "cell_type": "code",
   "execution_count": 24,
   "id": "a276cfe2",
   "metadata": {},
   "outputs": [
    {
     "name": "stdout",
     "output_type": "stream",
     "text": [
      "Running...\n"
     ]
    }
   ],
   "source": [
    "Phone.show()"
   ]
  },
  {
   "cell_type": "code",
   "execution_count": 25,
   "id": "1ef40064",
   "metadata": {},
   "outputs": [],
   "source": [
    "phone=Phone()"
   ]
  },
  {
   "cell_type": "code",
   "execution_count": 26,
   "id": "68fa57d6",
   "metadata": {},
   "outputs": [
    {
     "name": "stdout",
     "output_type": "stream",
     "text": [
      "Running...\n"
     ]
    }
   ],
   "source": [
    "phone.show()"
   ]
  },
  {
   "cell_type": "markdown",
   "id": "64be8a82",
   "metadata": {},
   "source": [
    "## Metoda klasy vs metoda instancji"
   ]
  },
  {
   "cell_type": "code",
   "execution_count": 30,
   "id": "5a8eefc2",
   "metadata": {},
   "outputs": [
    {
     "data": {
      "text/plain": [
       "mappingproxy({'__module__': '__main__',\n",
       "              'show': <classmethod at 0x1fa5e20a130>,\n",
       "              'describe': <function __main__.Phone.describe(self)>,\n",
       "              '__dict__': <attribute '__dict__' of 'Phone' objects>,\n",
       "              '__weakref__': <attribute '__weakref__' of 'Phone' objects>,\n",
       "              '__doc__': None})"
      ]
     },
     "execution_count": 30,
     "metadata": {},
     "output_type": "execute_result"
    }
   ],
   "source": [
    "class Phone:\n",
    "    \n",
    "    @classmethod\n",
    "    def show(cls):\n",
    "        print(f\"Running... {cls}\")\n",
    "    \n",
    "    def describe(self):\n",
    "        print(f\"Describing {self}...\")\n",
    "\n",
    "Phone.__dict__"
   ]
  },
  {
   "cell_type": "code",
   "execution_count": 31,
   "id": "298a0508",
   "metadata": {},
   "outputs": [
    {
     "data": {
      "text/plain": [
       "<bound method Phone.show of <class '__main__.Phone'>>"
      ]
     },
     "execution_count": 31,
     "metadata": {},
     "output_type": "execute_result"
    }
   ],
   "source": [
    "Phone.show"
   ]
  },
  {
   "cell_type": "code",
   "execution_count": 32,
   "id": "90778266",
   "metadata": {},
   "outputs": [
    {
     "name": "stdout",
     "output_type": "stream",
     "text": [
      "Running... <class '__main__.Phone'>\n"
     ]
    }
   ],
   "source": [
    "Phone.show()"
   ]
  },
  {
   "cell_type": "code",
   "execution_count": 33,
   "id": "f14a2d55",
   "metadata": {},
   "outputs": [
    {
     "data": {
      "text/plain": [
       "<function __main__.Phone.describe(self)>"
      ]
     },
     "execution_count": 33,
     "metadata": {},
     "output_type": "execute_result"
    }
   ],
   "source": [
    "Phone.describe"
   ]
  },
  {
   "cell_type": "code",
   "execution_count": 34,
   "id": "c4d8bf29",
   "metadata": {},
   "outputs": [
    {
     "ename": "TypeError",
     "evalue": "describe() missing 1 required positional argument: 'self'",
     "output_type": "error",
     "traceback": [
      "\u001b[1;31m---------------------------------------------------------------------------\u001b[0m",
      "\u001b[1;31mTypeError\u001b[0m                                 Traceback (most recent call last)",
      "\u001b[1;32m<ipython-input-34-df0be6b5839c>\u001b[0m in \u001b[0;36m<module>\u001b[1;34m\u001b[0m\n\u001b[1;32m----> 1\u001b[1;33m \u001b[0mPhone\u001b[0m\u001b[1;33m.\u001b[0m\u001b[0mdescribe\u001b[0m\u001b[1;33m(\u001b[0m\u001b[1;33m)\u001b[0m\u001b[1;33m\u001b[0m\u001b[1;33m\u001b[0m\u001b[0m\n\u001b[0m",
      "\u001b[1;31mTypeError\u001b[0m: describe() missing 1 required positional argument: 'self'"
     ]
    }
   ],
   "source": [
    "Phone.describe()"
   ]
  },
  {
   "cell_type": "code",
   "execution_count": 35,
   "id": "2c7c5c63",
   "metadata": {},
   "outputs": [],
   "source": [
    "phone=Phone()"
   ]
  },
  {
   "cell_type": "code",
   "execution_count": 36,
   "id": "393d7adb",
   "metadata": {},
   "outputs": [
    {
     "name": "stdout",
     "output_type": "stream",
     "text": [
      "Describing <__main__.Phone object at 0x000001FA5ED2DEE0>...\n"
     ]
    }
   ],
   "source": [
    "Phone.describe(phone)"
   ]
  },
  {
   "cell_type": "code",
   "execution_count": 37,
   "id": "4dd48130",
   "metadata": {},
   "outputs": [
    {
     "name": "stdout",
     "output_type": "stream",
     "text": [
      "Running... <class '__main__.Phone'>\n"
     ]
    }
   ],
   "source": [
    "phone.show()"
   ]
  },
  {
   "cell_type": "markdown",
   "id": "807287c6",
   "metadata": {},
   "source": [
    "## Przykład"
   ]
  },
  {
   "cell_type": "code",
   "execution_count": 42,
   "id": "1c72b35f",
   "metadata": {},
   "outputs": [
    {
     "data": {
      "text/plain": [
       "mappingproxy({'__module__': '__main__',\n",
       "              'instances': [],\n",
       "              '__init__': <function __main__.Phone.__init__(self)>,\n",
       "              'show': <classmethod at 0x1fa5ed43730>,\n",
       "              '__dict__': <attribute '__dict__' of 'Phone' objects>,\n",
       "              '__weakref__': <attribute '__weakref__' of 'Phone' objects>,\n",
       "              '__doc__': None})"
      ]
     },
     "execution_count": 42,
     "metadata": {},
     "output_type": "execute_result"
    }
   ],
   "source": [
    "class Phone:\n",
    "    \n",
    "    instances=[]\n",
    "    \n",
    "    def __init__(self):\n",
    "        Phone.instances.append(self)\n",
    "    @classmethod  \n",
    "    def show(cls):\n",
    "        if len(Phone.instances) >0:\n",
    "            print(f\"List of instance of the {Phone.__name__} class:\")\n",
    "            for instance in Phone.instances:\n",
    "                print(f\"\\t{instance}\")\n",
    "        else:\n",
    "            print(f\"There is no instance of the {Phone.__name__} class.\")\n",
    "            \n",
    "Phone.__dict__"
   ]
  },
  {
   "cell_type": "code",
   "execution_count": 43,
   "id": "75073fa1",
   "metadata": {},
   "outputs": [
    {
     "name": "stdout",
     "output_type": "stream",
     "text": [
      "There is no instance of the Phone class.\n"
     ]
    }
   ],
   "source": [
    "Phone.show()"
   ]
  },
  {
   "cell_type": "code",
   "execution_count": 44,
   "id": "4eb9bc51",
   "metadata": {},
   "outputs": [
    {
     "name": "stdout",
     "output_type": "stream",
     "text": [
      "List of instance of the Phone class:\n",
      "\t<__main__.Phone object at 0x000001FA5EE52370>\n",
      "\t<__main__.Phone object at 0x000001FA5EE52430>\n"
     ]
    }
   ],
   "source": [
    "phone1=Phone()\n",
    "phone2=Phone()\n",
    "\n",
    "Phone.show()"
   ]
  },
  {
   "cell_type": "code",
   "execution_count": 45,
   "id": "39d77903",
   "metadata": {},
   "outputs": [
    {
     "data": {
      "text/plain": [
       "mappingproxy({'__module__': '__main__',\n",
       "              'instances': [],\n",
       "              '__init__': <function __main__.Phone.__init__(self)>,\n",
       "              'show': <classmethod at 0x1fa5e45ed60>,\n",
       "              '__dict__': <attribute '__dict__' of 'Phone' objects>,\n",
       "              '__weakref__': <attribute '__weakref__' of 'Phone' objects>,\n",
       "              '__doc__': None})"
      ]
     },
     "execution_count": 45,
     "metadata": {},
     "output_type": "execute_result"
    }
   ],
   "source": [
    "class Phone:\n",
    "    \n",
    "    instances=[]\n",
    "    \n",
    "    def __init__(self):\n",
    "        Phone.instances.append(self)\n",
    "        \n",
    "    @classmethod  \n",
    "    def show(cls):\n",
    "        if len(cls.instances) >0:\n",
    "            print(f\"List of instance of the {cls.__name__} class:\")\n",
    "            for instance in cls.instances:\n",
    "                print(f\"\\t{instance}\")\n",
    "        else:\n",
    "            print(f\"There is no instance of the {cls.__name__} class.\")\n",
    "            \n",
    "Phone.__dict__"
   ]
  },
  {
   "cell_type": "markdown",
   "id": "7637b3ce",
   "metadata": {},
   "source": [
    "## Przykład"
   ]
  },
  {
   "cell_type": "code",
   "execution_count": 46,
   "id": "046cd4f6",
   "metadata": {},
   "outputs": [
    {
     "data": {
      "text/plain": [
       "mappingproxy({'__module__': '__main__',\n",
       "              'instances': [],\n",
       "              '__init__': <function __main__.Phone.__init__(self, brand)>,\n",
       "              'show': <classmethod at 0x1fa5e2d5fa0>,\n",
       "              'show_brand': <function __main__.Phone.show_brand(self)>,\n",
       "              '__dict__': <attribute '__dict__' of 'Phone' objects>,\n",
       "              '__weakref__': <attribute '__weakref__' of 'Phone' objects>,\n",
       "              '__doc__': None})"
      ]
     },
     "execution_count": 46,
     "metadata": {},
     "output_type": "execute_result"
    }
   ],
   "source": [
    "class Phone:\n",
    "    \n",
    "    instances=[]\n",
    "    \n",
    "    def __init__(self,brand):\n",
    "        self.brand=brand\n",
    "        Phone.instances.append(self)\n",
    "        \n",
    "    @classmethod  \n",
    "    def show(cls):\n",
    "        if len(cls.instances) >0:\n",
    "            print(f\"List of instance of the {cls.__name__} class:\")\n",
    "            for instance in cls.instances:\n",
    "                print(f\"\\t{instance}\")\n",
    "        else:\n",
    "            print(f\"There is no instance of the {cls.__name__} class.\")\n",
    "            \n",
    "            \n",
    "    def show_brand(self):\n",
    "        print(f\"Brand: {self.brand}\")\n",
    "            \n",
    "Phone.__dict__\n"
   ]
  },
  {
   "cell_type": "code",
   "execution_count": 47,
   "id": "2346f2c3",
   "metadata": {},
   "outputs": [
    {
     "name": "stdout",
     "output_type": "stream",
     "text": [
      "List of instance of the Phone class:\n",
      "\t<__main__.Phone object at 0x000001FA5EE52A00>\n",
      "\t<__main__.Phone object at 0x000001FA5EE52E80>\n"
     ]
    }
   ],
   "source": [
    "phone1=Phone(\"Apple\")\n",
    "phone2=Phone(\"Samsung\")\n",
    "\n",
    "Phone.show()"
   ]
  },
  {
   "cell_type": "code",
   "execution_count": null,
   "id": "c5b1f99b",
   "metadata": {},
   "outputs": [],
   "source": []
  }
 ],
 "metadata": {
  "kernelspec": {
   "display_name": "Python 3",
   "language": "python",
   "name": "python3"
  },
  "language_info": {
   "codemirror_mode": {
    "name": "ipython",
    "version": 3
   },
   "file_extension": ".py",
   "mimetype": "text/x-python",
   "name": "python",
   "nbconvert_exporter": "python",
   "pygments_lexer": "ipython3",
   "version": "3.8.10"
  }
 },
 "nbformat": 4,
 "nbformat_minor": 5
}
