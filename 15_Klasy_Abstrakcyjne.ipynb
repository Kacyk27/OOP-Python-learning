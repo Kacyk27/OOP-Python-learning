{
 "cells": [
  {
   "cell_type": "code",
   "execution_count": 1,
   "id": "3e47feb7",
   "metadata": {},
   "outputs": [
    {
     "name": "stdout",
     "output_type": "stream",
     "text": [
      "Help on class ABC in module abc:\n",
      "\n",
      "class ABC(builtins.object)\n",
      " |  Helper class that provides a standard way to create an ABC using\n",
      " |  inheritance.\n",
      " |  \n",
      " |  Data and other attributes defined here:\n",
      " |  \n",
      " |  __abstractmethods__ = frozenset()\n",
      "\n"
     ]
    }
   ],
   "source": [
    "import abc\n",
    "\n",
    "help(abc.ABC)"
   ]
  },
  {
   "cell_type": "code",
   "execution_count": 2,
   "id": "c6a45f88",
   "metadata": {},
   "outputs": [
    {
     "name": "stdout",
     "output_type": "stream",
     "text": [
      "Help on function abstractmethod in module abc:\n",
      "\n",
      "abstractmethod(funcobj)\n",
      "    A decorator indicating abstract methods.\n",
      "    \n",
      "    Requires that the metaclass is ABCMeta or derived from it.  A\n",
      "    class that has a metaclass derived from ABCMeta cannot be\n",
      "    instantiated unless all of its abstract methods are overridden.\n",
      "    The abstract methods can be called using any of the normal\n",
      "    'super' call mechanisms.  abstractmethod() may be used to declare\n",
      "    abstract methods for properties and descriptors.\n",
      "    \n",
      "    Usage:\n",
      "    \n",
      "        class C(metaclass=ABCMeta):\n",
      "            @abstractmethod\n",
      "            def my_abstract_method(self, ...):\n",
      "                ...\n",
      "\n"
     ]
    }
   ],
   "source": [
    "help(abc.abstractmethod)"
   ]
  },
  {
   "cell_type": "code",
   "execution_count": 1,
   "id": "9740a297",
   "metadata": {},
   "outputs": [
    {
     "name": "stdout",
     "output_type": "stream",
     "text": [
      "Side length: 1\n",
      "Area: 1\n",
      "\n",
      "Side length: 5\n",
      "Area: 25\n",
      "\n",
      "Side length: 10\n",
      "Area: 100\n",
      "\n"
     ]
    }
   ],
   "source": [
    "from abc import ABC,abstractmethod\n",
    "\n",
    "\n",
    "class Figure(ABC):\n",
    "    \n",
    "    @abstractmethod\n",
    "    def area(self):\n",
    "        pass\n",
    "    \n",
    "class Square(Figure):\n",
    "    \n",
    "    def __init__(self,a=1):\n",
    "        self.a=a\n",
    "        \n",
    "        \n",
    "    def area(self):\n",
    "        return self.a*self.a\n",
    "    \n",
    "figures=[Square(),Square(5),Square(10)]\n",
    "\n",
    "for figure in figures:\n",
    "    print(f\"Side length: {figure.a}\")\n",
    "    print(f\"Area: {figure.area()}\\n\")"
   ]
  },
  {
   "cell_type": "code",
   "execution_count": 2,
   "id": "8ef27eed",
   "metadata": {},
   "outputs": [
    {
     "ename": "TypeError",
     "evalue": "Can't instantiate abstract class Figure with abstract methods area",
     "output_type": "error",
     "traceback": [
      "\u001b[1;31m---------------------------------------------------------------------------\u001b[0m",
      "\u001b[1;31mTypeError\u001b[0m                                 Traceback (most recent call last)",
      "\u001b[1;32m<ipython-input-2-e8ffc7ba117e>\u001b[0m in \u001b[0;36m<module>\u001b[1;34m\u001b[0m\n\u001b[1;32m----> 1\u001b[1;33m \u001b[0mf\u001b[0m\u001b[1;33m=\u001b[0m\u001b[0mFigure\u001b[0m\u001b[1;33m(\u001b[0m\u001b[1;33m)\u001b[0m\u001b[1;33m\u001b[0m\u001b[1;33m\u001b[0m\u001b[0m\n\u001b[0m",
      "\u001b[1;31mTypeError\u001b[0m: Can't instantiate abstract class Figure with abstract methods area"
     ]
    }
   ],
   "source": [
    "f=Figure()"
   ]
  },
  {
   "cell_type": "markdown",
   "id": "ed120a4b",
   "metadata": {},
   "source": [
    "## Zadanie\n",
    "\n",
    "### W klasie Figure dodaj met. abst. o nazwie perimeter() pozwalającą liczyć obwód. Potem zaimplementuj metodę w klasie Square."
   ]
  },
  {
   "cell_type": "code",
   "execution_count": 3,
   "id": "880d5d79",
   "metadata": {},
   "outputs": [
    {
     "name": "stdout",
     "output_type": "stream",
     "text": [
      "Side length: 1\n",
      "Perimeter: 4\n",
      "Area: 1\n",
      "\n",
      "Side length: 5\n",
      "Perimeter: 20\n",
      "Area: 25\n",
      "\n",
      "Side length: 10\n",
      "Perimeter: 40\n",
      "Area: 100\n",
      "\n"
     ]
    }
   ],
   "source": [
    "from abc import ABC,abstractmethod\n",
    "\n",
    "\n",
    "class Figure(ABC):\n",
    "    \n",
    "    @abstractmethod\n",
    "    def area(self):\n",
    "        pass\n",
    "    \n",
    "    @abstractmethod\n",
    "    def perimeter(self):\n",
    "        pass\n",
    "\n",
    "\n",
    "class Square(Figure):\n",
    "    \n",
    "    def __init__(self,a=1):\n",
    "        self.a=a\n",
    "        \n",
    "        \n",
    "    def area(self):\n",
    "        return self.a*self.a\n",
    "    \n",
    "    def perimeter(self):\n",
    "        return 4*self.a\n",
    "    \n",
    "figures=[Square(),Square(5),Square(10)]\n",
    "\n",
    "for figure in figures:\n",
    "    print(f\"Side length: {figure.a}\")\n",
    "    print(f\"Perimeter: {figure.perimeter()}\")\n",
    "    print(f\"Area: {figure.area()}\\n\")"
   ]
  },
  {
   "cell_type": "markdown",
   "id": "aa722851",
   "metadata": {},
   "source": [
    "## Przykład"
   ]
  },
  {
   "cell_type": "code",
   "execution_count": 4,
   "id": "e2ae398f",
   "metadata": {},
   "outputs": [
    {
     "name": "stdout",
     "output_type": "stream",
     "text": [
      "Radius length: 1\n",
      "Perimeter: 6.2832\n",
      "Area: 3.1416\n",
      "\n",
      "Radius length: 5\n",
      "Perimeter: 31.4159\n",
      "Area: 78.5398\n",
      "\n",
      "Radius length: 10\n",
      "Perimeter: 62.8319\n",
      "Area: 314.1593\n",
      "\n"
     ]
    }
   ],
   "source": [
    "from abc import ABC,abstractmethod\n",
    "from math import pi\n",
    "\n",
    "class Figure(ABC):\n",
    "    \n",
    "    @abstractmethod\n",
    "    def area(self):\n",
    "        pass\n",
    "    \n",
    "    @abstractmethod\n",
    "    def perimeter(self):\n",
    "        pass\n",
    "\n",
    "\n",
    "class Square(Figure):\n",
    "    \n",
    "    def __init__(self,a=1):\n",
    "        self.a=a\n",
    "        \n",
    "        \n",
    "    def area(self):\n",
    "        return self.a*self.a\n",
    "    \n",
    "    def perimeter(self):\n",
    "        return 4*self.a\n",
    "\n",
    "\n",
    "class Circle(Figure):\n",
    "    \n",
    "    def __init__(self,r=1):\n",
    "        self.r=r\n",
    "    \n",
    "    def area(self):\n",
    "        return pi*self.r**2\n",
    "    \n",
    "    def perimeter(self):\n",
    "        return 2*pi*self.r\n",
    "\n",
    "figures=[Circle(),Circle(5),Circle(10)]\n",
    "\n",
    "for figure in figures:\n",
    "    print(f\"Radius length: {figure.r}\")\n",
    "    print(f\"Perimeter: {figure.perimeter():.4f}\")\n",
    "    print(f\"Area: {figure.area():.4f}\\n\")"
   ]
  },
  {
   "cell_type": "markdown",
   "id": "57d5efce",
   "metadata": {},
   "source": [
    "## Zadanie\n",
    "\n",
    "### Zaimplementuj klasę Triangle wykorzystując klasę abstrakcyjną Figure"
   ]
  },
  {
   "cell_type": "code",
   "execution_count": 6,
   "id": "fee6d340",
   "metadata": {},
   "outputs": [
    {
     "name": "stdout",
     "output_type": "stream",
     "text": [
      "Perimeter: 9.0000\n",
      "Area: 2.9047\n",
      "\n",
      "Perimeter: 12.0000\n",
      "Area: 6.0000\n",
      "\n"
     ]
    }
   ],
   "source": [
    "from abc import ABC,abstractmethod\n",
    "import math\n",
    "\n",
    "class Figure(ABC):\n",
    "    \n",
    "    @abstractmethod\n",
    "    def area(self):\n",
    "        pass\n",
    "    \n",
    "    @abstractmethod\n",
    "    def perimeter(self):\n",
    "        pass\n",
    "\n",
    "\n",
    "class Triangle(Figure):\n",
    "    \n",
    "    def __init__(self,a,b,c):\n",
    "        self.a=a\n",
    "        self.b=b\n",
    "        self.c=c\n",
    "        \n",
    "    def area(self):\n",
    "        p=self.perimeter()/2\n",
    "        return math.sqrt(p*(p-self.a)*(p-self.b)*(p-self.c))\n",
    "    \n",
    "    def perimeter(self):\n",
    "        return self.a+self.b+self.c\n",
    "\n",
    "figures=(Triangle(2,3,4),Triangle(3,4,5))\n",
    "    \n",
    "for figure in figures:\n",
    "    print(f\"Perimeter: {figure.perimeter():.4f}\")\n",
    "    print(f\"Area: {figure.area():.4f}\\n\")"
   ]
  },
  {
   "cell_type": "markdown",
   "id": "6cc52562",
   "metadata": {},
   "source": [
    "## Przykład"
   ]
  },
  {
   "cell_type": "code",
   "execution_count": 7,
   "id": "03dc54bb",
   "metadata": {},
   "outputs": [],
   "source": [
    "from abc import ABC,abstractmethod\n",
    "\n",
    "class Vehicle(ABC):\n",
    "    \n",
    "    @abstractmethod\n",
    "    def show_activity(self):\n",
    "        pass\n",
    "    \n",
    "\n",
    "class Plane(Vehicle):\n",
    "    \n",
    "    def show_activity(self):\n",
    "        print(f\"{self.__class__.__name__} -> I can fly.\")\n",
    "\n",
    "        \n",
    "class Car(Vehicle):\n",
    "\n",
    "    def show_activity(self):\n",
    "        print(f\"{self.__class__.__name__} -> I can dride.\")\n",
    "        \n",
    "\n"
   ]
  },
  {
   "cell_type": "code",
   "execution_count": 8,
   "id": "22361b8d",
   "metadata": {},
   "outputs": [
    {
     "ename": "TypeError",
     "evalue": "Can't instantiate abstract class Vehicle with abstract methods show_activity",
     "output_type": "error",
     "traceback": [
      "\u001b[1;31m---------------------------------------------------------------------------\u001b[0m",
      "\u001b[1;31mTypeError\u001b[0m                                 Traceback (most recent call last)",
      "\u001b[1;32m<ipython-input-8-d9cd693a639e>\u001b[0m in \u001b[0;36m<module>\u001b[1;34m\u001b[0m\n\u001b[1;32m----> 1\u001b[1;33m \u001b[0mv1\u001b[0m\u001b[1;33m=\u001b[0m\u001b[0mVehicle\u001b[0m\u001b[1;33m(\u001b[0m\u001b[1;33m)\u001b[0m\u001b[1;33m\u001b[0m\u001b[1;33m\u001b[0m\u001b[0m\n\u001b[0m",
      "\u001b[1;31mTypeError\u001b[0m: Can't instantiate abstract class Vehicle with abstract methods show_activity"
     ]
    }
   ],
   "source": [
    "v1=Vehicle()"
   ]
  },
  {
   "cell_type": "code",
   "execution_count": 9,
   "id": "57c28e1a",
   "metadata": {},
   "outputs": [
    {
     "name": "stdout",
     "output_type": "stream",
     "text": [
      "Plane -> I can fly.\n",
      "Car -> I can dride.\n"
     ]
    }
   ],
   "source": [
    "vehicles=[Plane(),Car()]\n",
    "\n",
    "for i in vehicles:\n",
    "    i.show_activity()"
   ]
  },
  {
   "cell_type": "code",
   "execution_count": null,
   "id": "d23293bd",
   "metadata": {},
   "outputs": [],
   "source": []
  }
 ],
 "metadata": {
  "kernelspec": {
   "display_name": "Python 3",
   "language": "python",
   "name": "python3"
  },
  "language_info": {
   "codemirror_mode": {
    "name": "ipython",
    "version": 3
   },
   "file_extension": ".py",
   "mimetype": "text/x-python",
   "name": "python",
   "nbconvert_exporter": "python",
   "pygments_lexer": "ipython3",
   "version": "3.8.10"
  }
 },
 "nbformat": 4,
 "nbformat_minor": 5
}
