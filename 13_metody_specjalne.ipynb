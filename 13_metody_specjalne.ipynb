{
 "cells": [
  {
   "cell_type": "markdown",
   "id": "c97ce772",
   "metadata": {},
   "source": [
    "## Metody specjalne/magiczne\n",
    "### __new__\n",
    "### __init__\n",
    "### __del__\n",
    "### __str__\n",
    "### __repr__\n",
    "### __len__\n",
    "### __bool__\n"
   ]
  },
  {
   "cell_type": "markdown",
   "id": "6b122e2b",
   "metadata": {},
   "source": [
    "## __new__() + __init__()"
   ]
  },
  {
   "cell_type": "code",
   "execution_count": null,
   "id": "5f2edc77",
   "metadata": {},
   "outputs": [],
   "source": [
    "dir(object.__new__)"
   ]
  },
  {
   "cell_type": "code",
   "execution_count": null,
   "id": "6c0036e7",
   "metadata": {},
   "outputs": [],
   "source": [
    "help(object.__new__)"
   ]
  },
  {
   "cell_type": "code",
   "execution_count": null,
   "id": "f60b5606",
   "metadata": {},
   "outputs": [],
   "source": [
    "help(object.__init__)"
   ]
  },
  {
   "cell_type": "code",
   "execution_count": null,
   "id": "bc024a7b",
   "metadata": {},
   "outputs": [],
   "source": [
    "class Company:\n",
    "    \"\"\"The Company class docs.\"\"\"\n",
    "    \n",
    "    def __init__(self,name):\n",
    "        self.name=name\n",
    "        \n",
    "company=Company(\"Microsoft\")\n",
    "company.__dict__"
   ]
  },
  {
   "cell_type": "code",
   "execution_count": null,
   "id": "03858c20",
   "metadata": {},
   "outputs": [],
   "source": [
    "company2= Company.__new__(Company)"
   ]
  },
  {
   "cell_type": "code",
   "execution_count": null,
   "id": "73bebded",
   "metadata": {},
   "outputs": [],
   "source": [
    "company2"
   ]
  },
  {
   "cell_type": "code",
   "execution_count": null,
   "id": "df679ff7",
   "metadata": {},
   "outputs": [],
   "source": [
    "company2.__init__(\"Microsoft\")"
   ]
  },
  {
   "cell_type": "code",
   "execution_count": null,
   "id": "68d2f7e3",
   "metadata": {},
   "outputs": [],
   "source": [
    "company2.__dict__"
   ]
  },
  {
   "cell_type": "markdown",
   "id": "d2328420",
   "metadata": {},
   "source": [
    "## Przykład"
   ]
  },
  {
   "cell_type": "code",
   "execution_count": null,
   "id": "1fa8f1dd",
   "metadata": {},
   "outputs": [],
   "source": [
    "class Student:\n",
    "    students=[]\n",
    "    limit=3\n",
    "    \n",
    "    def __new__(cls):\n",
    "        if len(cls.students)>=cls.limit:\n",
    "            raise RuntimeError(f\"Instance limit reached: {cls.limit}\")\n",
    "        instance=object.__new__(cls)\n",
    "        cls.students.append(instance)\n",
    "        return instance"
   ]
  },
  {
   "cell_type": "code",
   "execution_count": null,
   "id": "827c257f",
   "metadata": {},
   "outputs": [],
   "source": [
    "s1=Student()\n",
    "s2=Student()\n",
    "s3=Student()"
   ]
  },
  {
   "cell_type": "code",
   "execution_count": null,
   "id": "836c1d9e",
   "metadata": {},
   "outputs": [],
   "source": [
    "Student.__dict__"
   ]
  },
  {
   "cell_type": "code",
   "execution_count": null,
   "id": "e8fe2fa7",
   "metadata": {},
   "outputs": [],
   "source": [
    "Student.students"
   ]
  },
  {
   "cell_type": "code",
   "execution_count": null,
   "id": "4d11dec0",
   "metadata": {},
   "outputs": [],
   "source": [
    "s4=Student()"
   ]
  },
  {
   "cell_type": "markdown",
   "id": "7bb0e4a5",
   "metadata": {},
   "source": [
    "## metoda _ _repr_ _()"
   ]
  },
  {
   "cell_type": "code",
   "execution_count": null,
   "id": "fc8da9b7",
   "metadata": {},
   "outputs": [],
   "source": [
    "help(object.__repr__)"
   ]
  },
  {
   "cell_type": "code",
   "execution_count": null,
   "id": "1641ca73",
   "metadata": {},
   "outputs": [],
   "source": [
    "class Phone:\n",
    "    \n",
    "    def __init__(self,brand):\n",
    "        self.brand=brand\n",
    "\n",
    "Phone.__dict__"
   ]
  },
  {
   "cell_type": "code",
   "execution_count": null,
   "id": "1422afb5",
   "metadata": {},
   "outputs": [],
   "source": [
    "Phone"
   ]
  },
  {
   "cell_type": "code",
   "execution_count": null,
   "id": "2b699b9b",
   "metadata": {},
   "outputs": [],
   "source": [
    "repr(Phone)"
   ]
  },
  {
   "cell_type": "code",
   "execution_count": null,
   "id": "875cfb4c",
   "metadata": {},
   "outputs": [],
   "source": [
    "print(Phone)"
   ]
  },
  {
   "cell_type": "code",
   "execution_count": null,
   "id": "277f99e2",
   "metadata": {},
   "outputs": [],
   "source": [
    "phone=Phone(\"apple\")"
   ]
  },
  {
   "cell_type": "code",
   "execution_count": null,
   "id": "adc38280",
   "metadata": {},
   "outputs": [],
   "source": [
    "phone"
   ]
  },
  {
   "cell_type": "code",
   "execution_count": null,
   "id": "8bd240af",
   "metadata": {},
   "outputs": [],
   "source": [
    "repr(phone)"
   ]
  },
  {
   "cell_type": "code",
   "execution_count": null,
   "id": "43ecc2f7",
   "metadata": {},
   "outputs": [],
   "source": [
    "class Phone:\n",
    "    \n",
    "    def __init__(self,brand):\n",
    "        self.brand=brand\n",
    "    \n",
    "    def __repr__(self):\n",
    "        return f\"Phone(brand='{self.brand}')\"\n",
    "Phone.__dict__"
   ]
  },
  {
   "cell_type": "code",
   "execution_count": null,
   "id": "982e0a3c",
   "metadata": {},
   "outputs": [],
   "source": [
    "phone=Phone(\"Apple\")"
   ]
  },
  {
   "cell_type": "code",
   "execution_count": null,
   "id": "30303374",
   "metadata": {},
   "outputs": [],
   "source": [
    "phone"
   ]
  },
  {
   "cell_type": "code",
   "execution_count": null,
   "id": "c207090a",
   "metadata": {},
   "outputs": [],
   "source": [
    "repr(phone)"
   ]
  },
  {
   "cell_type": "code",
   "execution_count": null,
   "id": "7e584039",
   "metadata": {},
   "outputs": [],
   "source": [
    "print(phone)"
   ]
  },
  {
   "cell_type": "code",
   "execution_count": null,
   "id": "501724ac",
   "metadata": {},
   "outputs": [],
   "source": [
    "eval(repr(phone))"
   ]
  },
  {
   "cell_type": "code",
   "execution_count": null,
   "id": "f447c5f6",
   "metadata": {},
   "outputs": [],
   "source": [
    "phone2=eval(repr(phone))\n",
    "phone2.brand"
   ]
  },
  {
   "cell_type": "code",
   "execution_count": null,
   "id": "c2e15e4c",
   "metadata": {},
   "outputs": [],
   "source": [
    "id(phone2)"
   ]
  },
  {
   "cell_type": "code",
   "execution_count": null,
   "id": "377241a1",
   "metadata": {},
   "outputs": [],
   "source": [
    "id(phone)"
   ]
  },
  {
   "cell_type": "markdown",
   "id": "2da2237a",
   "metadata": {},
   "source": [
    "## Metoda __str__()"
   ]
  },
  {
   "cell_type": "code",
   "execution_count": null,
   "id": "76dbd50a",
   "metadata": {},
   "outputs": [],
   "source": [
    "help(object.__str__)"
   ]
  },
  {
   "cell_type": "code",
   "execution_count": null,
   "id": "d396a18c",
   "metadata": {},
   "outputs": [],
   "source": [
    "help(str)"
   ]
  },
  {
   "cell_type": "code",
   "execution_count": null,
   "id": "8ceded08",
   "metadata": {},
   "outputs": [],
   "source": [
    "class Phone:\n",
    "    \n",
    "    def __init__(self,brand):\n",
    "        self.brand=brand\n",
    "    \n",
    "    def __repr__(self):\n",
    "        return f\"Phone(brand='{self.brand}')\"\n",
    "    \n",
    "    def __str__(self):\n",
    "        return f\"{self.brand} brand mobile phone.\"\n",
    "Phone.__dict__"
   ]
  },
  {
   "cell_type": "code",
   "execution_count": null,
   "id": "d295938c",
   "metadata": {},
   "outputs": [],
   "source": [
    "phone=Phone(\"Apple\")\n",
    "phone"
   ]
  },
  {
   "cell_type": "code",
   "execution_count": null,
   "id": "848670a6",
   "metadata": {},
   "outputs": [],
   "source": [
    "repr(phone)"
   ]
  },
  {
   "cell_type": "code",
   "execution_count": null,
   "id": "4350c17f",
   "metadata": {},
   "outputs": [],
   "source": [
    "print(phone)"
   ]
  },
  {
   "cell_type": "code",
   "execution_count": null,
   "id": "57962aba",
   "metadata": {},
   "outputs": [],
   "source": [
    "str(phone)"
   ]
  },
  {
   "cell_type": "code",
   "execution_count": null,
   "id": "4f98cf82",
   "metadata": {},
   "outputs": [],
   "source": [
    "repr(phone)"
   ]
  },
  {
   "cell_type": "code",
   "execution_count": null,
   "id": "4bfb10d2",
   "metadata": {},
   "outputs": [],
   "source": [
    "phone.__repr__()"
   ]
  },
  {
   "cell_type": "code",
   "execution_count": null,
   "id": "394dfc62",
   "metadata": {},
   "outputs": [],
   "source": [
    "phone.__str__()"
   ]
  },
  {
   "cell_type": "code",
   "execution_count": null,
   "id": "e6bd209c",
   "metadata": {},
   "outputs": [],
   "source": [
    "class Phone:\n",
    "    \n",
    "    def __init__(self,brand):\n",
    "        self.brand=brand\n",
    "    \n",
    "#     def __repr__(self):\n",
    "#         return f\"Phone(brand='{self.brand}')\"\n",
    "    \n",
    "    def __str__(self):\n",
    "        return f\"{self.brand} brand mobile phone.\"\n",
    "Phone.__dict__"
   ]
  },
  {
   "cell_type": "code",
   "execution_count": null,
   "id": "4ecd8522",
   "metadata": {},
   "outputs": [],
   "source": [
    "phone=Phone(\"Apple\")\n",
    "phone"
   ]
  },
  {
   "cell_type": "code",
   "execution_count": null,
   "id": "16c8da72",
   "metadata": {},
   "outputs": [],
   "source": [
    "print(phone)"
   ]
  },
  {
   "cell_type": "markdown",
   "id": "5546e416",
   "metadata": {},
   "source": [
    "## metoda __len__()"
   ]
  },
  {
   "cell_type": "code",
   "execution_count": null,
   "id": "5ec81d5b",
   "metadata": {},
   "outputs": [],
   "source": [
    "help(len)"
   ]
  },
  {
   "cell_type": "code",
   "execution_count": null,
   "id": "d9d4b977",
   "metadata": {},
   "outputs": [],
   "source": [
    "class Point:\n",
    "    \n",
    "    def __init__(self,*args):\n",
    "        \n",
    "        for val in args:\n",
    "            if not isinstance(val,(int,float)):\n",
    "                raise ValueError(\"Must be inf or float.\")\n",
    "        self._args = args\n",
    "            \n",
    "    def __repr__(self):\n",
    "        return f\"Point(cords={self._args})\"\n",
    "    \n",
    "    @property\n",
    "    def args(self):\n",
    "        return self._args\n"
   ]
  },
  {
   "cell_type": "code",
   "execution_count": null,
   "id": "d4ef76f6",
   "metadata": {},
   "outputs": [],
   "source": [
    "p=Point(3,4)\n",
    "p.__dict__"
   ]
  },
  {
   "cell_type": "code",
   "execution_count": null,
   "id": "8bd9aef8",
   "metadata": {},
   "outputs": [],
   "source": [
    "p.args"
   ]
  },
  {
   "cell_type": "code",
   "execution_count": null,
   "id": "5e47678e",
   "metadata": {},
   "outputs": [],
   "source": [
    "p"
   ]
  },
  {
   "cell_type": "code",
   "execution_count": null,
   "id": "9ad16071",
   "metadata": {},
   "outputs": [],
   "source": [
    "repr(p)"
   ]
  },
  {
   "cell_type": "code",
   "execution_count": null,
   "id": "3da74905",
   "metadata": {},
   "outputs": [],
   "source": [
    "p= Point(3,4,-2)\n",
    "p.args"
   ]
  },
  {
   "cell_type": "code",
   "execution_count": null,
   "id": "e86b7e07",
   "metadata": {},
   "outputs": [],
   "source": [
    "p=Point(3,4,\"abc\")"
   ]
  },
  {
   "cell_type": "code",
   "execution_count": null,
   "id": "5590cfa8",
   "metadata": {},
   "outputs": [],
   "source": [
    "len(p)"
   ]
  },
  {
   "cell_type": "code",
   "execution_count": null,
   "id": "8c1f252a",
   "metadata": {},
   "outputs": [],
   "source": [
    "len(p.args)"
   ]
  },
  {
   "cell_type": "code",
   "execution_count": null,
   "id": "f88bf15c",
   "metadata": {},
   "outputs": [],
   "source": [
    "class Point:\n",
    "    \n",
    "    def __init__(self,*args):\n",
    "        \n",
    "        for val in args:\n",
    "            if not isinstance(val,(int,float)):\n",
    "                raise ValueError(\"Must be inf or float.\")\n",
    "        self._args = args\n",
    "            \n",
    "    def __repr__(self):\n",
    "        return f\"Point(cords={self._args})\"\n",
    "    \n",
    "    @property\n",
    "    def args(self):\n",
    "        return self._args\n",
    "    \n",
    "    def __len__(self):\n",
    "        return len(self._args)"
   ]
  },
  {
   "cell_type": "code",
   "execution_count": null,
   "id": "eac60bf3",
   "metadata": {},
   "outputs": [],
   "source": [
    "q=Point(2,3,4)\n",
    "q.args"
   ]
  },
  {
   "cell_type": "code",
   "execution_count": null,
   "id": "7507506f",
   "metadata": {},
   "outputs": [],
   "source": [
    "len(q)"
   ]
  },
  {
   "cell_type": "code",
   "execution_count": null,
   "id": "43cf8664",
   "metadata": {},
   "outputs": [],
   "source": [
    "q.__len__()"
   ]
  },
  {
   "cell_type": "code",
   "execution_count": null,
   "id": "1bd3f661",
   "metadata": {},
   "outputs": [],
   "source": [
    "q=Point()\n",
    "q.args"
   ]
  },
  {
   "cell_type": "code",
   "execution_count": null,
   "id": "b738937c",
   "metadata": {},
   "outputs": [],
   "source": [
    "len(q)"
   ]
  },
  {
   "cell_type": "markdown",
   "id": "0c7c2096",
   "metadata": {},
   "source": [
    "## Metoda __bool__()"
   ]
  },
  {
   "cell_type": "code",
   "execution_count": null,
   "id": "ae706c8c",
   "metadata": {},
   "outputs": [],
   "source": [
    "class Point:\n",
    "    \n",
    "    def __init__(self,*args):\n",
    "        \n",
    "        for val in args:\n",
    "            if not isinstance(val,(int,float)):\n",
    "                raise ValueError(\"Must be inf or float.\")\n",
    "        self._args = args\n",
    "            \n",
    "    def __repr__(self):\n",
    "        return f\"Point(cords={self._args})\"\n",
    "    \n",
    "    @property\n",
    "    def args(self):\n",
    "        return self._args\n",
    "    \n",
    "    def __len__(self):\n",
    "        return len(self._args)\n",
    "    \n",
    "    "
   ]
  },
  {
   "cell_type": "code",
   "execution_count": null,
   "id": "b3bc70b3",
   "metadata": {},
   "outputs": [],
   "source": [
    "p=Point()\n",
    "q=Point(1,2)\n",
    "p,q"
   ]
  },
  {
   "cell_type": "code",
   "execution_count": null,
   "id": "d6cde749",
   "metadata": {},
   "outputs": [],
   "source": [
    "bool(p),bool(q)"
   ]
  },
  {
   "cell_type": "code",
   "execution_count": null,
   "id": "e2cf1420",
   "metadata": {},
   "outputs": [],
   "source": [
    "\n",
    "class Point:\n",
    "    \n",
    "    def __init__(self,*args):\n",
    "        \n",
    "        for val in args:\n",
    "            if not isinstance(val,(int,float)):\n",
    "                raise ValueError(\"Must be inf or float.\")\n",
    "        self._args = args\n",
    "            \n",
    "    def __repr__(self):\n",
    "        return f\"Point(cords={self._args})\"\n",
    "    \n",
    "    @property\n",
    "    def args(self):\n",
    "        return self._args\n"
   ]
  },
  {
   "cell_type": "code",
   "execution_count": null,
   "id": "a34920a0",
   "metadata": {},
   "outputs": [],
   "source": [
    "p=Point()\n",
    "q=Point(4,2)\n",
    "bool(p),bool(q)"
   ]
  },
  {
   "cell_type": "code",
   "execution_count": null,
   "id": "dece2dd2",
   "metadata": {},
   "outputs": [],
   "source": [
    "class Point:\n",
    "    \n",
    "    def __init__(self,*args):\n",
    "        \n",
    "        for val in args:\n",
    "            if not isinstance(val,(int,float)):\n",
    "                raise ValueError(\"Must be inf or float.\")\n",
    "        self._args = args\n",
    "            \n",
    "    def __repr__(self):\n",
    "        return f\"Point(cords={self._args})\"\n",
    "    \n",
    "    def __bool__(self):\n",
    "        return sum(self._args) !=0\n",
    "    \n",
    "    @property\n",
    "    def args(self):\n",
    "        return self._args\n",
    "    \n",
    "    def __len__(self):\n",
    "        return len(self._args)"
   ]
  },
  {
   "cell_type": "code",
   "execution_count": null,
   "id": "340d5e03",
   "metadata": {},
   "outputs": [],
   "source": [
    "p = Point(1,2)\n",
    "bool(p)"
   ]
  },
  {
   "cell_type": "code",
   "execution_count": null,
   "id": "025ee7fa",
   "metadata": {},
   "outputs": [],
   "source": [
    "p=Point(1,2,-3)\n",
    "bool(p)"
   ]
  },
  {
   "cell_type": "code",
   "execution_count": null,
   "id": "62110e60",
   "metadata": {},
   "outputs": [],
   "source": [
    "p=Point()"
   ]
  },
  {
   "cell_type": "code",
   "execution_count": null,
   "id": "7430f366",
   "metadata": {},
   "outputs": [],
   "source": [
    "bool(p)"
   ]
  },
  {
   "cell_type": "markdown",
   "id": "c62f4a44",
   "metadata": {},
   "source": [
    "## Operatory dwuargumentowe - __add__()"
   ]
  },
  {
   "cell_type": "code",
   "execution_count": null,
   "id": "c097aaba",
   "metadata": {},
   "outputs": [],
   "source": [
    "class Point:\n",
    "    \n",
    "    def __init__(self,*args):\n",
    "        \n",
    "        for val in args:\n",
    "            if not isinstance(val,(int,float)):\n",
    "                raise ValueError(\"Must be inf or float.\")\n",
    "        self._args = args\n",
    "            \n",
    "    def __repr__(self):\n",
    "        return f\"Point(cords={self._args})\"\n",
    "\n",
    "    #def __add__()\n",
    "    \n",
    "    @property\n",
    "    def args(self):\n",
    "        return self._args\n"
   ]
  },
  {
   "cell_type": "code",
   "execution_count": null,
   "id": "eef5b1bf",
   "metadata": {},
   "outputs": [],
   "source": [
    "p1=Point(4,2)\n",
    "p2=Point(5,2)\n",
    "p1+p2"
   ]
  },
  {
   "cell_type": "code",
   "execution_count": null,
   "id": "77a27a00",
   "metadata": {},
   "outputs": [],
   "source": [
    "class Point:\n",
    "    \n",
    "    def __init__(self,*args):\n",
    "        \n",
    "        for val in args:\n",
    "            if not isinstance(val,(int,float)):\n",
    "                raise ValueError(\"Must be inf or float.\")\n",
    "        self._args = args\n",
    "            \n",
    "    def __repr__(self):\n",
    "        return f\"Point(cords={self._args})\"\n",
    "\n",
    "    def __add__(self,other):\n",
    "        args = tuple(x+y for x,y in zip(self.args, other.args))\n",
    "        return Point(*args)\n",
    "    \n",
    "    @property\n",
    "    def args(self):\n",
    "        return self._args\n"
   ]
  },
  {
   "cell_type": "code",
   "execution_count": null,
   "id": "01573c61",
   "metadata": {},
   "outputs": [],
   "source": [
    "p1=Point(4,2)\n",
    "p2=Point(5,2)\n",
    "p1+p2"
   ]
  },
  {
   "cell_type": "code",
   "execution_count": null,
   "id": "f0383236",
   "metadata": {},
   "outputs": [],
   "source": [
    "p1.__add__(p2)"
   ]
  },
  {
   "cell_type": "code",
   "execution_count": null,
   "id": "cd387b76",
   "metadata": {},
   "outputs": [],
   "source": [
    "class Point:\n",
    "    \n",
    "    def __init__(self,*args):\n",
    "        \n",
    "        for val in args:\n",
    "            if not isinstance(val,(int,float)):\n",
    "                raise ValueError(\"Must be inf or float.\")\n",
    "        self._args = args\n",
    "            \n",
    "    def __repr__(self):\n",
    "        return f\"Point(cords={self._args})\"\n",
    "\n",
    "    def __add__(self,other):\n",
    "        if not isinstance(other,Point):\n",
    "            return NotImplemented\n",
    "        args = tuple(x+y for x,y in zip(self.args, other.args))\n",
    "        return Point(*args)\n",
    "    \n",
    "    @property\n",
    "    def args(self):\n",
    "        return self._args\n"
   ]
  },
  {
   "cell_type": "code",
   "execution_count": null,
   "id": "90b6adab",
   "metadata": {},
   "outputs": [],
   "source": [
    "p1=Point(4,2)\n",
    "p2=Point(5,2)\n",
    "p1+p2"
   ]
  },
  {
   "cell_type": "code",
   "execution_count": null,
   "id": "c972775f",
   "metadata": {},
   "outputs": [],
   "source": [
    "p1+5"
   ]
  },
  {
   "cell_type": "code",
   "execution_count": null,
   "id": "622e1793",
   "metadata": {},
   "outputs": [],
   "source": [
    "p1+\"var\""
   ]
  },
  {
   "cell_type": "markdown",
   "id": "ff1fc5fb",
   "metadata": {},
   "source": [
    "## Metoda dwuargumentowa __sub__()"
   ]
  },
  {
   "cell_type": "code",
   "execution_count": null,
   "id": "3262e1d0",
   "metadata": {},
   "outputs": [],
   "source": [
    "p1-p2"
   ]
  },
  {
   "cell_type": "code",
   "execution_count": null,
   "id": "daa33b1b",
   "metadata": {},
   "outputs": [],
   "source": [
    "class Point:\n",
    "    \n",
    "    def __init__(self,*args):\n",
    "        \n",
    "        for val in args:\n",
    "            if not isinstance(val,(int,float)):\n",
    "                raise ValueError(\"Must be inf or float.\")\n",
    "        self._args = args\n",
    "            \n",
    "    def __repr__(self):\n",
    "        return f\"Point(cords={self._args})\"\n",
    "\n",
    "    def __add__(self,other):\n",
    "        if not isinstance(other,Point):\n",
    "            return NotImplemented\n",
    "        args = tuple(x+y for x,y in zip(self.args, other.args))\n",
    "        return Point(*args)\n",
    "    \n",
    "    def __sub__(self,other):\n",
    "        if not isinstance(other,Point):\n",
    "            return NotImplemented\n",
    "        args = tuple(x-y for x,y in zip(self.args, other.args))\n",
    "        return Point(*args)\n",
    "    \n",
    "    @property\n",
    "    def args(self):\n",
    "        return self._args"
   ]
  },
  {
   "cell_type": "code",
   "execution_count": null,
   "id": "05471ba1",
   "metadata": {},
   "outputs": [],
   "source": [
    "p1=Point(2,2)\n",
    "p2=Point(3,3)"
   ]
  },
  {
   "cell_type": "code",
   "execution_count": null,
   "id": "a4743f06",
   "metadata": {},
   "outputs": [],
   "source": [
    "p1-p2"
   ]
  },
  {
   "cell_type": "markdown",
   "id": "a462fe2f",
   "metadata": {},
   "source": [
    "## Operatory dwuargumentowe __mul__()"
   ]
  },
  {
   "cell_type": "code",
   "execution_count": null,
   "id": "6effa756",
   "metadata": {},
   "outputs": [],
   "source": [
    "class Point:\n",
    "    \n",
    "    def __init__(self,*args):\n",
    "        \n",
    "        for val in args:\n",
    "            if not isinstance(val,(int,float)):\n",
    "                raise ValueError(\"Must be inf or float.\")\n",
    "        self._args = args\n",
    "            \n",
    "    def __repr__(self):\n",
    "        return f\"Point(cords={self._args})\"\n",
    "\n",
    "    def __add__(self,other):\n",
    "        if not isinstance(other,Point):\n",
    "            return NotImplemented\n",
    "        args = tuple(x+y for x,y in zip(self.args, other.args))\n",
    "        return Point(*args)\n",
    "    \n",
    "    def __sub__(self,other):\n",
    "        if not isinstance(other,Point):\n",
    "            return NotImplemented\n",
    "        args = tuple(x-y for x,y in zip(self.args, other.args))\n",
    "        return Point(*args)\n",
    "    def __mul__(self,other):\n",
    "        if not isinstance(other,Point):\n",
    "            return NotImplemented\n",
    "        args = tuple(x*y for x,y in zip(self.args, other.args))\n",
    "        return Point(*args)\n",
    "    \n",
    "    @property\n",
    "    def args(self):\n",
    "        return self._args"
   ]
  },
  {
   "cell_type": "code",
   "execution_count": null,
   "id": "694d5569",
   "metadata": {},
   "outputs": [],
   "source": [
    "p1=Point(2,2)\n",
    "p2=Point(3,4)\n",
    "p1*p2"
   ]
  },
  {
   "cell_type": "markdown",
   "id": "39be2447",
   "metadata": {},
   "source": [
    "## dwuargumentowe __truediv__() i __floordiv__()"
   ]
  },
  {
   "cell_type": "code",
   "execution_count": null,
   "id": "9cf982e7",
   "metadata": {},
   "outputs": [],
   "source": [
    "class Point:\n",
    "    \n",
    "    def __init__(self,*args):\n",
    "        \n",
    "        for val in args:\n",
    "            if not isinstance(val,(int,float)):\n",
    "                raise ValueError(\"Must be inf or float.\")\n",
    "        self._args = args\n",
    "            \n",
    "    def __repr__(self):\n",
    "        return f\"Point(cords={self._args})\"\n",
    "\n",
    "    def __add__(self,other):\n",
    "        if not isinstance(other,Point):\n",
    "            return NotImplemented\n",
    "        args = tuple(x+y for x,y in zip(self.args, other.args))\n",
    "        return Point(*args)\n",
    "    \n",
    "    def __sub__(self,other):\n",
    "        if not isinstance(other,Point):\n",
    "            return NotImplemented\n",
    "        args = tuple(x-y for x,y in zip(self.args, other.args))\n",
    "        return Point(*args)\n",
    "    def __mul__(self,other):\n",
    "        if not isinstance(other,Point):\n",
    "            return NotImplemented\n",
    "        args = tuple(x*y for x,y in zip(self.args, other.args))\n",
    "        return Point(*args)\n",
    "    \n",
    "    def __truediv__(self,other):\n",
    "        if not isinstance(other,Point):\n",
    "            return NotImplemented\n",
    "        for arg in other.args:\n",
    "            if arg ==0:\n",
    "                raise ZeroDivisionError(\"Division by 0\")\n",
    "        args = tuple(x/y for x,y in zip(self.args, other.args))\n",
    "        return Point(*args)\n",
    "\n",
    "    def __floordiv__(self,other):\n",
    "        if not isinstance(other,Point):\n",
    "            return NotImplemented\n",
    "        for arg in other.args:\n",
    "            if arg ==0:\n",
    "                raise ZeroDivisionError(\"Division by 0\")\n",
    "        args = tuple(x//y for x,y in zip(self.args, other.args))\n",
    "        return Point(*args)\n",
    "    \n",
    "    @property\n",
    "    def args(self):\n",
    "        return self._args"
   ]
  },
  {
   "cell_type": "code",
   "execution_count": null,
   "id": "0e16b8c2",
   "metadata": {},
   "outputs": [],
   "source": [
    "p1=Point(2,10)\n",
    "p2=Point(1,3)\n"
   ]
  },
  {
   "cell_type": "code",
   "execution_count": null,
   "id": "f17016e9",
   "metadata": {},
   "outputs": [],
   "source": [
    "p1/p2"
   ]
  },
  {
   "cell_type": "code",
   "execution_count": null,
   "id": "015c3c4d",
   "metadata": {},
   "outputs": [],
   "source": [
    "p1//p2"
   ]
  },
  {
   "cell_type": "code",
   "execution_count": null,
   "id": "77b79405",
   "metadata": {},
   "outputs": [],
   "source": [
    "p1=(0,2)\n",
    "p2=(1,2)\n",
    "p1/p2"
   ]
  },
  {
   "cell_type": "markdown",
   "id": "110947e8",
   "metadata": {},
   "source": [
    "## Przykład"
   ]
  },
  {
   "cell_type": "code",
   "execution_count": null,
   "id": "55385066",
   "metadata": {},
   "outputs": [],
   "source": [
    "class Doc:\n",
    "    \n",
    "    def __init__(self,string):\n",
    "        self.string = string\n",
    "        \n",
    "Doc.__dict__"
   ]
  },
  {
   "cell_type": "code",
   "execution_count": null,
   "id": "1ad41ff4",
   "metadata": {},
   "outputs": [],
   "source": [
    "doc1=Doc(\"Object\")\n",
    "doc2=Doc(\"Oriented\")\n",
    "doc3=Doc(\"Programming\")"
   ]
  },
  {
   "cell_type": "code",
   "execution_count": null,
   "id": "e244f372",
   "metadata": {},
   "outputs": [],
   "source": [
    "doc1+doc2"
   ]
  },
  {
   "cell_type": "code",
   "execution_count": null,
   "id": "760b7b26",
   "metadata": {},
   "outputs": [],
   "source": [
    "class Doc:\n",
    "    \n",
    "    def __init__(self,string):\n",
    "        self.string = string\n",
    "    \n",
    "    def __repr__(self):\n",
    "        return f\"Doc(string='{self.string}')\"\n",
    "Doc.__dict__"
   ]
  },
  {
   "cell_type": "code",
   "execution_count": null,
   "id": "f900a97b",
   "metadata": {},
   "outputs": [],
   "source": [
    "doc1=Doc(\"Object\")\n",
    "doc2=Doc(\"Oriented\")\n",
    "doc3=Doc(\"Programming\")"
   ]
  },
  {
   "cell_type": "code",
   "execution_count": null,
   "id": "3d639340",
   "metadata": {},
   "outputs": [],
   "source": [
    "doc1"
   ]
  },
  {
   "cell_type": "code",
   "execution_count": null,
   "id": "5133cd50",
   "metadata": {},
   "outputs": [],
   "source": [
    "class Doc:\n",
    "    \n",
    "    def __init__(self,string):\n",
    "        self.string = string\n",
    "    \n",
    "    def __repr__(self):\n",
    "        return f\"Doc(string='{self.string}')\"\n",
    "    \n",
    "    def __str__(self):\n",
    "        return f\"{self.string}\"\n",
    "    \n",
    "    def __add__(self,other):\n",
    "        if not isinstance(other,Doc):\n",
    "            return NotImplemented\n",
    "        return Doc(self.string+ \" \" + other.string)\n",
    "    \n",
    "Doc.__dict__"
   ]
  },
  {
   "cell_type": "code",
   "execution_count": null,
   "id": "a42b2739",
   "metadata": {},
   "outputs": [],
   "source": [
    "doc1=Doc(\"Object\")\n",
    "doc2=Doc(\"Oriented\")\n",
    "doc3=Doc(\"Programming\")"
   ]
  },
  {
   "cell_type": "code",
   "execution_count": null,
   "id": "c5c76cd2",
   "metadata": {},
   "outputs": [],
   "source": [
    "doc1+doc2"
   ]
  },
  {
   "cell_type": "code",
   "execution_count": null,
   "id": "c7654f08",
   "metadata": {},
   "outputs": [],
   "source": [
    "doc1+doc2+doc3"
   ]
  },
  {
   "cell_type": "markdown",
   "id": "5583d08d",
   "metadata": {},
   "source": [
    "## Przypisanie rozszerzone"
   ]
  },
  {
   "cell_type": "code",
   "execution_count": null,
   "id": "47c40856",
   "metadata": {},
   "outputs": [],
   "source": [
    "class Doc:\n",
    "    \n",
    "    def __init__(self,string):\n",
    "        self.string = string\n",
    "    \n",
    "    def __repr__(self):\n",
    "        return f\"Doc(string='{self.string}')\"\n",
    "    \n",
    "    def __str__(self):\n",
    "        return f\"{self.string}\"\n",
    "    \n",
    "    def __add__(self,other):\n",
    "        if not isinstance(other,Doc):\n",
    "            return NotImplemented\n",
    "        return Doc(self.string+ \" \" + other.string)\n",
    "    \n",
    "Doc.__dict__"
   ]
  },
  {
   "cell_type": "code",
   "execution_count": null,
   "id": "fe5cb77c",
   "metadata": {},
   "outputs": [],
   "source": [
    "doc1=Doc(\"Object\")\n",
    "doc2=Doc(\"Oriented\")\n",
    "doc3=Doc(\"Programming\")"
   ]
  },
  {
   "cell_type": "code",
   "execution_count": null,
   "id": "53daf399",
   "metadata": {},
   "outputs": [],
   "source": [
    "doc1+=doc2"
   ]
  },
  {
   "cell_type": "code",
   "execution_count": null,
   "id": "d89c7170",
   "metadata": {},
   "outputs": [],
   "source": [
    "doc1"
   ]
  },
  {
   "cell_type": "code",
   "execution_count": null,
   "id": "c3beeaeb",
   "metadata": {},
   "outputs": [],
   "source": [
    "class Doc:\n",
    "    \n",
    "    def __init__(self,string):\n",
    "        self.string = string\n",
    "    \n",
    "    def __repr__(self):\n",
    "        return f\"Doc(string='{self.string}')\"\n",
    "    \n",
    "    def __str__(self):\n",
    "        return f\"{self.string}\"\n",
    "    \n",
    "    def __add__(self,other):\n",
    "        if not isinstance(other,Doc):\n",
    "            return NotImplemented\n",
    "        return Doc(self.string+ \" \" + other.string)\n",
    "\n",
    "    def __iadd__(self,other):\n",
    "        if not isinstance(other,Doc):\n",
    "            return NotImplemented\n",
    "        return Doc(self.string+ \"-\" + other.string)\n",
    "    \n",
    "Doc.__dict__"
   ]
  },
  {
   "cell_type": "code",
   "execution_count": null,
   "id": "c597c251",
   "metadata": {},
   "outputs": [],
   "source": [
    "doc1=Doc(\"Object\")\n",
    "doc2=Doc(\"Oriented\")\n",
    "doc3=Doc(\"Programming\")"
   ]
  },
  {
   "cell_type": "code",
   "execution_count": null,
   "id": "29d2ad29",
   "metadata": {},
   "outputs": [],
   "source": [
    "doc1"
   ]
  },
  {
   "cell_type": "code",
   "execution_count": null,
   "id": "3bd44eac",
   "metadata": {},
   "outputs": [],
   "source": [
    "doc1+=doc2"
   ]
  },
  {
   "cell_type": "code",
   "execution_count": null,
   "id": "f4a1021f",
   "metadata": {},
   "outputs": [],
   "source": [
    "doc1"
   ]
  },
  {
   "cell_type": "markdown",
   "id": "1b1b2051",
   "metadata": {},
   "source": [
    "## Operatory porównania __eq__() oraz __ne__()"
   ]
  },
  {
   "cell_type": "code",
   "execution_count": null,
   "id": "9db1c2f7",
   "metadata": {},
   "outputs": [],
   "source": [
    "help(object.__eq__)"
   ]
  },
  {
   "cell_type": "code",
   "execution_count": null,
   "id": "9174a359",
   "metadata": {},
   "outputs": [],
   "source": [
    "class Doc:\n",
    "    \n",
    "    def __init__(self,string):\n",
    "        self.string = string\n",
    "    \n",
    "    def __repr__(self):\n",
    "        return f\"Doc(string='{self.string}')\"\n",
    "    \n",
    "    def __str__(self):\n",
    "        return f\"{self.string}\"\n",
    "    \n",
    "    def __add__(self,other):\n",
    "        if not isinstance(other,Doc):\n",
    "            return NotImplemented\n",
    "        return Doc(self.string+ \" \" + other.string)\n",
    "    \n"
   ]
  },
  {
   "cell_type": "code",
   "execution_count": null,
   "id": "a91722ef",
   "metadata": {},
   "outputs": [],
   "source": [
    "doc1=\"ABC\"\n",
    "doc2=\"XYZ\"\n",
    "doc1,doc2"
   ]
  },
  {
   "cell_type": "code",
   "execution_count": null,
   "id": "d3a05d5d",
   "metadata": {},
   "outputs": [],
   "source": [
    "doc1==doc2"
   ]
  },
  {
   "cell_type": "code",
   "execution_count": null,
   "id": "bcff8d69",
   "metadata": {},
   "outputs": [],
   "source": [
    "doc1=\"ABC\"\n",
    "doc2=\"ABC\"\n",
    "doc1,doc2"
   ]
  },
  {
   "cell_type": "code",
   "execution_count": null,
   "id": "5409e5b9",
   "metadata": {},
   "outputs": [],
   "source": [
    "doc1==doc2"
   ]
  },
  {
   "cell_type": "code",
   "execution_count": null,
   "id": "6a9cbb1c",
   "metadata": {},
   "outputs": [],
   "source": [
    "id(doc1), id(doc2)"
   ]
  },
  {
   "cell_type": "code",
   "execution_count": null,
   "id": "46eaca49",
   "metadata": {},
   "outputs": [],
   "source": [
    "doc3=doc1"
   ]
  },
  {
   "cell_type": "code",
   "execution_count": null,
   "id": "5dc1e62f",
   "metadata": {},
   "outputs": [],
   "source": [
    "doc3==doc1"
   ]
  },
  {
   "cell_type": "code",
   "execution_count": null,
   "id": "e14bfa24",
   "metadata": {},
   "outputs": [],
   "source": [
    "id(doc3),id(doc1)"
   ]
  },
  {
   "cell_type": "code",
   "execution_count": 9,
   "id": "0fe14e18",
   "metadata": {},
   "outputs": [],
   "source": [
    "class Doc:\n",
    "    \n",
    "    def __init__(self,string):\n",
    "        self.string = string\n",
    "    \n",
    "    def __repr__(self):\n",
    "        return f\"Doc(string='{self.string}')\"\n",
    "    \n",
    "    def __str__(self):\n",
    "        return f\"{self.string}\"\n",
    "    \n",
    "    def __add__(self,other):\n",
    "        if not isinstance(other,Doc):\n",
    "            return NotImplemented\n",
    "        return Doc(self.string+ \" \" + other.string)\n",
    "    \n",
    "    def __eq__(self,other):\n",
    "        if not isinstance(other,Doc):\n",
    "            return False\n",
    "        return len(self.string) == len(other.string)"
   ]
  },
  {
   "cell_type": "code",
   "execution_count": 10,
   "id": "d145810f",
   "metadata": {},
   "outputs": [
    {
     "data": {
      "text/plain": [
       "(Doc(string='ABC'), Doc(string='XYZ'))"
      ]
     },
     "execution_count": 10,
     "metadata": {},
     "output_type": "execute_result"
    }
   ],
   "source": [
    "doc1=Doc(\"ABC\")\n",
    "doc2=Doc(\"XYZ\")\n",
    "doc1,doc2"
   ]
  },
  {
   "cell_type": "code",
   "execution_count": 11,
   "id": "24986a61",
   "metadata": {},
   "outputs": [
    {
     "data": {
      "text/plain": [
       "True"
      ]
     },
     "execution_count": 11,
     "metadata": {},
     "output_type": "execute_result"
    }
   ],
   "source": [
    "doc1==doc2"
   ]
  },
  {
   "cell_type": "code",
   "execution_count": 12,
   "id": "6df1bcc1",
   "metadata": {},
   "outputs": [
    {
     "data": {
      "text/plain": [
       "True"
      ]
     },
     "execution_count": 12,
     "metadata": {},
     "output_type": "execute_result"
    }
   ],
   "source": [
    "doc1.__eq__(doc2)"
   ]
  },
  {
   "cell_type": "markdown",
   "id": "56299384",
   "metadata": {},
   "source": [
    "## Metoda __lt__() oraz __le__()"
   ]
  },
  {
   "cell_type": "code",
   "execution_count": 4,
   "id": "62610929",
   "metadata": {},
   "outputs": [],
   "source": [
    "class Doc:\n",
    "    \n",
    "    def __init__(self,string):\n",
    "        self.string = string\n",
    "    \n",
    "    def __repr__(self):\n",
    "        return f\"Doc(string='{self.string}')\"\n",
    "    \n",
    "    def __str__(self):\n",
    "        return f\"{self.string}\"\n",
    "    \n",
    "    def __add__(self,other):\n",
    "        if not isinstance(other,Doc):\n",
    "            return NotImplemented\n",
    "        return Doc(self.string+ \" \" + other.string)\n",
    "    \n",
    "    def __eq__(self,other):\n",
    "        if not isinstance(other,Doc):\n",
    "            return False\n",
    "        return len(self.string) == len(other.string)\n",
    "    \n",
    "    def __lt__(self,other):\n",
    "        if not isinstance(other,Doc):\n",
    "            raise NotImplemented\n",
    "        return len(self.string) < len(other.string)\n",
    "        "
   ]
  },
  {
   "cell_type": "code",
   "execution_count": 10,
   "id": "71c05325",
   "metadata": {},
   "outputs": [
    {
     "data": {
      "text/plain": [
       "(Doc(string='ABCD'), Doc(string='XYZ'))"
      ]
     },
     "execution_count": 10,
     "metadata": {},
     "output_type": "execute_result"
    }
   ],
   "source": [
    "doc1=Doc(\"ABCD\")\n",
    "doc2=Doc(\"XYZ\")\n",
    "doc1,doc2"
   ]
  },
  {
   "cell_type": "code",
   "execution_count": 13,
   "id": "6d225000",
   "metadata": {},
   "outputs": [
    {
     "data": {
      "text/plain": [
       "False"
      ]
     },
     "execution_count": 13,
     "metadata": {},
     "output_type": "execute_result"
    }
   ],
   "source": [
    "doc1<doc2"
   ]
  },
  {
   "cell_type": "code",
   "execution_count": 14,
   "id": "2f9cadab",
   "metadata": {},
   "outputs": [
    {
     "ename": "TypeError",
     "evalue": "'<=' not supported between instances of 'Doc' and 'Doc'",
     "output_type": "error",
     "traceback": [
      "\u001b[1;31m---------------------------------------------------------------------------\u001b[0m",
      "\u001b[1;31mTypeError\u001b[0m                                 Traceback (most recent call last)",
      "\u001b[1;32m<ipython-input-14-afe6e089986d>\u001b[0m in \u001b[0;36m<module>\u001b[1;34m\u001b[0m\n\u001b[1;32m----> 1\u001b[1;33m \u001b[0mdoc1\u001b[0m\u001b[1;33m<=\u001b[0m\u001b[0mdoc2\u001b[0m\u001b[1;33m\u001b[0m\u001b[1;33m\u001b[0m\u001b[0m\n\u001b[0m",
      "\u001b[1;31mTypeError\u001b[0m: '<=' not supported between instances of 'Doc' and 'Doc'"
     ]
    }
   ],
   "source": [
    "doc1<=doc2"
   ]
  },
  {
   "cell_type": "code",
   "execution_count": 15,
   "id": "91b5f864",
   "metadata": {},
   "outputs": [],
   "source": [
    "class Doc:\n",
    "    \n",
    "    def __init__(self,string):\n",
    "        self.string = string\n",
    "    \n",
    "    def __repr__(self):\n",
    "        return f\"Doc(string='{self.string}')\"\n",
    "    \n",
    "    def __str__(self):\n",
    "        return f\"{self.string}\"\n",
    "    \n",
    "    def __add__(self,other):\n",
    "        if not isinstance(other,Doc):\n",
    "            return NotImplemented\n",
    "        return Doc(self.string+ \" \" + other.string)\n",
    "    \n",
    "    def __eq__(self,other):\n",
    "        if not isinstance(other,Doc):\n",
    "            return False\n",
    "        return len(self.string) == len(other.string)\n",
    "    \n",
    "    def __lt__(self,other):\n",
    "        if not isinstance(other,Doc):\n",
    "            raise NotImplemented\n",
    "        return len(self.string) < len(other.string)\n",
    "    \n",
    "    def __le__(self,other):\n",
    "        if not isinstance(other,Doc):\n",
    "            raise NotImplemented\n",
    "        return len(self.string) <= len(other.string)"
   ]
  },
  {
   "cell_type": "code",
   "execution_count": 16,
   "id": "829e1c8a",
   "metadata": {},
   "outputs": [
    {
     "data": {
      "text/plain": [
       "(Doc(string='ABCD'), Doc(string='XYZ'))"
      ]
     },
     "execution_count": 16,
     "metadata": {},
     "output_type": "execute_result"
    }
   ],
   "source": [
    "doc1=Doc(\"ABCD\")\n",
    "doc2=Doc(\"XYZ\")\n",
    "doc1,doc2"
   ]
  },
  {
   "cell_type": "code",
   "execution_count": 17,
   "id": "d2b62619",
   "metadata": {},
   "outputs": [
    {
     "data": {
      "text/plain": [
       "False"
      ]
     },
     "execution_count": 17,
     "metadata": {},
     "output_type": "execute_result"
    }
   ],
   "source": [
    "doc1<=doc2"
   ]
  },
  {
   "cell_type": "markdown",
   "id": "15617bd7",
   "metadata": {},
   "source": [
    "## Metoda __hash__()"
   ]
  },
  {
   "cell_type": "code",
   "execution_count": 18,
   "id": "be9323eb",
   "metadata": {},
   "outputs": [
    {
     "data": {
      "text/plain": [
       "(<__main__.Doc at 0x1226e1a8880>, <__main__.Doc at 0x1226e1a8ca0>)"
      ]
     },
     "execution_count": 18,
     "metadata": {},
     "output_type": "execute_result"
    }
   ],
   "source": [
    "class Doc:\n",
    "    pass\n",
    "\n",
    "doc1=Doc()\n",
    "doc2=Doc()\n",
    "\n",
    "doc1,doc2\n"
   ]
  },
  {
   "cell_type": "code",
   "execution_count": 19,
   "id": "bd3d21a9",
   "metadata": {},
   "outputs": [
    {
     "data": {
      "text/plain": [
       "(77961734280, 77961734346)"
      ]
     },
     "execution_count": 19,
     "metadata": {},
     "output_type": "execute_result"
    }
   ],
   "source": [
    "hash(doc1), hash(doc2)"
   ]
  },
  {
   "cell_type": "code",
   "execution_count": 20,
   "id": "a3f55d7b",
   "metadata": {},
   "outputs": [],
   "source": [
    "docs=(doc1,doc2)"
   ]
  },
  {
   "cell_type": "code",
   "execution_count": 24,
   "id": "d82678a5",
   "metadata": {},
   "outputs": [
    {
     "data": {
      "text/plain": [
       "(<__main__.Doc at 0x1226e1a8d00>,\n",
       " <__main__.Doc at 0x1226e1a8400>,\n",
       " <__main__.Doc at 0x1226e1a82e0>)"
      ]
     },
     "execution_count": 24,
     "metadata": {},
     "output_type": "execute_result"
    }
   ],
   "source": [
    "class Doc:\n",
    "    \n",
    "    def __init__(self,string):\n",
    "        self.string=string\n",
    "        \n",
    "    def __eq__(self,other):\n",
    "        return isinstance(other,Doc) and self.string == other.string\n",
    "\n",
    "doc1=Doc(\"ABC\")\n",
    "doc2=Doc(\"XYZ\")\n",
    "doc3=Doc(\"ABC\")\n",
    "\n",
    "doc1,doc2,doc3\n"
   ]
  },
  {
   "cell_type": "code",
   "execution_count": 25,
   "id": "e8c762b8",
   "metadata": {},
   "outputs": [
    {
     "ename": "TypeError",
     "evalue": "unhashable type: 'Doc'",
     "output_type": "error",
     "traceback": [
      "\u001b[1;31m---------------------------------------------------------------------------\u001b[0m",
      "\u001b[1;31mTypeError\u001b[0m                                 Traceback (most recent call last)",
      "\u001b[1;32m<ipython-input-25-689d8d417493>\u001b[0m in \u001b[0;36m<module>\u001b[1;34m\u001b[0m\n\u001b[1;32m----> 1\u001b[1;33m \u001b[0mhash\u001b[0m\u001b[1;33m(\u001b[0m\u001b[0mdoc1\u001b[0m\u001b[1;33m)\u001b[0m\u001b[1;33m\u001b[0m\u001b[1;33m\u001b[0m\u001b[0m\n\u001b[0m",
      "\u001b[1;31mTypeError\u001b[0m: unhashable type: 'Doc'"
     ]
    }
   ],
   "source": [
    "hash(doc1)"
   ]
  },
  {
   "cell_type": "code",
   "execution_count": 26,
   "id": "76978cf0",
   "metadata": {},
   "outputs": [
    {
     "ename": "TypeError",
     "evalue": "unhashable type: 'Doc'",
     "output_type": "error",
     "traceback": [
      "\u001b[1;31m---------------------------------------------------------------------------\u001b[0m",
      "\u001b[1;31mTypeError\u001b[0m                                 Traceback (most recent call last)",
      "\u001b[1;32m<ipython-input-26-4b1d731d68e8>\u001b[0m in \u001b[0;36m<module>\u001b[1;34m\u001b[0m\n\u001b[1;32m----> 1\u001b[1;33m \u001b[0mdocs\u001b[0m\u001b[1;33m=\u001b[0m\u001b[1;33m{\u001b[0m\u001b[0mdoc1\u001b[0m\u001b[1;33m,\u001b[0m\u001b[0mdoc2\u001b[0m\u001b[1;33m,\u001b[0m\u001b[0mdoc3\u001b[0m\u001b[1;33m}\u001b[0m\u001b[1;33m\u001b[0m\u001b[1;33m\u001b[0m\u001b[0m\n\u001b[0m",
      "\u001b[1;31mTypeError\u001b[0m: unhashable type: 'Doc'"
     ]
    }
   ],
   "source": [
    "docs={doc1,doc2,doc3}"
   ]
  },
  {
   "cell_type": "code",
   "execution_count": 31,
   "id": "d850cf77",
   "metadata": {},
   "outputs": [
    {
     "data": {
      "text/plain": [
       "(Doc(string='ABC'), Doc(string='XYZ'), Doc(string='ABC'))"
      ]
     },
     "execution_count": 31,
     "metadata": {},
     "output_type": "execute_result"
    }
   ],
   "source": [
    "class Doc:\n",
    "    \n",
    "    def __init__(self,string):\n",
    "        self.string=string\n",
    "    \n",
    "    def __repr__(self):\n",
    "        return f\"Doc(string='{self.string}')\"\n",
    "    \n",
    "    def __eq__(self,other):\n",
    "        return isinstance(other,Doc) and self.string == other.string\n",
    "    \n",
    "    def __hash__(self):\n",
    "        return hash(self.string)\n",
    "\n",
    "doc1=Doc(\"ABC\")\n",
    "doc2=Doc(\"XYZ\")\n",
    "doc3=Doc(\"ABC\")\n",
    "\n",
    "doc1,doc2,doc3\n"
   ]
  },
  {
   "cell_type": "code",
   "execution_count": 32,
   "id": "334a6d47",
   "metadata": {},
   "outputs": [
    {
     "data": {
      "text/plain": [
       "-3382676946571153317"
      ]
     },
     "execution_count": 32,
     "metadata": {},
     "output_type": "execute_result"
    }
   ],
   "source": [
    "hash(doc1)"
   ]
  },
  {
   "cell_type": "code",
   "execution_count": 33,
   "id": "5ebfc9f6",
   "metadata": {},
   "outputs": [],
   "source": [
    "docs={doc1,doc2,doc3}"
   ]
  },
  {
   "cell_type": "code",
   "execution_count": 34,
   "id": "caeff041",
   "metadata": {},
   "outputs": [
    {
     "data": {
      "text/plain": [
       "{Doc(string='ABC'), Doc(string='XYZ')}"
      ]
     },
     "execution_count": 34,
     "metadata": {},
     "output_type": "execute_result"
    }
   ],
   "source": [
    "docs"
   ]
  },
  {
   "cell_type": "markdown",
   "id": "c20afb24",
   "metadata": {},
   "source": [
    "## Metoda __call__()"
   ]
  },
  {
   "cell_type": "code",
   "execution_count": 47,
   "id": "5ff72b5f",
   "metadata": {},
   "outputs": [],
   "source": [
    "class Doc:\n",
    "    \n",
    "    def __init__(self,string):\n",
    "        self.string=string\n",
    "    \n",
    "    def __repr__(self):\n",
    "        return f\"Doc(string='{self.string}')\"\n",
    "    \n",
    "    def __call__(self):\n",
    "        print(f\"Wywołanie... {self}\")"
   ]
  },
  {
   "cell_type": "code",
   "execution_count": 48,
   "id": "a565284f",
   "metadata": {},
   "outputs": [
    {
     "data": {
      "text/plain": [
       "Doc(string='OOP')"
      ]
     },
     "execution_count": 48,
     "metadata": {},
     "output_type": "execute_result"
    }
   ],
   "source": [
    "doc1=Doc(\"OOP\")\n",
    "doc1"
   ]
  },
  {
   "cell_type": "code",
   "execution_count": 49,
   "id": "16fe633d",
   "metadata": {},
   "outputs": [
    {
     "name": "stdout",
     "output_type": "stream",
     "text": [
      "Wywołanie... Doc(string='OOP') \n",
      "\n"
     ]
    }
   ],
   "source": [
    "doc1()"
   ]
  },
  {
   "cell_type": "markdown",
   "id": "841ea1cf",
   "metadata": {},
   "source": [
    "## Zadanie"
   ]
  },
  {
   "cell_type": "markdown",
   "id": "ae042b50",
   "metadata": {},
   "source": [
    "### Zbuduj klasę o nazwie Integer, która imitować będzie liczbę całkowitą. Należy zaimplementować:\n",
    "#### Metodę __init__ (jeśli nie przekażemy argumentu ma ustawić na 0,\n",
    "#### metodę __str__, nieformalna reprezentacja obiektu\n",
    "#### metoda __repr__, formalna reprezentacja\n",
    "#### metoda__add__(), pozwala na dodawanie obiektów klasy\n",
    "#### metoda __sub__(), pozwala na odejmowanie obiektów klasy"
   ]
  },
  {
   "cell_type": "code",
   "execution_count": 90,
   "id": "0230b252",
   "metadata": {},
   "outputs": [],
   "source": [
    "class Integer:\n",
    "    \n",
    "    def __init__(self,val=0):\n",
    "        self.val=int(val)\n",
    "    \n",
    "    def __str__(self):\n",
    "        return f\"Nieformalna reprezentacja obiektu = {self.val}\"\n",
    "    \n",
    "    def __repr__(self):\n",
    "        return f\"Integer={self.val} Reprezentacja formalna\"\n",
    "    \n",
    "    def __add__(self,other):\n",
    "        if not isinstance(other,Integer):\n",
    "            raise NotImplemented\n",
    "        return Integer(self.val+other.val)\n",
    "    \n",
    "    def __sub__(self,other):\n",
    "        if not isinstance(other,Integer):\n",
    "            raise NotImplemented\n",
    "        return Integer(self.val-other.val)"
   ]
  },
  {
   "cell_type": "code",
   "execution_count": 91,
   "id": "dce4ba98",
   "metadata": {},
   "outputs": [
    {
     "data": {
      "text/plain": [
       "(Integer=5 Reprezentacja formalna,\n",
       " Integer=2 Reprezentacja formalna,\n",
       " Integer=0 Reprezentacja formalna)"
      ]
     },
     "execution_count": 91,
     "metadata": {},
     "output_type": "execute_result"
    }
   ],
   "source": [
    "int1=Integer(5)\n",
    "int2=Integer(2)\n",
    "int3=Integer()\n",
    "int1,int2,int3"
   ]
  },
  {
   "cell_type": "code",
   "execution_count": 92,
   "id": "79ef5fe9",
   "metadata": {},
   "outputs": [
    {
     "data": {
      "text/plain": [
       "('Nieformalna reprezentacja obiektu = 5',\n",
       " 'Nieformalna reprezentacja obiektu = 2',\n",
       " 'Integer=0 Reprezentacja formalna')"
      ]
     },
     "execution_count": 92,
     "metadata": {},
     "output_type": "execute_result"
    }
   ],
   "source": [
    "str(int1), str(int2), repr(int3)"
   ]
  },
  {
   "cell_type": "code",
   "execution_count": 93,
   "id": "9a932456",
   "metadata": {},
   "outputs": [
    {
     "data": {
      "text/plain": [
       "Integer=7 Reprezentacja formalna"
      ]
     },
     "execution_count": 93,
     "metadata": {},
     "output_type": "execute_result"
    }
   ],
   "source": [
    "int1+int2"
   ]
  },
  {
   "cell_type": "code",
   "execution_count": 94,
   "id": "4b0262e9",
   "metadata": {},
   "outputs": [
    {
     "data": {
      "text/plain": [
       "Integer=-3 Reprezentacja formalna"
      ]
     },
     "execution_count": 94,
     "metadata": {},
     "output_type": "execute_result"
    }
   ],
   "source": [
    "int2-int1"
   ]
  },
  {
   "cell_type": "code",
   "execution_count": 95,
   "id": "f9ec1135",
   "metadata": {},
   "outputs": [
    {
     "data": {
      "text/plain": [
       "Integer=7 Reprezentacja formalna"
      ]
     },
     "execution_count": 95,
     "metadata": {},
     "output_type": "execute_result"
    }
   ],
   "source": [
    "int1+int2+int3"
   ]
  },
  {
   "cell_type": "code",
   "execution_count": null,
   "id": "9558321e",
   "metadata": {},
   "outputs": [],
   "source": []
  }
 ],
 "metadata": {
  "kernelspec": {
   "display_name": "Python 3",
   "language": "python",
   "name": "python3"
  },
  "language_info": {
   "codemirror_mode": {
    "name": "ipython",
    "version": 3
   },
   "file_extension": ".py",
   "mimetype": "text/x-python",
   "name": "python",
   "nbconvert_exporter": "python",
   "pygments_lexer": "ipython3",
   "version": "3.8.10"
  }
 },
 "nbformat": 4,
 "nbformat_minor": 5
}
