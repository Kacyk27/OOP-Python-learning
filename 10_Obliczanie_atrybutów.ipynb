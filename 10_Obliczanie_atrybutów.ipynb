{
 "cells": [
  {
   "cell_type": "markdown",
   "id": "66cc84b4",
   "metadata": {},
   "source": [
    "## Obliczanie atrybutów"
   ]
  },
  {
   "cell_type": "code",
   "execution_count": 1,
   "id": "2e6be9b9",
   "metadata": {},
   "outputs": [],
   "source": [
    "class Model:\n",
    "    \n",
    "    def __init__(self,y_true,y_pred):\n",
    "        self.y_true = y_true\n",
    "        self.y_pred = y_pred\n",
    "        \n",
    "    def accuracy_score(self):\n",
    "        print(\"Calculating...\")\n",
    "        self.accuracy = sum([i==j for i,j in zip (self.y_true, self.y_pred)])/len(self.y_true)\n",
    "        print(f\"Model accuracy: {self.accuracy:.4f}\")\n",
    "        \n",
    "model=Model([0,0,1,0,0,1,0],[0,0,1,0,0,0,0])"
   ]
  },
  {
   "cell_type": "code",
   "execution_count": 2,
   "id": "d0eea472",
   "metadata": {},
   "outputs": [
    {
     "data": {
      "text/plain": [
       "{'y_true': [0, 0, 1, 0, 0, 1, 0], 'y_pred': [0, 0, 1, 0, 0, 0, 0]}"
      ]
     },
     "execution_count": 2,
     "metadata": {},
     "output_type": "execute_result"
    }
   ],
   "source": [
    "model.__dict__"
   ]
  },
  {
   "cell_type": "code",
   "execution_count": 3,
   "id": "ccde42fd",
   "metadata": {},
   "outputs": [
    {
     "name": "stdout",
     "output_type": "stream",
     "text": [
      "Calculating...\n",
      "Model accuracy: 0.8571\n"
     ]
    }
   ],
   "source": [
    "model.accuracy_score()"
   ]
  },
  {
   "cell_type": "code",
   "execution_count": 4,
   "id": "d43599b5",
   "metadata": {},
   "outputs": [
    {
     "data": {
      "text/plain": [
       "{'y_true': [0, 0, 1, 0, 0, 1, 0],\n",
       " 'y_pred': [0, 0, 1, 0, 0, 0, 0],\n",
       " 'accuracy': 0.8571428571428571}"
      ]
     },
     "execution_count": 4,
     "metadata": {},
     "output_type": "execute_result"
    }
   ],
   "source": [
    "model.__dict__"
   ]
  },
  {
   "cell_type": "code",
   "execution_count": 5,
   "id": "72a17af2",
   "metadata": {},
   "outputs": [],
   "source": [
    "model.accuracy = 0.1"
   ]
  },
  {
   "cell_type": "code",
   "execution_count": 6,
   "id": "f314b35d",
   "metadata": {},
   "outputs": [
    {
     "data": {
      "text/plain": [
       "0.1"
      ]
     },
     "execution_count": 6,
     "metadata": {},
     "output_type": "execute_result"
    }
   ],
   "source": [
    "model.accuracy"
   ]
  },
  {
   "cell_type": "code",
   "execution_count": 7,
   "id": "fdd1e9cb",
   "metadata": {},
   "outputs": [],
   "source": [
    "model.accuracy=\"java\""
   ]
  },
  {
   "cell_type": "code",
   "execution_count": 8,
   "id": "3a3fcdd8",
   "metadata": {},
   "outputs": [
    {
     "data": {
      "text/plain": [
       "'java'"
      ]
     },
     "execution_count": 8,
     "metadata": {},
     "output_type": "execute_result"
    }
   ],
   "source": [
    "model.accuracy"
   ]
  },
  {
   "cell_type": "code",
   "execution_count": 9,
   "id": "a122ca89",
   "metadata": {},
   "outputs": [],
   "source": [
    "class Model:\n",
    "    \n",
    "    def __init__(self,y_true,y_pred):\n",
    "        self.y_true = y_true\n",
    "        self.y_pred = y_pred\n",
    "    \n",
    "    @property\n",
    "    def accuracy(self):\n",
    "        print(\"Calculating...\")\n",
    "        self._accuracy = sum([i==j for i,j in zip (self.y_true, self.y_pred)])/len(self.y_true)\n",
    "        print(f\"Model accuracy: {self._accuracy:.4f}\")\n",
    "        \n",
    "model=Model([0,0,1,0,0,1,0],[0,0,1,0,0,0,0])"
   ]
  },
  {
   "cell_type": "code",
   "execution_count": 10,
   "id": "9c2307ee",
   "metadata": {},
   "outputs": [
    {
     "name": "stdout",
     "output_type": "stream",
     "text": [
      "Calculating...\n",
      "Model accuracy: 0.8571\n"
     ]
    }
   ],
   "source": [
    "model.accuracy"
   ]
  },
  {
   "cell_type": "code",
   "execution_count": 11,
   "id": "77360b66",
   "metadata": {},
   "outputs": [
    {
     "data": {
      "text/plain": [
       "{'y_true': [0, 0, 1, 0, 0, 1, 0],\n",
       " 'y_pred': [0, 0, 1, 0, 0, 0, 0],\n",
       " '_accuracy': 0.8571428571428571}"
      ]
     },
     "execution_count": 11,
     "metadata": {},
     "output_type": "execute_result"
    }
   ],
   "source": [
    "model.__dict__"
   ]
  },
  {
   "cell_type": "code",
   "execution_count": 12,
   "id": "49557c7e",
   "metadata": {},
   "outputs": [
    {
     "name": "stdout",
     "output_type": "stream",
     "text": [
      "Calculating...\n",
      "Model accuracy: 0.8571\n"
     ]
    }
   ],
   "source": [
    "model.accuracy"
   ]
  },
  {
   "cell_type": "code",
   "execution_count": 13,
   "id": "93cb18e9",
   "metadata": {},
   "outputs": [
    {
     "ename": "AttributeError",
     "evalue": "can't set attribute",
     "output_type": "error",
     "traceback": [
      "\u001b[1;31m---------------------------------------------------------------------------\u001b[0m",
      "\u001b[1;31mAttributeError\u001b[0m                            Traceback (most recent call last)",
      "\u001b[1;32m<ipython-input-13-8616386efc72>\u001b[0m in \u001b[0;36m<module>\u001b[1;34m\u001b[0m\n\u001b[1;32m----> 1\u001b[1;33m \u001b[0mmodel\u001b[0m\u001b[1;33m.\u001b[0m\u001b[0maccuracy\u001b[0m\u001b[1;33m=\u001b[0m\u001b[1;34m\"java\"\u001b[0m\u001b[1;33m\u001b[0m\u001b[1;33m\u001b[0m\u001b[0m\n\u001b[0m",
      "\u001b[1;31mAttributeError\u001b[0m: can't set attribute"
     ]
    }
   ],
   "source": [
    "model.accuracy=\"java\""
   ]
  },
  {
   "cell_type": "code",
   "execution_count": 14,
   "id": "cc564c74",
   "metadata": {},
   "outputs": [
    {
     "ename": "AttributeError",
     "evalue": "can't set attribute",
     "output_type": "error",
     "traceback": [
      "\u001b[1;31m---------------------------------------------------------------------------\u001b[0m",
      "\u001b[1;31mAttributeError\u001b[0m                            Traceback (most recent call last)",
      "\u001b[1;32m<ipython-input-14-017e803c8a1c>\u001b[0m in \u001b[0;36m<module>\u001b[1;34m\u001b[0m\n\u001b[1;32m----> 1\u001b[1;33m \u001b[0mmodel\u001b[0m\u001b[1;33m.\u001b[0m\u001b[0maccuracy\u001b[0m\u001b[1;33m=\u001b[0m\u001b[1;36m0.5\u001b[0m\u001b[1;33m\u001b[0m\u001b[1;33m\u001b[0m\u001b[0m\n\u001b[0m",
      "\u001b[1;31mAttributeError\u001b[0m: can't set attribute"
     ]
    }
   ],
   "source": [
    "model.accuracy=0.5"
   ]
  },
  {
   "cell_type": "code",
   "execution_count": 15,
   "id": "88897049",
   "metadata": {},
   "outputs": [
    {
     "ename": "AttributeError",
     "evalue": "can't delete attribute",
     "output_type": "error",
     "traceback": [
      "\u001b[1;31m---------------------------------------------------------------------------\u001b[0m",
      "\u001b[1;31mAttributeError\u001b[0m                            Traceback (most recent call last)",
      "\u001b[1;32m<ipython-input-15-c134f8e4f243>\u001b[0m in \u001b[0;36m<module>\u001b[1;34m\u001b[0m\n\u001b[1;32m----> 1\u001b[1;33m \u001b[1;32mdel\u001b[0m \u001b[0mmodel\u001b[0m\u001b[1;33m.\u001b[0m\u001b[0maccuracy\u001b[0m\u001b[1;33m\u001b[0m\u001b[1;33m\u001b[0m\u001b[0m\n\u001b[0m",
      "\u001b[1;31mAttributeError\u001b[0m: can't delete attribute"
     ]
    }
   ],
   "source": [
    "del model.accuracy"
   ]
  },
  {
   "cell_type": "code",
   "execution_count": 3,
   "id": "8f455cc9",
   "metadata": {},
   "outputs": [],
   "source": [
    "class Model:\n",
    "    \n",
    "    def __init__(self,y_true,y_pred):\n",
    "        self.y_true = y_true\n",
    "        self.y_pred = y_pred\n",
    "        self._accuracy = None\n",
    "    \n",
    "    @property\n",
    "    def accuracy(self):\n",
    "        if not self._accuracy:\n",
    "            print(\"Calculating...\")\n",
    "            self._accuracy = sum([i==j for i,j in zip (self.y_true, self.y_pred)])/len(self.y_true)\n",
    "        print(f\"Model accuracy: {self._accuracy:.4f}\")\n",
    "        \n",
    "model=Model([0,0,1,0,0,1,0],[0,0,1,0,0,0,0])"
   ]
  },
  {
   "cell_type": "code",
   "execution_count": 4,
   "id": "4166552e",
   "metadata": {},
   "outputs": [
    {
     "data": {
      "text/plain": [
       "{'y_true': [0, 0, 1, 0, 0, 1, 0],\n",
       " 'y_pred': [0, 0, 1, 0, 0, 0, 0],\n",
       " '_accuracy': None}"
      ]
     },
     "execution_count": 4,
     "metadata": {},
     "output_type": "execute_result"
    }
   ],
   "source": [
    "model.__dict__"
   ]
  },
  {
   "cell_type": "code",
   "execution_count": 5,
   "id": "1977df05",
   "metadata": {},
   "outputs": [
    {
     "name": "stdout",
     "output_type": "stream",
     "text": [
      "Calculating...\n",
      "Model accuracy: 0.8571\n"
     ]
    }
   ],
   "source": [
    "model.accuracy"
   ]
  },
  {
   "cell_type": "code",
   "execution_count": 6,
   "id": "77a7bb57",
   "metadata": {},
   "outputs": [
    {
     "data": {
      "text/plain": [
       "[0, 0, 1, 0, 0, 1, 0]"
      ]
     },
     "execution_count": 6,
     "metadata": {},
     "output_type": "execute_result"
    }
   ],
   "source": [
    "model.y_true"
   ]
  },
  {
   "cell_type": "code",
   "execution_count": 7,
   "id": "c4f5dd1f",
   "metadata": {},
   "outputs": [],
   "source": [
    "model.y_true = [0, 0, 1, 0, 0, 1, 1]"
   ]
  },
  {
   "cell_type": "code",
   "execution_count": 8,
   "id": "71ff05e7",
   "metadata": {},
   "outputs": [
    {
     "data": {
      "text/plain": [
       "[0, 0, 1, 0, 0, 1, 1]"
      ]
     },
     "execution_count": 8,
     "metadata": {},
     "output_type": "execute_result"
    }
   ],
   "source": [
    "model.y_true"
   ]
  },
  {
   "cell_type": "code",
   "execution_count": 9,
   "id": "9d981f67",
   "metadata": {},
   "outputs": [
    {
     "name": "stdout",
     "output_type": "stream",
     "text": [
      "Model accuracy: 0.8571\n"
     ]
    }
   ],
   "source": [
    "model.accuracy"
   ]
  },
  {
   "cell_type": "markdown",
   "id": "51a6fbb0",
   "metadata": {},
   "source": [
    "## cd"
   ]
  },
  {
   "cell_type": "code",
   "execution_count": 8,
   "id": "6688ace4",
   "metadata": {},
   "outputs": [],
   "source": [
    "class Model:\n",
    "    \n",
    "    def __init__(self,y_true,y_pred):\n",
    "        self._y_true = y_true\n",
    "        self._y_pred = y_pred\n",
    "        self._accuracy = None\n",
    "    @property\n",
    "    def y_true(self):\n",
    "        return self._y_true\n",
    "    \n",
    "    @y_true.setter\n",
    "    def y_true(self,value):\n",
    "        self._y_true = value\n",
    "        self._accuracy = None\n",
    "        \n",
    "    @property\n",
    "    def y_pred(self):\n",
    "        return self._y_pred\n",
    "    \n",
    "    @y_pred.setter\n",
    "    def y_pred(self,value):\n",
    "        self._y_pred = value\n",
    "        self._accuracy = None\n",
    "    \n",
    "    \n",
    "    @property\n",
    "    def accuracy(self):\n",
    "        if not self._accuracy or self._accuracy==None:\n",
    "            print(\"Calculating...\")\n",
    "            self._accuracy = sum([i==j for i,j in zip (self.y_true, self.y_pred)])/len(self.y_true)\n",
    "        print(f\"Model accuracy: {self._accuracy:.4f}\")\n",
    "        \n",
    "model=Model([0,0,1,0,0,1,0],[0,0,1,0,0,0,0])"
   ]
  },
  {
   "cell_type": "code",
   "execution_count": 9,
   "id": "1d42911a",
   "metadata": {},
   "outputs": [
    {
     "name": "stdout",
     "output_type": "stream",
     "text": [
      "Calculating...\n",
      "Model accuracy: 0.8571\n"
     ]
    }
   ],
   "source": [
    "model.accuracy"
   ]
  },
  {
   "cell_type": "code",
   "execution_count": 10,
   "id": "4bae9ef5",
   "metadata": {},
   "outputs": [
    {
     "data": {
      "text/plain": [
       "[0, 0, 1, 0, 0, 1, 0]"
      ]
     },
     "execution_count": 10,
     "metadata": {},
     "output_type": "execute_result"
    }
   ],
   "source": [
    "model.y_true"
   ]
  },
  {
   "cell_type": "code",
   "execution_count": 11,
   "id": "538f9eaf",
   "metadata": {},
   "outputs": [],
   "source": [
    "model.y_true=[0, 0, 1, 0, 0, 1, 1]"
   ]
  },
  {
   "cell_type": "code",
   "execution_count": 12,
   "id": "8c2320f9",
   "metadata": {},
   "outputs": [
    {
     "name": "stdout",
     "output_type": "stream",
     "text": [
      "Calculating...\n",
      "Model accuracy: 0.7143\n"
     ]
    }
   ],
   "source": [
    "model.accuracy"
   ]
  },
  {
   "cell_type": "code",
   "execution_count": 13,
   "id": "b17132c7",
   "metadata": {},
   "outputs": [],
   "source": [
    "model.y_true=[0, 0, 1, 0, 0, 1, 1]"
   ]
  },
  {
   "cell_type": "code",
   "execution_count": 14,
   "id": "78ac6570",
   "metadata": {},
   "outputs": [
    {
     "data": {
      "text/plain": [
       "{'_y_true': [0, 0, 1, 0, 0, 1, 1],\n",
       " '_y_pred': [0, 0, 1, 0, 0, 0, 0],\n",
       " '_accuracy': None}"
      ]
     },
     "execution_count": 14,
     "metadata": {},
     "output_type": "execute_result"
    }
   ],
   "source": [
    "model.__dict__"
   ]
  },
  {
   "cell_type": "code",
   "execution_count": 15,
   "id": "91fc6af2",
   "metadata": {},
   "outputs": [
    {
     "name": "stdout",
     "output_type": "stream",
     "text": [
      "Model accuracy: 0.7143\n"
     ]
    }
   ],
   "source": [
    "model.accuracy"
   ]
  },
  {
   "cell_type": "code",
   "execution_count": 23,
   "id": "b4ec2a7d",
   "metadata": {},
   "outputs": [],
   "source": [
    "model.y_true=[1, 1, 1, 1, 1, 1, 1]"
   ]
  },
  {
   "cell_type": "code",
   "execution_count": 24,
   "id": "bb8eb934",
   "metadata": {},
   "outputs": [
    {
     "data": {
      "text/plain": [
       "{'_y_true': [1, 1, 1, 1, 1, 1, 1],\n",
       " '_y_pred': [0, 0, 1, 0, 0, 0, 0],\n",
       " '_accuracy': None}"
      ]
     },
     "execution_count": 24,
     "metadata": {},
     "output_type": "execute_result"
    }
   ],
   "source": [
    "model.__dict__"
   ]
  },
  {
   "cell_type": "code",
   "execution_count": 25,
   "id": "63aaaf48",
   "metadata": {},
   "outputs": [
    {
     "name": "stdout",
     "output_type": "stream",
     "text": [
      "Calculating...\n",
      "Model accuracy: 0.1429\n"
     ]
    }
   ],
   "source": [
    "model.accuracy"
   ]
  },
  {
   "cell_type": "code",
   "execution_count": 26,
   "id": "edd2e5ef",
   "metadata": {},
   "outputs": [
    {
     "name": "stdout",
     "output_type": "stream",
     "text": [
      "Model accuracy: 0.1429\n"
     ]
    }
   ],
   "source": [
    "model.accuracy"
   ]
  },
  {
   "cell_type": "code",
   "execution_count": 27,
   "id": "2664b05d",
   "metadata": {},
   "outputs": [],
   "source": [
    "model.y_true=[0, 0, 1, 0, 0, 1, 1]"
   ]
  },
  {
   "cell_type": "code",
   "execution_count": 28,
   "id": "47764a35",
   "metadata": {},
   "outputs": [
    {
     "name": "stdout",
     "output_type": "stream",
     "text": [
      "Calculating...\n",
      "Model accuracy: 0.7143\n"
     ]
    }
   ],
   "source": [
    "model.accuracy"
   ]
  },
  {
   "cell_type": "code",
   "execution_count": 29,
   "id": "57ce3a32",
   "metadata": {},
   "outputs": [
    {
     "ename": "AttributeError",
     "evalue": "can't delete attribute",
     "output_type": "error",
     "traceback": [
      "\u001b[1;31m---------------------------------------------------------------------------\u001b[0m",
      "\u001b[1;31mAttributeError\u001b[0m                            Traceback (most recent call last)",
      "\u001b[1;32m<ipython-input-29-c134f8e4f243>\u001b[0m in \u001b[0;36m<module>\u001b[1;34m\u001b[0m\n\u001b[1;32m----> 1\u001b[1;33m \u001b[1;32mdel\u001b[0m \u001b[0mmodel\u001b[0m\u001b[1;33m.\u001b[0m\u001b[0maccuracy\u001b[0m\u001b[1;33m\u001b[0m\u001b[1;33m\u001b[0m\u001b[0m\n\u001b[0m",
      "\u001b[1;31mAttributeError\u001b[0m: can't delete attribute"
     ]
    }
   ],
   "source": [
    "del model.accuracy"
   ]
  },
  {
   "cell_type": "markdown",
   "id": "76bde08a",
   "metadata": {},
   "source": [
    "## cd"
   ]
  },
  {
   "cell_type": "code",
   "execution_count": 1,
   "id": "e0bf1370",
   "metadata": {},
   "outputs": [],
   "source": [
    "class Model:\n",
    "    \n",
    "    def __init__(self,y_true,y_pred):\n",
    "        self._y_true = y_true\n",
    "        self._y_pred = y_pred\n",
    "        self._accuracy = None\n",
    "    @property\n",
    "    def y_true(self):\n",
    "        return self._y_true\n",
    "    \n",
    "    @y_true.setter\n",
    "    def y_true(self,value):\n",
    "        self._y_true = value\n",
    "        self._accuracy = None\n",
    "        \n",
    "    @property\n",
    "    def y_pred(self):\n",
    "        return self._y_pred\n",
    "    \n",
    "    @y_pred.setter\n",
    "    def y_pred(self,value):\n",
    "        self._y_pred = value\n",
    "        self._accuracy = None\n",
    "    \n",
    "    \n",
    "    @property\n",
    "    def accuracy(self):\n",
    "        if not self._accuracy or self._accuracy==None:\n",
    "            print(\"Calculating...\")\n",
    "            self._accuracy = sum([i==j for i,j in zip (self.y_true, self.y_pred)])/len(self.y_true)\n",
    "        print(f\"Model accuracy: {self._accuracy:.4f}\")\n",
    "        \n",
    "model=Model([0,0,1,0,0,1,0],[0,0,1,0,0,0,0])"
   ]
  },
  {
   "cell_type": "code",
   "execution_count": 2,
   "id": "d35e78c3",
   "metadata": {},
   "outputs": [],
   "source": [
    "model.y_true = \"undefined\""
   ]
  },
  {
   "cell_type": "code",
   "execution_count": 3,
   "id": "ce05cf9a",
   "metadata": {},
   "outputs": [
    {
     "name": "stdout",
     "output_type": "stream",
     "text": [
      "Calculating...\n",
      "Model accuracy: 0.0000\n"
     ]
    }
   ],
   "source": [
    "model.accuracy"
   ]
  },
  {
   "cell_type": "code",
   "execution_count": 4,
   "id": "c1594fe5",
   "metadata": {},
   "outputs": [],
   "source": [
    "model.y_true=False"
   ]
  },
  {
   "cell_type": "code",
   "execution_count": 5,
   "id": "3048929a",
   "metadata": {},
   "outputs": [
    {
     "name": "stdout",
     "output_type": "stream",
     "text": [
      "Calculating...\n"
     ]
    },
    {
     "ename": "TypeError",
     "evalue": "'bool' object is not iterable",
     "output_type": "error",
     "traceback": [
      "\u001b[1;31m---------------------------------------------------------------------------\u001b[0m",
      "\u001b[1;31mTypeError\u001b[0m                                 Traceback (most recent call last)",
      "\u001b[1;32m<ipython-input-5-d93619ecb152>\u001b[0m in \u001b[0;36m<module>\u001b[1;34m\u001b[0m\n\u001b[1;32m----> 1\u001b[1;33m \u001b[0mmodel\u001b[0m\u001b[1;33m.\u001b[0m\u001b[0maccuracy\u001b[0m\u001b[1;33m\u001b[0m\u001b[1;33m\u001b[0m\u001b[0m\n\u001b[0m",
      "\u001b[1;32m<ipython-input-1-e971f95445ca>\u001b[0m in \u001b[0;36maccuracy\u001b[1;34m(self)\u001b[0m\n\u001b[0;32m     28\u001b[0m         \u001b[1;32mif\u001b[0m \u001b[1;32mnot\u001b[0m \u001b[0mself\u001b[0m\u001b[1;33m.\u001b[0m\u001b[0m_accuracy\u001b[0m \u001b[1;32mor\u001b[0m \u001b[0mself\u001b[0m\u001b[1;33m.\u001b[0m\u001b[0m_accuracy\u001b[0m\u001b[1;33m==\u001b[0m\u001b[1;32mNone\u001b[0m\u001b[1;33m:\u001b[0m\u001b[1;33m\u001b[0m\u001b[1;33m\u001b[0m\u001b[0m\n\u001b[0;32m     29\u001b[0m             \u001b[0mprint\u001b[0m\u001b[1;33m(\u001b[0m\u001b[1;34m\"Calculating...\"\u001b[0m\u001b[1;33m)\u001b[0m\u001b[1;33m\u001b[0m\u001b[1;33m\u001b[0m\u001b[0m\n\u001b[1;32m---> 30\u001b[1;33m             \u001b[0mself\u001b[0m\u001b[1;33m.\u001b[0m\u001b[0m_accuracy\u001b[0m \u001b[1;33m=\u001b[0m \u001b[0msum\u001b[0m\u001b[1;33m(\u001b[0m\u001b[1;33m[\u001b[0m\u001b[0mi\u001b[0m\u001b[1;33m==\u001b[0m\u001b[0mj\u001b[0m \u001b[1;32mfor\u001b[0m \u001b[0mi\u001b[0m\u001b[1;33m,\u001b[0m\u001b[0mj\u001b[0m \u001b[1;32min\u001b[0m \u001b[0mzip\u001b[0m \u001b[1;33m(\u001b[0m\u001b[0mself\u001b[0m\u001b[1;33m.\u001b[0m\u001b[0my_true\u001b[0m\u001b[1;33m,\u001b[0m \u001b[0mself\u001b[0m\u001b[1;33m.\u001b[0m\u001b[0my_pred\u001b[0m\u001b[1;33m)\u001b[0m\u001b[1;33m]\u001b[0m\u001b[1;33m)\u001b[0m\u001b[1;33m/\u001b[0m\u001b[0mlen\u001b[0m\u001b[1;33m(\u001b[0m\u001b[0mself\u001b[0m\u001b[1;33m.\u001b[0m\u001b[0my_true\u001b[0m\u001b[1;33m)\u001b[0m\u001b[1;33m\u001b[0m\u001b[1;33m\u001b[0m\u001b[0m\n\u001b[0m\u001b[0;32m     31\u001b[0m         \u001b[0mprint\u001b[0m\u001b[1;33m(\u001b[0m\u001b[1;34mf\"Model accuracy: {self._accuracy:.4f}\"\u001b[0m\u001b[1;33m)\u001b[0m\u001b[1;33m\u001b[0m\u001b[1;33m\u001b[0m\u001b[0m\n\u001b[0;32m     32\u001b[0m \u001b[1;33m\u001b[0m\u001b[0m\n",
      "\u001b[1;31mTypeError\u001b[0m: 'bool' object is not iterable"
     ]
    }
   ],
   "source": [
    "model.accuracy"
   ]
  },
  {
   "cell_type": "code",
   "execution_count": 6,
   "id": "41194b5c",
   "metadata": {},
   "outputs": [],
   "source": [
    "class Model:\n",
    "    \n",
    "    def __init__(self,y_true,y_pred):\n",
    "        \n",
    "        if not isinstance(y_true,(list,tuple)):\n",
    "            raise TypeError(\"Must be list/tuple\")\n",
    "        \n",
    "\n",
    "        if not isinstance(y_pred,(list,tuple)):\n",
    "            raise TypeError(\"Must be list/tuple\")\n",
    "        \n",
    "        if not len(y_true) == len(y_pred):\n",
    "            raise ValueError(\"Must be same length\")\n",
    "        \n",
    "        self._y_true = y_true\n",
    "        self._y_pred = y_pred\n",
    "        self._accuracy = None\n",
    "    @property\n",
    "    def y_true(self):\n",
    "        return self._y_true\n",
    "    \n",
    "    @y_true.setter\n",
    "    def y_true(self,value):\n",
    "        self._y_true = value\n",
    "        self._accuracy = None\n",
    "        \n",
    "    @property\n",
    "    def y_pred(self):\n",
    "        return self._y_pred\n",
    "    \n",
    "    @y_pred.setter\n",
    "    def y_pred(self,value):\n",
    "        self._y_pred = value\n",
    "        self._accuracy = None\n",
    "    \n",
    "    \n",
    "    @property\n",
    "    def accuracy(self):\n",
    "        if not self._accuracy or self._accuracy==None:\n",
    "            print(\"Calculating...\")\n",
    "            self._accuracy = sum([i==j for i,j in zip (self.y_true, self.y_pred)])/len(self.y_true)\n",
    "        print(f\"Model accuracy: {self._accuracy:.4f}\")\n",
    "        \n",
    "model=Model([0,0,1,0,0,1,0],[0,0,1,0,0,0,0])"
   ]
  },
  {
   "cell_type": "code",
   "execution_count": 7,
   "id": "8f6a582c",
   "metadata": {},
   "outputs": [
    {
     "ename": "TypeError",
     "evalue": "Must be list/tuple",
     "output_type": "error",
     "traceback": [
      "\u001b[1;31m---------------------------------------------------------------------------\u001b[0m",
      "\u001b[1;31mTypeError\u001b[0m                                 Traceback (most recent call last)",
      "\u001b[1;32m<ipython-input-7-dddbe9b4e4c3>\u001b[0m in \u001b[0;36m<module>\u001b[1;34m\u001b[0m\n\u001b[1;32m----> 1\u001b[1;33m \u001b[0mmodel1\u001b[0m\u001b[1;33m=\u001b[0m\u001b[0mModel\u001b[0m\u001b[1;33m(\u001b[0m\u001b[1;34m\"var1\"\u001b[0m\u001b[1;33m,\u001b[0m\u001b[1;34m\"var2\"\u001b[0m\u001b[1;33m)\u001b[0m\u001b[1;33m\u001b[0m\u001b[1;33m\u001b[0m\u001b[0m\n\u001b[0m",
      "\u001b[1;32m<ipython-input-6-c1693272a1c6>\u001b[0m in \u001b[0;36m__init__\u001b[1;34m(self, y_true, y_pred)\u001b[0m\n\u001b[0;32m      4\u001b[0m \u001b[1;33m\u001b[0m\u001b[0m\n\u001b[0;32m      5\u001b[0m         \u001b[1;32mif\u001b[0m \u001b[1;32mnot\u001b[0m \u001b[0misinstance\u001b[0m\u001b[1;33m(\u001b[0m\u001b[0my_true\u001b[0m\u001b[1;33m,\u001b[0m\u001b[1;33m(\u001b[0m\u001b[0mlist\u001b[0m\u001b[1;33m,\u001b[0m\u001b[0mtuple\u001b[0m\u001b[1;33m)\u001b[0m\u001b[1;33m)\u001b[0m\u001b[1;33m:\u001b[0m\u001b[1;33m\u001b[0m\u001b[1;33m\u001b[0m\u001b[0m\n\u001b[1;32m----> 6\u001b[1;33m             \u001b[1;32mraise\u001b[0m \u001b[0mTypeError\u001b[0m\u001b[1;33m(\u001b[0m\u001b[1;34m\"Must be list/tuple\"\u001b[0m\u001b[1;33m)\u001b[0m\u001b[1;33m\u001b[0m\u001b[1;33m\u001b[0m\u001b[0m\n\u001b[0m\u001b[0;32m      7\u001b[0m \u001b[1;33m\u001b[0m\u001b[0m\n\u001b[0;32m      8\u001b[0m \u001b[1;33m\u001b[0m\u001b[0m\n",
      "\u001b[1;31mTypeError\u001b[0m: Must be list/tuple"
     ]
    }
   ],
   "source": [
    "model1=Model(\"var1\",\"var2\")"
   ]
  },
  {
   "cell_type": "code",
   "execution_count": 8,
   "id": "7b973b29",
   "metadata": {},
   "outputs": [
    {
     "ename": "TypeError",
     "evalue": "Must be list/tuple",
     "output_type": "error",
     "traceback": [
      "\u001b[1;31m---------------------------------------------------------------------------\u001b[0m",
      "\u001b[1;31mTypeError\u001b[0m                                 Traceback (most recent call last)",
      "\u001b[1;32m<ipython-input-8-fcd76939ad38>\u001b[0m in \u001b[0;36m<module>\u001b[1;34m\u001b[0m\n\u001b[1;32m----> 1\u001b[1;33m \u001b[0mmodel1\u001b[0m\u001b[1;33m=\u001b[0m\u001b[0mModel\u001b[0m\u001b[1;33m(\u001b[0m\u001b[1;33m[\u001b[0m\u001b[1;36m0\u001b[0m\u001b[1;33m,\u001b[0m\u001b[1;36m1\u001b[0m\u001b[1;33m]\u001b[0m\u001b[1;33m,\u001b[0m\u001b[1;34m\"var\"\u001b[0m\u001b[1;33m)\u001b[0m\u001b[1;33m\u001b[0m\u001b[1;33m\u001b[0m\u001b[0m\n\u001b[0m",
      "\u001b[1;32m<ipython-input-6-c1693272a1c6>\u001b[0m in \u001b[0;36m__init__\u001b[1;34m(self, y_true, y_pred)\u001b[0m\n\u001b[0;32m      8\u001b[0m \u001b[1;33m\u001b[0m\u001b[0m\n\u001b[0;32m      9\u001b[0m         \u001b[1;32mif\u001b[0m \u001b[1;32mnot\u001b[0m \u001b[0misinstance\u001b[0m\u001b[1;33m(\u001b[0m\u001b[0my_pred\u001b[0m\u001b[1;33m,\u001b[0m\u001b[1;33m(\u001b[0m\u001b[0mlist\u001b[0m\u001b[1;33m,\u001b[0m\u001b[0mtuple\u001b[0m\u001b[1;33m)\u001b[0m\u001b[1;33m)\u001b[0m\u001b[1;33m:\u001b[0m\u001b[1;33m\u001b[0m\u001b[1;33m\u001b[0m\u001b[0m\n\u001b[1;32m---> 10\u001b[1;33m             \u001b[1;32mraise\u001b[0m \u001b[0mTypeError\u001b[0m\u001b[1;33m(\u001b[0m\u001b[1;34m\"Must be list/tuple\"\u001b[0m\u001b[1;33m)\u001b[0m\u001b[1;33m\u001b[0m\u001b[1;33m\u001b[0m\u001b[0m\n\u001b[0m\u001b[0;32m     11\u001b[0m \u001b[1;33m\u001b[0m\u001b[0m\n\u001b[0;32m     12\u001b[0m         \u001b[1;32mif\u001b[0m \u001b[1;32mnot\u001b[0m \u001b[0mlen\u001b[0m\u001b[1;33m(\u001b[0m\u001b[0my_true\u001b[0m\u001b[1;33m)\u001b[0m \u001b[1;33m==\u001b[0m \u001b[0mlen\u001b[0m\u001b[1;33m(\u001b[0m\u001b[0my_pred\u001b[0m\u001b[1;33m)\u001b[0m\u001b[1;33m:\u001b[0m\u001b[1;33m\u001b[0m\u001b[1;33m\u001b[0m\u001b[0m\n",
      "\u001b[1;31mTypeError\u001b[0m: Must be list/tuple"
     ]
    }
   ],
   "source": [
    "model1=Model([0,1],\"var\")"
   ]
  },
  {
   "cell_type": "code",
   "execution_count": 9,
   "id": "6573768f",
   "metadata": {},
   "outputs": [
    {
     "ename": "TypeError",
     "evalue": "Must be list/tuple",
     "output_type": "error",
     "traceback": [
      "\u001b[1;31m---------------------------------------------------------------------------\u001b[0m",
      "\u001b[1;31mTypeError\u001b[0m                                 Traceback (most recent call last)",
      "\u001b[1;32m<ipython-input-9-165d88bd58a1>\u001b[0m in \u001b[0;36m<module>\u001b[1;34m\u001b[0m\n\u001b[1;32m----> 1\u001b[1;33m \u001b[0mmodel1\u001b[0m\u001b[1;33m=\u001b[0m\u001b[0mModel\u001b[0m\u001b[1;33m(\u001b[0m\u001b[1;33m[\u001b[0m\u001b[1;36m0\u001b[0m\u001b[1;33m,\u001b[0m\u001b[1;36m1\u001b[0m\u001b[1;33m]\u001b[0m\u001b[1;33m,\u001b[0m\u001b[1;32mFalse\u001b[0m\u001b[1;33m)\u001b[0m\u001b[1;33m\u001b[0m\u001b[1;33m\u001b[0m\u001b[0m\n\u001b[0m",
      "\u001b[1;32m<ipython-input-6-c1693272a1c6>\u001b[0m in \u001b[0;36m__init__\u001b[1;34m(self, y_true, y_pred)\u001b[0m\n\u001b[0;32m      8\u001b[0m \u001b[1;33m\u001b[0m\u001b[0m\n\u001b[0;32m      9\u001b[0m         \u001b[1;32mif\u001b[0m \u001b[1;32mnot\u001b[0m \u001b[0misinstance\u001b[0m\u001b[1;33m(\u001b[0m\u001b[0my_pred\u001b[0m\u001b[1;33m,\u001b[0m\u001b[1;33m(\u001b[0m\u001b[0mlist\u001b[0m\u001b[1;33m,\u001b[0m\u001b[0mtuple\u001b[0m\u001b[1;33m)\u001b[0m\u001b[1;33m)\u001b[0m\u001b[1;33m:\u001b[0m\u001b[1;33m\u001b[0m\u001b[1;33m\u001b[0m\u001b[0m\n\u001b[1;32m---> 10\u001b[1;33m             \u001b[1;32mraise\u001b[0m \u001b[0mTypeError\u001b[0m\u001b[1;33m(\u001b[0m\u001b[1;34m\"Must be list/tuple\"\u001b[0m\u001b[1;33m)\u001b[0m\u001b[1;33m\u001b[0m\u001b[1;33m\u001b[0m\u001b[0m\n\u001b[0m\u001b[0;32m     11\u001b[0m \u001b[1;33m\u001b[0m\u001b[0m\n\u001b[0;32m     12\u001b[0m         \u001b[1;32mif\u001b[0m \u001b[1;32mnot\u001b[0m \u001b[0mlen\u001b[0m\u001b[1;33m(\u001b[0m\u001b[0my_true\u001b[0m\u001b[1;33m)\u001b[0m \u001b[1;33m==\u001b[0m \u001b[0mlen\u001b[0m\u001b[1;33m(\u001b[0m\u001b[0my_pred\u001b[0m\u001b[1;33m)\u001b[0m\u001b[1;33m:\u001b[0m\u001b[1;33m\u001b[0m\u001b[1;33m\u001b[0m\u001b[0m\n",
      "\u001b[1;31mTypeError\u001b[0m: Must be list/tuple"
     ]
    }
   ],
   "source": [
    "model1=Model([0,1],False)"
   ]
  },
  {
   "cell_type": "code",
   "execution_count": 10,
   "id": "db3014ee",
   "metadata": {},
   "outputs": [
    {
     "ename": "ValueError",
     "evalue": "Must be same length",
     "output_type": "error",
     "traceback": [
      "\u001b[1;31m---------------------------------------------------------------------------\u001b[0m",
      "\u001b[1;31mValueError\u001b[0m                                Traceback (most recent call last)",
      "\u001b[1;32m<ipython-input-10-48642d5c8002>\u001b[0m in \u001b[0;36m<module>\u001b[1;34m\u001b[0m\n\u001b[1;32m----> 1\u001b[1;33m \u001b[0mmodel1\u001b[0m\u001b[1;33m=\u001b[0m\u001b[0mModel\u001b[0m\u001b[1;33m(\u001b[0m\u001b[1;33m[\u001b[0m\u001b[1;36m0\u001b[0m\u001b[1;33m,\u001b[0m\u001b[1;36m1\u001b[0m\u001b[1;33m]\u001b[0m\u001b[1;33m,\u001b[0m\u001b[1;33m[\u001b[0m\u001b[1;36m0\u001b[0m\u001b[1;33m,\u001b[0m\u001b[1;36m0\u001b[0m\u001b[1;33m,\u001b[0m\u001b[1;36m1\u001b[0m\u001b[1;33m]\u001b[0m\u001b[1;33m)\u001b[0m\u001b[1;33m\u001b[0m\u001b[1;33m\u001b[0m\u001b[0m\n\u001b[0m",
      "\u001b[1;32m<ipython-input-6-c1693272a1c6>\u001b[0m in \u001b[0;36m__init__\u001b[1;34m(self, y_true, y_pred)\u001b[0m\n\u001b[0;32m     11\u001b[0m \u001b[1;33m\u001b[0m\u001b[0m\n\u001b[0;32m     12\u001b[0m         \u001b[1;32mif\u001b[0m \u001b[1;32mnot\u001b[0m \u001b[0mlen\u001b[0m\u001b[1;33m(\u001b[0m\u001b[0my_true\u001b[0m\u001b[1;33m)\u001b[0m \u001b[1;33m==\u001b[0m \u001b[0mlen\u001b[0m\u001b[1;33m(\u001b[0m\u001b[0my_pred\u001b[0m\u001b[1;33m)\u001b[0m\u001b[1;33m:\u001b[0m\u001b[1;33m\u001b[0m\u001b[1;33m\u001b[0m\u001b[0m\n\u001b[1;32m---> 13\u001b[1;33m             \u001b[1;32mraise\u001b[0m \u001b[0mValueError\u001b[0m\u001b[1;33m(\u001b[0m\u001b[1;34m\"Must be same length\"\u001b[0m\u001b[1;33m)\u001b[0m\u001b[1;33m\u001b[0m\u001b[1;33m\u001b[0m\u001b[0m\n\u001b[0m\u001b[0;32m     14\u001b[0m \u001b[1;33m\u001b[0m\u001b[0m\n\u001b[0;32m     15\u001b[0m         \u001b[0mself\u001b[0m\u001b[1;33m.\u001b[0m\u001b[0m_y_true\u001b[0m \u001b[1;33m=\u001b[0m \u001b[0my_true\u001b[0m\u001b[1;33m\u001b[0m\u001b[1;33m\u001b[0m\u001b[0m\n",
      "\u001b[1;31mValueError\u001b[0m: Must be same length"
     ]
    }
   ],
   "source": [
    "model1=Model([0,1],[0,0,1])"
   ]
  },
  {
   "cell_type": "code",
   "execution_count": 11,
   "id": "1d05ddca",
   "metadata": {},
   "outputs": [],
   "source": [
    "model1=Model([0,1,1,1,1],[0,0,1,1,1])"
   ]
  },
  {
   "cell_type": "code",
   "execution_count": 12,
   "id": "0edbeef6",
   "metadata": {},
   "outputs": [],
   "source": [
    "class Model:\n",
    "    \n",
    "    def __init__(self,y_true,y_pred):\n",
    "        \n",
    "        if not isinstance(y_true,(list,tuple)):\n",
    "            raise TypeError(\"Must be list/tuple\")\n",
    "        \n",
    "\n",
    "        if not isinstance(y_pred,(list,tuple)):\n",
    "            raise TypeError(\"Must be list/tuple\")\n",
    "        \n",
    "        if not len(y_true) == len(y_pred):\n",
    "            raise ValueError(\"Must be same length\")\n",
    "        \n",
    "        self._y_true = y_true\n",
    "        self._y_pred = y_pred\n",
    "        self._accuracy = None\n",
    "    @property\n",
    "    def y_true(self):\n",
    "        return self._y_true\n",
    "    \n",
    "    @y_true.setter\n",
    "    def y_true(self,value):\n",
    "        if isinstance(value,(list,tuple)):\n",
    "            if len(value)==len(self.y_pred):\n",
    "                self._y_true = value\n",
    "            else:\n",
    "                raise ValueError(f\"The y_true obj must be of length {len(self._y_pred)}.\")\n",
    "        else:\n",
    "            raise TypeError(f\"The val must be a list or tuple obj. Not {type(value).__name__}.\")\n",
    "        self._y_true = value\n",
    "        self._accuracy = None\n",
    "        \n",
    "    @property\n",
    "    def y_pred(self):\n",
    "        return self._y_pred\n",
    "    \n",
    "    @y_pred.setter\n",
    "    def y_pred(self,value):\n",
    "        if isinstance(value,(list,tuple)):\n",
    "            if len(value)==len(self.y_true):\n",
    "                self._y_pred = value\n",
    "            else:\n",
    "                raise ValueError(f\"The y_true obj must be of length {len(self._y_true)}.\")\n",
    "        else:\n",
    "            raise TypeError(f\"The val must be a list or tuple obj. Not {type(value).__name__}.\")\n",
    "        self._y_pred = value\n",
    "        self._accuracy = None\n",
    "    \n",
    "    @property\n",
    "    def accuracy(self):\n",
    "        if not self._accuracy or self._accuracy==None:\n",
    "            print(\"Calculating...\")\n",
    "            self._accuracy = sum([i==j for i,j in zip (self.y_true, self.y_pred)])/len(self.y_true)\n",
    "        print(f\"Model accuracy: {self._accuracy:.4f}\")\n",
    "        \n",
    "model=Model([0,0,1,0,0,1,0],[0,0,1,0,0,0,0])"
   ]
  },
  {
   "cell_type": "code",
   "execution_count": 13,
   "id": "230e0735",
   "metadata": {},
   "outputs": [
    {
     "data": {
      "text/plain": [
       "{'_y_true': [0, 0, 1, 0, 0, 1, 0],\n",
       " '_y_pred': [0, 0, 1, 0, 0, 0, 0],\n",
       " '_accuracy': None}"
      ]
     },
     "execution_count": 13,
     "metadata": {},
     "output_type": "execute_result"
    }
   ],
   "source": [
    "model.__dict__"
   ]
  },
  {
   "cell_type": "code",
   "execution_count": 14,
   "id": "34f0b43e",
   "metadata": {},
   "outputs": [
    {
     "name": "stdout",
     "output_type": "stream",
     "text": [
      "Model accuracy: 0.8571\n"
     ]
    }
   ],
   "source": [
    "model.accuracy"
   ]
  },
  {
   "cell_type": "code",
   "execution_count": 15,
   "id": "34a248a2",
   "metadata": {},
   "outputs": [
    {
     "data": {
      "text/plain": [
       "{'_y_true': [0, 0, 1, 0, 0, 1, 0],\n",
       " '_y_pred': [0, 0, 1, 0, 0, 0, 0],\n",
       " '_accuracy': 0.8571428571428571}"
      ]
     },
     "execution_count": 15,
     "metadata": {},
     "output_type": "execute_result"
    }
   ],
   "source": [
    "model.__dict__"
   ]
  },
  {
   "cell_type": "code",
   "execution_count": 16,
   "id": "2b000564",
   "metadata": {},
   "outputs": [
    {
     "data": {
      "text/plain": [
       "[0, 0, 1, 0, 0, 1, 0]"
      ]
     },
     "execution_count": 16,
     "metadata": {},
     "output_type": "execute_result"
    }
   ],
   "source": [
    "model.y_true"
   ]
  },
  {
   "cell_type": "code",
   "execution_count": 17,
   "id": "dfe463aa",
   "metadata": {},
   "outputs": [],
   "source": [
    "model.y_true=[0, 0, 1, 0, 0, 1, 1]"
   ]
  },
  {
   "cell_type": "code",
   "execution_count": 18,
   "id": "d521e130",
   "metadata": {},
   "outputs": [
    {
     "name": "stdout",
     "output_type": "stream",
     "text": [
      "Model accuracy: 0.7143\n"
     ]
    }
   ],
   "source": [
    "model.accuracy"
   ]
  },
  {
   "cell_type": "code",
   "execution_count": 19,
   "id": "de7f105c",
   "metadata": {},
   "outputs": [
    {
     "ename": "TypeError",
     "evalue": "The val must be a list or tuple obj. Not str.",
     "output_type": "error",
     "traceback": [
      "\u001b[1;31m---------------------------------------------------------------------------\u001b[0m",
      "\u001b[1;31mTypeError\u001b[0m                                 Traceback (most recent call last)",
      "\u001b[1;32m<ipython-input-19-c4edf0ce29ae>\u001b[0m in \u001b[0;36m<module>\u001b[1;34m\u001b[0m\n\u001b[1;32m----> 1\u001b[1;33m \u001b[0mmodel\u001b[0m\u001b[1;33m.\u001b[0m\u001b[0my_true\u001b[0m\u001b[1;33m=\u001b[0m\u001b[1;34m\"abc\"\u001b[0m\u001b[1;33m\u001b[0m\u001b[1;33m\u001b[0m\u001b[0m\n\u001b[0m",
      "\u001b[1;32m<ipython-input-12-ae13cfdda8fe>\u001b[0m in \u001b[0;36my_true\u001b[1;34m(self, value)\u001b[0m\n\u001b[0;32m     28\u001b[0m                 \u001b[1;32mraise\u001b[0m \u001b[0mValueError\u001b[0m\u001b[1;33m(\u001b[0m\u001b[1;34mf\"The y_true obj must be of length {len(self._y_pred)}.\"\u001b[0m\u001b[1;33m)\u001b[0m\u001b[1;33m\u001b[0m\u001b[1;33m\u001b[0m\u001b[0m\n\u001b[0;32m     29\u001b[0m         \u001b[1;32melse\u001b[0m\u001b[1;33m:\u001b[0m\u001b[1;33m\u001b[0m\u001b[1;33m\u001b[0m\u001b[0m\n\u001b[1;32m---> 30\u001b[1;33m             \u001b[1;32mraise\u001b[0m \u001b[0mTypeError\u001b[0m\u001b[1;33m(\u001b[0m\u001b[1;34mf\"The val must be a list or tuple obj. Not {type(value).__name__}.\"\u001b[0m\u001b[1;33m)\u001b[0m\u001b[1;33m\u001b[0m\u001b[1;33m\u001b[0m\u001b[0m\n\u001b[0m\u001b[0;32m     31\u001b[0m         \u001b[0mself\u001b[0m\u001b[1;33m.\u001b[0m\u001b[0m_y_true\u001b[0m \u001b[1;33m=\u001b[0m \u001b[0mvalue\u001b[0m\u001b[1;33m\u001b[0m\u001b[1;33m\u001b[0m\u001b[0m\n\u001b[0;32m     32\u001b[0m         \u001b[0mself\u001b[0m\u001b[1;33m.\u001b[0m\u001b[0m_accuracy\u001b[0m \u001b[1;33m=\u001b[0m \u001b[1;32mNone\u001b[0m\u001b[1;33m\u001b[0m\u001b[1;33m\u001b[0m\u001b[0m\n",
      "\u001b[1;31mTypeError\u001b[0m: The val must be a list or tuple obj. Not str."
     ]
    }
   ],
   "source": [
    "model.y_true=\"abc\""
   ]
  },
  {
   "cell_type": "code",
   "execution_count": 20,
   "id": "a7669cf2",
   "metadata": {},
   "outputs": [
    {
     "ename": "ValueError",
     "evalue": "The y_true obj must be of length 7.",
     "output_type": "error",
     "traceback": [
      "\u001b[1;31m---------------------------------------------------------------------------\u001b[0m",
      "\u001b[1;31mValueError\u001b[0m                                Traceback (most recent call last)",
      "\u001b[1;32m<ipython-input-20-0aacf517e1b5>\u001b[0m in \u001b[0;36m<module>\u001b[1;34m\u001b[0m\n\u001b[1;32m----> 1\u001b[1;33m \u001b[0mmodel\u001b[0m\u001b[1;33m.\u001b[0m\u001b[0my_true\u001b[0m\u001b[1;33m=\u001b[0m\u001b[1;33m[\u001b[0m\u001b[1;36m0\u001b[0m\u001b[1;33m,\u001b[0m\u001b[1;36m0\u001b[0m\u001b[1;33m,\u001b[0m\u001b[1;36m1\u001b[0m\u001b[1;33m]\u001b[0m\u001b[1;33m\u001b[0m\u001b[1;33m\u001b[0m\u001b[0m\n\u001b[0m",
      "\u001b[1;32m<ipython-input-12-ae13cfdda8fe>\u001b[0m in \u001b[0;36my_true\u001b[1;34m(self, value)\u001b[0m\n\u001b[0;32m     26\u001b[0m                 \u001b[0mself\u001b[0m\u001b[1;33m.\u001b[0m\u001b[0m_y_true\u001b[0m \u001b[1;33m=\u001b[0m \u001b[0mvalue\u001b[0m\u001b[1;33m\u001b[0m\u001b[1;33m\u001b[0m\u001b[0m\n\u001b[0;32m     27\u001b[0m             \u001b[1;32melse\u001b[0m\u001b[1;33m:\u001b[0m\u001b[1;33m\u001b[0m\u001b[1;33m\u001b[0m\u001b[0m\n\u001b[1;32m---> 28\u001b[1;33m                 \u001b[1;32mraise\u001b[0m \u001b[0mValueError\u001b[0m\u001b[1;33m(\u001b[0m\u001b[1;34mf\"The y_true obj must be of length {len(self._y_pred)}.\"\u001b[0m\u001b[1;33m)\u001b[0m\u001b[1;33m\u001b[0m\u001b[1;33m\u001b[0m\u001b[0m\n\u001b[0m\u001b[0;32m     29\u001b[0m         \u001b[1;32melse\u001b[0m\u001b[1;33m:\u001b[0m\u001b[1;33m\u001b[0m\u001b[1;33m\u001b[0m\u001b[0m\n\u001b[0;32m     30\u001b[0m             \u001b[1;32mraise\u001b[0m \u001b[0mTypeError\u001b[0m\u001b[1;33m(\u001b[0m\u001b[1;34mf\"The val must be a list or tuple obj. Not {type(value).__name__}.\"\u001b[0m\u001b[1;33m)\u001b[0m\u001b[1;33m\u001b[0m\u001b[1;33m\u001b[0m\u001b[0m\n",
      "\u001b[1;31mValueError\u001b[0m: The y_true obj must be of length 7."
     ]
    }
   ],
   "source": [
    "model.y_true=[0,0,1]"
   ]
  },
  {
   "cell_type": "code",
   "execution_count": 21,
   "id": "0d796f1a",
   "metadata": {},
   "outputs": [
    {
     "ename": "ValueError",
     "evalue": "The y_true obj must be of length 7.",
     "output_type": "error",
     "traceback": [
      "\u001b[1;31m---------------------------------------------------------------------------\u001b[0m",
      "\u001b[1;31mValueError\u001b[0m                                Traceback (most recent call last)",
      "\u001b[1;32m<ipython-input-21-6fdeb9238d41>\u001b[0m in \u001b[0;36m<module>\u001b[1;34m\u001b[0m\n\u001b[1;32m----> 1\u001b[1;33m \u001b[0mmodel\u001b[0m\u001b[1;33m.\u001b[0m\u001b[0my_pred\u001b[0m\u001b[1;33m=\u001b[0m\u001b[1;33m[\u001b[0m\u001b[1;36m0\u001b[0m\u001b[1;33m,\u001b[0m\u001b[1;36m0\u001b[0m\u001b[1;33m,\u001b[0m\u001b[1;36m1\u001b[0m\u001b[1;33m]\u001b[0m\u001b[1;33m\u001b[0m\u001b[1;33m\u001b[0m\u001b[0m\n\u001b[0m",
      "\u001b[1;32m<ipython-input-12-ae13cfdda8fe>\u001b[0m in \u001b[0;36my_pred\u001b[1;34m(self, value)\u001b[0m\n\u001b[0;32m     42\u001b[0m                 \u001b[0mself\u001b[0m\u001b[1;33m.\u001b[0m\u001b[0m_y_pred\u001b[0m \u001b[1;33m=\u001b[0m \u001b[0mvalue\u001b[0m\u001b[1;33m\u001b[0m\u001b[1;33m\u001b[0m\u001b[0m\n\u001b[0;32m     43\u001b[0m             \u001b[1;32melse\u001b[0m\u001b[1;33m:\u001b[0m\u001b[1;33m\u001b[0m\u001b[1;33m\u001b[0m\u001b[0m\n\u001b[1;32m---> 44\u001b[1;33m                 \u001b[1;32mraise\u001b[0m \u001b[0mValueError\u001b[0m\u001b[1;33m(\u001b[0m\u001b[1;34mf\"The y_true obj must be of length {len(self._y_true)}.\"\u001b[0m\u001b[1;33m)\u001b[0m\u001b[1;33m\u001b[0m\u001b[1;33m\u001b[0m\u001b[0m\n\u001b[0m\u001b[0;32m     45\u001b[0m         \u001b[1;32melse\u001b[0m\u001b[1;33m:\u001b[0m\u001b[1;33m\u001b[0m\u001b[1;33m\u001b[0m\u001b[0m\n\u001b[0;32m     46\u001b[0m             \u001b[1;32mraise\u001b[0m \u001b[0mTypeError\u001b[0m\u001b[1;33m(\u001b[0m\u001b[1;34mf\"The val must be a list or tuple obj. Not {type(value).__name__}.\"\u001b[0m\u001b[1;33m)\u001b[0m\u001b[1;33m\u001b[0m\u001b[1;33m\u001b[0m\u001b[0m\n",
      "\u001b[1;31mValueError\u001b[0m: The y_true obj must be of length 7."
     ]
    }
   ],
   "source": [
    "model.y_pred=[0,0,1]"
   ]
  },
  {
   "cell_type": "code",
   "execution_count": 22,
   "id": "c9f7fb3f",
   "metadata": {},
   "outputs": [
    {
     "data": {
      "text/plain": [
       "[0, 0, 1, 0, 0, 1, 1]"
      ]
     },
     "execution_count": 22,
     "metadata": {},
     "output_type": "execute_result"
    }
   ],
   "source": [
    "model.y_true"
   ]
  },
  {
   "cell_type": "code",
   "execution_count": 23,
   "id": "548523c6",
   "metadata": {},
   "outputs": [
    {
     "data": {
      "text/plain": [
       "[0, 0, 1, 0, 0, 0, 0]"
      ]
     },
     "execution_count": 23,
     "metadata": {},
     "output_type": "execute_result"
    }
   ],
   "source": [
    "model.y_pred"
   ]
  },
  {
   "cell_type": "code",
   "execution_count": 24,
   "id": "8426d731",
   "metadata": {},
   "outputs": [],
   "source": [
    "model.y_pred = (0,0,1,0,0,0,1)"
   ]
  },
  {
   "cell_type": "code",
   "execution_count": 25,
   "id": "3ff4d146",
   "metadata": {},
   "outputs": [
    {
     "name": "stdout",
     "output_type": "stream",
     "text": [
      "Model accuracy: 0.8571\n"
     ]
    }
   ],
   "source": [
    "model.accuracy"
   ]
  },
  {
   "cell_type": "code",
   "execution_count": 26,
   "id": "487d82df",
   "metadata": {},
   "outputs": [
    {
     "ename": "AttributeError",
     "evalue": "can't delete attribute",
     "output_type": "error",
     "traceback": [
      "\u001b[1;31m---------------------------------------------------------------------------\u001b[0m",
      "\u001b[1;31mAttributeError\u001b[0m                            Traceback (most recent call last)",
      "\u001b[1;32m<ipython-input-26-0f5dc496966f>\u001b[0m in \u001b[0;36m<module>\u001b[1;34m\u001b[0m\n\u001b[1;32m----> 1\u001b[1;33m \u001b[1;32mdel\u001b[0m \u001b[0mmodel\u001b[0m\u001b[1;33m.\u001b[0m\u001b[0my_true\u001b[0m\u001b[1;33m\u001b[0m\u001b[1;33m\u001b[0m\u001b[0m\n\u001b[0m",
      "\u001b[1;31mAttributeError\u001b[0m: can't delete attribute"
     ]
    }
   ],
   "source": [
    "del model.y_true"
   ]
  },
  {
   "cell_type": "code",
   "execution_count": 1,
   "id": "45c1da3b",
   "metadata": {},
   "outputs": [],
   "source": [
    "class Model:\n",
    "    \n",
    "    def __init__(self,y_true,y_pred):\n",
    "        \n",
    "        if not isinstance(y_true,(list,tuple)):\n",
    "            raise TypeError(\"Must be list/tuple\")\n",
    "        \n",
    "\n",
    "        if not isinstance(y_pred,(list,tuple)):\n",
    "            raise TypeError(\"Must be list/tuple\")\n",
    "        \n",
    "        if not len(y_true) == len(y_pred):\n",
    "            raise ValueError(\"Must be same length\")\n",
    "        \n",
    "        self._y_true = y_true\n",
    "        self._y_pred = y_pred\n",
    "        self._accuracy = None\n",
    "    @property\n",
    "    def y_true(self):\n",
    "        return self._y_true\n",
    "    \n",
    "    @y_true.setter\n",
    "    def y_true(self,value):\n",
    "        if isinstance(value,(list,tuple)):\n",
    "            if len(value)==len(self.y_pred):\n",
    "                self._y_true = value\n",
    "            else:\n",
    "                raise ValueError(f\"The y_true obj must be of length {len(self._y_pred)}.\")\n",
    "        else:\n",
    "            raise TypeError(f\"The val must be a list or tuple obj. Not {type(value).__name__}.\")\n",
    "        self._y_true = value\n",
    "        self._accuracy = None\n",
    "    \n",
    "    @y_true.deleter\n",
    "    def y_true(self):\n",
    "        print(\"Deleting...\")\n",
    "        del self._y_true\n",
    "        \n",
    "    @property\n",
    "    def y_pred(self):\n",
    "        return self._y_pred\n",
    "    \n",
    "    @y_pred.setter\n",
    "    def y_pred(self,value):\n",
    "        if isinstance(value,(list,tuple)):\n",
    "            if len(value)==len(self.y_true):\n",
    "                self._y_pred = value\n",
    "            else:\n",
    "                raise ValueError(f\"The y_true obj must be of length {len(self._y_true)}.\")\n",
    "        else:\n",
    "            raise TypeError(f\"The val must be a list or tuple obj. Not {type(value).__name__}.\")\n",
    "        self._y_pred = value\n",
    "        self._accuracy = None\n",
    "    \n",
    "    @y_pred.deleter\n",
    "    def y_pred(self):\n",
    "        print(\"Deleting...\")\n",
    "        del self._y_pred\n",
    "    \n",
    "    @property\n",
    "    def accuracy(self):\n",
    "        if not self._accuracy or self._accuracy==None:\n",
    "            print(\"Calculating...\")\n",
    "            self._accuracy = sum([i==j for i,j in zip (self.y_true, self.y_pred)])/len(self.y_true)\n",
    "        print(f\"Model accuracy: {self._accuracy:.4f}\")\n",
    "        \n",
    "model=Model([0,0,1,0,0,1,0],[0,0,1,0,0,0,0])"
   ]
  },
  {
   "cell_type": "code",
   "execution_count": 2,
   "id": "8bbfc99d",
   "metadata": {},
   "outputs": [
    {
     "data": {
      "text/plain": [
       "[0, 0, 1, 0, 0, 1, 0]"
      ]
     },
     "execution_count": 2,
     "metadata": {},
     "output_type": "execute_result"
    }
   ],
   "source": [
    "model.y_true"
   ]
  },
  {
   "cell_type": "code",
   "execution_count": 3,
   "id": "75dd2c28",
   "metadata": {},
   "outputs": [
    {
     "name": "stdout",
     "output_type": "stream",
     "text": [
      "Deleting...\n"
     ]
    }
   ],
   "source": [
    "del model.y_true"
   ]
  },
  {
   "cell_type": "code",
   "execution_count": 4,
   "id": "7e02e0f4",
   "metadata": {},
   "outputs": [
    {
     "ename": "AttributeError",
     "evalue": "'Model' object has no attribute '_y_true'",
     "output_type": "error",
     "traceback": [
      "\u001b[1;31m---------------------------------------------------------------------------\u001b[0m",
      "\u001b[1;31mAttributeError\u001b[0m                            Traceback (most recent call last)",
      "\u001b[1;32m<ipython-input-4-6efe58b4e523>\u001b[0m in \u001b[0;36m<module>\u001b[1;34m\u001b[0m\n\u001b[1;32m----> 1\u001b[1;33m \u001b[0mmodel\u001b[0m\u001b[1;33m.\u001b[0m\u001b[0my_true\u001b[0m\u001b[1;33m\u001b[0m\u001b[1;33m\u001b[0m\u001b[0m\n\u001b[0m",
      "\u001b[1;32m<ipython-input-1-299b4959af1f>\u001b[0m in \u001b[0;36my_true\u001b[1;34m(self)\u001b[0m\n\u001b[0;32m     18\u001b[0m     \u001b[1;33m@\u001b[0m\u001b[0mproperty\u001b[0m\u001b[1;33m\u001b[0m\u001b[1;33m\u001b[0m\u001b[0m\n\u001b[0;32m     19\u001b[0m     \u001b[1;32mdef\u001b[0m \u001b[0my_true\u001b[0m\u001b[1;33m(\u001b[0m\u001b[0mself\u001b[0m\u001b[1;33m)\u001b[0m\u001b[1;33m:\u001b[0m\u001b[1;33m\u001b[0m\u001b[1;33m\u001b[0m\u001b[0m\n\u001b[1;32m---> 20\u001b[1;33m         \u001b[1;32mreturn\u001b[0m \u001b[0mself\u001b[0m\u001b[1;33m.\u001b[0m\u001b[0m_y_true\u001b[0m\u001b[1;33m\u001b[0m\u001b[1;33m\u001b[0m\u001b[0m\n\u001b[0m\u001b[0;32m     21\u001b[0m \u001b[1;33m\u001b[0m\u001b[0m\n\u001b[0;32m     22\u001b[0m     \u001b[1;33m@\u001b[0m\u001b[0my_true\u001b[0m\u001b[1;33m.\u001b[0m\u001b[0msetter\u001b[0m\u001b[1;33m\u001b[0m\u001b[1;33m\u001b[0m\u001b[0m\n",
      "\u001b[1;31mAttributeError\u001b[0m: 'Model' object has no attribute '_y_true'"
     ]
    }
   ],
   "source": [
    "model.y_true"
   ]
  },
  {
   "cell_type": "code",
   "execution_count": 5,
   "id": "6a01f4bd",
   "metadata": {},
   "outputs": [
    {
     "ename": "TypeError",
     "evalue": "The val must be a list or tuple obj. Not str.",
     "output_type": "error",
     "traceback": [
      "\u001b[1;31m---------------------------------------------------------------------------\u001b[0m",
      "\u001b[1;31mTypeError\u001b[0m                                 Traceback (most recent call last)",
      "\u001b[1;32m<ipython-input-5-26a39fb426fd>\u001b[0m in \u001b[0;36m<module>\u001b[1;34m\u001b[0m\n\u001b[1;32m----> 1\u001b[1;33m \u001b[0mmodel\u001b[0m\u001b[1;33m.\u001b[0m\u001b[0my_true\u001b[0m\u001b[1;33m=\u001b[0m\u001b[1;34m\"var1\"\u001b[0m\u001b[1;33m\u001b[0m\u001b[1;33m\u001b[0m\u001b[0m\n\u001b[0m",
      "\u001b[1;32m<ipython-input-1-299b4959af1f>\u001b[0m in \u001b[0;36my_true\u001b[1;34m(self, value)\u001b[0m\n\u001b[0;32m     28\u001b[0m                 \u001b[1;32mraise\u001b[0m \u001b[0mValueError\u001b[0m\u001b[1;33m(\u001b[0m\u001b[1;34mf\"The y_true obj must be of length {len(self._y_pred)}.\"\u001b[0m\u001b[1;33m)\u001b[0m\u001b[1;33m\u001b[0m\u001b[1;33m\u001b[0m\u001b[0m\n\u001b[0;32m     29\u001b[0m         \u001b[1;32melse\u001b[0m\u001b[1;33m:\u001b[0m\u001b[1;33m\u001b[0m\u001b[1;33m\u001b[0m\u001b[0m\n\u001b[1;32m---> 30\u001b[1;33m             \u001b[1;32mraise\u001b[0m \u001b[0mTypeError\u001b[0m\u001b[1;33m(\u001b[0m\u001b[1;34mf\"The val must be a list or tuple obj. Not {type(value).__name__}.\"\u001b[0m\u001b[1;33m)\u001b[0m\u001b[1;33m\u001b[0m\u001b[1;33m\u001b[0m\u001b[0m\n\u001b[0m\u001b[0;32m     31\u001b[0m         \u001b[0mself\u001b[0m\u001b[1;33m.\u001b[0m\u001b[0m_y_true\u001b[0m \u001b[1;33m=\u001b[0m \u001b[0mvalue\u001b[0m\u001b[1;33m\u001b[0m\u001b[1;33m\u001b[0m\u001b[0m\n\u001b[0;32m     32\u001b[0m         \u001b[0mself\u001b[0m\u001b[1;33m.\u001b[0m\u001b[0m_accuracy\u001b[0m \u001b[1;33m=\u001b[0m \u001b[1;32mNone\u001b[0m\u001b[1;33m\u001b[0m\u001b[1;33m\u001b[0m\u001b[0m\n",
      "\u001b[1;31mTypeError\u001b[0m: The val must be a list or tuple obj. Not str."
     ]
    }
   ],
   "source": [
    "model.y_true=\"var1\""
   ]
  },
  {
   "cell_type": "code",
   "execution_count": 6,
   "id": "f944d45a",
   "metadata": {},
   "outputs": [],
   "source": [
    "model.y_true=[1,1,1,0,0,0,0]"
   ]
  },
  {
   "cell_type": "code",
   "execution_count": 7,
   "id": "7ecce98f",
   "metadata": {},
   "outputs": [
    {
     "data": {
      "text/plain": [
       "[1, 1, 1, 0, 0, 0, 0]"
      ]
     },
     "execution_count": 7,
     "metadata": {},
     "output_type": "execute_result"
    }
   ],
   "source": [
    "model.y_true"
   ]
  },
  {
   "cell_type": "code",
   "execution_count": 8,
   "id": "8e400efa",
   "metadata": {},
   "outputs": [
    {
     "name": "stdout",
     "output_type": "stream",
     "text": [
      "Model accuracy: 0.7143\n"
     ]
    }
   ],
   "source": [
    "model.accuracy"
   ]
  },
  {
   "cell_type": "code",
   "execution_count": 9,
   "id": "fad37901",
   "metadata": {},
   "outputs": [
    {
     "name": "stdout",
     "output_type": "stream",
     "text": [
      "Model accuracy: 0.7143\n"
     ]
    }
   ],
   "source": [
    "model.accuracy"
   ]
  },
  {
   "cell_type": "markdown",
   "id": "2639fb81",
   "metadata": {},
   "source": [
    "## Przykład"
   ]
  },
  {
   "cell_type": "code",
   "execution_count": 1,
   "id": "5293e2fc",
   "metadata": {},
   "outputs": [],
   "source": [
    "class Model:\n",
    "    \n",
    "    def __init__(self,y_true,y_pred):\n",
    "        \n",
    "#         if not isinstance(y_true,(list,tuple)):\n",
    "#             raise TypeError(\"Must be list/tuple\")\n",
    "        \n",
    "#         if not isinstance(y_pred,(list,tuple)):\n",
    "#             raise TypeError(\"Must be list/tuple\")\n",
    "        Model._validate_input(y_true,\"y_true\")\n",
    "        Model._validate_input(y_pred,\"y_pred\")\n",
    "        \n",
    "        if not len(y_true) == len(y_pred):\n",
    "            raise ValueError(\"Must be same length\")\n",
    "        \n",
    "        self._y_true = y_true\n",
    "        self._y_pred = y_pred\n",
    "        self._accuracy = None\n",
    "        \n",
    "    \n",
    "    def _validate_input(iters,var_name):\n",
    "        if not isinstance(iters,(list,tuple)):\n",
    "            raise TypeError(f\"The {var_name} must be list/tuple, not {type(iters).__name__}.\")\n",
    "    \n",
    "    \n",
    "    def _validate_value(self,value,var_name):\n",
    "        if not isinstance(value,(list,tuple)):\n",
    "            raise TypeError(f\"The value must be list/tuple, not {type(value).__name__}.\")\n",
    "            \n",
    "        mapping={\"y_true\":\"_y_pred\",\"y_pred\":\"_y_true\"}\n",
    "        \n",
    "        if not len(value) == len(getattr(self,mapping[var_name])):\n",
    "            raise ValueError(f\"The {var_name} obj must be of length {len(getattr(self,mapping[var_name]))}.\")\n",
    "    \n",
    "    @property\n",
    "    def y_true(self):\n",
    "        return self._y_true\n",
    "\n",
    "\n",
    "    @y_true.setter\n",
    "    def y_true(self,value):\n",
    "        \n",
    "        Model._validate_value(self,value,\"y_true\")\n",
    "        \n",
    "        self._y_pred = value\n",
    "        self._accuracy = None\n",
    "        \n",
    "    @y_true.deleter\n",
    "    def y_true(self):\n",
    "        print(\"Deleting...\")\n",
    "        del self._y_true\n",
    "        \n",
    "    @property\n",
    "    def y_pred(self):\n",
    "        return self._y_pred\n",
    "    \n",
    "    @y_pred.setter\n",
    "    def y_pred(self,value):\n",
    "        \n",
    "        Model._validate_value(self,value,\"y_pred\")\n",
    "        \n",
    "        \n",
    "        self._y_pred = value\n",
    "        self._accuracy = None\n",
    "    \n",
    "    @y_pred.deleter\n",
    "    def y_pred(self):\n",
    "        print(\"Deleting...\")\n",
    "        del self._y_pred\n",
    "    \n",
    "    @property\n",
    "    def accuracy(self):\n",
    "        if not self._accuracy or self._accuracy==None:\n",
    "            print(\"Calculating...\")\n",
    "            self._accuracy = sum([i==j for i,j in zip (self.y_true, self.y_pred)])/len(self.y_true)\n",
    "        print(f\"Model accuracy: {self._accuracy:.4f}\")\n",
    "        \n",
    "model=Model([0,0,1,0,0,1,0],[0,0,1,0,0,0,0])"
   ]
  },
  {
   "cell_type": "code",
   "execution_count": 2,
   "id": "5c304c5b",
   "metadata": {},
   "outputs": [
    {
     "name": "stdout",
     "output_type": "stream",
     "text": [
      "Calculating...\n",
      "Model accuracy: 0.8571\n"
     ]
    }
   ],
   "source": [
    "model.accuracy"
   ]
  },
  {
   "cell_type": "code",
   "execution_count": 3,
   "id": "88e22fbe",
   "metadata": {},
   "outputs": [
    {
     "ename": "TypeError",
     "evalue": "The y_true must be list/tuple, not str.",
     "output_type": "error",
     "traceback": [
      "\u001b[1;31m---------------------------------------------------------------------------\u001b[0m",
      "\u001b[1;31mTypeError\u001b[0m                                 Traceback (most recent call last)",
      "\u001b[1;32m<ipython-input-3-11a968d5f598>\u001b[0m in \u001b[0;36m<module>\u001b[1;34m\u001b[0m\n\u001b[1;32m----> 1\u001b[1;33m \u001b[0mmodel\u001b[0m\u001b[1;33m=\u001b[0m\u001b[0mModel\u001b[0m\u001b[1;33m(\u001b[0m\u001b[1;34m\"stringihehe\"\u001b[0m\u001b[1;33m,\u001b[0m\u001b[1;33m[\u001b[0m\u001b[1;36m0\u001b[0m\u001b[1;33m,\u001b[0m\u001b[1;36m0\u001b[0m\u001b[1;33m,\u001b[0m\u001b[1;36m1\u001b[0m\u001b[1;33m,\u001b[0m\u001b[1;36m0\u001b[0m\u001b[1;33m,\u001b[0m\u001b[1;36m0\u001b[0m\u001b[1;33m,\u001b[0m\u001b[1;36m0\u001b[0m\u001b[1;33m,\u001b[0m\u001b[1;36m0\u001b[0m\u001b[1;33m]\u001b[0m\u001b[1;33m)\u001b[0m\u001b[1;33m\u001b[0m\u001b[1;33m\u001b[0m\u001b[0m\n\u001b[0m",
      "\u001b[1;32m<ipython-input-1-5ac4b6622d21>\u001b[0m in \u001b[0;36m__init__\u001b[1;34m(self, y_true, y_pred)\u001b[0m\n\u001b[0;32m      8\u001b[0m \u001b[1;31m#         if not isinstance(y_pred,(list,tuple)):\u001b[0m\u001b[1;33m\u001b[0m\u001b[1;33m\u001b[0m\u001b[1;33m\u001b[0m\u001b[0m\n\u001b[0;32m      9\u001b[0m \u001b[1;31m#             raise TypeError(\"Must be list/tuple\")\u001b[0m\u001b[1;33m\u001b[0m\u001b[1;33m\u001b[0m\u001b[1;33m\u001b[0m\u001b[0m\n\u001b[1;32m---> 10\u001b[1;33m         \u001b[0mModel\u001b[0m\u001b[1;33m.\u001b[0m\u001b[0m_validate_input\u001b[0m\u001b[1;33m(\u001b[0m\u001b[0my_true\u001b[0m\u001b[1;33m,\u001b[0m\u001b[1;34m\"y_true\"\u001b[0m\u001b[1;33m)\u001b[0m\u001b[1;33m\u001b[0m\u001b[1;33m\u001b[0m\u001b[0m\n\u001b[0m\u001b[0;32m     11\u001b[0m         \u001b[0mModel\u001b[0m\u001b[1;33m.\u001b[0m\u001b[0m_validate_input\u001b[0m\u001b[1;33m(\u001b[0m\u001b[0my_pred\u001b[0m\u001b[1;33m,\u001b[0m\u001b[1;34m\"y_pred\"\u001b[0m\u001b[1;33m)\u001b[0m\u001b[1;33m\u001b[0m\u001b[1;33m\u001b[0m\u001b[0m\n\u001b[0;32m     12\u001b[0m \u001b[1;33m\u001b[0m\u001b[0m\n",
      "\u001b[1;32m<ipython-input-1-5ac4b6622d21>\u001b[0m in \u001b[0;36m_validate_input\u001b[1;34m(iters, var_name)\u001b[0m\n\u001b[0;32m     21\u001b[0m     \u001b[1;32mdef\u001b[0m \u001b[0m_validate_input\u001b[0m\u001b[1;33m(\u001b[0m\u001b[0miters\u001b[0m\u001b[1;33m,\u001b[0m\u001b[0mvar_name\u001b[0m\u001b[1;33m)\u001b[0m\u001b[1;33m:\u001b[0m\u001b[1;33m\u001b[0m\u001b[1;33m\u001b[0m\u001b[0m\n\u001b[0;32m     22\u001b[0m         \u001b[1;32mif\u001b[0m \u001b[1;32mnot\u001b[0m \u001b[0misinstance\u001b[0m\u001b[1;33m(\u001b[0m\u001b[0miters\u001b[0m\u001b[1;33m,\u001b[0m\u001b[1;33m(\u001b[0m\u001b[0mlist\u001b[0m\u001b[1;33m,\u001b[0m\u001b[0mtuple\u001b[0m\u001b[1;33m)\u001b[0m\u001b[1;33m)\u001b[0m\u001b[1;33m:\u001b[0m\u001b[1;33m\u001b[0m\u001b[1;33m\u001b[0m\u001b[0m\n\u001b[1;32m---> 23\u001b[1;33m             \u001b[1;32mraise\u001b[0m \u001b[0mTypeError\u001b[0m\u001b[1;33m(\u001b[0m\u001b[1;34mf\"The {var_name} must be list/tuple, not {type(iters).__name__}.\"\u001b[0m\u001b[1;33m)\u001b[0m\u001b[1;33m\u001b[0m\u001b[1;33m\u001b[0m\u001b[0m\n\u001b[0m\u001b[0;32m     24\u001b[0m \u001b[1;33m\u001b[0m\u001b[0m\n\u001b[0;32m     25\u001b[0m \u001b[1;33m\u001b[0m\u001b[0m\n",
      "\u001b[1;31mTypeError\u001b[0m: The y_true must be list/tuple, not str."
     ]
    }
   ],
   "source": [
    "model=Model(\"stringihehe\",[0,0,1,0,0,0,0])"
   ]
  },
  {
   "cell_type": "code",
   "execution_count": 4,
   "id": "16b8523b",
   "metadata": {},
   "outputs": [
    {
     "ename": "TypeError",
     "evalue": "The y_pred must be list/tuple, not str.",
     "output_type": "error",
     "traceback": [
      "\u001b[1;31m---------------------------------------------------------------------------\u001b[0m",
      "\u001b[1;31mTypeError\u001b[0m                                 Traceback (most recent call last)",
      "\u001b[1;32m<ipython-input-4-90fa5446af59>\u001b[0m in \u001b[0;36m<module>\u001b[1;34m\u001b[0m\n\u001b[1;32m----> 1\u001b[1;33m \u001b[0mmodel\u001b[0m\u001b[1;33m=\u001b[0m\u001b[0mModel\u001b[0m\u001b[1;33m(\u001b[0m\u001b[1;33m[\u001b[0m\u001b[1;36m0\u001b[0m\u001b[1;33m,\u001b[0m\u001b[1;36m0\u001b[0m\u001b[1;33m,\u001b[0m\u001b[1;36m1\u001b[0m\u001b[1;33m,\u001b[0m\u001b[1;36m0\u001b[0m\u001b[1;33m,\u001b[0m\u001b[1;36m0\u001b[0m\u001b[1;33m,\u001b[0m\u001b[1;36m1\u001b[0m\u001b[1;33m,\u001b[0m\u001b[1;36m0\u001b[0m\u001b[1;33m]\u001b[0m\u001b[1;33m,\u001b[0m\u001b[1;34m\"sdfsdf\"\u001b[0m\u001b[1;33m)\u001b[0m\u001b[1;33m\u001b[0m\u001b[1;33m\u001b[0m\u001b[0m\n\u001b[0m",
      "\u001b[1;32m<ipython-input-1-5ac4b6622d21>\u001b[0m in \u001b[0;36m__init__\u001b[1;34m(self, y_true, y_pred)\u001b[0m\n\u001b[0;32m      9\u001b[0m \u001b[1;31m#             raise TypeError(\"Must be list/tuple\")\u001b[0m\u001b[1;33m\u001b[0m\u001b[1;33m\u001b[0m\u001b[1;33m\u001b[0m\u001b[0m\n\u001b[0;32m     10\u001b[0m         \u001b[0mModel\u001b[0m\u001b[1;33m.\u001b[0m\u001b[0m_validate_input\u001b[0m\u001b[1;33m(\u001b[0m\u001b[0my_true\u001b[0m\u001b[1;33m,\u001b[0m\u001b[1;34m\"y_true\"\u001b[0m\u001b[1;33m)\u001b[0m\u001b[1;33m\u001b[0m\u001b[1;33m\u001b[0m\u001b[0m\n\u001b[1;32m---> 11\u001b[1;33m         \u001b[0mModel\u001b[0m\u001b[1;33m.\u001b[0m\u001b[0m_validate_input\u001b[0m\u001b[1;33m(\u001b[0m\u001b[0my_pred\u001b[0m\u001b[1;33m,\u001b[0m\u001b[1;34m\"y_pred\"\u001b[0m\u001b[1;33m)\u001b[0m\u001b[1;33m\u001b[0m\u001b[1;33m\u001b[0m\u001b[0m\n\u001b[0m\u001b[0;32m     12\u001b[0m \u001b[1;33m\u001b[0m\u001b[0m\n\u001b[0;32m     13\u001b[0m         \u001b[1;32mif\u001b[0m \u001b[1;32mnot\u001b[0m \u001b[0mlen\u001b[0m\u001b[1;33m(\u001b[0m\u001b[0my_true\u001b[0m\u001b[1;33m)\u001b[0m \u001b[1;33m==\u001b[0m \u001b[0mlen\u001b[0m\u001b[1;33m(\u001b[0m\u001b[0my_pred\u001b[0m\u001b[1;33m)\u001b[0m\u001b[1;33m:\u001b[0m\u001b[1;33m\u001b[0m\u001b[1;33m\u001b[0m\u001b[0m\n",
      "\u001b[1;32m<ipython-input-1-5ac4b6622d21>\u001b[0m in \u001b[0;36m_validate_input\u001b[1;34m(iters, var_name)\u001b[0m\n\u001b[0;32m     21\u001b[0m     \u001b[1;32mdef\u001b[0m \u001b[0m_validate_input\u001b[0m\u001b[1;33m(\u001b[0m\u001b[0miters\u001b[0m\u001b[1;33m,\u001b[0m\u001b[0mvar_name\u001b[0m\u001b[1;33m)\u001b[0m\u001b[1;33m:\u001b[0m\u001b[1;33m\u001b[0m\u001b[1;33m\u001b[0m\u001b[0m\n\u001b[0;32m     22\u001b[0m         \u001b[1;32mif\u001b[0m \u001b[1;32mnot\u001b[0m \u001b[0misinstance\u001b[0m\u001b[1;33m(\u001b[0m\u001b[0miters\u001b[0m\u001b[1;33m,\u001b[0m\u001b[1;33m(\u001b[0m\u001b[0mlist\u001b[0m\u001b[1;33m,\u001b[0m\u001b[0mtuple\u001b[0m\u001b[1;33m)\u001b[0m\u001b[1;33m)\u001b[0m\u001b[1;33m:\u001b[0m\u001b[1;33m\u001b[0m\u001b[1;33m\u001b[0m\u001b[0m\n\u001b[1;32m---> 23\u001b[1;33m             \u001b[1;32mraise\u001b[0m \u001b[0mTypeError\u001b[0m\u001b[1;33m(\u001b[0m\u001b[1;34mf\"The {var_name} must be list/tuple, not {type(iters).__name__}.\"\u001b[0m\u001b[1;33m)\u001b[0m\u001b[1;33m\u001b[0m\u001b[1;33m\u001b[0m\u001b[0m\n\u001b[0m\u001b[0;32m     24\u001b[0m \u001b[1;33m\u001b[0m\u001b[0m\n\u001b[0;32m     25\u001b[0m \u001b[1;33m\u001b[0m\u001b[0m\n",
      "\u001b[1;31mTypeError\u001b[0m: The y_pred must be list/tuple, not str."
     ]
    }
   ],
   "source": [
    "model=Model([0,0,1,0,0,1,0],\"sdfsdf\")"
   ]
  },
  {
   "cell_type": "code",
   "execution_count": 5,
   "id": "5ec9f803",
   "metadata": {},
   "outputs": [
    {
     "ename": "ValueError",
     "evalue": "Must be same length",
     "output_type": "error",
     "traceback": [
      "\u001b[1;31m---------------------------------------------------------------------------\u001b[0m",
      "\u001b[1;31mValueError\u001b[0m                                Traceback (most recent call last)",
      "\u001b[1;32m<ipython-input-5-4e79c153b3be>\u001b[0m in \u001b[0;36m<module>\u001b[1;34m\u001b[0m\n\u001b[1;32m----> 1\u001b[1;33m \u001b[0mmodel\u001b[0m\u001b[1;33m=\u001b[0m\u001b[0mModel\u001b[0m\u001b[1;33m(\u001b[0m\u001b[1;33m[\u001b[0m\u001b[1;36m0\u001b[0m\u001b[1;33m,\u001b[0m\u001b[1;36m0\u001b[0m\u001b[1;33m,\u001b[0m\u001b[1;36m1\u001b[0m\u001b[1;33m,\u001b[0m\u001b[1;36m0\u001b[0m\u001b[1;33m,\u001b[0m\u001b[1;36m0\u001b[0m\u001b[1;33m,\u001b[0m\u001b[1;36m1\u001b[0m\u001b[1;33m,\u001b[0m\u001b[1;36m0\u001b[0m\u001b[1;33m]\u001b[0m\u001b[1;33m,\u001b[0m\u001b[1;33m[\u001b[0m\u001b[1;36m0\u001b[0m\u001b[1;33m,\u001b[0m\u001b[1;36m0\u001b[0m\u001b[1;33m,\u001b[0m\u001b[1;36m1\u001b[0m\u001b[1;33m,\u001b[0m\u001b[1;36m0\u001b[0m\u001b[1;33m,\u001b[0m\u001b[1;36m0\u001b[0m\u001b[1;33m,\u001b[0m\u001b[1;36m0\u001b[0m\u001b[1;33m,\u001b[0m\u001b[1;36m0\u001b[0m\u001b[1;33m,\u001b[0m\u001b[1;36m1\u001b[0m\u001b[1;33m]\u001b[0m\u001b[1;33m)\u001b[0m\u001b[1;33m\u001b[0m\u001b[1;33m\u001b[0m\u001b[0m\n\u001b[0m",
      "\u001b[1;32m<ipython-input-1-5ac4b6622d21>\u001b[0m in \u001b[0;36m__init__\u001b[1;34m(self, y_true, y_pred)\u001b[0m\n\u001b[0;32m     12\u001b[0m \u001b[1;33m\u001b[0m\u001b[0m\n\u001b[0;32m     13\u001b[0m         \u001b[1;32mif\u001b[0m \u001b[1;32mnot\u001b[0m \u001b[0mlen\u001b[0m\u001b[1;33m(\u001b[0m\u001b[0my_true\u001b[0m\u001b[1;33m)\u001b[0m \u001b[1;33m==\u001b[0m \u001b[0mlen\u001b[0m\u001b[1;33m(\u001b[0m\u001b[0my_pred\u001b[0m\u001b[1;33m)\u001b[0m\u001b[1;33m:\u001b[0m\u001b[1;33m\u001b[0m\u001b[1;33m\u001b[0m\u001b[0m\n\u001b[1;32m---> 14\u001b[1;33m             \u001b[1;32mraise\u001b[0m \u001b[0mValueError\u001b[0m\u001b[1;33m(\u001b[0m\u001b[1;34m\"Must be same length\"\u001b[0m\u001b[1;33m)\u001b[0m\u001b[1;33m\u001b[0m\u001b[1;33m\u001b[0m\u001b[0m\n\u001b[0m\u001b[0;32m     15\u001b[0m \u001b[1;33m\u001b[0m\u001b[0m\n\u001b[0;32m     16\u001b[0m         \u001b[0mself\u001b[0m\u001b[1;33m.\u001b[0m\u001b[0m_y_true\u001b[0m \u001b[1;33m=\u001b[0m \u001b[0my_true\u001b[0m\u001b[1;33m\u001b[0m\u001b[1;33m\u001b[0m\u001b[0m\n",
      "\u001b[1;31mValueError\u001b[0m: Must be same length"
     ]
    }
   ],
   "source": [
    "model=Model([0,0,1,0,0,1,0],[0,0,1,0,0,0,0,1])"
   ]
  },
  {
   "cell_type": "code",
   "execution_count": 6,
   "id": "327bfa45",
   "metadata": {},
   "outputs": [
    {
     "data": {
      "text/plain": [
       "[0, 0, 1, 0, 0, 1, 0]"
      ]
     },
     "execution_count": 6,
     "metadata": {},
     "output_type": "execute_result"
    }
   ],
   "source": [
    "model.y_true"
   ]
  },
  {
   "cell_type": "code",
   "execution_count": 7,
   "id": "1aef8eb6",
   "metadata": {},
   "outputs": [],
   "source": [
    "model.y_true=[0, 0, 1, 0, 0, 1, 1]"
   ]
  },
  {
   "cell_type": "code",
   "execution_count": 8,
   "id": "982ff577",
   "metadata": {},
   "outputs": [
    {
     "name": "stdout",
     "output_type": "stream",
     "text": [
      "Model accuracy: 0.8571\n"
     ]
    }
   ],
   "source": [
    "model.accuracy"
   ]
  },
  {
   "cell_type": "code",
   "execution_count": 9,
   "id": "ec3f0605",
   "metadata": {},
   "outputs": [
    {
     "ename": "TypeError",
     "evalue": "The value must be list/tuple, not bool.",
     "output_type": "error",
     "traceback": [
      "\u001b[1;31m---------------------------------------------------------------------------\u001b[0m",
      "\u001b[1;31mTypeError\u001b[0m                                 Traceback (most recent call last)",
      "\u001b[1;32m<ipython-input-9-809cf7e5a850>\u001b[0m in \u001b[0;36m<module>\u001b[1;34m\u001b[0m\n\u001b[1;32m----> 1\u001b[1;33m \u001b[0mmodel\u001b[0m\u001b[1;33m.\u001b[0m\u001b[0my_true\u001b[0m\u001b[1;33m=\u001b[0m\u001b[1;32mFalse\u001b[0m\u001b[1;33m\u001b[0m\u001b[1;33m\u001b[0m\u001b[0m\n\u001b[0m",
      "\u001b[1;32m<ipython-input-1-5ac4b6622d21>\u001b[0m in \u001b[0;36my_true\u001b[1;34m(self, value)\u001b[0m\n\u001b[0;32m     41\u001b[0m     \u001b[1;32mdef\u001b[0m \u001b[0my_true\u001b[0m\u001b[1;33m(\u001b[0m\u001b[0mself\u001b[0m\u001b[1;33m,\u001b[0m\u001b[0mvalue\u001b[0m\u001b[1;33m)\u001b[0m\u001b[1;33m:\u001b[0m\u001b[1;33m\u001b[0m\u001b[1;33m\u001b[0m\u001b[0m\n\u001b[0;32m     42\u001b[0m \u001b[1;33m\u001b[0m\u001b[0m\n\u001b[1;32m---> 43\u001b[1;33m         \u001b[0mModel\u001b[0m\u001b[1;33m.\u001b[0m\u001b[0m_validate_value\u001b[0m\u001b[1;33m(\u001b[0m\u001b[0mself\u001b[0m\u001b[1;33m,\u001b[0m\u001b[0mvalue\u001b[0m\u001b[1;33m,\u001b[0m\u001b[1;34m\"y_true\"\u001b[0m\u001b[1;33m)\u001b[0m\u001b[1;33m\u001b[0m\u001b[1;33m\u001b[0m\u001b[0m\n\u001b[0m\u001b[0;32m     44\u001b[0m \u001b[1;33m\u001b[0m\u001b[0m\n\u001b[0;32m     45\u001b[0m         \u001b[0mself\u001b[0m\u001b[1;33m.\u001b[0m\u001b[0m_y_pred\u001b[0m \u001b[1;33m=\u001b[0m \u001b[0mvalue\u001b[0m\u001b[1;33m\u001b[0m\u001b[1;33m\u001b[0m\u001b[0m\n",
      "\u001b[1;32m<ipython-input-1-5ac4b6622d21>\u001b[0m in \u001b[0;36m_validate_value\u001b[1;34m(self, value, var_name)\u001b[0m\n\u001b[0;32m     26\u001b[0m     \u001b[1;32mdef\u001b[0m \u001b[0m_validate_value\u001b[0m\u001b[1;33m(\u001b[0m\u001b[0mself\u001b[0m\u001b[1;33m,\u001b[0m\u001b[0mvalue\u001b[0m\u001b[1;33m,\u001b[0m\u001b[0mvar_name\u001b[0m\u001b[1;33m)\u001b[0m\u001b[1;33m:\u001b[0m\u001b[1;33m\u001b[0m\u001b[1;33m\u001b[0m\u001b[0m\n\u001b[0;32m     27\u001b[0m         \u001b[1;32mif\u001b[0m \u001b[1;32mnot\u001b[0m \u001b[0misinstance\u001b[0m\u001b[1;33m(\u001b[0m\u001b[0mvalue\u001b[0m\u001b[1;33m,\u001b[0m\u001b[1;33m(\u001b[0m\u001b[0mlist\u001b[0m\u001b[1;33m,\u001b[0m\u001b[0mtuple\u001b[0m\u001b[1;33m)\u001b[0m\u001b[1;33m)\u001b[0m\u001b[1;33m:\u001b[0m\u001b[1;33m\u001b[0m\u001b[1;33m\u001b[0m\u001b[0m\n\u001b[1;32m---> 28\u001b[1;33m             \u001b[1;32mraise\u001b[0m \u001b[0mTypeError\u001b[0m\u001b[1;33m(\u001b[0m\u001b[1;34mf\"The value must be list/tuple, not {type(value).__name__}.\"\u001b[0m\u001b[1;33m)\u001b[0m\u001b[1;33m\u001b[0m\u001b[1;33m\u001b[0m\u001b[0m\n\u001b[0m\u001b[0;32m     29\u001b[0m \u001b[1;33m\u001b[0m\u001b[0m\n\u001b[0;32m     30\u001b[0m         \u001b[0mmapping\u001b[0m\u001b[1;33m=\u001b[0m\u001b[1;33m{\u001b[0m\u001b[1;34m\"y_true\"\u001b[0m\u001b[1;33m:\u001b[0m\u001b[1;34m\"_y_pred\"\u001b[0m\u001b[1;33m,\u001b[0m\u001b[1;34m\"y_pred\"\u001b[0m\u001b[1;33m:\u001b[0m\u001b[1;34m\"_y_true\"\u001b[0m\u001b[1;33m}\u001b[0m\u001b[1;33m\u001b[0m\u001b[1;33m\u001b[0m\u001b[0m\n",
      "\u001b[1;31mTypeError\u001b[0m: The value must be list/tuple, not bool."
     ]
    }
   ],
   "source": [
    "model.y_true=False"
   ]
  },
  {
   "cell_type": "code",
   "execution_count": 10,
   "id": "2dd270f1",
   "metadata": {},
   "outputs": [
    {
     "ename": "TypeError",
     "evalue": "The value must be list/tuple, not bool.",
     "output_type": "error",
     "traceback": [
      "\u001b[1;31m---------------------------------------------------------------------------\u001b[0m",
      "\u001b[1;31mTypeError\u001b[0m                                 Traceback (most recent call last)",
      "\u001b[1;32m<ipython-input-10-3813340631e1>\u001b[0m in \u001b[0;36m<module>\u001b[1;34m\u001b[0m\n\u001b[1;32m----> 1\u001b[1;33m \u001b[0mmodel\u001b[0m\u001b[1;33m.\u001b[0m\u001b[0my_pred\u001b[0m\u001b[1;33m=\u001b[0m\u001b[1;32mFalse\u001b[0m\u001b[1;33m\u001b[0m\u001b[1;33m\u001b[0m\u001b[0m\n\u001b[0m",
      "\u001b[1;32m<ipython-input-1-5ac4b6622d21>\u001b[0m in \u001b[0;36my_pred\u001b[1;34m(self, value)\u001b[0m\n\u001b[0;32m     58\u001b[0m     \u001b[1;32mdef\u001b[0m \u001b[0my_pred\u001b[0m\u001b[1;33m(\u001b[0m\u001b[0mself\u001b[0m\u001b[1;33m,\u001b[0m\u001b[0mvalue\u001b[0m\u001b[1;33m)\u001b[0m\u001b[1;33m:\u001b[0m\u001b[1;33m\u001b[0m\u001b[1;33m\u001b[0m\u001b[0m\n\u001b[0;32m     59\u001b[0m \u001b[1;33m\u001b[0m\u001b[0m\n\u001b[1;32m---> 60\u001b[1;33m         \u001b[0mModel\u001b[0m\u001b[1;33m.\u001b[0m\u001b[0m_validate_value\u001b[0m\u001b[1;33m(\u001b[0m\u001b[0mself\u001b[0m\u001b[1;33m,\u001b[0m\u001b[0mvalue\u001b[0m\u001b[1;33m,\u001b[0m\u001b[1;34m\"y_pred\"\u001b[0m\u001b[1;33m)\u001b[0m\u001b[1;33m\u001b[0m\u001b[1;33m\u001b[0m\u001b[0m\n\u001b[0m\u001b[0;32m     61\u001b[0m \u001b[1;33m\u001b[0m\u001b[0m\n\u001b[0;32m     62\u001b[0m \u001b[1;33m\u001b[0m\u001b[0m\n",
      "\u001b[1;32m<ipython-input-1-5ac4b6622d21>\u001b[0m in \u001b[0;36m_validate_value\u001b[1;34m(self, value, var_name)\u001b[0m\n\u001b[0;32m     26\u001b[0m     \u001b[1;32mdef\u001b[0m \u001b[0m_validate_value\u001b[0m\u001b[1;33m(\u001b[0m\u001b[0mself\u001b[0m\u001b[1;33m,\u001b[0m\u001b[0mvalue\u001b[0m\u001b[1;33m,\u001b[0m\u001b[0mvar_name\u001b[0m\u001b[1;33m)\u001b[0m\u001b[1;33m:\u001b[0m\u001b[1;33m\u001b[0m\u001b[1;33m\u001b[0m\u001b[0m\n\u001b[0;32m     27\u001b[0m         \u001b[1;32mif\u001b[0m \u001b[1;32mnot\u001b[0m \u001b[0misinstance\u001b[0m\u001b[1;33m(\u001b[0m\u001b[0mvalue\u001b[0m\u001b[1;33m,\u001b[0m\u001b[1;33m(\u001b[0m\u001b[0mlist\u001b[0m\u001b[1;33m,\u001b[0m\u001b[0mtuple\u001b[0m\u001b[1;33m)\u001b[0m\u001b[1;33m)\u001b[0m\u001b[1;33m:\u001b[0m\u001b[1;33m\u001b[0m\u001b[1;33m\u001b[0m\u001b[0m\n\u001b[1;32m---> 28\u001b[1;33m             \u001b[1;32mraise\u001b[0m \u001b[0mTypeError\u001b[0m\u001b[1;33m(\u001b[0m\u001b[1;34mf\"The value must be list/tuple, not {type(value).__name__}.\"\u001b[0m\u001b[1;33m)\u001b[0m\u001b[1;33m\u001b[0m\u001b[1;33m\u001b[0m\u001b[0m\n\u001b[0m\u001b[0;32m     29\u001b[0m \u001b[1;33m\u001b[0m\u001b[0m\n\u001b[0;32m     30\u001b[0m         \u001b[0mmapping\u001b[0m\u001b[1;33m=\u001b[0m\u001b[1;33m{\u001b[0m\u001b[1;34m\"y_true\"\u001b[0m\u001b[1;33m:\u001b[0m\u001b[1;34m\"_y_pred\"\u001b[0m\u001b[1;33m,\u001b[0m\u001b[1;34m\"y_pred\"\u001b[0m\u001b[1;33m:\u001b[0m\u001b[1;34m\"_y_true\"\u001b[0m\u001b[1;33m}\u001b[0m\u001b[1;33m\u001b[0m\u001b[1;33m\u001b[0m\u001b[0m\n",
      "\u001b[1;31mTypeError\u001b[0m: The value must be list/tuple, not bool."
     ]
    }
   ],
   "source": [
    "model.y_pred=False"
   ]
  },
  {
   "cell_type": "code",
   "execution_count": 14,
   "id": "1da9be41",
   "metadata": {},
   "outputs": [],
   "source": [
    "model.y_pred=[0,0,1,0,0,0,0]"
   ]
  },
  {
   "cell_type": "code",
   "execution_count": 15,
   "id": "1024766f",
   "metadata": {},
   "outputs": [
    {
     "name": "stdout",
     "output_type": "stream",
     "text": [
      "Calculating...\n",
      "Model accuracy: 0.8571\n"
     ]
    }
   ],
   "source": [
    "model.accuracy"
   ]
  },
  {
   "cell_type": "code",
   "execution_count": null,
   "id": "ed1e80b6",
   "metadata": {},
   "outputs": [],
   "source": []
  }
 ],
 "metadata": {
  "kernelspec": {
   "display_name": "Python 3",
   "language": "python",
   "name": "python3"
  },
  "language_info": {
   "codemirror_mode": {
    "name": "ipython",
    "version": 3
   },
   "file_extension": ".py",
   "mimetype": "text/x-python",
   "name": "python",
   "nbconvert_exporter": "python",
   "pygments_lexer": "ipython3",
   "version": "3.8.10"
  }
 },
 "nbformat": 4,
 "nbformat_minor": 5
}
