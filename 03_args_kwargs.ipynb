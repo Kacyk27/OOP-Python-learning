{
 "cells": [
  {
   "cell_type": "markdown",
   "id": "80a03b57",
   "metadata": {},
   "source": [
    "## Przypomnienie args i kwargs"
   ]
  },
  {
   "cell_type": "code",
   "execution_count": 1,
   "id": "e73c584c",
   "metadata": {},
   "outputs": [],
   "source": [
    "def sample(*args):\n",
    "    print(len(args))\n",
    "    print(args)"
   ]
  },
  {
   "cell_type": "code",
   "execution_count": 4,
   "id": "119e0399",
   "metadata": {},
   "outputs": [
    {
     "name": "stdout",
     "output_type": "stream",
     "text": [
      "0\n",
      "()\n"
     ]
    }
   ],
   "source": [
    "sample()"
   ]
  },
  {
   "cell_type": "code",
   "execution_count": 5,
   "id": "a9277c84",
   "metadata": {},
   "outputs": [
    {
     "name": "stdout",
     "output_type": "stream",
     "text": [
      "1\n",
      "(3,)\n"
     ]
    }
   ],
   "source": [
    "sample(3)"
   ]
  },
  {
   "cell_type": "code",
   "execution_count": 6,
   "id": "4ed7e922",
   "metadata": {},
   "outputs": [
    {
     "name": "stdout",
     "output_type": "stream",
     "text": [
      "3\n",
      "(4, 5, 6)\n"
     ]
    }
   ],
   "source": [
    "sample(4,5,6)"
   ]
  },
  {
   "cell_type": "code",
   "execution_count": 7,
   "id": "06f3fba2",
   "metadata": {},
   "outputs": [
    {
     "name": "stdout",
     "output_type": "stream",
     "text": [
      "6\n",
      "(1, 2, 'a', 'b', True, False)\n"
     ]
    }
   ],
   "source": [
    "sample(1,2,\"a\",\"b\",True,False)"
   ]
  },
  {
   "cell_type": "code",
   "execution_count": 8,
   "id": "6a5e4025",
   "metadata": {},
   "outputs": [],
   "source": [
    "def sample(*components):\n",
    "    print(len(components))\n",
    "    print(components)"
   ]
  },
  {
   "cell_type": "code",
   "execution_count": 9,
   "id": "992c9c5f",
   "metadata": {},
   "outputs": [
    {
     "name": "stdout",
     "output_type": "stream",
     "text": [
      "3\n",
      "(1, 2, 3)\n"
     ]
    }
   ],
   "source": [
    "sample(1,2,3)"
   ]
  },
  {
   "cell_type": "code",
   "execution_count": 11,
   "id": "2cf5b4dc",
   "metadata": {},
   "outputs": [
    {
     "name": "stdout",
     "output_type": "stream",
     "text": [
      "45\n"
     ]
    },
    {
     "data": {
      "text/plain": [
       "'abc'"
      ]
     },
     "execution_count": 11,
     "metadata": {},
     "output_type": "execute_result"
    }
   ],
   "source": [
    "def stick(*args):\n",
    "    result=\"\"\n",
    "    for arg in args:\n",
    "        result+= str(arg)\n",
    "    return result\n",
    "\n",
    "print(stick(4,5))\n",
    "stick(\"a\",\"b\",\"c\")"
   ]
  },
  {
   "cell_type": "code",
   "execution_count": 12,
   "id": "abab920a",
   "metadata": {},
   "outputs": [
    {
     "ename": "TypeError",
     "evalue": "stick() got an unexpected keyword argument 'var1'",
     "output_type": "error",
     "traceback": [
      "\u001b[1;31m---------------------------------------------------------------------------\u001b[0m",
      "\u001b[1;31mTypeError\u001b[0m                                 Traceback (most recent call last)",
      "\u001b[1;32m<ipython-input-12-97efcac741fa>\u001b[0m in \u001b[0;36m<module>\u001b[1;34m\u001b[0m\n\u001b[1;32m----> 1\u001b[1;33m \u001b[0mstick\u001b[0m\u001b[1;33m(\u001b[0m\u001b[0mvar1\u001b[0m\u001b[1;33m=\u001b[0m\u001b[1;34m\"Python\"\u001b[0m\u001b[1;33m,\u001b[0m\u001b[0mvar2\u001b[0m\u001b[1;33m=\u001b[0m\u001b[1;34m\"3.8\"\u001b[0m\u001b[1;33m)\u001b[0m\u001b[1;33m\u001b[0m\u001b[1;33m\u001b[0m\u001b[0m\n\u001b[0m",
      "\u001b[1;31mTypeError\u001b[0m: stick() got an unexpected keyword argument 'var1'"
     ]
    }
   ],
   "source": [
    "stick(var1=\"Python\",var2=\"3.8\")"
   ]
  },
  {
   "cell_type": "code",
   "execution_count": 13,
   "id": "05e9f66b",
   "metadata": {},
   "outputs": [],
   "source": [
    "def sample(**kwargs):\n",
    "    print(len(kwargs))\n",
    "    print(kwargs)"
   ]
  },
  {
   "cell_type": "code",
   "execution_count": 14,
   "id": "8792ece6",
   "metadata": {},
   "outputs": [
    {
     "name": "stdout",
     "output_type": "stream",
     "text": [
      "0\n",
      "{}\n"
     ]
    }
   ],
   "source": [
    "sample()"
   ]
  },
  {
   "cell_type": "code",
   "execution_count": 15,
   "id": "fb4f3dda",
   "metadata": {},
   "outputs": [
    {
     "name": "stdout",
     "output_type": "stream",
     "text": [
      "2\n",
      "{'var1': 2, 'var2': 'a'}\n"
     ]
    }
   ],
   "source": [
    "sample(var1=2,var2=\"a\")"
   ]
  },
  {
   "cell_type": "code",
   "execution_count": 16,
   "id": "49673bf3",
   "metadata": {},
   "outputs": [],
   "source": [
    "def func(**kwargs):\n",
    "    for item in kwargs.items():\n",
    "        print(item)\n",
    "\n",
    "func()"
   ]
  },
  {
   "cell_type": "code",
   "execution_count": 17,
   "id": "6783f465",
   "metadata": {},
   "outputs": [
    {
     "name": "stdout",
     "output_type": "stream",
     "text": [
      "('name', 'John')\n",
      "('surname', 'Wick')\n"
     ]
    }
   ],
   "source": [
    "func(name=\"John\",surname=\"Wick\")"
   ]
  },
  {
   "cell_type": "code",
   "execution_count": 19,
   "id": "55a8af65",
   "metadata": {},
   "outputs": [],
   "source": [
    "def hello(**kwargs):\n",
    "    if \"name\" in kwargs:\n",
    "        print(\"Hello {}\".format(kwargs[\"name\"]))\n",
    "    else:\n",
    "        print(\"Hello\")\n"
   ]
  },
  {
   "cell_type": "code",
   "execution_count": 20,
   "id": "3c014d16",
   "metadata": {},
   "outputs": [
    {
     "name": "stdout",
     "output_type": "stream",
     "text": [
      "Hello\n"
     ]
    }
   ],
   "source": [
    "hello(var1=\"John\")"
   ]
  },
  {
   "cell_type": "code",
   "execution_count": 21,
   "id": "b07495c0",
   "metadata": {},
   "outputs": [
    {
     "name": "stdout",
     "output_type": "stream",
     "text": [
      "Hello John Cena\n"
     ]
    }
   ],
   "source": [
    "hello(name=\"John Cena\")"
   ]
  },
  {
   "cell_type": "code",
   "execution_count": 37,
   "id": "e306b20e",
   "metadata": {},
   "outputs": [],
   "source": [
    "def sum_int(**kwargs):\n",
    "    if kwargs:\n",
    "        result=0\n",
    "        for kwarg in kwargs.values():\n",
    "            if isinstance(kwarg,int) or isinstance(kwarg,float):\n",
    "                result+=kwarg\n",
    "        return result\n",
    "    return None"
   ]
  },
  {
   "cell_type": "code",
   "execution_count": 25,
   "id": "72dbfe03",
   "metadata": {},
   "outputs": [],
   "source": [
    "sum_int()"
   ]
  },
  {
   "cell_type": "code",
   "execution_count": 26,
   "id": "b1c3e20c",
   "metadata": {},
   "outputs": [
    {
     "ename": "TypeError",
     "evalue": "sum_int() takes 0 positional arguments but 3 were given",
     "output_type": "error",
     "traceback": [
      "\u001b[1;31m---------------------------------------------------------------------------\u001b[0m",
      "\u001b[1;31mTypeError\u001b[0m                                 Traceback (most recent call last)",
      "\u001b[1;32m<ipython-input-26-dc2e3669fbca>\u001b[0m in \u001b[0;36m<module>\u001b[1;34m\u001b[0m\n\u001b[1;32m----> 1\u001b[1;33m \u001b[0msum_int\u001b[0m\u001b[1;33m(\u001b[0m\u001b[1;36m1\u001b[0m\u001b[1;33m,\u001b[0m\u001b[1;36m2\u001b[0m\u001b[1;33m,\u001b[0m\u001b[1;36m3\u001b[0m\u001b[1;33m)\u001b[0m\u001b[1;33m\u001b[0m\u001b[1;33m\u001b[0m\u001b[0m\n\u001b[0m",
      "\u001b[1;31mTypeError\u001b[0m: sum_int() takes 0 positional arguments but 3 were given"
     ]
    }
   ],
   "source": [
    "sum_int(1,2,3)"
   ]
  },
  {
   "cell_type": "code",
   "execution_count": 27,
   "id": "ff6b1edd",
   "metadata": {},
   "outputs": [
    {
     "data": {
      "text/plain": [
       "6"
      ]
     },
     "execution_count": 27,
     "metadata": {},
     "output_type": "execute_result"
    }
   ],
   "source": [
    "sum_int(var1=1,var2=2,var3=3)"
   ]
  },
  {
   "cell_type": "code",
   "execution_count": 28,
   "id": "879197f2",
   "metadata": {},
   "outputs": [
    {
     "data": {
      "text/plain": [
       "0"
      ]
     },
     "execution_count": 28,
     "metadata": {},
     "output_type": "execute_result"
    }
   ],
   "source": [
    "sum_int(name=\"John\")"
   ]
  },
  {
   "cell_type": "code",
   "execution_count": 38,
   "id": "4eaea082",
   "metadata": {},
   "outputs": [
    {
     "data": {
      "text/plain": [
       "7.5"
      ]
     },
     "execution_count": 38,
     "metadata": {},
     "output_type": "execute_result"
    }
   ],
   "source": [
    "sum_int(name=\"John\",var1=5,var2=2,ratio=0.5)"
   ]
  },
  {
   "cell_type": "code",
   "execution_count": 39,
   "id": "6113a6df",
   "metadata": {},
   "outputs": [],
   "source": [
    "def sample(*args,**kwargs):\n",
    "    print(args)\n",
    "    print(kwargs)"
   ]
  },
  {
   "cell_type": "code",
   "execution_count": 40,
   "id": "8d1c51c7",
   "metadata": {},
   "outputs": [
    {
     "name": "stdout",
     "output_type": "stream",
     "text": [
      "()\n",
      "{}\n"
     ]
    }
   ],
   "source": [
    "sample()"
   ]
  },
  {
   "cell_type": "code",
   "execution_count": 41,
   "id": "a4aaa096",
   "metadata": {},
   "outputs": [
    {
     "name": "stdout",
     "output_type": "stream",
     "text": [
      "(1, 2, 3)\n",
      "{'var1': 1, 'var2': 2, 'var3': 3}\n"
     ]
    }
   ],
   "source": [
    "sample(1,2,3,var1=1,var2=2,var3=3)"
   ]
  },
  {
   "cell_type": "code",
   "execution_count": 42,
   "id": "61c43f72",
   "metadata": {},
   "outputs": [],
   "source": [
    "stocks={\"appl\":\"Apple\",\"tsla\":\"Tesla\"}\n"
   ]
  },
  {
   "cell_type": "code",
   "execution_count": 43,
   "id": "d4617648",
   "metadata": {},
   "outputs": [
    {
     "name": "stdout",
     "output_type": "stream",
     "text": [
      "()\n",
      "{'appl': 'Apple', 'tsla': 'Tesla'}\n"
     ]
    }
   ],
   "source": [
    "sample(**stocks)"
   ]
  },
  {
   "cell_type": "code",
   "execution_count": 49,
   "id": "0f1dec3a",
   "metadata": {},
   "outputs": [
    {
     "name": "stdout",
     "output_type": "stream",
     "text": [
      "sport,summer\n",
      "\n",
      "time,workout,gym\n"
     ]
    }
   ],
   "source": [
    "def stick(*args):\n",
    "    result=\"\"\n",
    "    for arg in args:\n",
    "        if isinstance(arg,str):\n",
    "            result=result+arg+\",\"\n",
    "    result=result.strip(\",\")\n",
    "    return result\n",
    "\n",
    "print(stick(\"sport\",\"summer\"))\n",
    "print(stick(3,5,7))\n",
    "print(stick(False,\"time\",True,\"workout\",[],\"gym\"))"
   ]
  },
  {
   "cell_type": "code",
   "execution_count": 53,
   "id": "2e06fbc7",
   "metadata": {},
   "outputs": [
    {
     "name": "stdout",
     "output_type": "stream",
     "text": [
      "Main technology : python\n",
      "SQL -> mid\n"
     ]
    }
   ],
   "source": [
    "def info(main_tech, **techs):\n",
    "    \n",
    "    print(\"Main technology : {}\".format(main_tech))\n",
    "    if \"sql\" in techs:\n",
    "        print(\"SQL -> {}\".format(techs[\"sql\"]))\n",
    "\n",
    "info(\"python\",sql=\"mid\")"
   ]
  },
  {
   "cell_type": "code",
   "execution_count": null,
   "id": "d0c15343",
   "metadata": {},
   "outputs": [],
   "source": []
  }
 ],
 "metadata": {
  "kernelspec": {
   "display_name": "Python 3",
   "language": "python",
   "name": "python3"
  },
  "language_info": {
   "codemirror_mode": {
    "name": "ipython",
    "version": 3
   },
   "file_extension": ".py",
   "mimetype": "text/x-python",
   "name": "python",
   "nbconvert_exporter": "python",
   "pygments_lexer": "ipython3",
   "version": "3.8.10"
  }
 },
 "nbformat": 4,
 "nbformat_minor": 5
}
