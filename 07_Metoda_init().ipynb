{
 "cells": [
  {
   "cell_type": "markdown",
   "id": "28f06ba0",
   "metadata": {},
   "source": [
    "## Metoda init"
   ]
  },
  {
   "cell_type": "code",
   "execution_count": 1,
   "id": "2306060e",
   "metadata": {},
   "outputs": [
    {
     "name": "stdout",
     "output_type": "stream",
     "text": [
      "Help on class Phone in module __main__:\n",
      "\n",
      "class Phone(builtins.object)\n",
      " |  Phone class\n",
      " |  \n",
      " |  Data descriptors defined here:\n",
      " |  \n",
      " |  __dict__\n",
      " |      dictionary for instance variables (if defined)\n",
      " |  \n",
      " |  __weakref__\n",
      " |      list of weak references to the object (if defined)\n",
      "\n"
     ]
    }
   ],
   "source": [
    "class Phone:\n",
    "    \"\"\"Phone class\"\"\"\n",
    "\n",
    "help(Phone)"
   ]
  },
  {
   "cell_type": "code",
   "execution_count": 2,
   "id": "6dcbd343",
   "metadata": {},
   "outputs": [
    {
     "name": "stdout",
     "output_type": "stream",
     "text": [
      "Help on class object in module builtins:\n",
      "\n",
      "class object\n",
      " |  The base class of the class hierarchy.\n",
      " |  \n",
      " |  When called, it accepts no arguments and returns a new featureless\n",
      " |  instance that has no instance attributes and cannot be given any.\n",
      " |  \n",
      " |  Built-in subclasses:\n",
      " |      async_generator\n",
      " |      BaseException\n",
      " |      builtin_function_or_method\n",
      " |      bytearray\n",
      " |      ... and 109 other subclasses\n",
      " |  \n",
      " |  Methods defined here:\n",
      " |  \n",
      " |  __delattr__(self, name, /)\n",
      " |      Implement delattr(self, name).\n",
      " |  \n",
      " |  __dir__(self, /)\n",
      " |      Default dir() implementation.\n",
      " |  \n",
      " |  __eq__(self, value, /)\n",
      " |      Return self==value.\n",
      " |  \n",
      " |  __format__(self, format_spec, /)\n",
      " |      Default object formatter.\n",
      " |  \n",
      " |  __ge__(self, value, /)\n",
      " |      Return self>=value.\n",
      " |  \n",
      " |  __getattribute__(self, name, /)\n",
      " |      Return getattr(self, name).\n",
      " |  \n",
      " |  __gt__(self, value, /)\n",
      " |      Return self>value.\n",
      " |  \n",
      " |  __hash__(self, /)\n",
      " |      Return hash(self).\n",
      " |  \n",
      " |  __init__(self, /, *args, **kwargs)\n",
      " |      Initialize self.  See help(type(self)) for accurate signature.\n",
      " |  \n",
      " |  __le__(self, value, /)\n",
      " |      Return self<=value.\n",
      " |  \n",
      " |  __lt__(self, value, /)\n",
      " |      Return self<value.\n",
      " |  \n",
      " |  __ne__(self, value, /)\n",
      " |      Return self!=value.\n",
      " |  \n",
      " |  __reduce__(self, /)\n",
      " |      Helper for pickle.\n",
      " |  \n",
      " |  __reduce_ex__(self, protocol, /)\n",
      " |      Helper for pickle.\n",
      " |  \n",
      " |  __repr__(self, /)\n",
      " |      Return repr(self).\n",
      " |  \n",
      " |  __setattr__(self, name, value, /)\n",
      " |      Implement setattr(self, name, value).\n",
      " |  \n",
      " |  __sizeof__(self, /)\n",
      " |      Size of object in memory, in bytes.\n",
      " |  \n",
      " |  __str__(self, /)\n",
      " |      Return str(self).\n",
      " |  \n",
      " |  ----------------------------------------------------------------------\n",
      " |  Class methods defined here:\n",
      " |  \n",
      " |  __init_subclass__(...) from builtins.type\n",
      " |      This method is called when a class is subclassed.\n",
      " |      \n",
      " |      The default implementation does nothing. It may be\n",
      " |      overridden to extend subclasses.\n",
      " |  \n",
      " |  __subclasshook__(...) from builtins.type\n",
      " |      Abstract classes can override this to customize issubclass().\n",
      " |      \n",
      " |      This is invoked early on by abc.ABCMeta.__subclasscheck__().\n",
      " |      It should return True, False or NotImplemented.  If it returns\n",
      " |      NotImplemented, the normal algorithm is used.  Otherwise, it\n",
      " |      overrides the normal algorithm (and the outcome is cached).\n",
      " |  \n",
      " |  ----------------------------------------------------------------------\n",
      " |  Static methods defined here:\n",
      " |  \n",
      " |  __new__(*args, **kwargs) from builtins.type\n",
      " |      Create and return a new object.  See help(type) for accurate signature.\n",
      " |  \n",
      " |  ----------------------------------------------------------------------\n",
      " |  Data and other attributes defined here:\n",
      " |  \n",
      " |  __class__ = <class 'type'>\n",
      " |      type(object_or_name, bases, dict)\n",
      " |      type(object) -> the object's type\n",
      " |      type(name, bases, dict) -> a new type\n",
      "\n"
     ]
    }
   ],
   "source": [
    "help(object)"
   ]
  },
  {
   "cell_type": "code",
   "execution_count": 3,
   "id": "1515018a",
   "metadata": {},
   "outputs": [
    {
     "name": "stdout",
     "output_type": "stream",
     "text": [
      "Help on wrapper_descriptor:\n",
      "\n",
      "__init__(self, /, *args, **kwargs)\n",
      "    Initialize self.  See help(type(self)) for accurate signature.\n",
      "\n"
     ]
    }
   ],
   "source": [
    "help(object.__init__)"
   ]
  },
  {
   "cell_type": "code",
   "execution_count": 4,
   "id": "28a89169",
   "metadata": {},
   "outputs": [],
   "source": [
    "class Phone:\n",
    "    \"\"\"Phone class\"\"\"\n",
    "    \n",
    "    def __init__(self):\n",
    "        print(f\"Inicjalizacja nowego obiektu {self}\")\n",
    "\n"
   ]
  },
  {
   "cell_type": "code",
   "execution_count": 5,
   "id": "1f14df1d",
   "metadata": {},
   "outputs": [
    {
     "name": "stdout",
     "output_type": "stream",
     "text": [
      "Inicjalizacja nowego obiektu <__main__.Phone object at 0x000001EFE4CD5310>\n"
     ]
    },
    {
     "data": {
      "text/plain": [
       "<__main__.Phone at 0x1efe4cd5310>"
      ]
     },
     "execution_count": 5,
     "metadata": {},
     "output_type": "execute_result"
    }
   ],
   "source": [
    "Phone()"
   ]
  },
  {
   "cell_type": "markdown",
   "id": "7f932a3e",
   "metadata": {},
   "source": [
    "## Wywołanie klasy"
   ]
  },
  {
   "cell_type": "code",
   "execution_count": 6,
   "id": "ac7275cb",
   "metadata": {},
   "outputs": [
    {
     "name": "stdout",
     "output_type": "stream",
     "text": [
      "Help on built-in function __new__:\n",
      "\n",
      "__new__(*args, **kwargs) method of builtins.type instance\n",
      "    Create and return a new object.  See help(type) for accurate signature.\n",
      "\n"
     ]
    }
   ],
   "source": [
    "help(object.__new__)"
   ]
  },
  {
   "cell_type": "code",
   "execution_count": 7,
   "id": "a4d24be1",
   "metadata": {},
   "outputs": [
    {
     "name": "stdout",
     "output_type": "stream",
     "text": [
      "Help on wrapper_descriptor:\n",
      "\n",
      "__init__(self, /, *args, **kwargs)\n",
      "    Initialize self.  See help(type(self)) for accurate signature.\n",
      "\n"
     ]
    }
   ],
   "source": [
    "help(object.__init__)"
   ]
  },
  {
   "cell_type": "code",
   "execution_count": 8,
   "id": "87836083",
   "metadata": {},
   "outputs": [],
   "source": [
    "class Phone:\n",
    "    pass\n",
    "\n",
    "phone1=Phone()"
   ]
  },
  {
   "cell_type": "code",
   "execution_count": 10,
   "id": "7e9c4ee3",
   "metadata": {},
   "outputs": [],
   "source": [
    "phone2=Phone.__new__(Phone)"
   ]
  },
  {
   "cell_type": "code",
   "execution_count": 11,
   "id": "4f51288a",
   "metadata": {},
   "outputs": [],
   "source": [
    "phone2.__init__()"
   ]
  },
  {
   "cell_type": "markdown",
   "id": "4fe38170",
   "metadata": {},
   "source": [
    "## Przykład"
   ]
  },
  {
   "cell_type": "code",
   "execution_count": 12,
   "id": "0b2ee0bd",
   "metadata": {},
   "outputs": [],
   "source": [
    "class Phone:\n",
    "    \"\"\"Phone class\"\"\"\n",
    "    \n",
    "    def __init__(self):\n",
    "        print(f\"Inicjalizacja nowego obiektu {self}\")"
   ]
  },
  {
   "cell_type": "code",
   "execution_count": 13,
   "id": "c76c51bb",
   "metadata": {},
   "outputs": [
    {
     "name": "stdout",
     "output_type": "stream",
     "text": [
      "Inicjalizacja nowego obiektu <__main__.Phone object at 0x000001EFE4D25160>\n"
     ]
    }
   ],
   "source": [
    "phone1=Phone()"
   ]
  },
  {
   "cell_type": "code",
   "execution_count": 15,
   "id": "1583aba2",
   "metadata": {},
   "outputs": [
    {
     "name": "stdout",
     "output_type": "stream",
     "text": [
      "Inicjalizacja nowego obiektu <__main__.Phone object at 0x000001EFE4D1C460>\n"
     ]
    }
   ],
   "source": [
    "class Phone:\n",
    "    \"\"\"Phone class\"\"\"\n",
    "    \n",
    "    def __init__(self,value):\n",
    "        self.brand=value\n",
    "phone2=Phone(\"Xiaomi\")"
   ]
  },
  {
   "cell_type": "code",
   "execution_count": 16,
   "id": "d382f0e5",
   "metadata": {},
   "outputs": [
    {
     "data": {
      "text/plain": [
       "<__main__.Phone at 0x1efe4d1c460>"
      ]
     },
     "execution_count": 16,
     "metadata": {},
     "output_type": "execute_result"
    }
   ],
   "source": [
    "phone2"
   ]
  },
  {
   "cell_type": "code",
   "execution_count": 17,
   "id": "f75a040f",
   "metadata": {},
   "outputs": [
    {
     "data": {
      "text/plain": [
       "'Xiaomi'"
      ]
     },
     "execution_count": 17,
     "metadata": {},
     "output_type": "execute_result"
    }
   ],
   "source": [
    "phone2.brand"
   ]
  },
  {
   "cell_type": "code",
   "execution_count": 18,
   "id": "68c59d2c",
   "metadata": {},
   "outputs": [
    {
     "data": {
      "text/plain": [
       "{'brand': 'Xiaomi'}"
      ]
     },
     "execution_count": 18,
     "metadata": {},
     "output_type": "execute_result"
    }
   ],
   "source": [
    "phone2.__dict__"
   ]
  },
  {
   "cell_type": "code",
   "execution_count": 19,
   "id": "8b5e17e2",
   "metadata": {},
   "outputs": [
    {
     "ename": "AttributeError",
     "evalue": "type object 'Phone' has no attribute 'brand'",
     "output_type": "error",
     "traceback": [
      "\u001b[1;31m---------------------------------------------------------------------------\u001b[0m",
      "\u001b[1;31mAttributeError\u001b[0m                            Traceback (most recent call last)",
      "\u001b[1;32m<ipython-input-19-336fb54af079>\u001b[0m in \u001b[0;36m<module>\u001b[1;34m\u001b[0m\n\u001b[1;32m----> 1\u001b[1;33m \u001b[0mPhone\u001b[0m\u001b[1;33m.\u001b[0m\u001b[0mbrand\u001b[0m\u001b[1;33m\u001b[0m\u001b[1;33m\u001b[0m\u001b[0m\n\u001b[0m",
      "\u001b[1;31mAttributeError\u001b[0m: type object 'Phone' has no attribute 'brand'"
     ]
    }
   ],
   "source": [
    "Phone.brand"
   ]
  },
  {
   "cell_type": "code",
   "execution_count": 20,
   "id": "f56426b8",
   "metadata": {},
   "outputs": [],
   "source": [
    "class Phone:\n",
    "    \"\"\"Phone class\"\"\"\n",
    "    \n",
    "    def __init__(self,brand):\n",
    "        self.brand=brand\n",
    "phone2=Phone(\"Xiaomi\")"
   ]
  },
  {
   "cell_type": "markdown",
   "id": "6fbe198b",
   "metadata": {},
   "source": [
    "## Zadanie\n",
    "\n",
    "### Stwórz klasę laptop posiadającą metodę __init__, która na etapie tworzenai instancji przypisze następujące atrybuty : brand, model, price"
   ]
  },
  {
   "cell_type": "code",
   "execution_count": 23,
   "id": "50138513",
   "metadata": {},
   "outputs": [],
   "source": [
    "class Laptop:\n",
    "    \n",
    "    def __init__(self,brand,model,price):\n",
    "        self.brand=brand\n",
    "        self.model=model\n",
    "        self.price=price\n"
   ]
  },
  {
   "cell_type": "code",
   "execution_count": 24,
   "id": "45e063de",
   "metadata": {},
   "outputs": [],
   "source": [
    "laptop=Laptop(\"Asus\",\"XVZ XDGaming 5600\",2900)"
   ]
  },
  {
   "cell_type": "code",
   "execution_count": 25,
   "id": "87a0f407",
   "metadata": {},
   "outputs": [
    {
     "data": {
      "text/plain": [
       "{'brand': 'Asus', 'model': 'XVZ XDGaming 5600', 'price': 2900}"
      ]
     },
     "execution_count": 25,
     "metadata": {},
     "output_type": "execute_result"
    }
   ],
   "source": [
    "laptop.__dict__"
   ]
  },
  {
   "cell_type": "markdown",
   "id": "78437a03",
   "metadata": {},
   "source": [
    "## Przykład"
   ]
  },
  {
   "cell_type": "code",
   "execution_count": 26,
   "id": "2fa5b29a",
   "metadata": {},
   "outputs": [],
   "source": [
    "class Laptop:\n",
    "    \n",
    "    def __init__(self,brand,model,price):\n",
    "        self.brand=brand\n",
    "        self.model=model\n",
    "        self.price=price\n",
    "        "
   ]
  },
  {
   "cell_type": "code",
   "execution_count": 27,
   "id": "1b8386e4",
   "metadata": {},
   "outputs": [],
   "source": [
    "laptop=Laptop(\"Asus\",\"XVZ XDGaming 5600\",2900)"
   ]
  },
  {
   "cell_type": "code",
   "execution_count": 30,
   "id": "190a9302",
   "metadata": {},
   "outputs": [
    {
     "data": {
      "text/plain": [
       "dict_keys(['brand', 'model', 'price'])"
      ]
     },
     "execution_count": 30,
     "metadata": {},
     "output_type": "execute_result"
    }
   ],
   "source": [
    "laptop.__dict__.keys()"
   ]
  },
  {
   "cell_type": "code",
   "execution_count": 35,
   "id": "ed0b5564",
   "metadata": {},
   "outputs": [],
   "source": [
    "class Laptop:\n",
    "    \n",
    "    def __init__(self,brand,model,price):\n",
    "        self.brand=brand\n",
    "        self.model=model\n",
    "        self.price=price\n",
    "    \n",
    "    def display_atr(self):\n",
    "        for atr,val in self.__dict__.items():\n",
    "            print(atr, val)"
   ]
  },
  {
   "cell_type": "code",
   "execution_count": 36,
   "id": "bea4993f",
   "metadata": {},
   "outputs": [],
   "source": [
    "laptop=Laptop(\"Asus\",\"XVZ XDGaming 5600\",2900)"
   ]
  },
  {
   "cell_type": "code",
   "execution_count": 37,
   "id": "467d2fac",
   "metadata": {},
   "outputs": [
    {
     "name": "stdout",
     "output_type": "stream",
     "text": [
      "brand Asus\n",
      "model XVZ XDGaming 5600\n",
      "price 2900\n"
     ]
    }
   ],
   "source": [
    "laptop.display_atr()"
   ]
  },
  {
   "cell_type": "markdown",
   "id": "08349764",
   "metadata": {},
   "source": [
    "## Pzykład"
   ]
  },
  {
   "cell_type": "code",
   "execution_count": 38,
   "id": "6f76c425",
   "metadata": {},
   "outputs": [],
   "source": [
    "class Vector:\n",
    "    \n",
    "    def __init__(self,*args):\n",
    "        self.components=args"
   ]
  },
  {
   "cell_type": "code",
   "execution_count": 39,
   "id": "ab65468f",
   "metadata": {},
   "outputs": [
    {
     "data": {
      "text/plain": [
       "(3, 4)"
      ]
     },
     "execution_count": 39,
     "metadata": {},
     "output_type": "execute_result"
    }
   ],
   "source": [
    "v1=Vector(3,4)\n",
    "v1.components"
   ]
  },
  {
   "cell_type": "code",
   "execution_count": 1,
   "id": "852f9e4c",
   "metadata": {},
   "outputs": [],
   "source": [
    "class Vector:\n",
    "    \n",
    "    def __init__(self,*components):\n",
    "        self.components=components"
   ]
  },
  {
   "cell_type": "markdown",
   "id": "1fb9f72a",
   "metadata": {},
   "source": [
    "## Przykład"
   ]
  },
  {
   "cell_type": "code",
   "execution_count": 2,
   "id": "7a59a2d9",
   "metadata": {},
   "outputs": [],
   "source": [
    "class TechStack:\n",
    "    \n",
    "    def __init__(self,**kwargs):\n",
    "        self.techs=kwargs"
   ]
  },
  {
   "cell_type": "code",
   "execution_count": 3,
   "id": "3ed717bb",
   "metadata": {},
   "outputs": [],
   "source": [
    "stack=TechStack(python=\"mid\")"
   ]
  },
  {
   "cell_type": "code",
   "execution_count": 4,
   "id": "367481d6",
   "metadata": {},
   "outputs": [
    {
     "data": {
      "text/plain": [
       "{'python': 'mid'}"
      ]
     },
     "execution_count": 4,
     "metadata": {},
     "output_type": "execute_result"
    }
   ],
   "source": [
    "stack.techs"
   ]
  },
  {
   "cell_type": "code",
   "execution_count": 5,
   "id": "01dfa7d4",
   "metadata": {},
   "outputs": [],
   "source": [
    "stack=TechStack(python=\"mid\",java=\"senior\")"
   ]
  },
  {
   "cell_type": "code",
   "execution_count": 7,
   "id": "c51d12c2",
   "metadata": {},
   "outputs": [
    {
     "data": {
      "text/plain": [
       "{'python': 'mid', 'java': 'senior'}"
      ]
     },
     "execution_count": 7,
     "metadata": {},
     "output_type": "execute_result"
    }
   ],
   "source": [
    "stack.techs"
   ]
  },
  {
   "cell_type": "code",
   "execution_count": 8,
   "id": "321922d8",
   "metadata": {},
   "outputs": [
    {
     "data": {
      "text/plain": [
       "{'techs': {'python': 'mid', 'java': 'senior'}}"
      ]
     },
     "execution_count": 8,
     "metadata": {},
     "output_type": "execute_result"
    }
   ],
   "source": [
    "stack.__dict__"
   ]
  },
  {
   "cell_type": "code",
   "execution_count": 9,
   "id": "7107806c",
   "metadata": {},
   "outputs": [],
   "source": [
    "class TechStack:\n",
    "    \n",
    "    def __init__(self,**techs):\n",
    "        self.techs=techs"
   ]
  },
  {
   "cell_type": "markdown",
   "id": "13515184",
   "metadata": {},
   "source": [
    "## Zadanie"
   ]
  },
  {
   "cell_type": "code",
   "execution_count": 14,
   "id": "e832b5d9",
   "metadata": {},
   "outputs": [],
   "source": [
    "class TechStack:\n",
    "    \n",
    "    def __init__(self,**techs):\n",
    "        self.techs=techs"
   ]
  },
  {
   "cell_type": "code",
   "execution_count": 15,
   "id": "71e93bb0",
   "metadata": {},
   "outputs": [],
   "source": [
    "class TechStack:\n",
    "    \n",
    "    def __init__(self,**techs):\n",
    "        for attr_name, attr_value in techs.items():\n",
    "            print(attr_name, attr_value)\n",
    "            "
   ]
  },
  {
   "cell_type": "code",
   "execution_count": 16,
   "id": "c85f8ee8",
   "metadata": {},
   "outputs": [
    {
     "name": "stdout",
     "output_type": "stream",
     "text": [
      "python mid\n"
     ]
    },
    {
     "data": {
      "text/plain": [
       "<__main__.TechStack at 0x263d55c9580>"
      ]
     },
     "execution_count": 16,
     "metadata": {},
     "output_type": "execute_result"
    }
   ],
   "source": [
    "TechStack(python=\"mid\")"
   ]
  },
  {
   "cell_type": "code",
   "execution_count": 17,
   "id": "3aec01e5",
   "metadata": {},
   "outputs": [],
   "source": [
    "class TechStack:\n",
    "    \n",
    "    def __init__(self,**techs):\n",
    "        for attr_name, attr_value in techs.items():\n",
    "            setattr(self,attr_name,attr_value)\n",
    "            "
   ]
  },
  {
   "cell_type": "code",
   "execution_count": 18,
   "id": "30126e68",
   "metadata": {},
   "outputs": [
    {
     "data": {
      "text/plain": [
       "{'python': 'mid'}"
      ]
     },
     "execution_count": 18,
     "metadata": {},
     "output_type": "execute_result"
    }
   ],
   "source": [
    "stack= TechStack(python=\"mid\")\n",
    "stack.__dict__"
   ]
  },
  {
   "cell_type": "code",
   "execution_count": 19,
   "id": "fe6b8b4f",
   "metadata": {},
   "outputs": [
    {
     "data": {
      "text/plain": [
       "{'python': 'mid', 'java': 'senior'}"
      ]
     },
     "execution_count": 19,
     "metadata": {},
     "output_type": "execute_result"
    }
   ],
   "source": [
    "stack= TechStack(python=\"mid\",java=\"senior\")\n",
    "stack.__dict__"
   ]
  },
  {
   "cell_type": "code",
   "execution_count": 20,
   "id": "c9e6fe97",
   "metadata": {},
   "outputs": [
    {
     "data": {
      "text/plain": [
       "'senior'"
      ]
     },
     "execution_count": 20,
     "metadata": {},
     "output_type": "execute_result"
    }
   ],
   "source": [
    "stack.java"
   ]
  },
  {
   "cell_type": "code",
   "execution_count": 21,
   "id": "6b7b88c1",
   "metadata": {},
   "outputs": [
    {
     "data": {
      "text/plain": [
       "'mid'"
      ]
     },
     "execution_count": 21,
     "metadata": {},
     "output_type": "execute_result"
    }
   ],
   "source": [
    "stack.python"
   ]
  },
  {
   "cell_type": "code",
   "execution_count": 24,
   "id": "0af38cf6",
   "metadata": {},
   "outputs": [],
   "source": [
    "class TechStack:\n",
    "    \n",
    "    def __init__(self,**techs):\n",
    "        for attr_name, attr_value in techs.items():\n",
    "            setattr(self,attr_name,attr_value)\n",
    "    \n",
    "    def display_info(self):\n",
    "        print(f\"Total number of techs: {len(self.__dict__)}\")"
   ]
  },
  {
   "cell_type": "code",
   "execution_count": 26,
   "id": "b99e6635",
   "metadata": {},
   "outputs": [
    {
     "name": "stdout",
     "output_type": "stream",
     "text": [
      "Total number of techs: 3\n"
     ]
    }
   ],
   "source": [
    "stack= TechStack(python=\"mid\",java=\"senior\",sql=\"senior\")\n",
    "stack.display_info()"
   ]
  },
  {
   "cell_type": "markdown",
   "id": "a778e78e",
   "metadata": {},
   "source": [
    "## Ustawianie nowych wartości atrybutów - walidacja"
   ]
  },
  {
   "cell_type": "code",
   "execution_count": 27,
   "id": "9f565bf0",
   "metadata": {},
   "outputs": [],
   "source": [
    "class Phone:\n",
    "    \n",
    "    def __init__(self,brand,model,price):\n",
    "        self.brand=brand\n",
    "        self.model=model\n",
    "        self.price=price"
   ]
  },
  {
   "cell_type": "code",
   "execution_count": 30,
   "id": "0b27505f",
   "metadata": {},
   "outputs": [
    {
     "data": {
      "text/plain": [
       "('Apple', 'iPhone SE', False)"
      ]
     },
     "execution_count": 30,
     "metadata": {},
     "output_type": "execute_result"
    }
   ],
   "source": [
    "phone1=Phone(\"Apple\",\"iPhone SE\",False)\n",
    "phone1.brand, phone1.model, phone1.price"
   ]
  },
  {
   "cell_type": "code",
   "execution_count": 31,
   "id": "9603c538",
   "metadata": {},
   "outputs": [
    {
     "data": {
      "text/plain": [
       "('Apple', 'iPhone SE', 2199)"
      ]
     },
     "execution_count": 31,
     "metadata": {},
     "output_type": "execute_result"
    }
   ],
   "source": [
    "phone1=Phone(\"Apple\",\"iPhone SE\",2199)\n",
    "phone1.brand, phone1.model, phone1.price"
   ]
  },
  {
   "cell_type": "code",
   "execution_count": 32,
   "id": "62c20c26",
   "metadata": {},
   "outputs": [],
   "source": [
    "phone1.price=\"%\""
   ]
  },
  {
   "cell_type": "code",
   "execution_count": 34,
   "id": "205f9909",
   "metadata": {},
   "outputs": [
    {
     "data": {
      "text/plain": [
       "('Apple', 'iPhone SE', 2199)"
      ]
     },
     "execution_count": 34,
     "metadata": {},
     "output_type": "execute_result"
    }
   ],
   "source": [
    "class Phone:\n",
    "    \n",
    "    def __init__(self,brand,model,price):\n",
    "        self.brand=brand\n",
    "        self.model=model\n",
    "        \n",
    "        if isinstance(price,(int,float)):\n",
    "            self.price=price\n",
    "        else:\n",
    "            raise TypeError(\"The price argument must be of type int or float.\")\n",
    "            \n",
    "phone1=Phone(\"Apple\",\"iPhone SE\",2199)\n",
    "phone1.brand, phone1.model, phone1.price"
   ]
  },
  {
   "cell_type": "code",
   "execution_count": 36,
   "id": "b794c129",
   "metadata": {},
   "outputs": [
    {
     "data": {
      "text/plain": [
       "('Apple', 'iPhone SE', 2199.0)"
      ]
     },
     "execution_count": 36,
     "metadata": {},
     "output_type": "execute_result"
    }
   ],
   "source": [
    "phone1=Phone(\"Apple\",\"iPhone SE\",2199.0)\n",
    "phone1.brand, phone1.model, phone1.price"
   ]
  },
  {
   "cell_type": "code",
   "execution_count": 40,
   "id": "05d31088",
   "metadata": {},
   "outputs": [
    {
     "data": {
      "text/plain": [
       "('Apple', 'iPhone SE', True)"
      ]
     },
     "execution_count": 40,
     "metadata": {},
     "output_type": "execute_result"
    }
   ],
   "source": [
    "phone1=Phone(\"Apple\",\"iPhone SE\",True)\n",
    "phone1.brand, phone1.model, phone1.price\n",
    "\n",
    "#WTF?"
   ]
  },
  {
   "cell_type": "code",
   "execution_count": 41,
   "id": "11f08ed3",
   "metadata": {},
   "outputs": [],
   "source": [
    "phone1.price = \"------\""
   ]
  },
  {
   "cell_type": "code",
   "execution_count": 42,
   "id": "d41be8ad",
   "metadata": {},
   "outputs": [
    {
     "data": {
      "text/plain": [
       "('Apple', 'iPhone SE', '------')"
      ]
     },
     "execution_count": 42,
     "metadata": {},
     "output_type": "execute_result"
    }
   ],
   "source": [
    "phone1.brand, phone1.model, phone1.price"
   ]
  },
  {
   "cell_type": "markdown",
   "id": "81ac98b3",
   "metadata": {},
   "source": [
    "## Zadanie"
   ]
  },
  {
   "cell_type": "code",
   "execution_count": 53,
   "id": "296ea53f",
   "metadata": {},
   "outputs": [],
   "source": [
    "class Phone:\n",
    "    \n",
    "    def __init__(self,brand,model,price):\n",
    "        self.brand=brand\n",
    "        self.model=model\n",
    "        \n",
    "        if isinstance(price,(int,float)):\n",
    "            self.price=price\n",
    "        else:\n",
    "            raise TypeError(\"The price argument must be of type int or float.\")\n",
    "        \n",
    "    def show_details(self):\n",
    "        print(f\"\"\"\\tBrand: {self.brand}\n",
    "        Model: {self.model}\n",
    "        Price: {self.price}\"\"\")\n",
    "\n",
    "phone1=Phone(\"Apple\",\"iPhone SE\",2199.0)"
   ]
  },
  {
   "cell_type": "code",
   "execution_count": 54,
   "id": "acd5b9cb",
   "metadata": {},
   "outputs": [
    {
     "name": "stdout",
     "output_type": "stream",
     "text": [
      "\tBrand: Apple\n",
      "        Model: iPhone SE\n",
      "        Price: 2199.0\n"
     ]
    }
   ],
   "source": [
    "phone1.show_details()"
   ]
  },
  {
   "cell_type": "markdown",
   "id": "bced7597",
   "metadata": {},
   "source": [
    "## Przykład"
   ]
  },
  {
   "cell_type": "code",
   "execution_count": 55,
   "id": "f8d87f01",
   "metadata": {},
   "outputs": [
    {
     "data": {
      "text/plain": [
       "mappingproxy({'__module__': '__main__',\n",
       "              '__init__': <function __main__.Phone.__init__(self, brand, model, price)>,\n",
       "              'show_details': <function __main__.Phone.show_details(self)>,\n",
       "              'pln_to_usd': <function __main__.Phone.pln_to_usd(self)>,\n",
       "              '__dict__': <attribute '__dict__' of 'Phone' objects>,\n",
       "              '__weakref__': <attribute '__weakref__' of 'Phone' objects>,\n",
       "              '__doc__': None})"
      ]
     },
     "execution_count": 55,
     "metadata": {},
     "output_type": "execute_result"
    }
   ],
   "source": [
    "class Phone:\n",
    "    \n",
    "    def __init__(self,brand,model,price):\n",
    "        self.brand=brand\n",
    "        self.model=model\n",
    "        \n",
    "        if isinstance(price,(int,float)):\n",
    "            self.price=price\n",
    "        else:\n",
    "            raise TypeError(\"The price argument must be of type int or float.\")\n",
    "        \n",
    "    def show_details(self):\n",
    "        print(f\"\"\"\\tBrand: {self.brand}\n",
    "        Model: {self.model}\n",
    "        Price: {self.price}\"\"\")\n",
    "    \n",
    "    def pln_to_usd(self):\n",
    "        self.price=self.price /4.0\n",
    "\n",
    "Phone.__dict__"
   ]
  },
  {
   "cell_type": "code",
   "execution_count": 56,
   "id": "9413b086",
   "metadata": {},
   "outputs": [
    {
     "data": {
      "text/plain": [
       "<__main__.Phone at 0x263d5006490>"
      ]
     },
     "execution_count": 56,
     "metadata": {},
     "output_type": "execute_result"
    }
   ],
   "source": [
    "phone1=Phone(\"Apple\",\"iPhone\",4000)\n",
    "phone1"
   ]
  },
  {
   "cell_type": "code",
   "execution_count": 57,
   "id": "b890e9a1",
   "metadata": {},
   "outputs": [
    {
     "data": {
      "text/plain": [
       "4000"
      ]
     },
     "execution_count": 57,
     "metadata": {},
     "output_type": "execute_result"
    }
   ],
   "source": [
    "phone1.price"
   ]
  },
  {
   "cell_type": "code",
   "execution_count": 58,
   "id": "13dc83bb",
   "metadata": {},
   "outputs": [],
   "source": [
    "phone1.pln_to_usd()"
   ]
  },
  {
   "cell_type": "code",
   "execution_count": 59,
   "id": "8bcfc6d1",
   "metadata": {},
   "outputs": [
    {
     "data": {
      "text/plain": [
       "1000.0"
      ]
     },
     "execution_count": 59,
     "metadata": {},
     "output_type": "execute_result"
    }
   ],
   "source": [
    "phone1.price"
   ]
  },
  {
   "cell_type": "code",
   "execution_count": 61,
   "id": "821872e6",
   "metadata": {},
   "outputs": [
    {
     "data": {
      "text/plain": [
       "{'brand': 'Apple', 'model': 'iPhone', 'price': 1000.0}"
      ]
     },
     "execution_count": 61,
     "metadata": {},
     "output_type": "execute_result"
    }
   ],
   "source": [
    "phone1.__dict__"
   ]
  },
  {
   "cell_type": "markdown",
   "id": "ef869136",
   "metadata": {},
   "source": [
    "## Przykład"
   ]
  },
  {
   "cell_type": "code",
   "execution_count": 62,
   "id": "0b94f416",
   "metadata": {},
   "outputs": [],
   "source": [
    "class TechStack:\n",
    "    \n",
    "    def __init__(self,tech=None):\n",
    "        self.tech=tech\n",
    "        "
   ]
  },
  {
   "cell_type": "code",
   "execution_count": 65,
   "id": "79a747e8",
   "metadata": {},
   "outputs": [
    {
     "data": {
      "text/plain": [
       "{'tech': None}"
      ]
     },
     "execution_count": 65,
     "metadata": {},
     "output_type": "execute_result"
    }
   ],
   "source": [
    "stack=TechStack()\n",
    "stack.__dict__"
   ]
  },
  {
   "cell_type": "code",
   "execution_count": 66,
   "id": "2c6a0a8f",
   "metadata": {},
   "outputs": [],
   "source": [
    "stack.tech"
   ]
  },
  {
   "cell_type": "code",
   "execution_count": 67,
   "id": "7096371b",
   "metadata": {},
   "outputs": [
    {
     "data": {
      "text/plain": [
       "{'tech': 'python'}"
      ]
     },
     "execution_count": 67,
     "metadata": {},
     "output_type": "execute_result"
    }
   ],
   "source": [
    "stack=TechStack(\"python\")\n",
    "stack.__dict__"
   ]
  },
  {
   "cell_type": "code",
   "execution_count": 68,
   "id": "98e8e83e",
   "metadata": {},
   "outputs": [],
   "source": [
    "class TechStack:\n",
    "    \n",
    "    def __init__(self,tech=None):\n",
    "        self.tech=tech\n",
    "    \n",
    "    def display_info(self):\n",
    "        if self.tech:\n",
    "            print(f\"Techs: {self.tech}\")\n",
    "        else:\n",
    "            print(\"No Techs\")"
   ]
  },
  {
   "cell_type": "code",
   "execution_count": 69,
   "id": "330fdaca",
   "metadata": {},
   "outputs": [
    {
     "name": "stdout",
     "output_type": "stream",
     "text": [
      "No Techs\n"
     ]
    }
   ],
   "source": [
    "stack=TechStack()\n",
    "stack.display_info()"
   ]
  },
  {
   "cell_type": "code",
   "execution_count": 70,
   "id": "7d0fcb86",
   "metadata": {},
   "outputs": [
    {
     "name": "stdout",
     "output_type": "stream",
     "text": [
      "Techs python\n"
     ]
    }
   ],
   "source": [
    "stack=TechStack(\"python\")\n",
    "stack.display_info()"
   ]
  },
  {
   "cell_type": "code",
   "execution_count": 71,
   "id": "82f62004",
   "metadata": {},
   "outputs": [],
   "source": [
    "class TechStack:\n",
    "    \n",
    "    def __init__(self,tech=None):\n",
    "        self.tech=tech if tech else \"python\"\n",
    "    \n",
    "    def display_info(self):\n",
    "        if self.tech:\n",
    "            print(f\"Techs: {self.tech}\")\n",
    "        else:\n",
    "            print(\"No Techs\")"
   ]
  },
  {
   "cell_type": "code",
   "execution_count": 72,
   "id": "133d5a32",
   "metadata": {},
   "outputs": [],
   "source": [
    "stack=TechStack()"
   ]
  },
  {
   "cell_type": "code",
   "execution_count": 73,
   "id": "93a668ec",
   "metadata": {},
   "outputs": [
    {
     "name": "stdout",
     "output_type": "stream",
     "text": [
      "Techs: python\n"
     ]
    }
   ],
   "source": [
    "stack.display_info()"
   ]
  },
  {
   "cell_type": "code",
   "execution_count": 74,
   "id": "c23926de",
   "metadata": {},
   "outputs": [],
   "source": [
    "stack=TechStack(\"java\")"
   ]
  },
  {
   "cell_type": "code",
   "execution_count": 75,
   "id": "b62258b3",
   "metadata": {},
   "outputs": [
    {
     "name": "stdout",
     "output_type": "stream",
     "text": [
      "Techs: java\n"
     ]
    }
   ],
   "source": [
    "stack.display_info()"
   ]
  },
  {
   "cell_type": "code",
   "execution_count": null,
   "id": "9ff81212",
   "metadata": {},
   "outputs": [],
   "source": []
  }
 ],
 "metadata": {
  "kernelspec": {
   "display_name": "Python 3",
   "language": "python",
   "name": "python3"
  },
  "language_info": {
   "codemirror_mode": {
    "name": "ipython",
    "version": 3
   },
   "file_extension": ".py",
   "mimetype": "text/x-python",
   "name": "python",
   "nbconvert_exporter": "python",
   "pygments_lexer": "ipython3",
   "version": "3.8.10"
  }
 },
 "nbformat": 4,
 "nbformat_minor": 5
}
