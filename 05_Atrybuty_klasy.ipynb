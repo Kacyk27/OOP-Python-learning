{
 "cells": [
  {
   "cell_type": "markdown",
   "id": "c67d2eb9",
   "metadata": {},
   "source": [
    "## Wbudowane atrybuty klasy"
   ]
  },
  {
   "cell_type": "code",
   "execution_count": 1,
   "id": "9fc31815",
   "metadata": {},
   "outputs": [],
   "source": [
    "class Phone:\n",
    "    \n",
    "    pass"
   ]
  },
  {
   "cell_type": "code",
   "execution_count": 2,
   "id": "b139e3d7",
   "metadata": {},
   "outputs": [],
   "source": [
    "class Phone: pass"
   ]
  },
  {
   "cell_type": "code",
   "execution_count": 3,
   "id": "6630565f",
   "metadata": {},
   "outputs": [
    {
     "data": {
      "text/plain": [
       "'Phone'"
      ]
     },
     "execution_count": 3,
     "metadata": {},
     "output_type": "execute_result"
    }
   ],
   "source": [
    "Phone.__name__"
   ]
  },
  {
   "cell_type": "code",
   "execution_count": 4,
   "id": "e39dffd2",
   "metadata": {},
   "outputs": [
    {
     "data": {
      "text/plain": [
       "mappingproxy({'__module__': '__main__',\n",
       "              '__dict__': <attribute '__dict__' of 'Phone' objects>,\n",
       "              '__weakref__': <attribute '__weakref__' of 'Phone' objects>,\n",
       "              '__doc__': None})"
      ]
     },
     "execution_count": 4,
     "metadata": {},
     "output_type": "execute_result"
    }
   ],
   "source": [
    "Phone.__dict__"
   ]
  },
  {
   "cell_type": "code",
   "execution_count": 5,
   "id": "352541c2",
   "metadata": {},
   "outputs": [],
   "source": [
    "Phone.__doc__"
   ]
  },
  {
   "cell_type": "code",
   "execution_count": 6,
   "id": "49dd5f6d",
   "metadata": {},
   "outputs": [
    {
     "data": {
      "text/plain": [
       "'__main__'"
      ]
     },
     "execution_count": 6,
     "metadata": {},
     "output_type": "execute_result"
    }
   ],
   "source": [
    "Phone.__module__"
   ]
  },
  {
   "cell_type": "code",
   "execution_count": 7,
   "id": "7978bc6e",
   "metadata": {},
   "outputs": [
    {
     "name": "stdout",
     "output_type": "stream",
     "text": [
      "Help on class Phone in module __main__:\n",
      "\n",
      "class Phone(builtins.object)\n",
      " |  Data descriptors defined here:\n",
      " |  \n",
      " |  __dict__\n",
      " |      dictionary for instance variables (if defined)\n",
      " |  \n",
      " |  __weakref__\n",
      " |      list of weak references to the object (if defined)\n",
      "\n"
     ]
    }
   ],
   "source": [
    "help(Phone)"
   ]
  },
  {
   "cell_type": "code",
   "execution_count": 8,
   "id": "df2a95e2",
   "metadata": {},
   "outputs": [
    {
     "name": "stdout",
     "output_type": "stream",
     "text": [
      "Help on class Phone in module __main__:\n",
      "\n",
      "class Phone(builtins.object)\n",
      " |  Text\n",
      " |  \n",
      " |  Data descriptors defined here:\n",
      " |  \n",
      " |  __dict__\n",
      " |      dictionary for instance variables (if defined)\n",
      " |  \n",
      " |  __weakref__\n",
      " |      list of weak references to the object (if defined)\n",
      "\n"
     ]
    }
   ],
   "source": [
    "class Phone:\n",
    "    \"\"\"Text\"\"\"\n",
    "\n",
    "help(Phone)"
   ]
  },
  {
   "cell_type": "code",
   "execution_count": 9,
   "id": "19964e5d",
   "metadata": {},
   "outputs": [
    {
     "data": {
      "text/plain": [
       "'Text'"
      ]
     },
     "execution_count": 9,
     "metadata": {},
     "output_type": "execute_result"
    }
   ],
   "source": [
    "Phone.__doc__"
   ]
  },
  {
   "cell_type": "code",
   "execution_count": 10,
   "id": "61cf8a3f",
   "metadata": {},
   "outputs": [
    {
     "data": {
      "text/plain": [
       "mappingproxy({'__module__': '__main__',\n",
       "              '__doc__': 'Text',\n",
       "              '__dict__': <attribute '__dict__' of 'Phone' objects>,\n",
       "              '__weakref__': <attribute '__weakref__' of 'Phone' objects>})"
      ]
     },
     "execution_count": 10,
     "metadata": {},
     "output_type": "execute_result"
    }
   ],
   "source": [
    "Phone.__dict__"
   ]
  },
  {
   "cell_type": "code",
   "execution_count": 11,
   "id": "ca24e43b",
   "metadata": {},
   "outputs": [
    {
     "data": {
      "text/plain": [
       "(object,)"
      ]
     },
     "execution_count": 11,
     "metadata": {},
     "output_type": "execute_result"
    }
   ],
   "source": [
    "Phone.__bases__"
   ]
  },
  {
   "cell_type": "markdown",
   "id": "b9ec27b4",
   "metadata": {},
   "source": [
    "## Atrybuty klasy zdefiniowanej przez użytkownika"
   ]
  },
  {
   "cell_type": "code",
   "execution_count": 12,
   "id": "cf13eb51",
   "metadata": {},
   "outputs": [],
   "source": [
    "class Phone:\n",
    "    \n",
    "    sector = \"electronics\"\n",
    "    os = \"Android\"\n",
    "    width = 500\n",
    "    height = 1200"
   ]
  },
  {
   "cell_type": "code",
   "execution_count": 13,
   "id": "7ef939b0",
   "metadata": {},
   "outputs": [
    {
     "data": {
      "text/plain": [
       "mappingproxy({'__module__': '__main__',\n",
       "              'sector': 'electronics',\n",
       "              'os': 'Android',\n",
       "              'width': 500,\n",
       "              'height': 1200,\n",
       "              '__dict__': <attribute '__dict__' of 'Phone' objects>,\n",
       "              '__weakref__': <attribute '__weakref__' of 'Phone' objects>,\n",
       "              '__doc__': None})"
      ]
     },
     "execution_count": 13,
     "metadata": {},
     "output_type": "execute_result"
    }
   ],
   "source": [
    "Phone.__dict__"
   ]
  },
  {
   "cell_type": "code",
   "execution_count": 14,
   "id": "f3bcd14f",
   "metadata": {},
   "outputs": [
    {
     "data": {
      "text/plain": [
       "dict_keys(['__module__', 'sector', 'os', 'width', 'height', '__dict__', '__weakref__', '__doc__'])"
      ]
     },
     "execution_count": 14,
     "metadata": {},
     "output_type": "execute_result"
    }
   ],
   "source": [
    "Phone.__dict__.keys()"
   ]
  },
  {
   "cell_type": "code",
   "execution_count": 15,
   "id": "cbd56313",
   "metadata": {},
   "outputs": [
    {
     "data": {
      "text/plain": [
       "['__dict__',\n",
       " '__doc__',\n",
       " '__module__',\n",
       " '__weakref__',\n",
       " 'height',\n",
       " 'os',\n",
       " 'sector',\n",
       " 'width']"
      ]
     },
     "execution_count": 15,
     "metadata": {},
     "output_type": "execute_result"
    }
   ],
   "source": [
    "sorted(Phone.__dict__.keys())"
   ]
  },
  {
   "cell_type": "code",
   "execution_count": 16,
   "id": "21223878",
   "metadata": {},
   "outputs": [
    {
     "data": {
      "text/plain": [
       "'electronics'"
      ]
     },
     "execution_count": 16,
     "metadata": {},
     "output_type": "execute_result"
    }
   ],
   "source": [
    "Phone.sector"
   ]
  },
  {
   "cell_type": "code",
   "execution_count": 17,
   "id": "dcb1d336",
   "metadata": {},
   "outputs": [
    {
     "data": {
      "text/plain": [
       "'Android'"
      ]
     },
     "execution_count": 17,
     "metadata": {},
     "output_type": "execute_result"
    }
   ],
   "source": [
    "Phone.os"
   ]
  },
  {
   "cell_type": "code",
   "execution_count": 18,
   "id": "b01609d0",
   "metadata": {},
   "outputs": [
    {
     "data": {
      "text/plain": [
       "500"
      ]
     },
     "execution_count": 18,
     "metadata": {},
     "output_type": "execute_result"
    }
   ],
   "source": [
    "Phone.width"
   ]
  },
  {
   "cell_type": "code",
   "execution_count": 19,
   "id": "3ff35783",
   "metadata": {},
   "outputs": [
    {
     "data": {
      "text/plain": [
       "1200"
      ]
     },
     "execution_count": 19,
     "metadata": {},
     "output_type": "execute_result"
    }
   ],
   "source": [
    "Phone.height"
   ]
  },
  {
   "cell_type": "code",
   "execution_count": 20,
   "id": "06db84eb",
   "metadata": {},
   "outputs": [
    {
     "data": {
      "text/plain": [
       "'Android'"
      ]
     },
     "execution_count": 20,
     "metadata": {},
     "output_type": "execute_result"
    }
   ],
   "source": [
    "Phone.__dict__[\"os\"]"
   ]
  },
  {
   "cell_type": "code",
   "execution_count": 22,
   "id": "d6a4e9ee",
   "metadata": {},
   "outputs": [
    {
     "data": {
      "text/plain": [
       "True"
      ]
     },
     "execution_count": 22,
     "metadata": {},
     "output_type": "execute_result"
    }
   ],
   "source": [
    "Phone.__dict__[\"os\"] == Phone.os"
   ]
  },
  {
   "cell_type": "code",
   "execution_count": 23,
   "id": "948764fd",
   "metadata": {},
   "outputs": [],
   "source": [
    "getattr?"
   ]
  },
  {
   "cell_type": "code",
   "execution_count": 24,
   "id": "83dfd91e",
   "metadata": {},
   "outputs": [
    {
     "data": {
      "text/plain": [
       "'Android'"
      ]
     },
     "execution_count": 24,
     "metadata": {},
     "output_type": "execute_result"
    }
   ],
   "source": [
    "getattr(Phone,\"os\")"
   ]
  },
  {
   "cell_type": "code",
   "execution_count": 25,
   "id": "b20f4a79",
   "metadata": {},
   "outputs": [
    {
     "data": {
      "text/plain": [
       "500"
      ]
     },
     "execution_count": 25,
     "metadata": {},
     "output_type": "execute_result"
    }
   ],
   "source": [
    "getattr(Phone,\"width\")"
   ]
  },
  {
   "cell_type": "code",
   "execution_count": 27,
   "id": "8009c374",
   "metadata": {},
   "outputs": [
    {
     "ename": "AttributeError",
     "evalue": "type object 'Phone' has no attribute 'price'",
     "output_type": "error",
     "traceback": [
      "\u001b[1;31m---------------------------------------------------------------------------\u001b[0m",
      "\u001b[1;31mAttributeError\u001b[0m                            Traceback (most recent call last)",
      "\u001b[1;32m<ipython-input-27-bef7219b74da>\u001b[0m in \u001b[0;36m<module>\u001b[1;34m\u001b[0m\n\u001b[1;32m----> 1\u001b[1;33m \u001b[0mgetattr\u001b[0m\u001b[1;33m(\u001b[0m\u001b[0mPhone\u001b[0m\u001b[1;33m,\u001b[0m\u001b[1;34m\"price\"\u001b[0m\u001b[1;33m,\u001b[0m\u001b[1;33m)\u001b[0m\u001b[1;33m\u001b[0m\u001b[1;33m\u001b[0m\u001b[0m\n\u001b[0m",
      "\u001b[1;31mAttributeError\u001b[0m: type object 'Phone' has no attribute 'price'"
     ]
    }
   ],
   "source": [
    "getattr(Phone,\"price\",)"
   ]
  },
  {
   "cell_type": "code",
   "execution_count": 29,
   "id": "02aae7b4",
   "metadata": {},
   "outputs": [
    {
     "data": {
      "text/plain": [
       "'brak'"
      ]
     },
     "execution_count": 29,
     "metadata": {},
     "output_type": "execute_result"
    }
   ],
   "source": [
    "getattr(Phone,\"price\",\"brak\")"
   ]
  },
  {
   "cell_type": "code",
   "execution_count": 33,
   "id": "6196c622",
   "metadata": {},
   "outputs": [
    {
     "name": "stdout",
     "output_type": "stream",
     "text": [
      "height 1200\n",
      "height -> 1200\n",
      "os Android\n",
      "os -> Android\n",
      "sector electronics\n",
      "sector -> electronics\n",
      "width 500\n",
      "width -> 500\n"
     ]
    }
   ],
   "source": [
    "for attr in sorted(Phone.__dict__.keys()):\n",
    "    if not attr.startswith(\"__\"):\n",
    "        print(attr, getattr(Phone, attr))\n",
    "        print(f\"{attr} -> {getattr(Phone,attr)}\")"
   ]
  },
  {
   "cell_type": "code",
   "execution_count": 34,
   "id": "e7286c69",
   "metadata": {},
   "outputs": [
    {
     "ename": "AttributeError",
     "evalue": "type object 'Phone' has no attribute 'price'",
     "output_type": "error",
     "traceback": [
      "\u001b[1;31m---------------------------------------------------------------------------\u001b[0m",
      "\u001b[1;31mAttributeError\u001b[0m                            Traceback (most recent call last)",
      "\u001b[1;32m<ipython-input-34-aa0543e748fe>\u001b[0m in \u001b[0;36m<module>\u001b[1;34m\u001b[0m\n\u001b[1;32m----> 1\u001b[1;33m \u001b[0mPhone\u001b[0m\u001b[1;33m.\u001b[0m\u001b[0mprice\u001b[0m\u001b[1;33m\u001b[0m\u001b[1;33m\u001b[0m\u001b[0m\n\u001b[0m",
      "\u001b[1;31mAttributeError\u001b[0m: type object 'Phone' has no attribute 'price'"
     ]
    }
   ],
   "source": [
    "Phone.price"
   ]
  },
  {
   "cell_type": "code",
   "execution_count": 35,
   "id": "46ff1042",
   "metadata": {},
   "outputs": [
    {
     "name": "stdout",
     "output_type": "stream",
     "text": [
      "type object 'Phone' has no attribute 'price'\n"
     ]
    }
   ],
   "source": [
    "try:\n",
    "    Phone.price\n",
    "except AttributeError as error:\n",
    "    print(error)"
   ]
  },
  {
   "cell_type": "markdown",
   "id": "483b7001",
   "metadata": {},
   "source": [
    "## Modyfikacja trybutu klasy"
   ]
  },
  {
   "cell_type": "code",
   "execution_count": 36,
   "id": "3d8558da",
   "metadata": {},
   "outputs": [],
   "source": [
    "class Phone:\n",
    "    \n",
    "    sector = \"electronics\"\n",
    "    os = \"Android\"\n",
    "    width = 500\n",
    "    height = 1200\n",
    "\n"
   ]
  },
  {
   "cell_type": "code",
   "execution_count": 37,
   "id": "b0a0ebca",
   "metadata": {},
   "outputs": [
    {
     "data": {
      "text/plain": [
       "'Android'"
      ]
     },
     "execution_count": 37,
     "metadata": {},
     "output_type": "execute_result"
    }
   ],
   "source": [
    "Phone.os"
   ]
  },
  {
   "cell_type": "code",
   "execution_count": 38,
   "id": "9d5c6a15",
   "metadata": {},
   "outputs": [],
   "source": [
    "Phone.os = \"iOS\""
   ]
  },
  {
   "cell_type": "code",
   "execution_count": 39,
   "id": "e55e369a",
   "metadata": {},
   "outputs": [
    {
     "data": {
      "text/plain": [
       "'iOS'"
      ]
     },
     "execution_count": 39,
     "metadata": {},
     "output_type": "execute_result"
    }
   ],
   "source": [
    "Phone.os"
   ]
  },
  {
   "cell_type": "code",
   "execution_count": 40,
   "id": "9613ece2",
   "metadata": {},
   "outputs": [
    {
     "data": {
      "text/plain": [
       "mappingproxy({'__module__': '__main__',\n",
       "              'sector': 'electronics',\n",
       "              'os': 'iOS',\n",
       "              'width': 500,\n",
       "              'height': 1200,\n",
       "              '__dict__': <attribute '__dict__' of 'Phone' objects>,\n",
       "              '__weakref__': <attribute '__weakref__' of 'Phone' objects>,\n",
       "              '__doc__': None})"
      ]
     },
     "execution_count": 40,
     "metadata": {},
     "output_type": "execute_result"
    }
   ],
   "source": [
    "Phone.__dict__"
   ]
  },
  {
   "cell_type": "code",
   "execution_count": 41,
   "id": "117bc609",
   "metadata": {},
   "outputs": [],
   "source": [
    "setattr(Phone, \"os\", \"Android\")"
   ]
  },
  {
   "cell_type": "code",
   "execution_count": 42,
   "id": "771e271f",
   "metadata": {},
   "outputs": [
    {
     "data": {
      "text/plain": [
       "'Android'"
      ]
     },
     "execution_count": 42,
     "metadata": {},
     "output_type": "execute_result"
    }
   ],
   "source": [
    "getattr(Phone,\"os\")"
   ]
  },
  {
   "cell_type": "code",
   "execution_count": 43,
   "id": "c6fde32e",
   "metadata": {},
   "outputs": [
    {
     "data": {
      "text/plain": [
       "mappingproxy({'__module__': '__main__',\n",
       "              'sector': 'electronics',\n",
       "              'os': 'Android',\n",
       "              'width': 500,\n",
       "              'height': 1200,\n",
       "              '__dict__': <attribute '__dict__' of 'Phone' objects>,\n",
       "              '__weakref__': <attribute '__weakref__' of 'Phone' objects>,\n",
       "              '__doc__': None})"
      ]
     },
     "execution_count": 43,
     "metadata": {},
     "output_type": "execute_result"
    }
   ],
   "source": [
    "Phone.__dict__"
   ]
  },
  {
   "cell_type": "markdown",
   "id": "e9183655",
   "metadata": {},
   "source": [
    "## Dodawanie nowego atrybutu klasy w locie"
   ]
  },
  {
   "cell_type": "code",
   "execution_count": 44,
   "id": "c90ac387",
   "metadata": {},
   "outputs": [],
   "source": [
    "class Phone:\n",
    "    \n",
    "    sector = \"electronics\"\n",
    "    os = \"Android\"\n",
    "    width = 500\n",
    "    height = 1200"
   ]
  },
  {
   "cell_type": "code",
   "execution_count": 45,
   "id": "10ad74d9",
   "metadata": {},
   "outputs": [
    {
     "data": {
      "text/plain": [
       "mappingproxy({'__module__': '__main__',\n",
       "              'sector': 'electronics',\n",
       "              'os': 'Android',\n",
       "              'width': 500,\n",
       "              'height': 1200,\n",
       "              '__dict__': <attribute '__dict__' of 'Phone' objects>,\n",
       "              '__weakref__': <attribute '__weakref__' of 'Phone' objects>,\n",
       "              '__doc__': None})"
      ]
     },
     "execution_count": 45,
     "metadata": {},
     "output_type": "execute_result"
    }
   ],
   "source": [
    "Phone.__dict__"
   ]
  },
  {
   "cell_type": "code",
   "execution_count": 46,
   "id": "8f248b3c",
   "metadata": {},
   "outputs": [],
   "source": [
    "Phone.origin_country = \"USA\""
   ]
  },
  {
   "cell_type": "code",
   "execution_count": 47,
   "id": "1b9e8f82",
   "metadata": {},
   "outputs": [
    {
     "data": {
      "text/plain": [
       "mappingproxy({'__module__': '__main__',\n",
       "              'sector': 'electronics',\n",
       "              'os': 'Android',\n",
       "              'width': 500,\n",
       "              'height': 1200,\n",
       "              '__dict__': <attribute '__dict__' of 'Phone' objects>,\n",
       "              '__weakref__': <attribute '__weakref__' of 'Phone' objects>,\n",
       "              '__doc__': None,\n",
       "              'origin_country': 'USA'})"
      ]
     },
     "execution_count": 47,
     "metadata": {},
     "output_type": "execute_result"
    }
   ],
   "source": [
    "Phone.__dict__"
   ]
  },
  {
   "cell_type": "code",
   "execution_count": 48,
   "id": "2287f2aa",
   "metadata": {},
   "outputs": [],
   "source": [
    "setattr(Phone, \"yer_of_production\", 2020)"
   ]
  },
  {
   "cell_type": "code",
   "execution_count": 49,
   "id": "d922fb26",
   "metadata": {},
   "outputs": [
    {
     "data": {
      "text/plain": [
       "mappingproxy({'__module__': '__main__',\n",
       "              'sector': 'electronics',\n",
       "              'os': 'Android',\n",
       "              'width': 500,\n",
       "              'height': 1200,\n",
       "              '__dict__': <attribute '__dict__' of 'Phone' objects>,\n",
       "              '__weakref__': <attribute '__weakref__' of 'Phone' objects>,\n",
       "              '__doc__': None,\n",
       "              'origin_country': 'USA',\n",
       "              'yer_of_production': 2020})"
      ]
     },
     "execution_count": 49,
     "metadata": {},
     "output_type": "execute_result"
    }
   ],
   "source": [
    "Phone.__dict__"
   ]
  },
  {
   "cell_type": "markdown",
   "id": "b8f552c7",
   "metadata": {},
   "source": [
    "## Usuwanie atrybutu klasy"
   ]
  },
  {
   "cell_type": "code",
   "execution_count": 54,
   "id": "e7551dea",
   "metadata": {},
   "outputs": [
    {
     "data": {
      "text/plain": [
       "mappingproxy({'__module__': '__main__',\n",
       "              'sector': 'electronics',\n",
       "              'os': 'Android',\n",
       "              'width': 500,\n",
       "              'height': 1200,\n",
       "              '__dict__': <attribute '__dict__' of 'Phone' objects>,\n",
       "              '__weakref__': <attribute '__weakref__' of 'Phone' objects>,\n",
       "              '__doc__': None})"
      ]
     },
     "execution_count": 54,
     "metadata": {},
     "output_type": "execute_result"
    }
   ],
   "source": [
    "class Phone:\n",
    "    \n",
    "    sector = \"electronics\"\n",
    "    os = \"Android\"\n",
    "    width = 500\n",
    "    height = 1200\n",
    "\n",
    "Phone.__dict__"
   ]
  },
  {
   "cell_type": "code",
   "execution_count": 51,
   "id": "f1377f2e",
   "metadata": {},
   "outputs": [],
   "source": [
    "del Phone.os"
   ]
  },
  {
   "cell_type": "code",
   "execution_count": 52,
   "id": "f941b204",
   "metadata": {},
   "outputs": [
    {
     "data": {
      "text/plain": [
       "mappingproxy({'__module__': '__main__',\n",
       "              'sector': 'electronics',\n",
       "              'width': 500,\n",
       "              'height': 1200,\n",
       "              '__dict__': <attribute '__dict__' of 'Phone' objects>,\n",
       "              '__weakref__': <attribute '__weakref__' of 'Phone' objects>,\n",
       "              '__doc__': None})"
      ]
     },
     "execution_count": 52,
     "metadata": {},
     "output_type": "execute_result"
    }
   ],
   "source": [
    "Phone.__dict__"
   ]
  },
  {
   "cell_type": "code",
   "execution_count": 53,
   "id": "c1b8ec19",
   "metadata": {},
   "outputs": [
    {
     "ename": "AttributeError",
     "evalue": "type object 'Phone' has no attribute 'os'",
     "output_type": "error",
     "traceback": [
      "\u001b[1;31m---------------------------------------------------------------------------\u001b[0m",
      "\u001b[1;31mAttributeError\u001b[0m                            Traceback (most recent call last)",
      "\u001b[1;32m<ipython-input-53-472f31c3b405>\u001b[0m in \u001b[0;36m<module>\u001b[1;34m\u001b[0m\n\u001b[1;32m----> 1\u001b[1;33m \u001b[0mPhone\u001b[0m\u001b[1;33m.\u001b[0m\u001b[0mos\u001b[0m\u001b[1;33m\u001b[0m\u001b[1;33m\u001b[0m\u001b[0m\n\u001b[0m",
      "\u001b[1;31mAttributeError\u001b[0m: type object 'Phone' has no attribute 'os'"
     ]
    }
   ],
   "source": [
    "Phone.os"
   ]
  },
  {
   "cell_type": "code",
   "execution_count": 55,
   "id": "02558483",
   "metadata": {},
   "outputs": [],
   "source": [
    "delattr(Phone,\"os\")"
   ]
  },
  {
   "cell_type": "code",
   "execution_count": 56,
   "id": "4930066f",
   "metadata": {},
   "outputs": [
    {
     "ename": "AttributeError",
     "evalue": "type object 'Phone' has no attribute 'os'",
     "output_type": "error",
     "traceback": [
      "\u001b[1;31m---------------------------------------------------------------------------\u001b[0m",
      "\u001b[1;31mAttributeError\u001b[0m                            Traceback (most recent call last)",
      "\u001b[1;32m<ipython-input-56-472f31c3b405>\u001b[0m in \u001b[0;36m<module>\u001b[1;34m\u001b[0m\n\u001b[1;32m----> 1\u001b[1;33m \u001b[0mPhone\u001b[0m\u001b[1;33m.\u001b[0m\u001b[0mos\u001b[0m\u001b[1;33m\u001b[0m\u001b[1;33m\u001b[0m\u001b[0m\n\u001b[0m",
      "\u001b[1;31mAttributeError\u001b[0m: type object 'Phone' has no attribute 'os'"
     ]
    }
   ],
   "source": [
    "Phone.os"
   ]
  },
  {
   "cell_type": "markdown",
   "id": "f49bec25",
   "metadata": {},
   "source": [
    "## Wywoływalna atrybuty klasy"
   ]
  },
  {
   "cell_type": "code",
   "execution_count": 63,
   "id": "0ee620d2",
   "metadata": {},
   "outputs": [
    {
     "name": "stdout",
     "output_type": "stream",
     "text": [
      "<class '__main__.Phone'> class\n"
     ]
    }
   ],
   "source": [
    "class Phone:\n",
    "    \n",
    "    sector = \"electronics\"\n",
    "    os = \"Android\"\n",
    "    width = 500\n",
    "    height = 1200\n",
    "    \n",
    "    def describe_class():\n",
    "        \n",
    "        print(f\"{Phone} class\")\n",
    "\n",
    "Phone.describe_class()"
   ]
  },
  {
   "cell_type": "code",
   "execution_count": 67,
   "id": "864a7f57",
   "metadata": {},
   "outputs": [
    {
     "name": "stdout",
     "output_type": "stream",
     "text": [
      "Operating system: Android\n",
      "Phone class\n"
     ]
    }
   ],
   "source": [
    "class Phone:\n",
    "    \n",
    "    sector = \"electronics\"\n",
    "    os = \"Android\"\n",
    "    width = 500\n",
    "    height = 1200\n",
    "    \n",
    "    def describe_class():\n",
    "        print(f\"Operating system: {Phone.os}\")\n",
    "        print(f\"{Phone.__name__} class\")\n",
    "\n",
    "Phone.describe_class()"
   ]
  },
  {
   "cell_type": "code",
   "execution_count": 68,
   "id": "45e8073e",
   "metadata": {},
   "outputs": [
    {
     "data": {
      "text/plain": [
       "<function __main__.Phone.describe_class()>"
      ]
     },
     "execution_count": 68,
     "metadata": {},
     "output_type": "execute_result"
    }
   ],
   "source": [
    "getattr(Phone,\"describe_class\")"
   ]
  },
  {
   "cell_type": "code",
   "execution_count": 69,
   "id": "f21c90ec",
   "metadata": {},
   "outputs": [
    {
     "name": "stdout",
     "output_type": "stream",
     "text": [
      "Operating system: Android\n",
      "Phone class\n"
     ]
    }
   ],
   "source": [
    "getattr(Phone,\"describe_class\")()"
   ]
  },
  {
   "cell_type": "code",
   "execution_count": 70,
   "id": "6e9e64a4",
   "metadata": {},
   "outputs": [
    {
     "name": "stdout",
     "output_type": "stream",
     "text": [
      "Help on class Phone in module __main__:\n",
      "\n",
      "class Phone(builtins.object)\n",
      " |  Methods defined here:\n",
      " |  \n",
      " |  describe_class()\n",
      " |  \n",
      " |  ----------------------------------------------------------------------\n",
      " |  Data descriptors defined here:\n",
      " |  \n",
      " |  __dict__\n",
      " |      dictionary for instance variables (if defined)\n",
      " |  \n",
      " |  __weakref__\n",
      " |      list of weak references to the object (if defined)\n",
      " |  \n",
      " |  ----------------------------------------------------------------------\n",
      " |  Data and other attributes defined here:\n",
      " |  \n",
      " |  height = 1200\n",
      " |  \n",
      " |  os = 'Android'\n",
      " |  \n",
      " |  sector = 'electronics'\n",
      " |  \n",
      " |  width = 500\n",
      "\n"
     ]
    }
   ],
   "source": [
    "help(Phone)"
   ]
  },
  {
   "cell_type": "markdown",
   "id": "7570b1df",
   "metadata": {},
   "source": [
    "## Zadanie 1.\n",
    "\n",
    "### Zaimplementuj klasę o nazwie HouseProject z podanymi atrybutami:\n",
    "#### number_of_floors ustawionym na 2,\n",
    "#### area ustawionym na 100"
   ]
  },
  {
   "cell_type": "code",
   "execution_count": 71,
   "id": "1dbe7f4a",
   "metadata": {},
   "outputs": [],
   "source": [
    "class HouseProject:\n",
    "    \n",
    "    number_of_floors=2\n",
    "    area=100"
   ]
  },
  {
   "cell_type": "code",
   "execution_count": 72,
   "id": "b994b301",
   "metadata": {},
   "outputs": [
    {
     "data": {
      "text/plain": [
       "mappingproxy({'__module__': '__main__',\n",
       "              'number_of_floors': 2,\n",
       "              'area': 100,\n",
       "              '__dict__': <attribute '__dict__' of 'HouseProject' objects>,\n",
       "              '__weakref__': <attribute '__weakref__' of 'HouseProject' objects>,\n",
       "              '__doc__': None})"
      ]
     },
     "execution_count": 72,
     "metadata": {},
     "output_type": "execute_result"
    }
   ],
   "source": [
    "HouseProject.__dict__"
   ]
  },
  {
   "cell_type": "code",
   "execution_count": 73,
   "id": "53c06493",
   "metadata": {},
   "outputs": [
    {
     "data": {
      "text/plain": [
       "<__main__.HouseProject at 0x16313fad250>"
      ]
     },
     "execution_count": 73,
     "metadata": {},
     "output_type": "execute_result"
    }
   ],
   "source": [
    "HouseProject()"
   ]
  },
  {
   "cell_type": "code",
   "execution_count": 75,
   "id": "d64d7933",
   "metadata": {},
   "outputs": [
    {
     "name": "stdout",
     "output_type": "stream",
     "text": [
      "2\n"
     ]
    },
    {
     "data": {
      "text/plain": [
       "100"
      ]
     },
     "execution_count": 75,
     "metadata": {},
     "output_type": "execute_result"
    }
   ],
   "source": [
    "print(HouseProject.number_of_floors)\n",
    "HouseProject.area"
   ]
  },
  {
   "cell_type": "markdown",
   "id": "071ce47b",
   "metadata": {},
   "source": [
    "## Zadanie 2.\n",
    "#### Podana jest poniższa implementacja kalsy o nazwie HouseProject. Zaimplementuj w klasie funkcję o nazwie describe_project(, która wydrukuje do konsoli powierzchnię i liczbę pięter tak jak pokazano na filmie."
   ]
  },
  {
   "cell_type": "code",
   "execution_count": 77,
   "id": "bf1d4369",
   "metadata": {},
   "outputs": [],
   "source": [
    "class HouseProject:\n",
    "    \n",
    "    number_of_floors=2\n",
    "    area=100\n",
    "\n",
    "    def describe_class():\n",
    "        print(f\"Area: {HouseProject.area} m2.\")\n",
    "        print(f\"Number of floors: {HouseProject.number_of_floors}.\")\n",
    "        "
   ]
  },
  {
   "cell_type": "code",
   "execution_count": 78,
   "id": "5e22ab81",
   "metadata": {},
   "outputs": [
    {
     "data": {
      "text/plain": [
       "<function __main__.HouseProject.describe_class()>"
      ]
     },
     "execution_count": 78,
     "metadata": {},
     "output_type": "execute_result"
    }
   ],
   "source": [
    "HouseProject.describe_class"
   ]
  },
  {
   "cell_type": "code",
   "execution_count": 79,
   "id": "d8c25ca3",
   "metadata": {},
   "outputs": [
    {
     "name": "stdout",
     "output_type": "stream",
     "text": [
      "Area: 100 m2.\n",
      "Number of floors: 2.\n"
     ]
    }
   ],
   "source": [
    "HouseProject.describe_class()"
   ]
  },
  {
   "cell_type": "markdown",
   "id": "fc4d07b5",
   "metadata": {},
   "source": [
    "## Przykład"
   ]
  },
  {
   "cell_type": "code",
   "execution_count": 82,
   "id": "6ac34736",
   "metadata": {},
   "outputs": [
    {
     "data": {
      "text/plain": [
       "'14:51:14'"
      ]
     },
     "execution_count": 82,
     "metadata": {},
     "output_type": "execute_result"
    }
   ],
   "source": [
    "from datetime import datetime\n",
    "\n",
    "datetime.now().strftime(\"%H:%M:%S\")"
   ]
  },
  {
   "cell_type": "code",
   "execution_count": 88,
   "id": "a1df39c0",
   "metadata": {},
   "outputs": [
    {
     "data": {
      "text/plain": [
       "mappingproxy({'__module__': '__main__',\n",
       "              'execution_time': '14_53_43',\n",
       "              'fname': 'image_14_53_43.png',\n",
       "              'current_time': <function __main__.Foto.current_time()>,\n",
       "              '__dict__': <attribute '__dict__' of 'Foto' objects>,\n",
       "              '__weakref__': <attribute '__weakref__' of 'Foto' objects>,\n",
       "              '__doc__': None})"
      ]
     },
     "execution_count": 88,
     "metadata": {},
     "output_type": "execute_result"
    }
   ],
   "source": [
    "class Foto:\n",
    "    \n",
    "    execution_time = datetime.now().strftime(\"%H_%M_%S\")\n",
    "    fname=\"image_\" + execution_time + \".png\"\n",
    "    \n",
    "    def current_time():\n",
    "        return datetime.now().strftime(\"%H_%M_%S\")\n",
    "\n",
    "Foto.__dict__"
   ]
  },
  {
   "cell_type": "code",
   "execution_count": 89,
   "id": "0999e171",
   "metadata": {},
   "outputs": [
    {
     "data": {
      "text/plain": [
       "'14_53_43'"
      ]
     },
     "execution_count": 89,
     "metadata": {},
     "output_type": "execute_result"
    }
   ],
   "source": [
    "Foto.execution_time"
   ]
  },
  {
   "cell_type": "code",
   "execution_count": 90,
   "id": "fa720e3d",
   "metadata": {},
   "outputs": [
    {
     "data": {
      "text/plain": [
       "'image_14_53_43.png'"
      ]
     },
     "execution_count": 90,
     "metadata": {},
     "output_type": "execute_result"
    }
   ],
   "source": [
    "Foto.fname"
   ]
  },
  {
   "cell_type": "code",
   "execution_count": 91,
   "id": "0054de32",
   "metadata": {},
   "outputs": [],
   "source": [
    "foto=Foto()"
   ]
  },
  {
   "cell_type": "code",
   "execution_count": 92,
   "id": "6fc69d54",
   "metadata": {},
   "outputs": [
    {
     "data": {
      "text/plain": [
       "'14_53_43'"
      ]
     },
     "execution_count": 92,
     "metadata": {},
     "output_type": "execute_result"
    }
   ],
   "source": [
    "foto.execution_time"
   ]
  },
  {
   "cell_type": "code",
   "execution_count": 94,
   "id": "2481a39d",
   "metadata": {},
   "outputs": [
    {
     "data": {
      "text/plain": [
       "'14_54_31'"
      ]
     },
     "execution_count": 94,
     "metadata": {},
     "output_type": "execute_result"
    }
   ],
   "source": [
    "Foto.current_time()"
   ]
  },
  {
   "cell_type": "markdown",
   "id": "aebd7a61",
   "metadata": {},
   "source": [
    "## Method resolution order Atrybut __mro__"
   ]
  },
  {
   "cell_type": "code",
   "execution_count": 95,
   "id": "eddd27ff",
   "metadata": {},
   "outputs": [
    {
     "data": {
      "text/plain": [
       "mappingproxy({'__module__': '__main__',\n",
       "              'execution_time': '14_55_56',\n",
       "              'fname': 'image_14_55_56.png',\n",
       "              'current_time': <function __main__.Foto.current_time()>,\n",
       "              '__dict__': <attribute '__dict__' of 'Foto' objects>,\n",
       "              '__weakref__': <attribute '__weakref__' of 'Foto' objects>,\n",
       "              '__doc__': None})"
      ]
     },
     "execution_count": 95,
     "metadata": {},
     "output_type": "execute_result"
    }
   ],
   "source": [
    "class Foto:\n",
    "    \n",
    "    execution_time = datetime.now().strftime(\"%H_%M_%S\")\n",
    "    fname=\"image_\" + execution_time + \".png\"\n",
    "    \n",
    "    def current_time():\n",
    "        return datetime.now().strftime(\"%H_%M_%S\")\n",
    "\n",
    "Foto.__dict__"
   ]
  },
  {
   "cell_type": "code",
   "execution_count": 96,
   "id": "d7282703",
   "metadata": {},
   "outputs": [
    {
     "data": {
      "text/plain": [
       "(__main__.Foto, object)"
      ]
     },
     "execution_count": 96,
     "metadata": {},
     "output_type": "execute_result"
    }
   ],
   "source": [
    "Foto.__mro__"
   ]
  },
  {
   "cell_type": "code",
   "execution_count": 98,
   "id": "0956956c",
   "metadata": {},
   "outputs": [
    {
     "data": {
      "text/plain": [
       "[__main__.Foto, object]"
      ]
     },
     "execution_count": 98,
     "metadata": {},
     "output_type": "execute_result"
    }
   ],
   "source": [
    "Foto.mro()"
   ]
  },
  {
   "cell_type": "code",
   "execution_count": 99,
   "id": "f2489b6e",
   "metadata": {},
   "outputs": [
    {
     "name": "stdout",
     "output_type": "stream",
     "text": [
      "Help on built-in function mro:\n",
      "\n",
      "mro() method of builtins.type instance\n",
      "    Return a type's method resolution order.\n",
      "\n"
     ]
    }
   ],
   "source": [
    "help(Foto.mro)"
   ]
  },
  {
   "cell_type": "code",
   "execution_count": null,
   "id": "3e03e572",
   "metadata": {},
   "outputs": [],
   "source": []
  }
 ],
 "metadata": {
  "kernelspec": {
   "display_name": "Python 3",
   "language": "python",
   "name": "python3"
  },
  "language_info": {
   "codemirror_mode": {
    "name": "ipython",
    "version": 3
   },
   "file_extension": ".py",
   "mimetype": "text/x-python",
   "name": "python",
   "nbconvert_exporter": "python",
   "pygments_lexer": "ipython3",
   "version": "3.8.10"
  }
 },
 "nbformat": 4,
 "nbformat_minor": 5
}
