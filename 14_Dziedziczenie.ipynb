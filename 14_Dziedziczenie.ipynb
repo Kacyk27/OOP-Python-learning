{
 "cells": [
  {
   "cell_type": "markdown",
   "id": "a53f588e",
   "metadata": {},
   "source": [
    "## Dziedziczenie"
   ]
  },
  {
   "cell_type": "code",
   "execution_count": 1,
   "id": "e4328485",
   "metadata": {},
   "outputs": [
    {
     "name": "stdout",
     "output_type": "stream",
     "text": [
      "Help on class object in module builtins:\n",
      "\n",
      "class object\n",
      " |  The base class of the class hierarchy.\n",
      " |  \n",
      " |  When called, it accepts no arguments and returns a new featureless\n",
      " |  instance that has no instance attributes and cannot be given any.\n",
      " |  \n",
      " |  Built-in subclasses:\n",
      " |      async_generator\n",
      " |      BaseException\n",
      " |      builtin_function_or_method\n",
      " |      bytearray\n",
      " |      ... and 109 other subclasses\n",
      " |  \n",
      " |  Methods defined here:\n",
      " |  \n",
      " |  __delattr__(self, name, /)\n",
      " |      Implement delattr(self, name).\n",
      " |  \n",
      " |  __dir__(self, /)\n",
      " |      Default dir() implementation.\n",
      " |  \n",
      " |  __eq__(self, value, /)\n",
      " |      Return self==value.\n",
      " |  \n",
      " |  __format__(self, format_spec, /)\n",
      " |      Default object formatter.\n",
      " |  \n",
      " |  __ge__(self, value, /)\n",
      " |      Return self>=value.\n",
      " |  \n",
      " |  __getattribute__(self, name, /)\n",
      " |      Return getattr(self, name).\n",
      " |  \n",
      " |  __gt__(self, value, /)\n",
      " |      Return self>value.\n",
      " |  \n",
      " |  __hash__(self, /)\n",
      " |      Return hash(self).\n",
      " |  \n",
      " |  __init__(self, /, *args, **kwargs)\n",
      " |      Initialize self.  See help(type(self)) for accurate signature.\n",
      " |  \n",
      " |  __le__(self, value, /)\n",
      " |      Return self<=value.\n",
      " |  \n",
      " |  __lt__(self, value, /)\n",
      " |      Return self<value.\n",
      " |  \n",
      " |  __ne__(self, value, /)\n",
      " |      Return self!=value.\n",
      " |  \n",
      " |  __reduce__(self, /)\n",
      " |      Helper for pickle.\n",
      " |  \n",
      " |  __reduce_ex__(self, protocol, /)\n",
      " |      Helper for pickle.\n",
      " |  \n",
      " |  __repr__(self, /)\n",
      " |      Return repr(self).\n",
      " |  \n",
      " |  __setattr__(self, name, value, /)\n",
      " |      Implement setattr(self, name, value).\n",
      " |  \n",
      " |  __sizeof__(self, /)\n",
      " |      Size of object in memory, in bytes.\n",
      " |  \n",
      " |  __str__(self, /)\n",
      " |      Return str(self).\n",
      " |  \n",
      " |  ----------------------------------------------------------------------\n",
      " |  Class methods defined here:\n",
      " |  \n",
      " |  __init_subclass__(...) from builtins.type\n",
      " |      This method is called when a class is subclassed.\n",
      " |      \n",
      " |      The default implementation does nothing. It may be\n",
      " |      overridden to extend subclasses.\n",
      " |  \n",
      " |  __subclasshook__(...) from builtins.type\n",
      " |      Abstract classes can override this to customize issubclass().\n",
      " |      \n",
      " |      This is invoked early on by abc.ABCMeta.__subclasscheck__().\n",
      " |      It should return True, False or NotImplemented.  If it returns\n",
      " |      NotImplemented, the normal algorithm is used.  Otherwise, it\n",
      " |      overrides the normal algorithm (and the outcome is cached).\n",
      " |  \n",
      " |  ----------------------------------------------------------------------\n",
      " |  Static methods defined here:\n",
      " |  \n",
      " |  __new__(*args, **kwargs) from builtins.type\n",
      " |      Create and return a new object.  See help(type) for accurate signature.\n",
      " |  \n",
      " |  ----------------------------------------------------------------------\n",
      " |  Data and other attributes defined here:\n",
      " |  \n",
      " |  __class__ = <class 'type'>\n",
      " |      type(object_or_name, bases, dict)\n",
      " |      type(object) -> the object's type\n",
      " |      type(name, bases, dict) -> a new type\n",
      "\n"
     ]
    }
   ],
   "source": [
    "help(object)"
   ]
  },
  {
   "cell_type": "code",
   "execution_count": 3,
   "id": "d7bba316",
   "metadata": {},
   "outputs": [],
   "source": [
    "class Vehicle(object):\n",
    "    pass"
   ]
  },
  {
   "cell_type": "code",
   "execution_count": 4,
   "id": "2420e765",
   "metadata": {},
   "outputs": [],
   "source": [
    "class Vehicle:\n",
    "    pass"
   ]
  },
  {
   "cell_type": "code",
   "execution_count": 5,
   "id": "8045b6a1",
   "metadata": {},
   "outputs": [
    {
     "name": "stdout",
     "output_type": "stream",
     "text": [
      "Help on class Vehicle in module __main__:\n",
      "\n",
      "class Vehicle(builtins.object)\n",
      " |  Data descriptors defined here:\n",
      " |  \n",
      " |  __dict__\n",
      " |      dictionary for instance variables (if defined)\n",
      " |  \n",
      " |  __weakref__\n",
      " |      list of weak references to the object (if defined)\n",
      "\n"
     ]
    }
   ],
   "source": [
    "help(Vehicle)"
   ]
  },
  {
   "cell_type": "code",
   "execution_count": 8,
   "id": "1210a7f1",
   "metadata": {},
   "outputs": [],
   "source": [
    "vehicle=Vehicle()"
   ]
  },
  {
   "cell_type": "code",
   "execution_count": 9,
   "id": "c4e15c11",
   "metadata": {},
   "outputs": [
    {
     "data": {
      "text/plain": [
       "107874582541"
      ]
     },
     "execution_count": 9,
     "metadata": {},
     "output_type": "execute_result"
    }
   ],
   "source": [
    "hash(vehicle)"
   ]
  },
  {
   "cell_type": "markdown",
   "id": "72d32f9f",
   "metadata": {},
   "source": [
    "## Dziedziczenie pojedyńcze"
   ]
  },
  {
   "cell_type": "code",
   "execution_count": 10,
   "id": "d5261521",
   "metadata": {},
   "outputs": [],
   "source": [
    "class Vehicle:\n",
    "    pass\n",
    "\n",
    "\n",
    "class LandVehicle(Vehicle):\n",
    "    pass\n",
    "\n",
    "\n",
    "class AirVehicle(Vehicle):\n",
    "    pass\n",
    "\n",
    "\n",
    "class WaterVehicle(Vehicle):\n",
    "    pass\n",
    "\n"
   ]
  },
  {
   "cell_type": "code",
   "execution_count": 11,
   "id": "afd8c102",
   "metadata": {},
   "outputs": [],
   "source": [
    "vehicles= [Vehicle(),LandVehicle(),AirVehicle(),WaterVehicle()]"
   ]
  },
  {
   "cell_type": "code",
   "execution_count": 12,
   "id": "2585826d",
   "metadata": {},
   "outputs": [
    {
     "data": {
      "text/plain": [
       "[<__main__.Vehicle at 0x191dec66f40>,\n",
       " <__main__.LandVehicle at 0x191dec66f70>,\n",
       " <__main__.AirVehicle at 0x191dec669d0>,\n",
       " <__main__.WaterVehicle at 0x191dec665e0>]"
      ]
     },
     "execution_count": 12,
     "metadata": {},
     "output_type": "execute_result"
    }
   ],
   "source": [
    "vehicles"
   ]
  },
  {
   "cell_type": "code",
   "execution_count": 13,
   "id": "0b45801f",
   "metadata": {},
   "outputs": [
    {
     "name": "stdout",
     "output_type": "stream",
     "text": [
      "Help on built-in function issubclass in module builtins:\n",
      "\n",
      "issubclass(cls, class_or_tuple, /)\n",
      "    Return whether 'cls' is a derived from another class or is the same class.\n",
      "    \n",
      "    A tuple, as in ``issubclass(x, (A, B, ...))``, may be given as the target to\n",
      "    check against. This is equivalent to ``issubclass(x, A) or issubclass(x, B)\n",
      "    or ...`` etc.\n",
      "\n"
     ]
    }
   ],
   "source": [
    "help(issubclass)"
   ]
  },
  {
   "cell_type": "code",
   "execution_count": 14,
   "id": "eced6630",
   "metadata": {},
   "outputs": [
    {
     "data": {
      "text/plain": [
       "False"
      ]
     },
     "execution_count": 14,
     "metadata": {},
     "output_type": "execute_result"
    }
   ],
   "source": [
    "issubclass(LandVehicle,WaterVehicle)"
   ]
  },
  {
   "cell_type": "code",
   "execution_count": 15,
   "id": "7558ac35",
   "metadata": {},
   "outputs": [
    {
     "data": {
      "text/plain": [
       "True"
      ]
     },
     "execution_count": 15,
     "metadata": {},
     "output_type": "execute_result"
    }
   ],
   "source": [
    "issubclass(LandVehicle,Vehicle)"
   ]
  },
  {
   "cell_type": "code",
   "execution_count": 16,
   "id": "2fce3711",
   "metadata": {},
   "outputs": [
    {
     "data": {
      "text/plain": [
       "True"
      ]
     },
     "execution_count": 16,
     "metadata": {},
     "output_type": "execute_result"
    }
   ],
   "source": [
    "issubclass(Vehicle,object)"
   ]
  },
  {
   "cell_type": "markdown",
   "id": "71820a88",
   "metadata": {},
   "source": [
    "## Zadanie"
   ]
  },
  {
   "cell_type": "code",
   "execution_count": 17,
   "id": "4f845e99",
   "metadata": {},
   "outputs": [],
   "source": [
    "class Vehicle:\n",
    "    pass\n",
    "\n",
    "\n",
    "class LandVehicle(Vehicle):\n",
    "    pass\n",
    "\n",
    "\n",
    "class Bike(LandVehicle):\n",
    "    pass\n",
    "\n",
    "\n",
    "class Car(LandVehicle):\n",
    "    pass\n",
    "\n",
    "\n",
    "class Truck(LandVehicle):\n",
    "    pass\n",
    "\n",
    "\n",
    "class AirVehicle(Vehicle):\n",
    "    pass\n",
    "\n",
    "\n",
    "class Plane(AirVehicle):\n",
    "    pass\n",
    "\n",
    "\n",
    "class Helicopter(AirVehicle):\n",
    "    pass\n",
    "\n",
    "\n",
    "class WaterVehicle(Vehicle):\n",
    "    pass"
   ]
  },
  {
   "cell_type": "code",
   "execution_count": 18,
   "id": "de1621d0",
   "metadata": {},
   "outputs": [
    {
     "data": {
      "text/plain": [
       "(True, True, True, False)"
      ]
     },
     "execution_count": 18,
     "metadata": {},
     "output_type": "execute_result"
    }
   ],
   "source": [
    "issubclass(Bike,Vehicle), issubclass(Car,Vehicle),issubclass(Plane,Vehicle), issubclass(Truck,WaterVehicle)"
   ]
  },
  {
   "cell_type": "code",
   "execution_count": 21,
   "id": "3c7b3430",
   "metadata": {},
   "outputs": [
    {
     "data": {
      "text/plain": [
       "True"
      ]
     },
     "execution_count": 21,
     "metadata": {},
     "output_type": "execute_result"
    }
   ],
   "source": [
    "issubclass(Bike,(LandVehicle,AirVehicle))"
   ]
  },
  {
   "cell_type": "markdown",
   "id": "f7609d2f",
   "metadata": {},
   "source": [
    "## MRO - Method Resolution Order\n",
    "\n",
    "\n",
    "#### Kolejność rozwiązywania metod przed Pythona"
   ]
  },
  {
   "cell_type": "code",
   "execution_count": 25,
   "id": "e519b5d7",
   "metadata": {},
   "outputs": [],
   "source": [
    "class Vehicle:\n",
    "    pass\n",
    "\n",
    "\n",
    "class LandVehicle(Vehicle):\n",
    "    pass\n",
    "\n",
    "\n",
    "class Bike(LandVehicle):\n",
    "    pass\n",
    "\n",
    "\n",
    "class Car(LandVehicle):\n",
    "    pass\n",
    "\n",
    "\n",
    "class Truck(LandVehicle):\n",
    "    pass\n",
    "\n",
    "\n",
    "class AirVehicle(Vehicle):\n",
    "    pass\n",
    "\n",
    "\n",
    "class Plane(AirVehicle):\n",
    "    pass\n",
    "\n",
    "\n",
    "class Helicopter(AirVehicle):\n",
    "    pass\n",
    "\n",
    "\n",
    "class WaterVehicle(Vehicle):\n",
    "    pass"
   ]
  },
  {
   "cell_type": "code",
   "execution_count": 26,
   "id": "cfc01927",
   "metadata": {},
   "outputs": [
    {
     "name": "stdout",
     "output_type": "stream",
     "text": [
      "Help on class Plane in module __main__:\n",
      "\n",
      "class Plane(AirVehicle)\n",
      " |  Method resolution order:\n",
      " |      Plane\n",
      " |      AirVehicle\n",
      " |      Vehicle\n",
      " |      builtins.object\n",
      " |  \n",
      " |  Data descriptors inherited from Vehicle:\n",
      " |  \n",
      " |  __dict__\n",
      " |      dictionary for instance variables (if defined)\n",
      " |  \n",
      " |  __weakref__\n",
      " |      list of weak references to the object (if defined)\n",
      "\n"
     ]
    }
   ],
   "source": [
    "help(Plane)"
   ]
  },
  {
   "cell_type": "code",
   "execution_count": 27,
   "id": "16054aac",
   "metadata": {},
   "outputs": [
    {
     "data": {
      "text/plain": [
       "[__main__.Plane, __main__.AirVehicle, __main__.Vehicle, object]"
      ]
     },
     "execution_count": 27,
     "metadata": {},
     "output_type": "execute_result"
    }
   ],
   "source": [
    "Plane.mro()"
   ]
  },
  {
   "cell_type": "code",
   "execution_count": 28,
   "id": "8dce7130",
   "metadata": {},
   "outputs": [
    {
     "data": {
      "text/plain": [
       "(__main__.Plane, __main__.AirVehicle, __main__.Vehicle, object)"
      ]
     },
     "execution_count": 28,
     "metadata": {},
     "output_type": "execute_result"
    }
   ],
   "source": [
    "Plane.__mro__"
   ]
  },
  {
   "cell_type": "code",
   "execution_count": 29,
   "id": "6941973b",
   "metadata": {},
   "outputs": [
    {
     "data": {
      "text/plain": [
       "[__main__.Truck, __main__.LandVehicle, __main__.Vehicle, object]"
      ]
     },
     "execution_count": 29,
     "metadata": {},
     "output_type": "execute_result"
    }
   ],
   "source": [
    "Truck.mro()"
   ]
  },
  {
   "cell_type": "markdown",
   "id": "2c96fa84",
   "metadata": {},
   "source": [
    "## Nadpisywanie metod - Method overriding"
   ]
  },
  {
   "cell_type": "code",
   "execution_count": 30,
   "id": "30844e09",
   "metadata": {},
   "outputs": [],
   "source": [
    "class Vehicle:\n",
    "    \n",
    "    def __init__(self,category):\n",
    "        self.category=category\n",
    "\n",
    "vehicle=Vehicle(\"land\")"
   ]
  },
  {
   "cell_type": "code",
   "execution_count": 31,
   "id": "e95979e4",
   "metadata": {},
   "outputs": [
    {
     "data": {
      "text/plain": [
       "<__main__.Vehicle at 0x191de92df10>"
      ]
     },
     "execution_count": 31,
     "metadata": {},
     "output_type": "execute_result"
    }
   ],
   "source": [
    "vehicle"
   ]
  },
  {
   "cell_type": "code",
   "execution_count": 32,
   "id": "e9d5107c",
   "metadata": {},
   "outputs": [
    {
     "data": {
      "text/plain": [
       "'<__main__.Vehicle object at 0x00000191DE92DF10>'"
      ]
     },
     "execution_count": 32,
     "metadata": {},
     "output_type": "execute_result"
    }
   ],
   "source": [
    "repr(vehicle)"
   ]
  },
  {
   "cell_type": "code",
   "execution_count": 33,
   "id": "fd9c41f0",
   "metadata": {},
   "outputs": [
    {
     "data": {
      "text/plain": [
       "[__main__.Vehicle, object]"
      ]
     },
     "execution_count": 33,
     "metadata": {},
     "output_type": "execute_result"
    }
   ],
   "source": [
    "Vehicle.mro()"
   ]
  },
  {
   "cell_type": "code",
   "execution_count": 34,
   "id": "5334da61",
   "metadata": {},
   "outputs": [],
   "source": [
    "class Vehicle:\n",
    "    \n",
    "    def __init__(self,category):\n",
    "        self.category=category\n",
    "    \n",
    "    def __repr__(self):\n",
    "        return f\"Vehicle(category='{self.category}')\"\n",
    "\n",
    "vehicle=Vehicle(\"land\")"
   ]
  },
  {
   "cell_type": "code",
   "execution_count": 35,
   "id": "ef9e653a",
   "metadata": {},
   "outputs": [
    {
     "data": {
      "text/plain": [
       "Vehicle(category='land')"
      ]
     },
     "execution_count": 35,
     "metadata": {},
     "output_type": "execute_result"
    }
   ],
   "source": [
    "vehicle"
   ]
  },
  {
   "cell_type": "code",
   "execution_count": 37,
   "id": "6f0d7158",
   "metadata": {},
   "outputs": [
    {
     "data": {
      "text/plain": [
       "\"Vehicle(category='land')\""
      ]
     },
     "execution_count": 37,
     "metadata": {},
     "output_type": "execute_result"
    }
   ],
   "source": [
    "vehicle.__repr__()"
   ]
  },
  {
   "cell_type": "code",
   "execution_count": 38,
   "id": "832af77b",
   "metadata": {},
   "outputs": [
    {
     "name": "stdout",
     "output_type": "stream",
     "text": [
      "Vehicle(category='land')\n"
     ]
    }
   ],
   "source": [
    "print(vehicle)"
   ]
  },
  {
   "cell_type": "code",
   "execution_count": 39,
   "id": "a4570321",
   "metadata": {},
   "outputs": [
    {
     "data": {
      "text/plain": [
       "Vehicle(category='land')"
      ]
     },
     "execution_count": 39,
     "metadata": {},
     "output_type": "execute_result"
    }
   ],
   "source": [
    "class Vehicle:\n",
    "    \n",
    "    def __init__(self,category=None):\n",
    "        self.category=category if category else \"land\"\n",
    "    \n",
    "    def __repr__(self):\n",
    "        return f\"Vehicle(category='{self.category}')\"\n",
    "\n",
    "vehicle=Vehicle()\n",
    "vehicle"
   ]
  },
  {
   "cell_type": "markdown",
   "id": "ea9c127a",
   "metadata": {},
   "source": [
    "## Przykład nadpisywanai metod wbudowanych"
   ]
  },
  {
   "cell_type": "code",
   "execution_count": 41,
   "id": "99fab9a4",
   "metadata": {},
   "outputs": [
    {
     "data": {
      "text/plain": [
       "[Vehicle(category='land'), Vehicle(category='land'), Vehicle(category='air')]"
      ]
     },
     "execution_count": 41,
     "metadata": {},
     "output_type": "execute_result"
    }
   ],
   "source": [
    "class Vehicle:\n",
    "    \n",
    "    def __init__(self,category=\"land\"):\n",
    "        self.category=category\n",
    "    \n",
    "    def __repr__(self):\n",
    "        return f\"Vehicle(category='{self.category}')\"\n",
    "\n",
    "\n",
    "class LandVehicle(Vehicle):\n",
    "    pass\n",
    "\n",
    "\n",
    "class AirVehicle(Vehicle):\n",
    "    pass\n",
    "\n",
    "\n",
    "vehicles=[Vehicle(),LandVehicle(),AirVehicle(\"air\")]\n",
    "vehicles"
   ]
  },
  {
   "cell_type": "code",
   "execution_count": 42,
   "id": "808243bb",
   "metadata": {},
   "outputs": [
    {
     "data": {
      "text/plain": [
       "[Vehicle(category='land'),\n",
       " LandVehicle(category='land'),\n",
       " AirVehicle(category='air')]"
      ]
     },
     "execution_count": 42,
     "metadata": {},
     "output_type": "execute_result"
    }
   ],
   "source": [
    "class Vehicle:\n",
    "    \n",
    "    def __init__(self,category=\"land\"):\n",
    "        self.category=category\n",
    "    \n",
    "    def __repr__(self):\n",
    "        return f\"Vehicle(category='{self.category}')\"\n",
    "\n",
    "\n",
    "class LandVehicle(Vehicle):\n",
    "    \n",
    "    def __repr__(self):\n",
    "        return f\"LandVehicle(category='{self.category}')\"\n",
    "\n",
    "\n",
    "class AirVehicle(Vehicle):\n",
    "    \n",
    "    def __repr__(self):\n",
    "        return f\"AirVehicle(category='{self.category}')\"\n",
    "\n",
    "\n",
    "vehicles=[Vehicle(),LandVehicle(),AirVehicle(\"air\")]\n",
    "vehicles"
   ]
  },
  {
   "cell_type": "code",
   "execution_count": 43,
   "id": "59a1ed16",
   "metadata": {},
   "outputs": [
    {
     "data": {
      "text/plain": [
       "[Vehicle(category='land'),\n",
       " LandVehicle(category='land'),\n",
       " AirVehicle(category='air')]"
      ]
     },
     "execution_count": 43,
     "metadata": {},
     "output_type": "execute_result"
    }
   ],
   "source": [
    "class Vehicle:\n",
    "    \n",
    "    def __init__(self,category=\"land\"):\n",
    "        self.category=category\n",
    "    \n",
    "    def __repr__(self):\n",
    "        return f\"{self.__class__.__name__}(category='{self.category}')\"\n",
    "\n",
    "\n",
    "class LandVehicle(Vehicle):\n",
    "    pass\n",
    "\n",
    "\n",
    "class AirVehicle(Vehicle):\n",
    "    pass\n",
    "\n",
    "\n",
    "vehicles=[Vehicle(),LandVehicle(),AirVehicle(\"air\")]\n",
    "vehicles"
   ]
  },
  {
   "cell_type": "markdown",
   "id": "18aeba2c",
   "metadata": {},
   "source": [
    "## Nadpisanie metod zdefiniowanych przez użytkownika"
   ]
  },
  {
   "cell_type": "code",
   "execution_count": 44,
   "id": "a12a5da8",
   "metadata": {},
   "outputs": [
    {
     "data": {
      "text/plain": [
       "[Vehicle(category='land'),\n",
       " LandVehicle(category='land'),\n",
       " AirVehicle(category='air')]"
      ]
     },
     "execution_count": 44,
     "metadata": {},
     "output_type": "execute_result"
    }
   ],
   "source": [
    "class Vehicle:\n",
    "    \n",
    "    def __init__(self,category=\"land\"):\n",
    "        self.category=category\n",
    "    \n",
    "    def __repr__(self):\n",
    "        return f\"{self.__class__.__name__}(category='{self.category}')\"\n",
    "    \n",
    "    def display_info(self):\n",
    "        print(f\"Vehicle category: {self.category}\")\n",
    "\n",
    "\n",
    "class LandVehicle(Vehicle):\n",
    "    pass\n",
    "\n",
    "\n",
    "class AirVehicle(Vehicle):\n",
    "    pass\n",
    "\n",
    "\n",
    "vehicles=[Vehicle(),LandVehicle(),AirVehicle(\"air\")]\n",
    "vehicles"
   ]
  },
  {
   "cell_type": "code",
   "execution_count": 45,
   "id": "aa58d085",
   "metadata": {},
   "outputs": [
    {
     "name": "stdout",
     "output_type": "stream",
     "text": [
      "Vehicle category: land\n",
      "Vehicle category: land\n",
      "Vehicle category: air\n"
     ]
    }
   ],
   "source": [
    "for vehicle in vehicles:\n",
    "    vehicle.display_info()"
   ]
  },
  {
   "cell_type": "code",
   "execution_count": 46,
   "id": "480f4ab3",
   "metadata": {},
   "outputs": [
    {
     "name": "stdout",
     "output_type": "stream",
     "text": [
      "(<class '__main__.Vehicle'>, <class 'object'>)\n",
      "(<class '__main__.LandVehicle'>, <class '__main__.Vehicle'>, <class 'object'>)\n",
      "(<class '__main__.AirVehicle'>, <class '__main__.Vehicle'>, <class 'object'>)\n"
     ]
    }
   ],
   "source": [
    "for vehicle in vehicles:\n",
    "    print(vehicle.__class__.__mro__)"
   ]
  },
  {
   "cell_type": "code",
   "execution_count": 49,
   "id": "e7e7744d",
   "metadata": {},
   "outputs": [
    {
     "data": {
      "text/plain": [
       "[Vehicle(category='land'),\n",
       " LandVehicle(category='land'),\n",
       " AirVehicle(category='air')]"
      ]
     },
     "execution_count": 49,
     "metadata": {},
     "output_type": "execute_result"
    }
   ],
   "source": [
    "class Vehicle:\n",
    "    \n",
    "    def __init__(self,category=\"land\"):\n",
    "        self.category=category\n",
    "    \n",
    "    def __repr__(self):\n",
    "        return f\"{self.__class__.__name__}(category='{self.category}')\"\n",
    "    \n",
    "    def display_info(self):\n",
    "        print(f\"Vehicle category: {self.category}\")\n",
    "    \n",
    "    def show_activity(self):\n",
    "        print(f\"{self} -> Moving...\")\n",
    "\n",
    "\n",
    "class LandVehicle(Vehicle):\n",
    "    \n",
    "    def display_info(self):\n",
    "        print(f\"LandVehicle category: {self.category}\")\n",
    "\n",
    "    def show_activity(self):\n",
    "        print(f\"{self} -> Driving...\")\n",
    "\n",
    "class AirVehicle(Vehicle):\n",
    "\n",
    "    def show_activity(self):\n",
    "        print(f\"{self} -> Flying...\")\n",
    "        \n",
    "vehicles=[Vehicle(),LandVehicle(),AirVehicle(\"air\")]\n",
    "vehicles"
   ]
  },
  {
   "cell_type": "code",
   "execution_count": 50,
   "id": "6376891c",
   "metadata": {},
   "outputs": [
    {
     "name": "stdout",
     "output_type": "stream",
     "text": [
      "Vehicle(category='land') -> Moving...\n",
      "LandVehicle(category='land') -> Driving...\n",
      "AirVehicle(category='air') -> Flying...\n"
     ]
    }
   ],
   "source": [
    "for vehicle in vehicles:\n",
    "    vehicle.show_activity()"
   ]
  },
  {
   "cell_type": "markdown",
   "id": "c92c41b9",
   "metadata": {},
   "source": [
    "## Kolejny przykład - na co uważać, zwracać uwagę"
   ]
  },
  {
   "cell_type": "code",
   "execution_count": 51,
   "id": "105872d1",
   "metadata": {},
   "outputs": [
    {
     "name": "stdout",
     "output_type": "stream",
     "text": [
      "---- USER SESSION ----\n",
      "Starting...\n",
      "Drinking...\n",
      "Working...\n",
      "Ending...\n",
      "---- END SESSION ----\n",
      "\n"
     ]
    }
   ],
   "source": [
    "class User:\n",
    "    \n",
    "    def start(self):\n",
    "        print(\"Starting...\")\n",
    "        \n",
    "    def drink(self):\n",
    "        print(\"Drinking...\")\n",
    "    \n",
    "    def work(self):\n",
    "        print(\"Working...\")\n",
    "        \n",
    "    def end(self):\n",
    "        print(\"Ending...\")\n",
    "        \n",
    "    def make_session(self):\n",
    "        print(f\"---- {self.__class__.__name__.upper()} SESSION ----\")\n",
    "        self.start()\n",
    "        self.drink()\n",
    "        self.work()\n",
    "        self.end()\n",
    "        print(f\"---- END SESSION ----\\n\")\n",
    "\n",
    "user=User()\n",
    "user.make_session()"
   ]
  },
  {
   "cell_type": "code",
   "execution_count": 52,
   "id": "8321a951",
   "metadata": {},
   "outputs": [
    {
     "name": "stdout",
     "output_type": "stream",
     "text": [
      "---- USER SESSION ----\n",
      "Starting...\n",
      "Drinking...\n",
      "Working...\n",
      "Ending...\n",
      "---- END SESSION ----\n",
      "\n",
      "---- PLAYER SESSION ----\n",
      "Starting...\n",
      "Drinking...\n",
      "Playing...\n",
      "Ending...\n",
      "---- END SESSION ----\n",
      "\n"
     ]
    }
   ],
   "source": [
    "class User:\n",
    "    \n",
    "    def start(self):\n",
    "        print(\"Starting...\")\n",
    "        \n",
    "    def drink(self):\n",
    "        print(\"Drinking...\")\n",
    "    \n",
    "    def work(self):\n",
    "        print(\"Working...\")\n",
    "        \n",
    "    def end(self):\n",
    "        print(\"Ending...\")\n",
    "        \n",
    "    def make_session(self):\n",
    "        print(f\"---- {self.__class__.__name__.upper()} SESSION ----\")\n",
    "        self.start()\n",
    "        self.drink()\n",
    "        self.work()\n",
    "        self.end()\n",
    "        print(f\"---- END SESSION ----\\n\")\n",
    "\n",
    "        \n",
    "        \n",
    "class Player(User):\n",
    "    \n",
    "    def work(self):\n",
    "        print(\"Playing...\")\n",
    "        \n",
    "        \n",
    "user=User()\n",
    "user.make_session()\n",
    "\n",
    "player=Player()\n",
    "player.make_session()"
   ]
  },
  {
   "cell_type": "code",
   "execution_count": 53,
   "id": "711805d7",
   "metadata": {},
   "outputs": [
    {
     "name": "stdout",
     "output_type": "stream",
     "text": [
      "---- USER SESSION ----\n",
      "Starting...\n",
      "Drinking...\n",
      "Working...\n",
      "Ending...\n",
      "---- END SESSION ----\n",
      "\n",
      "---- PLAYER SESSION ----\n",
      "Starting...\n",
      "Drinking...\n",
      "Working...\n",
      "Ending...\n",
      "---- END SESSION ----\n",
      "\n"
     ]
    }
   ],
   "source": [
    "class User:\n",
    "    \n",
    "    def start(self):\n",
    "        print(\"Starting...\")\n",
    "        \n",
    "    def drink(self):\n",
    "        print(\"Drinking...\")\n",
    "    \n",
    "    def work(self):\n",
    "        print(\"Working...\")\n",
    "        \n",
    "    def end(self):\n",
    "        print(\"Ending...\")\n",
    "        \n",
    "    def make_session(self):\n",
    "        print(f\"---- {self.__class__.__name__.upper()} SESSION ----\")\n",
    "        User.start(self)\n",
    "        User.drink(self)\n",
    "        User.work(self)\n",
    "        User.end(self)\n",
    "        print(f\"---- END SESSION ----\\n\")\n",
    "\n",
    "        \n",
    "        \n",
    "class Player(User):\n",
    "    \n",
    "    def work(self):\n",
    "        print(\"Playing...\")\n",
    "        \n",
    "        \n",
    "user=User()\n",
    "user.make_session()\n",
    "\n",
    "player=Player()\n",
    "player.make_session()"
   ]
  },
  {
   "cell_type": "markdown",
   "id": "8c21738c",
   "metadata": {},
   "source": [
    "## Przykład, atrybuty klasy"
   ]
  },
  {
   "cell_type": "code",
   "execution_count": 2,
   "id": "3e5012a4",
   "metadata": {},
   "outputs": [
    {
     "name": "stdout",
     "output_type": "stream",
     "text": [
      "Vehicle from 2010\n",
      "Car from 2010\n"
     ]
    }
   ],
   "source": [
    "class Vehicle:\n",
    "    \n",
    "    year=2010\n",
    "    \n",
    "    def info(self):\n",
    "        print(f\"{self.__class__.__name__} from {Vehicle.year}\")\n",
    "\n",
    "\n",
    "class Car(Vehicle):\n",
    "    \n",
    "    \n",
    "    year=2020\n",
    "    \n",
    "\n",
    "vehicles=[Vehicle(),Car()]\n",
    "for vehicle in vehicles:\n",
    "    vehicle.info()"
   ]
  },
  {
   "cell_type": "code",
   "execution_count": 3,
   "id": "9692a56b",
   "metadata": {},
   "outputs": [
    {
     "name": "stdout",
     "output_type": "stream",
     "text": [
      "Vehicle from 2010\n",
      "Car from 2020\n"
     ]
    }
   ],
   "source": [
    "class Vehicle:\n",
    "    \n",
    "    year=2010\n",
    "    \n",
    "    def info(self):\n",
    "        print(f\"{self.__class__.__name__} from {self.__class__.year}\")\n",
    "\n",
    "\n",
    "class Car(Vehicle):\n",
    "    \n",
    "    \n",
    "    year=2020\n",
    "    \n",
    "\n",
    "vehicles=[Vehicle(),Car()]\n",
    "for vehicle in vehicles:\n",
    "    vehicle.info()"
   ]
  },
  {
   "cell_type": "markdown",
   "id": "bf7d3649",
   "metadata": {},
   "source": [
    "## Dziedziczenie - super()"
   ]
  },
  {
   "cell_type": "code",
   "execution_count": 4,
   "id": "abf82ea0",
   "metadata": {},
   "outputs": [
    {
     "name": "stdout",
     "output_type": "stream",
     "text": [
      "Help on class super in module builtins:\n",
      "\n",
      "class super(object)\n",
      " |  super() -> same as super(__class__, <first argument>)\n",
      " |  super(type) -> unbound super object\n",
      " |  super(type, obj) -> bound super object; requires isinstance(obj, type)\n",
      " |  super(type, type2) -> bound super object; requires issubclass(type2, type)\n",
      " |  Typical use to call a cooperative superclass method:\n",
      " |  class C(B):\n",
      " |      def meth(self, arg):\n",
      " |          super().meth(arg)\n",
      " |  This works for class methods too:\n",
      " |  class C(B):\n",
      " |      @classmethod\n",
      " |      def cmeth(cls, arg):\n",
      " |          super().cmeth(arg)\n",
      " |  \n",
      " |  Methods defined here:\n",
      " |  \n",
      " |  __get__(self, instance, owner, /)\n",
      " |      Return an attribute of instance, which is of type owner.\n",
      " |  \n",
      " |  __getattribute__(self, name, /)\n",
      " |      Return getattr(self, name).\n",
      " |  \n",
      " |  __init__(self, /, *args, **kwargs)\n",
      " |      Initialize self.  See help(type(self)) for accurate signature.\n",
      " |  \n",
      " |  __repr__(self, /)\n",
      " |      Return repr(self).\n",
      " |  \n",
      " |  ----------------------------------------------------------------------\n",
      " |  Static methods defined here:\n",
      " |  \n",
      " |  __new__(*args, **kwargs) from builtins.type\n",
      " |      Create and return a new object.  See help(type) for accurate signature.\n",
      " |  \n",
      " |  ----------------------------------------------------------------------\n",
      " |  Data descriptors defined here:\n",
      " |  \n",
      " |  __self__\n",
      " |      the instance invoking super(); may be None\n",
      " |  \n",
      " |  __self_class__\n",
      " |      the type of the instance invoking super(); may be None\n",
      " |  \n",
      " |  __thisclass__\n",
      " |      the class invoking super()\n",
      "\n"
     ]
    }
   ],
   "source": [
    "help(super)"
   ]
  },
  {
   "cell_type": "code",
   "execution_count": 5,
   "id": "f21d052b",
   "metadata": {},
   "outputs": [],
   "source": [
    "class Vehicle:\n",
    "    \n",
    "    def __init__(self,brand,year):\n",
    "        self.brand=brand\n",
    "        self.year=year\n",
    "        \n",
    "class Car(Vehicle):\n",
    "    \n",
    "    def __init__(self,brand,year,horsepower):\n",
    "        self.brand=brand\n",
    "        self.year=year\n",
    "        self.horsepower=horsepower\n",
    "    "
   ]
  },
  {
   "cell_type": "code",
   "execution_count": 6,
   "id": "d21b33f2",
   "metadata": {},
   "outputs": [
    {
     "data": {
      "text/plain": [
       "{'brand': 'Tesla', 'year': 2020}"
      ]
     },
     "execution_count": 6,
     "metadata": {},
     "output_type": "execute_result"
    }
   ],
   "source": [
    "v1=Vehicle(\"Tesla\",2020)\n",
    "v1.__dict__"
   ]
  },
  {
   "cell_type": "code",
   "execution_count": 7,
   "id": "4a171e32",
   "metadata": {},
   "outputs": [
    {
     "data": {
      "text/plain": [
       "{'brand': 'Tesla', 'year': 2020, 'horsepower': 306}"
      ]
     },
     "execution_count": 7,
     "metadata": {},
     "output_type": "execute_result"
    }
   ],
   "source": [
    "c1 = Car(\"Tesla\",2020,306)\n",
    "c1.__dict__"
   ]
  },
  {
   "cell_type": "code",
   "execution_count": 8,
   "id": "d97bd534",
   "metadata": {},
   "outputs": [],
   "source": [
    "class Vehicle:\n",
    "    \n",
    "    def __init__(self,brand,year):\n",
    "        self.brand=brand\n",
    "        self.year=year\n",
    "        \n",
    "class Car(Vehicle):\n",
    "    \n",
    "    def __init__(self,brand,year,horsepower):\n",
    "        super().__init__(brand,year)\n",
    "        self.horsepower=horsepower\n",
    "\n"
   ]
  },
  {
   "cell_type": "code",
   "execution_count": 9,
   "id": "b63ab51c",
   "metadata": {},
   "outputs": [
    {
     "data": {
      "text/plain": [
       "{'brand': 'Tesla', 'year': 2020}"
      ]
     },
     "execution_count": 9,
     "metadata": {},
     "output_type": "execute_result"
    }
   ],
   "source": [
    "v1=Vehicle(\"Tesla\",2020)\n",
    "v1.__dict__\n"
   ]
  },
  {
   "cell_type": "code",
   "execution_count": 10,
   "id": "ffbdcb19",
   "metadata": {},
   "outputs": [
    {
     "data": {
      "text/plain": [
       "{'brand': 'Tesla', 'year': 2020, 'horsepower': 306}"
      ]
     },
     "execution_count": 10,
     "metadata": {},
     "output_type": "execute_result"
    }
   ],
   "source": [
    "c1 = Car(\"Tesla\",2020,306)\n",
    "c1.__dict__"
   ]
  },
  {
   "cell_type": "markdown",
   "id": "1b27288d",
   "metadata": {},
   "source": [
    "## Super() przykład"
   ]
  },
  {
   "cell_type": "code",
   "execution_count": 26,
   "id": "36feee2e",
   "metadata": {},
   "outputs": [],
   "source": [
    "class Vehicle:\n",
    "    \n",
    "    def __init__(self,brand,year):\n",
    "        self.brand=brand\n",
    "        self.year=year\n",
    "    \n",
    "    def show_details(self):\n",
    "        print(f\"Calling from... {self.__class__.__name__}.\")\n",
    "        \n",
    "        \n",
    "        \n",
    "class Car(Vehicle):\n",
    "    \n",
    "    def __init__(self,brand,year,horsepower):\n",
    "        super().__init__(brand,year)\n",
    "        self.horsepower=horsepower\n",
    "    \n",
    "    def show_details(self):\n",
    "        super().show_details()\n",
    "        print(f\"Extended calling from... {self.__class__.__name__}\")\n",
    "        "
   ]
  },
  {
   "cell_type": "code",
   "execution_count": 27,
   "id": "c4353a41",
   "metadata": {},
   "outputs": [
    {
     "data": {
      "text/plain": [
       "{'brand': 'Tesla', 'year': 2020}"
      ]
     },
     "execution_count": 27,
     "metadata": {},
     "output_type": "execute_result"
    }
   ],
   "source": [
    "v1=Vehicle(\"Tesla\",2020)\n",
    "v1.__dict__\n"
   ]
  },
  {
   "cell_type": "code",
   "execution_count": 28,
   "id": "b284b3e8",
   "metadata": {},
   "outputs": [
    {
     "name": "stdout",
     "output_type": "stream",
     "text": [
      "Calling from... Vehicle.\n"
     ]
    }
   ],
   "source": [
    "v1.show_details()"
   ]
  },
  {
   "cell_type": "code",
   "execution_count": 29,
   "id": "fadc0997",
   "metadata": {},
   "outputs": [
    {
     "data": {
      "text/plain": [
       "{'brand': 'Tesla', 'year': 2020, 'horsepower': 306}"
      ]
     },
     "execution_count": 29,
     "metadata": {},
     "output_type": "execute_result"
    }
   ],
   "source": [
    "c1 = Car(\"Tesla\",2020,306)\n",
    "c1.__dict__"
   ]
  },
  {
   "cell_type": "code",
   "execution_count": 30,
   "id": "94c46844",
   "metadata": {},
   "outputs": [
    {
     "name": "stdout",
     "output_type": "stream",
     "text": [
      "Calling from... Car.\n",
      "Extended calling from... Car\n"
     ]
    }
   ],
   "source": [
    "c1.show_details()"
   ]
  },
  {
   "cell_type": "code",
   "execution_count": 31,
   "id": "acf4bdd7",
   "metadata": {},
   "outputs": [],
   "source": [
    "class Vehicle:\n",
    "    \n",
    "    def __init__(self,brand,year):\n",
    "        self.brand=brand\n",
    "        self.year=year\n",
    "    \n",
    "    def show_details(self):\n",
    "        print(f\"Calling from... {self.__class__.__name__}.\")\n",
    "        \n",
    "        \n",
    "        \n",
    "class Car(Vehicle):\n",
    "    \n",
    "    def __init__(self,brand,year,horsepower):\n",
    "        super().__init__(brand,year)\n",
    "        self.horsepower=horsepower\n",
    "    \n",
    "    def show_details(self):\n",
    "        \n",
    "        print(f\"Extended calling from... {self.__class__.__name__}\")\n",
    "        super().show_details()"
   ]
  },
  {
   "cell_type": "code",
   "execution_count": 32,
   "id": "dd1bce20",
   "metadata": {},
   "outputs": [
    {
     "data": {
      "text/plain": [
       "{'brand': 'Tesla', 'year': 2020}"
      ]
     },
     "execution_count": 32,
     "metadata": {},
     "output_type": "execute_result"
    }
   ],
   "source": [
    "v1=Vehicle(\"Tesla\",2020)\n",
    "v1.__dict__\n"
   ]
  },
  {
   "cell_type": "code",
   "execution_count": 33,
   "id": "ac21bf84",
   "metadata": {},
   "outputs": [
    {
     "name": "stdout",
     "output_type": "stream",
     "text": [
      "Calling from... Vehicle.\n"
     ]
    }
   ],
   "source": [
    "v1.show_details()"
   ]
  },
  {
   "cell_type": "code",
   "execution_count": 34,
   "id": "ed36a0d8",
   "metadata": {},
   "outputs": [
    {
     "data": {
      "text/plain": [
       "{'brand': 'Tesla', 'year': 2020, 'horsepower': 306}"
      ]
     },
     "execution_count": 34,
     "metadata": {},
     "output_type": "execute_result"
    }
   ],
   "source": [
    "c1 = Car(\"Tesla\",2020,306)\n",
    "c1.__dict__"
   ]
  },
  {
   "cell_type": "code",
   "execution_count": 35,
   "id": "4f956f26",
   "metadata": {},
   "outputs": [
    {
     "name": "stdout",
     "output_type": "stream",
     "text": [
      "Extended calling from... Car\n",
      "Calling from... Car.\n"
     ]
    }
   ],
   "source": [
    "c1.show_details()"
   ]
  },
  {
   "cell_type": "code",
   "execution_count": 42,
   "id": "df4a86ae",
   "metadata": {},
   "outputs": [],
   "source": [
    "class Vehicle:\n",
    "    \n",
    "    def __init__(self,brand,year):\n",
    "        self.brand=brand\n",
    "        self.year=year\n",
    "    \n",
    "    def show_details(self):\n",
    "        return f\"Calling from... {self.__class__.__name__}.\"\n",
    "        \n",
    "        \n",
    "        \n",
    "class Car(Vehicle):\n",
    "    \n",
    "    def __init__(self,brand,year,horsepower):\n",
    "        super().__init__(brand,year)\n",
    "        self.horsepower=horsepower\n",
    "    \n",
    "    def show_details(self):\n",
    "        result= super().show_details()\n",
    "        return result + f\"\\nCalling from derived class... {self}\"\n",
    "        super().show_details()"
   ]
  },
  {
   "cell_type": "code",
   "execution_count": 43,
   "id": "7aed6584",
   "metadata": {},
   "outputs": [
    {
     "data": {
      "text/plain": [
       "{'brand': 'Tesla', 'year': 2020, 'horsepower': 306}"
      ]
     },
     "execution_count": 43,
     "metadata": {},
     "output_type": "execute_result"
    }
   ],
   "source": [
    "c1 = Car(\"Tesla\",2020,306)\n",
    "c1.__dict__"
   ]
  },
  {
   "cell_type": "code",
   "execution_count": 44,
   "id": "5da55ba8",
   "metadata": {},
   "outputs": [
    {
     "name": "stdout",
     "output_type": "stream",
     "text": [
      "Calling from... Car.\n",
      "Calling from derived class... <__main__.Car object at 0x000002120620BF40>\n"
     ]
    }
   ],
   "source": [
    "print(c1.show_details())"
   ]
  },
  {
   "cell_type": "markdown",
   "id": "d6e48b1e",
   "metadata": {},
   "source": [
    "## Dziedziczenie wielopoziomowe"
   ]
  },
  {
   "cell_type": "code",
   "execution_count": 56,
   "id": "f3aa619d",
   "metadata": {},
   "outputs": [],
   "source": [
    "class Vehicle:\n",
    "    \n",
    "    def __init__(self,brand,year):\n",
    "        self.brand=brand\n",
    "        self.year=year\n",
    "    \n",
    "    def show_details(self):\n",
    "        return f\"Calling from... {self.__class__.__name__}.\"\n",
    "        \n",
    "        \n",
    "        \n",
    "class Car(Vehicle):\n",
    "    \n",
    "    def __init__(self,brand,year,horsepower):\n",
    "        super().__init__(brand,year)\n",
    "        self.horsepower=horsepower\n",
    "    \n",
    "    def show_details(self):\n",
    "        result= super().show_details()\n",
    "        return result + f\"\\nCalling from derived class... {self.__class__.__name__}\"\n",
    "    \n",
    "\n",
    "class RacingCar(Car):\n",
    "    \n",
    "    def show_details(self):\n",
    "        result= super().show_details()\n",
    "        return result + f\"\\nCalling from... {self.__class__.__name__}\""
   ]
  },
  {
   "cell_type": "code",
   "execution_count": 57,
   "id": "423e3495",
   "metadata": {},
   "outputs": [
    {
     "data": {
      "text/plain": [
       "'Calling from... Vehicle.'"
      ]
     },
     "execution_count": 57,
     "metadata": {},
     "output_type": "execute_result"
    }
   ],
   "source": [
    "v1=Vehicle(\"Tesla\",2020)\n",
    "v1.show_details()"
   ]
  },
  {
   "cell_type": "code",
   "execution_count": 58,
   "id": "cd0730cd",
   "metadata": {},
   "outputs": [
    {
     "name": "stdout",
     "output_type": "stream",
     "text": [
      "Calling from... Car.\n",
      "Calling from derived class... Car\n"
     ]
    }
   ],
   "source": [
    "c1 = Car(\"Tesla\",2020,306)\n",
    "print(c1.show_details())"
   ]
  },
  {
   "cell_type": "code",
   "execution_count": 59,
   "id": "53b550a6",
   "metadata": {},
   "outputs": [],
   "source": [
    "rc1=RacingCar(\"Tesla\",2020,500)"
   ]
  },
  {
   "cell_type": "code",
   "execution_count": 60,
   "id": "5f04c995",
   "metadata": {},
   "outputs": [
    {
     "data": {
      "text/plain": [
       "'Calling from... RacingCar.\\nCalling from derived class... RacingCar\\nCalling from... RacingCar'"
      ]
     },
     "execution_count": 60,
     "metadata": {},
     "output_type": "execute_result"
    }
   ],
   "source": [
    "rc1.show_details()"
   ]
  },
  {
   "cell_type": "code",
   "execution_count": 61,
   "id": "9b1301ed",
   "metadata": {},
   "outputs": [],
   "source": [
    "class Vehicle:\n",
    "    \n",
    "    def __init__(self,brand,year):\n",
    "        self.brand=brand\n",
    "        self.year=year\n",
    "    \n",
    "    def show_details(self):\n",
    "        return f\"Calling from... {self.__class__.__name__}.\"\n",
    "        \n",
    "        \n",
    "        \n",
    "class Car(Vehicle):\n",
    "    \n",
    "    def __init__(self,brand,year,horsepower):\n",
    "        super().__init__(brand,year)\n",
    "        self.horsepower=horsepower\n",
    "    \n",
    "#     def show_details(self):\n",
    "#         result= super().show_details()\n",
    "#         return result + f\"\\nCalling from derived class... {self.__class__.__name__}\"\n",
    "    \n",
    "\n",
    "class RacingCar(Car):\n",
    "    \n",
    "    def show_details(self):\n",
    "        result= super().show_details()\n",
    "        return result + f\"\\nCalling from... {self.__class__.__name__}\""
   ]
  },
  {
   "cell_type": "code",
   "execution_count": 62,
   "id": "288b0e42",
   "metadata": {},
   "outputs": [
    {
     "name": "stdout",
     "output_type": "stream",
     "text": [
      "Calling from... RacingCar.\n",
      "Calling from... RacingCar\n"
     ]
    }
   ],
   "source": [
    "rc1=RacingCar(\"Tesla\",2020,500)\n",
    "print(rc1.show_details())"
   ]
  },
  {
   "cell_type": "markdown",
   "id": "2d6b1a35",
   "metadata": {},
   "source": [
    "## Dziedziczenie wielokrotne"
   ]
  },
  {
   "cell_type": "code",
   "execution_count": 63,
   "id": "6b7494cf",
   "metadata": {},
   "outputs": [],
   "source": [
    "class Person:\n",
    "    \n",
    "    def __init__(self,fname,lname,age):\n",
    "        self.fmame=fname\n",
    "        self.lname=lname\n",
    "        self.age=age\n",
    "        \n",
    "        \n",
    "class Department:\n",
    "    \n",
    "    def __init__(self, dept_name):\n",
    "        self.dept_name=dept_name\n",
    "        \n",
    "\n",
    "class Worker(Person,Department):\n",
    "    pass\n",
    "\n"
   ]
  },
  {
   "cell_type": "code",
   "execution_count": 66,
   "id": "24441699",
   "metadata": {},
   "outputs": [
    {
     "data": {
      "text/plain": [
       "{'fmame': 'John', 'lname': 'Smith', 'age': 40}"
      ]
     },
     "execution_count": 66,
     "metadata": {},
     "output_type": "execute_result"
    }
   ],
   "source": [
    "worker=Worker(\"John\",\"Smith\",40)\n",
    "worker.__dict__"
   ]
  },
  {
   "cell_type": "code",
   "execution_count": 69,
   "id": "44cf5ae5",
   "metadata": {},
   "outputs": [],
   "source": [
    "class Person:\n",
    "    \n",
    "    def __init__(self,fname,lname,age):\n",
    "        self.fmame=fname\n",
    "        self.lname=lname\n",
    "        self.age=age\n",
    "        \n",
    "        \n",
    "class Department:\n",
    "    \n",
    "    def __init__(self, dept_name):\n",
    "        self.dept_name=dept_name\n",
    "        \n",
    "\n",
    "class Worker(Person,Department):\n",
    "    \n",
    "    def __init__(self,fname,lname,age, dept_name, hours_per_day=8):\n",
    "        Person.__init__(self,fname,lname,age)\n",
    "        Department.__init__(self,dept_name)\n",
    "        self.hours_per_day=hours_per_day\n"
   ]
  },
  {
   "cell_type": "code",
   "execution_count": 70,
   "id": "30b1106d",
   "metadata": {},
   "outputs": [
    {
     "data": {
      "text/plain": [
       "{'fmame': 'John',\n",
       " 'lname': 'Smith',\n",
       " 'age': 40,\n",
       " 'dept_name': 'IT',\n",
       " 'hours_per_day': 8}"
      ]
     },
     "execution_count": 70,
     "metadata": {},
     "output_type": "execute_result"
    }
   ],
   "source": [
    "worker=Worker(\"John\",\"Smith\",40,\"IT\")\n",
    "worker.__dict__"
   ]
  },
  {
   "cell_type": "code",
   "execution_count": 71,
   "id": "ade1df40",
   "metadata": {},
   "outputs": [],
   "source": [
    "class Person:\n",
    "    \n",
    "    def __init__(self,fname,lname,age):\n",
    "        self.fmame=fname\n",
    "        self.lname=lname\n",
    "        self.age=age\n",
    "        \n",
    "        \n",
    "class Department:\n",
    "    \n",
    "    def __init__(self, dept_name):\n",
    "        self.dept_name=dept_name\n",
    "        \n",
    "\n",
    "class Worker(Person,Department):\n",
    "    \n",
    "    def __init__(self,fname,lname,age, dept_name, hours_per_day=8):\n",
    "        Person.__init__(self,fname,lname,age)\n",
    "        Department.__init__(self,dept_name)\n",
    "        self.hours_per_day=hours_per_day\n",
    "    \n",
    "    \n",
    "class Manager(Person,Department):\n",
    "    \n",
    "    def __init__(self,fname,lname,age, dept_name, is_founder=False):\n",
    "        Person.__init__(self,fname,lname,age)\n",
    "        Department.__init__(self,dept_name)\n",
    "        self.is_founder=is_founder"
   ]
  },
  {
   "cell_type": "code",
   "execution_count": 73,
   "id": "e5be2ce6",
   "metadata": {},
   "outputs": [
    {
     "data": {
      "text/plain": [
       "{'fmame': 'Mark',\n",
       " 'lname': 'Smith',\n",
       " 'age': 35,\n",
       " 'dept_name': 'IT',\n",
       " 'is_founder': False}"
      ]
     },
     "execution_count": 73,
     "metadata": {},
     "output_type": "execute_result"
    }
   ],
   "source": [
    "m1=Manager(\"Mark\",\"Smith\",35,\"IT\")\n",
    "m1.__dict__"
   ]
  },
  {
   "cell_type": "code",
   "execution_count": null,
   "id": "3a537ddf",
   "metadata": {},
   "outputs": [],
   "source": []
  }
 ],
 "metadata": {
  "kernelspec": {
   "display_name": "Python 3",
   "language": "python",
   "name": "python3"
  },
  "language_info": {
   "codemirror_mode": {
    "name": "ipython",
    "version": 3
   },
   "file_extension": ".py",
   "mimetype": "text/x-python",
   "name": "python",
   "nbconvert_exporter": "python",
   "pygments_lexer": "ipython3",
   "version": "3.8.10"
  }
 },
 "nbformat": 4,
 "nbformat_minor": 5
}
