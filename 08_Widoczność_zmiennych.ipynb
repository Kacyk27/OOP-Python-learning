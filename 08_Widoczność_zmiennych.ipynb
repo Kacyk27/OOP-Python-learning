{
 "cells": [
  {
   "cell_type": "markdown",
   "id": "39b71258",
   "metadata": {},
   "source": [
    "## Widoczność zmiennych\n",
    "\n",
    "### Rodzaje zmiennych/atrybutów ze względu na widoczność\n",
    "\n",
    "#### - publiczne - dostęp mają wszyscy, np var1,var2\n",
    "#### - chronione - dostęp mają klasy dziedziczące, np _var1, _var2\n",
    "#### - prywatne - dostęp ma tylko ta klasa, np. __var1, __var2"
   ]
  },
  {
   "cell_type": "code",
   "execution_count": 1,
   "id": "bbe3bc9f",
   "metadata": {},
   "outputs": [
    {
     "data": {
      "text/plain": [
       "mappingproxy({'__module__': '__main__',\n",
       "              'brand': 'Apple',\n",
       "              '__dict__': <attribute '__dict__' of 'Laptop' objects>,\n",
       "              '__weakref__': <attribute '__weakref__' of 'Laptop' objects>,\n",
       "              '__doc__': None})"
      ]
     },
     "execution_count": 1,
     "metadata": {},
     "output_type": "execute_result"
    }
   ],
   "source": [
    "class Laptop:\n",
    "    \n",
    "    brand=\"Apple\"\n",
    "\n",
    "Laptop.__dict__"
   ]
  },
  {
   "cell_type": "code",
   "execution_count": 2,
   "id": "a9e56db7",
   "metadata": {},
   "outputs": [
    {
     "data": {
      "text/plain": [
       "mappingproxy({'__module__': '__main__',\n",
       "              'brand': 'Apple',\n",
       "              '_code': '0034',\n",
       "              '__dict__': <attribute '__dict__' of 'Laptop' objects>,\n",
       "              '__weakref__': <attribute '__weakref__' of 'Laptop' objects>,\n",
       "              '__doc__': None})"
      ]
     },
     "execution_count": 2,
     "metadata": {},
     "output_type": "execute_result"
    }
   ],
   "source": [
    "class Laptop:\n",
    "    \n",
    "    brand=\"Apple\"\n",
    "    _code = '0034'\n",
    "\n",
    "Laptop.__dict__"
   ]
  },
  {
   "cell_type": "code",
   "execution_count": 3,
   "id": "aaefe7f8",
   "metadata": {},
   "outputs": [
    {
     "data": {
      "text/plain": [
       "'0034'"
      ]
     },
     "execution_count": 3,
     "metadata": {},
     "output_type": "execute_result"
    }
   ],
   "source": [
    "Laptop._code"
   ]
  },
  {
   "cell_type": "code",
   "execution_count": 4,
   "id": "e5cb69c6",
   "metadata": {},
   "outputs": [
    {
     "data": {
      "text/plain": [
       "mappingproxy({'__module__': '__main__',\n",
       "              'brand': 'Apple',\n",
       "              '_code': '0034',\n",
       "              '_Laptop__wholesale_price': 2490,\n",
       "              '__dict__': <attribute '__dict__' of 'Laptop' objects>,\n",
       "              '__weakref__': <attribute '__weakref__' of 'Laptop' objects>,\n",
       "              '__doc__': None})"
      ]
     },
     "execution_count": 4,
     "metadata": {},
     "output_type": "execute_result"
    }
   ],
   "source": [
    "class Laptop:\n",
    "    \n",
    "    brand=\"Apple\"\n",
    "    _code = '0034'\n",
    "    __wholesale_price=2490\n",
    "    \n",
    "Laptop.__dict__"
   ]
  },
  {
   "cell_type": "code",
   "execution_count": 5,
   "id": "05d586bf",
   "metadata": {},
   "outputs": [
    {
     "data": {
      "text/plain": [
       "2490"
      ]
     },
     "execution_count": 5,
     "metadata": {},
     "output_type": "execute_result"
    }
   ],
   "source": [
    "Laptop._Laptop__wholesale_price"
   ]
  },
  {
   "cell_type": "code",
   "execution_count": 6,
   "id": "deb65dfb",
   "metadata": {},
   "outputs": [
    {
     "ename": "AttributeError",
     "evalue": "type object 'Laptop' has no attribute '__wholesale_price'",
     "output_type": "error",
     "traceback": [
      "\u001b[1;31m---------------------------------------------------------------------------\u001b[0m",
      "\u001b[1;31mAttributeError\u001b[0m                            Traceback (most recent call last)",
      "\u001b[1;32m<ipython-input-6-4953663fb00e>\u001b[0m in \u001b[0;36m<module>\u001b[1;34m\u001b[0m\n\u001b[1;32m----> 1\u001b[1;33m \u001b[0mLaptop\u001b[0m\u001b[1;33m.\u001b[0m\u001b[0m__wholesale_price\u001b[0m\u001b[1;33m\u001b[0m\u001b[1;33m\u001b[0m\u001b[0m\n\u001b[0m",
      "\u001b[1;31mAttributeError\u001b[0m: type object 'Laptop' has no attribute '__wholesale_price'"
     ]
    }
   ],
   "source": [
    "Laptop.__wholesale_price"
   ]
  },
  {
   "cell_type": "markdown",
   "id": "967c9fee",
   "metadata": {},
   "source": [
    "## Przykład"
   ]
  },
  {
   "cell_type": "code",
   "execution_count": 9,
   "id": "081fa08c",
   "metadata": {},
   "outputs": [
    {
     "data": {
      "text/plain": [
       "mappingproxy({'__module__': '__main__',\n",
       "              'brand': 'Apple',\n",
       "              '_usdpln': 4.0,\n",
       "              '_Laptop__trade_margin': 0.3,\n",
       "              '__init__': <function __main__.Laptop.__init__(self, net_price)>,\n",
       "              '_convert_price': <function __main__.Laptop._convert_price(price)>,\n",
       "              'display_price_pln': <function __main__.Laptop.display_price_pln(self)>,\n",
       "              '__dict__': <attribute '__dict__' of 'Laptop' objects>,\n",
       "              '__weakref__': <attribute '__weakref__' of 'Laptop' objects>,\n",
       "              '__doc__': None})"
      ]
     },
     "execution_count": 9,
     "metadata": {},
     "output_type": "execute_result"
    }
   ],
   "source": [
    "class Laptop:\n",
    "    \n",
    "    brand=\"Apple\"\n",
    "    _usdpln=4.0\n",
    "    __trade_margin = 0.3\n",
    "    \n",
    "    def __init__(self,net_price):\n",
    "        self.net_price=net_price\n",
    "        \n",
    "    def _convert_price(price):\n",
    "        return price * Laptop._usdpln * (1+ Laptop._Laptop__trade_margin)\n",
    "    \n",
    "    def display_price_pln(self):\n",
    "        print(Laptop._convert_price(self.net_price))\n",
    "        \n",
    "Laptop.__dict__"
   ]
  },
  {
   "cell_type": "code",
   "execution_count": 10,
   "id": "fda23824",
   "metadata": {},
   "outputs": [
    {
     "name": "stdout",
     "output_type": "stream",
     "text": [
      "15600.0\n"
     ]
    }
   ],
   "source": [
    "laptop=Laptop(3000)\n",
    "laptop.display_price_pln()"
   ]
  },
  {
   "cell_type": "code",
   "execution_count": 11,
   "id": "75a2d488",
   "metadata": {},
   "outputs": [
    {
     "data": {
      "text/plain": [
       "mappingproxy({'__module__': '__main__',\n",
       "              'brand': 'Apple',\n",
       "              '_usdpln': 4.0,\n",
       "              '_Laptop__trade_margin': 0.3,\n",
       "              '__init__': <function __main__.Laptop.__init__(self, net_price)>,\n",
       "              '_convert_price': <function __main__.Laptop._convert_price(price)>,\n",
       "              'display_price_pln': <function __main__.Laptop.display_price_pln(self)>,\n",
       "              '__dict__': <attribute '__dict__' of 'Laptop' objects>,\n",
       "              '__weakref__': <attribute '__weakref__' of 'Laptop' objects>,\n",
       "              '__doc__': None})"
      ]
     },
     "execution_count": 11,
     "metadata": {},
     "output_type": "execute_result"
    }
   ],
   "source": [
    "class Laptop:\n",
    "    \n",
    "    brand=\"Apple\"\n",
    "    _usdpln=4.0\n",
    "    __trade_margin = 0.3\n",
    "    \n",
    "    def __init__(self,net_price):\n",
    "        self.net_price=net_price\n",
    "        \n",
    "    def _convert_price(price):\n",
    "        return price * Laptop._usdpln * (1+ Laptop._Laptop__trade_margin)\n",
    "    \n",
    "    def display_price_pln(self):\n",
    "        print(Laptop._convert_price(self.net_price))\n",
    "        \n",
    "Laptop.__dict__"
   ]
  },
  {
   "cell_type": "code",
   "execution_count": 12,
   "id": "7da23d17",
   "metadata": {},
   "outputs": [
    {
     "ename": "AttributeError",
     "evalue": "type object 'Laptop' has no attribute '__trade_margin'",
     "output_type": "error",
     "traceback": [
      "\u001b[1;31m---------------------------------------------------------------------------\u001b[0m",
      "\u001b[1;31mAttributeError\u001b[0m                            Traceback (most recent call last)",
      "\u001b[1;32m<ipython-input-12-ba59dadcaa87>\u001b[0m in \u001b[0;36m<module>\u001b[1;34m\u001b[0m\n\u001b[1;32m----> 1\u001b[1;33m \u001b[0mLaptop\u001b[0m\u001b[1;33m.\u001b[0m\u001b[0m__trade_margin\u001b[0m\u001b[1;33m\u001b[0m\u001b[1;33m\u001b[0m\u001b[0m\n\u001b[0m",
      "\u001b[1;31mAttributeError\u001b[0m: type object 'Laptop' has no attribute '__trade_margin'"
     ]
    }
   ],
   "source": [
    "Laptop.__trade_margin"
   ]
  },
  {
   "cell_type": "code",
   "execution_count": 13,
   "id": "f0b100c1",
   "metadata": {},
   "outputs": [
    {
     "data": {
      "text/plain": [
       "0.3"
      ]
     },
     "execution_count": 13,
     "metadata": {},
     "output_type": "execute_result"
    }
   ],
   "source": [
    "laptop._Laptop__trade_margin"
   ]
  },
  {
   "cell_type": "code",
   "execution_count": 20,
   "id": "64f9aa83",
   "metadata": {},
   "outputs": [
    {
     "data": {
      "text/plain": [
       "mappingproxy({'__module__': '__main__',\n",
       "              'brand': 'Apple',\n",
       "              '_usdpln': 4.0,\n",
       "              '_Laptop__trade_margin': 0.3,\n",
       "              '__init__': <function __main__.Laptop.__init__(self, net_price)>,\n",
       "              '_Laptop__convert_price': <function __main__.Laptop.__convert_price(price)>,\n",
       "              'display_price_pln': <function __main__.Laptop.display_price_pln(self)>,\n",
       "              '__dict__': <attribute '__dict__' of 'Laptop' objects>,\n",
       "              '__weakref__': <attribute '__weakref__' of 'Laptop' objects>,\n",
       "              '__doc__': None})"
      ]
     },
     "execution_count": 20,
     "metadata": {},
     "output_type": "execute_result"
    }
   ],
   "source": [
    "class Laptop:\n",
    "    \n",
    "    brand=\"Apple\"\n",
    "    _usdpln=4.0\n",
    "    __trade_margin = 0.3\n",
    "    \n",
    "    def __init__(self,net_price):\n",
    "        self.net_price=net_price\n",
    "        \n",
    "    def __convert_price(price):\n",
    "        return price * Laptop._usdpln * (1+ Laptop.__trade_margin)\n",
    "    \n",
    "    def display_price_pln(self):\n",
    "        print(Laptop.__convert_price(self.net_price))\n",
    "        \n",
    "Laptop.__dict__"
   ]
  },
  {
   "cell_type": "code",
   "execution_count": 21,
   "id": "ac0ca2b1",
   "metadata": {},
   "outputs": [],
   "source": [
    "laptop=Laptop(3000)"
   ]
  },
  {
   "cell_type": "code",
   "execution_count": 22,
   "id": "598a12a8",
   "metadata": {},
   "outputs": [
    {
     "name": "stdout",
     "output_type": "stream",
     "text": [
      "15600.0\n"
     ]
    }
   ],
   "source": [
    "laptop.display_price_pln()"
   ]
  },
  {
   "cell_type": "code",
   "execution_count": 28,
   "id": "172fbccf",
   "metadata": {},
   "outputs": [
    {
     "ename": "AttributeError",
     "evalue": "type object 'Laptop' has no attribute '__convert_price'",
     "output_type": "error",
     "traceback": [
      "\u001b[1;31m---------------------------------------------------------------------------\u001b[0m",
      "\u001b[1;31mAttributeError\u001b[0m                            Traceback (most recent call last)",
      "\u001b[1;32m<ipython-input-28-fd272a580aad>\u001b[0m in \u001b[0;36m<module>\u001b[1;34m\u001b[0m\n\u001b[1;32m----> 1\u001b[1;33m \u001b[0mLaptop\u001b[0m\u001b[1;33m.\u001b[0m\u001b[0m__convert_price\u001b[0m\u001b[1;33m(\u001b[0m\u001b[1;36m400\u001b[0m\u001b[1;33m)\u001b[0m\u001b[1;33m\u001b[0m\u001b[1;33m\u001b[0m\u001b[0m\n\u001b[0m",
      "\u001b[1;31mAttributeError\u001b[0m: type object 'Laptop' has no attribute '__convert_price'"
     ]
    }
   ],
   "source": [
    "Laptop.__convert_price(400)"
   ]
  },
  {
   "cell_type": "code",
   "execution_count": 30,
   "id": "e02b1c8f",
   "metadata": {},
   "outputs": [
    {
     "data": {
      "text/plain": [
       "2080.0"
      ]
     },
     "execution_count": 30,
     "metadata": {},
     "output_type": "execute_result"
    }
   ],
   "source": [
    "Laptop._Laptop__convert_price(400)"
   ]
  },
  {
   "cell_type": "markdown",
   "id": "b4e9c49d",
   "metadata": {},
   "source": [
    "## Atrybuty instancji"
   ]
  },
  {
   "cell_type": "code",
   "execution_count": 34,
   "id": "124f4af4",
   "metadata": {},
   "outputs": [
    {
     "data": {
      "text/plain": [
       "'0034'"
      ]
     },
     "execution_count": 34,
     "metadata": {},
     "output_type": "execute_result"
    }
   ],
   "source": [
    "class Laptop:\n",
    "    \n",
    "    def __init__(self,brand,code):\n",
    "        self.brand=brand\n",
    "        self._code=code\n",
    "        \n",
    "laptop=Laptop(\"Apple\",\"0034\")\n",
    "laptop._code"
   ]
  },
  {
   "cell_type": "code",
   "execution_count": 42,
   "id": "33b9919a",
   "metadata": {},
   "outputs": [],
   "source": [
    "class Laptop:\n",
    "    \n",
    "    def __init__(self,brand,code,wholesale_price):\n",
    "        self.brand=brand\n",
    "        self._code=code\n",
    "        self.__wholesale_price=wholesale_price\n",
    "        \n",
    "laptop=Laptop(\"Apple\",\"0034\",1999)\n"
   ]
  },
  {
   "cell_type": "code",
   "execution_count": 43,
   "id": "4c997457",
   "metadata": {},
   "outputs": [
    {
     "ename": "AttributeError",
     "evalue": "'Laptop' object has no attribute '__wholesale_price'",
     "output_type": "error",
     "traceback": [
      "\u001b[1;31m---------------------------------------------------------------------------\u001b[0m",
      "\u001b[1;31mAttributeError\u001b[0m                            Traceback (most recent call last)",
      "\u001b[1;32m<ipython-input-43-a1ba407b4839>\u001b[0m in \u001b[0;36m<module>\u001b[1;34m\u001b[0m\n\u001b[1;32m----> 1\u001b[1;33m \u001b[0mlaptop\u001b[0m\u001b[1;33m.\u001b[0m\u001b[0m__wholesale_price\u001b[0m\u001b[1;33m\u001b[0m\u001b[1;33m\u001b[0m\u001b[0m\n\u001b[0m",
      "\u001b[1;31mAttributeError\u001b[0m: 'Laptop' object has no attribute '__wholesale_price'"
     ]
    }
   ],
   "source": [
    "laptop.__wholesale_price"
   ]
  },
  {
   "cell_type": "code",
   "execution_count": 44,
   "id": "68f7a88c",
   "metadata": {},
   "outputs": [
    {
     "data": {
      "text/plain": [
       "1999"
      ]
     },
     "execution_count": 44,
     "metadata": {},
     "output_type": "execute_result"
    }
   ],
   "source": [
    "laptop._Laptop__wholesale_price"
   ]
  },
  {
   "cell_type": "code",
   "execution_count": 45,
   "id": "aca7dddb",
   "metadata": {},
   "outputs": [
    {
     "data": {
      "text/plain": [
       "{'brand': 'Apple', '_code': '0034', '_Laptop__wholesale_price': 1999}"
      ]
     },
     "execution_count": 45,
     "metadata": {},
     "output_type": "execute_result"
    }
   ],
   "source": [
    "laptop.__dict__"
   ]
  },
  {
   "cell_type": "code",
   "execution_count": 46,
   "id": "237331c2",
   "metadata": {},
   "outputs": [],
   "source": [
    "class Laptop:\n",
    "    \n",
    "    def __init__(self,brand,code,wholesale_price):\n",
    "        self.brand=brand\n",
    "        self._code=code\n",
    "        self.__wholesale_price=wholesale_price\n",
    "        \n",
    "    def info(self):\n",
    "        print(self.brand)\n",
    "        print(self._code)\n",
    "        print(self.__wholesale_price)\n",
    "        \n",
    "laptop=Laptop(\"Apple\",\"0034\",1999)"
   ]
  },
  {
   "cell_type": "code",
   "execution_count": 47,
   "id": "72384e51",
   "metadata": {},
   "outputs": [
    {
     "name": "stdout",
     "output_type": "stream",
     "text": [
      "Apple\n",
      "0034\n",
      "1999\n"
     ]
    }
   ],
   "source": [
    "laptop.info()"
   ]
  },
  {
   "cell_type": "markdown",
   "id": "e8486397",
   "metadata": {},
   "source": [
    "## Przykład"
   ]
  },
  {
   "cell_type": "code",
   "execution_count": 53,
   "id": "8e563236",
   "metadata": {},
   "outputs": [],
   "source": [
    "class HouseProject:\n",
    "    \n",
    "    def __init__(self,area,number_of_floors):\n",
    "        self._area=area\n",
    "        self._number_of_floors=number_of_floors\n",
    "    \n",
    "    def info(self):\n",
    "        print(f\"Area: {self._area}\")\n",
    "        print(f\"Number of floors: {self._number_of_floors}\")\n",
    "\n",
    "\n",
    "\n",
    "def info_ext(instance):\n",
    "    print(f\"Area: {instance._area}\")\n",
    "    print(f\"Number of floors: {instance._number_of_floors}\")\n",
    "\n",
    "\n",
    "\n",
    "project=HouseProject(100,1)\n"
   ]
  },
  {
   "cell_type": "code",
   "execution_count": 54,
   "id": "dba46043",
   "metadata": {},
   "outputs": [
    {
     "name": "stdout",
     "output_type": "stream",
     "text": [
      "Area: 100\n",
      "Number of floors: 1\n"
     ]
    }
   ],
   "source": [
    "project.info()"
   ]
  },
  {
   "cell_type": "code",
   "execution_count": 55,
   "id": "60402ea2",
   "metadata": {},
   "outputs": [
    {
     "name": "stdout",
     "output_type": "stream",
     "text": [
      "Area: 100\n",
      "Number of floors: 1\n"
     ]
    }
   ],
   "source": [
    "info_ext(project)"
   ]
  },
  {
   "cell_type": "code",
   "execution_count": 56,
   "id": "04d24034",
   "metadata": {},
   "outputs": [
    {
     "name": "stdout",
     "output_type": "stream",
     "text": [
      "Area: 100\n",
      "Number of floors: 1\n"
     ]
    }
   ],
   "source": [
    "class HouseProject:\n",
    "    \n",
    "    def __init__(self,area,number_of_floors):\n",
    "        self.__area=area\n",
    "        self.__number_of_floors=number_of_floors\n",
    "    \n",
    "    def info(self):\n",
    "        print(f\"Area: {self.__area}\")\n",
    "        print(f\"Number of floors: {self.__number_of_floors}\")\n",
    "\n",
    "\n",
    "\n",
    "def info_ext(instance):\n",
    "    print(f\"Area: {instance.__area}\")\n",
    "    print(f\"Number of floors: {instance.__number_of_floors}\")\n",
    "\n",
    "\n",
    "\n",
    "project=HouseProject(100,1)\n",
    "project.info()"
   ]
  },
  {
   "cell_type": "code",
   "execution_count": 57,
   "id": "28583c9a",
   "metadata": {},
   "outputs": [
    {
     "ename": "AttributeError",
     "evalue": "'HouseProject' object has no attribute '__area'",
     "output_type": "error",
     "traceback": [
      "\u001b[1;31m---------------------------------------------------------------------------\u001b[0m",
      "\u001b[1;31mAttributeError\u001b[0m                            Traceback (most recent call last)",
      "\u001b[1;32m<ipython-input-57-bfb650cb932d>\u001b[0m in \u001b[0;36m<module>\u001b[1;34m\u001b[0m\n\u001b[1;32m----> 1\u001b[1;33m \u001b[0minfo_ext\u001b[0m\u001b[1;33m(\u001b[0m\u001b[0mproject\u001b[0m\u001b[1;33m)\u001b[0m\u001b[1;33m\u001b[0m\u001b[1;33m\u001b[0m\u001b[0m\n\u001b[0m",
      "\u001b[1;32m<ipython-input-56-2d575b9b2b1b>\u001b[0m in \u001b[0;36minfo_ext\u001b[1;34m(instance)\u001b[0m\n\u001b[0;32m     12\u001b[0m \u001b[1;33m\u001b[0m\u001b[0m\n\u001b[0;32m     13\u001b[0m \u001b[1;32mdef\u001b[0m \u001b[0minfo_ext\u001b[0m\u001b[1;33m(\u001b[0m\u001b[0minstance\u001b[0m\u001b[1;33m)\u001b[0m\u001b[1;33m:\u001b[0m\u001b[1;33m\u001b[0m\u001b[1;33m\u001b[0m\u001b[0m\n\u001b[1;32m---> 14\u001b[1;33m     \u001b[0mprint\u001b[0m\u001b[1;33m(\u001b[0m\u001b[1;34mf\"Area: {instance.__area}\"\u001b[0m\u001b[1;33m)\u001b[0m\u001b[1;33m\u001b[0m\u001b[1;33m\u001b[0m\u001b[0m\n\u001b[0m\u001b[0;32m     15\u001b[0m     \u001b[0mprint\u001b[0m\u001b[1;33m(\u001b[0m\u001b[1;34mf\"Number of floors: {instance.__number_of_floors}\"\u001b[0m\u001b[1;33m)\u001b[0m\u001b[1;33m\u001b[0m\u001b[1;33m\u001b[0m\u001b[0m\n\u001b[0;32m     16\u001b[0m \u001b[1;33m\u001b[0m\u001b[0m\n",
      "\u001b[1;31mAttributeError\u001b[0m: 'HouseProject' object has no attribute '__area'"
     ]
    }
   ],
   "source": [
    "info_ext(project)"
   ]
  },
  {
   "cell_type": "code",
   "execution_count": 58,
   "id": "fdade5e6",
   "metadata": {},
   "outputs": [
    {
     "name": "stdout",
     "output_type": "stream",
     "text": [
      "Area: 100\n",
      "Number of floors: 1\n"
     ]
    }
   ],
   "source": [
    "class HouseProject:\n",
    "    \n",
    "    def __init__(self,area,number_of_floors):\n",
    "        self.__area=area\n",
    "        self.__number_of_floors=number_of_floors\n",
    "    \n",
    "    def info(self):\n",
    "        print(f\"Area: {self.__area}\")\n",
    "        print(f\"Number of floors: {self.__number_of_floors}\")\n",
    "\n",
    "\n",
    "\n",
    "def info_ext(instance):\n",
    "    print(f\"Area: {instance._HouseProject__area}\")\n",
    "    print(f\"Number of floors: {instance._HouseProject__number_of_floors}\")\n",
    "\n",
    "\n",
    "\n",
    "project=HouseProject(100,1)\n",
    "project.info()"
   ]
  },
  {
   "cell_type": "code",
   "execution_count": 59,
   "id": "565b4fe1",
   "metadata": {},
   "outputs": [
    {
     "name": "stdout",
     "output_type": "stream",
     "text": [
      "Area: 100\n",
      "Number of floors: 1\n"
     ]
    }
   ],
   "source": [
    "info_ext(project)"
   ]
  },
  {
   "cell_type": "code",
   "execution_count": null,
   "id": "cf22b21f",
   "metadata": {},
   "outputs": [],
   "source": []
  }
 ],
 "metadata": {
  "kernelspec": {
   "display_name": "Python 3",
   "language": "python",
   "name": "python3"
  },
  "language_info": {
   "codemirror_mode": {
    "name": "ipython",
    "version": 3
   },
   "file_extension": ".py",
   "mimetype": "text/x-python",
   "name": "python",
   "nbconvert_exporter": "python",
   "pygments_lexer": "ipython3",
   "version": "3.8.10"
  }
 },
 "nbformat": 4,
 "nbformat_minor": 5
}
