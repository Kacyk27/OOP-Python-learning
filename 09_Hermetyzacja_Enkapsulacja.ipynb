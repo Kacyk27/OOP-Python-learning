{
 "cells": [
  {
   "cell_type": "markdown",
   "id": "deb8f225",
   "metadata": {},
   "source": [
    "## Hermetyzacja/Enkapsulacja"
   ]
  },
  {
   "cell_type": "code",
   "execution_count": 1,
   "id": "6814cbdc",
   "metadata": {},
   "outputs": [
    {
     "data": {
      "text/plain": [
       "{'price': 2490}"
      ]
     },
     "execution_count": 1,
     "metadata": {},
     "output_type": "execute_result"
    }
   ],
   "source": [
    "class Phone:\n",
    "    \n",
    "    def __init__(self,price):\n",
    "        self.price=price\n",
    "        \n",
    "phone=Phone(2490)\n",
    "phone.__dict__"
   ]
  },
  {
   "cell_type": "code",
   "execution_count": 2,
   "id": "9556effe",
   "metadata": {},
   "outputs": [
    {
     "data": {
      "text/plain": [
       "{'price': 'Apple'}"
      ]
     },
     "execution_count": 2,
     "metadata": {},
     "output_type": "execute_result"
    }
   ],
   "source": [
    "phone=Phone(\"Apple\")\n",
    "phone.__dict__"
   ]
  },
  {
   "cell_type": "code",
   "execution_count": 3,
   "id": "ffbee994",
   "metadata": {},
   "outputs": [
    {
     "data": {
      "text/plain": [
       "{'price': 'John'}"
      ]
     },
     "execution_count": 3,
     "metadata": {},
     "output_type": "execute_result"
    }
   ],
   "source": [
    "phone=Phone(\"John\")\n",
    "phone.__dict__"
   ]
  },
  {
   "cell_type": "code",
   "execution_count": 4,
   "id": "ca46a3af",
   "metadata": {},
   "outputs": [
    {
     "data": {
      "text/plain": [
       "{'_price': 2490}"
      ]
     },
     "execution_count": 4,
     "metadata": {},
     "output_type": "execute_result"
    }
   ],
   "source": [
    "class Phone:\n",
    "    \n",
    "    def __init__(self,price):\n",
    "        self._price=price\n",
    "    \n",
    "    \n",
    "    def get_price(self):\n",
    "        return self._price\n",
    "    \n",
    "    def set_price(self,value):\n",
    "        self._price=value\n",
    "    \n",
    "    \n",
    "phone=Phone(2490)\n",
    "phone.__dict__"
   ]
  },
  {
   "cell_type": "code",
   "execution_count": 5,
   "id": "c6b73cba",
   "metadata": {},
   "outputs": [
    {
     "data": {
      "text/plain": [
       "2490"
      ]
     },
     "execution_count": 5,
     "metadata": {},
     "output_type": "execute_result"
    }
   ],
   "source": [
    "phone.get_price()"
   ]
  },
  {
   "cell_type": "code",
   "execution_count": 6,
   "id": "7b68764d",
   "metadata": {},
   "outputs": [],
   "source": [
    "phone.set_price(2500)"
   ]
  },
  {
   "cell_type": "code",
   "execution_count": 10,
   "id": "f404ce1e",
   "metadata": {},
   "outputs": [
    {
     "data": {
      "text/plain": [
       "2500"
      ]
     },
     "execution_count": 10,
     "metadata": {},
     "output_type": "execute_result"
    }
   ],
   "source": [
    "phone.get_price()"
   ]
  },
  {
   "cell_type": "markdown",
   "id": "0fe3c930",
   "metadata": {},
   "source": [
    "# Walidacja"
   ]
  },
  {
   "cell_type": "code",
   "execution_count": 11,
   "id": "e2710388",
   "metadata": {},
   "outputs": [
    {
     "data": {
      "text/plain": [
       "{'_price': 2000}"
      ]
     },
     "execution_count": 11,
     "metadata": {},
     "output_type": "execute_result"
    }
   ],
   "source": [
    "class Phone:\n",
    "    \n",
    "    def __init__(self,price):\n",
    "        self._price=price\n",
    "    \n",
    "    \n",
    "    def get_price(self):\n",
    "        return self._price\n",
    "    \n",
    "    def set_price(self,value):\n",
    "        if isinstance(value,(int,float)):\n",
    "            self._price=value\n",
    "        else:\n",
    "            raise TypeError(\"Price must be float/int.\")\n",
    "    \n",
    "    \n",
    "    \n",
    "    \n",
    "    \n",
    "phone=Phone(2000)\n",
    "phone.__dict__"
   ]
  },
  {
   "cell_type": "code",
   "execution_count": 13,
   "id": "924fa37a",
   "metadata": {},
   "outputs": [],
   "source": [
    "phone.set_price(-2000)"
   ]
  },
  {
   "cell_type": "code",
   "execution_count": 14,
   "id": "4806472c",
   "metadata": {},
   "outputs": [
    {
     "data": {
      "text/plain": [
       "{'_price': 2000}"
      ]
     },
     "execution_count": 14,
     "metadata": {},
     "output_type": "execute_result"
    }
   ],
   "source": [
    "class Phone:\n",
    "    \n",
    "    def __init__(self,price):\n",
    "        self._price=price\n",
    "    \n",
    "    \n",
    "    def get_price(self):\n",
    "        return self._price\n",
    "    \n",
    "    def set_price(self,value):\n",
    "        if isinstance(value,(int,float)):\n",
    "            if value>0:\n",
    "                self._price=value\n",
    "            else:\n",
    "                raise ValueError(\"Price must be positive (>0)\")\n",
    "        else:\n",
    "            raise TypeError(\"Price must be float/int.\")\n",
    "    \n",
    "    \n",
    "    \n",
    "    \n",
    "    \n",
    "phone=Phone(2000)\n",
    "phone.__dict__"
   ]
  },
  {
   "cell_type": "code",
   "execution_count": 16,
   "id": "db20811c",
   "metadata": {},
   "outputs": [],
   "source": [
    "phone.set_price(1900)"
   ]
  },
  {
   "cell_type": "code",
   "execution_count": 17,
   "id": "94a755b0",
   "metadata": {},
   "outputs": [
    {
     "data": {
      "text/plain": [
       "1900"
      ]
     },
     "execution_count": 17,
     "metadata": {},
     "output_type": "execute_result"
    }
   ],
   "source": [
    "phone.get_price()"
   ]
  },
  {
   "cell_type": "code",
   "execution_count": 18,
   "id": "a8b1721a",
   "metadata": {},
   "outputs": [],
   "source": [
    "phone.set_price(22.2)"
   ]
  },
  {
   "cell_type": "code",
   "execution_count": 19,
   "id": "defded94",
   "metadata": {},
   "outputs": [
    {
     "ename": "TypeError",
     "evalue": "Price must be float/int.",
     "output_type": "error",
     "traceback": [
      "\u001b[1;31m---------------------------------------------------------------------------\u001b[0m",
      "\u001b[1;31mTypeError\u001b[0m                                 Traceback (most recent call last)",
      "\u001b[1;32m<ipython-input-19-35a45e81fa39>\u001b[0m in \u001b[0;36m<module>\u001b[1;34m\u001b[0m\n\u001b[1;32m----> 1\u001b[1;33m \u001b[0mphone\u001b[0m\u001b[1;33m.\u001b[0m\u001b[0mset_price\u001b[0m\u001b[1;33m(\u001b[0m\u001b[1;34m\"1900.0\"\u001b[0m\u001b[1;33m)\u001b[0m\u001b[1;33m\u001b[0m\u001b[1;33m\u001b[0m\u001b[0m\n\u001b[0m",
      "\u001b[1;32m<ipython-input-14-9a5ffa253768>\u001b[0m in \u001b[0;36mset_price\u001b[1;34m(self, value)\u001b[0m\n\u001b[0;32m     15\u001b[0m                 \u001b[1;32mraise\u001b[0m \u001b[0mValueError\u001b[0m\u001b[1;33m(\u001b[0m\u001b[1;34m\"Price must be positive (>0)\"\u001b[0m\u001b[1;33m)\u001b[0m\u001b[1;33m\u001b[0m\u001b[1;33m\u001b[0m\u001b[0m\n\u001b[0;32m     16\u001b[0m         \u001b[1;32melse\u001b[0m\u001b[1;33m:\u001b[0m\u001b[1;33m\u001b[0m\u001b[1;33m\u001b[0m\u001b[0m\n\u001b[1;32m---> 17\u001b[1;33m             \u001b[1;32mraise\u001b[0m \u001b[0mTypeError\u001b[0m\u001b[1;33m(\u001b[0m\u001b[1;34m\"Price must be float/int.\"\u001b[0m\u001b[1;33m)\u001b[0m\u001b[1;33m\u001b[0m\u001b[1;33m\u001b[0m\u001b[0m\n\u001b[0m\u001b[0;32m     18\u001b[0m \u001b[1;33m\u001b[0m\u001b[0m\n\u001b[0;32m     19\u001b[0m \u001b[1;33m\u001b[0m\u001b[0m\n",
      "\u001b[1;31mTypeError\u001b[0m: Price must be float/int."
     ]
    }
   ],
   "source": [
    "phone.set_price(\"1900.0\")"
   ]
  },
  {
   "cell_type": "code",
   "execution_count": 21,
   "id": "4f7f48e8",
   "metadata": {},
   "outputs": [
    {
     "ename": "ValueError",
     "evalue": "Price must be positive (>0)",
     "output_type": "error",
     "traceback": [
      "\u001b[1;31m---------------------------------------------------------------------------\u001b[0m",
      "\u001b[1;31mValueError\u001b[0m                                Traceback (most recent call last)",
      "\u001b[1;32m<ipython-input-21-7195ed08381f>\u001b[0m in \u001b[0;36m<module>\u001b[1;34m\u001b[0m\n\u001b[1;32m----> 1\u001b[1;33m \u001b[0mphone\u001b[0m\u001b[1;33m.\u001b[0m\u001b[0mset_price\u001b[0m\u001b[1;33m(\u001b[0m\u001b[1;36m0\u001b[0m\u001b[1;33m)\u001b[0m\u001b[1;33m\u001b[0m\u001b[1;33m\u001b[0m\u001b[0m\n\u001b[0m",
      "\u001b[1;32m<ipython-input-14-9a5ffa253768>\u001b[0m in \u001b[0;36mset_price\u001b[1;34m(self, value)\u001b[0m\n\u001b[0;32m     13\u001b[0m                 \u001b[0mself\u001b[0m\u001b[1;33m.\u001b[0m\u001b[0m_price\u001b[0m\u001b[1;33m=\u001b[0m\u001b[0mvalue\u001b[0m\u001b[1;33m\u001b[0m\u001b[1;33m\u001b[0m\u001b[0m\n\u001b[0;32m     14\u001b[0m             \u001b[1;32melse\u001b[0m\u001b[1;33m:\u001b[0m\u001b[1;33m\u001b[0m\u001b[1;33m\u001b[0m\u001b[0m\n\u001b[1;32m---> 15\u001b[1;33m                 \u001b[1;32mraise\u001b[0m \u001b[0mValueError\u001b[0m\u001b[1;33m(\u001b[0m\u001b[1;34m\"Price must be positive (>0)\"\u001b[0m\u001b[1;33m)\u001b[0m\u001b[1;33m\u001b[0m\u001b[1;33m\u001b[0m\u001b[0m\n\u001b[0m\u001b[0;32m     16\u001b[0m         \u001b[1;32melse\u001b[0m\u001b[1;33m:\u001b[0m\u001b[1;33m\u001b[0m\u001b[1;33m\u001b[0m\u001b[0m\n\u001b[0;32m     17\u001b[0m             \u001b[1;32mraise\u001b[0m \u001b[0mTypeError\u001b[0m\u001b[1;33m(\u001b[0m\u001b[1;34m\"Price must be float/int.\"\u001b[0m\u001b[1;33m)\u001b[0m\u001b[1;33m\u001b[0m\u001b[1;33m\u001b[0m\u001b[0m\n",
      "\u001b[1;31mValueError\u001b[0m: Price must be positive (>0)"
     ]
    }
   ],
   "source": [
    "phone.set_price(0)"
   ]
  },
  {
   "cell_type": "code",
   "execution_count": 22,
   "id": "8595d5e1",
   "metadata": {},
   "outputs": [],
   "source": [
    "phone=Phone(\"Apple\")"
   ]
  },
  {
   "cell_type": "code",
   "execution_count": 23,
   "id": "f3704218",
   "metadata": {},
   "outputs": [
    {
     "data": {
      "text/plain": [
       "'Apple'"
      ]
     },
     "execution_count": 23,
     "metadata": {},
     "output_type": "execute_result"
    }
   ],
   "source": [
    "phone.get_price()"
   ]
  },
  {
   "cell_type": "code",
   "execution_count": 24,
   "id": "9025a29c",
   "metadata": {},
   "outputs": [
    {
     "data": {
      "text/plain": [
       "{'_price': 2000}"
      ]
     },
     "execution_count": 24,
     "metadata": {},
     "output_type": "execute_result"
    }
   ],
   "source": [
    "class Phone:\n",
    "    \n",
    "    def __init__(self,price):\n",
    "        self.set_price(price)\n",
    "    \n",
    "    \n",
    "    def get_price(self):\n",
    "        return self._price\n",
    "    \n",
    "    def set_price(self,value):\n",
    "        if isinstance(value,(int,float)):\n",
    "            if value>0:\n",
    "                self._price=value\n",
    "            else:\n",
    "                raise ValueError(\"Price must be positive (>0)\")\n",
    "        else:\n",
    "            raise TypeError(\"Price must be float/int.\")\n",
    "    \n",
    "    \n",
    "    \n",
    "    \n",
    "    \n",
    "phone=Phone(2000)\n",
    "phone.__dict__"
   ]
  },
  {
   "cell_type": "code",
   "execution_count": 25,
   "id": "52379057",
   "metadata": {},
   "outputs": [
    {
     "ename": "ValueError",
     "evalue": "Price must be positive (>0)",
     "output_type": "error",
     "traceback": [
      "\u001b[1;31m---------------------------------------------------------------------------\u001b[0m",
      "\u001b[1;31mValueError\u001b[0m                                Traceback (most recent call last)",
      "\u001b[1;32m<ipython-input-25-c171d42c61ca>\u001b[0m in \u001b[0;36m<module>\u001b[1;34m\u001b[0m\n\u001b[1;32m----> 1\u001b[1;33m \u001b[0mphone1\u001b[0m\u001b[1;33m=\u001b[0m\u001b[0mPhone\u001b[0m\u001b[1;33m(\u001b[0m\u001b[1;33m-\u001b[0m\u001b[1;36m2\u001b[0m\u001b[1;33m)\u001b[0m\u001b[1;33m\u001b[0m\u001b[1;33m\u001b[0m\u001b[0m\n\u001b[0m",
      "\u001b[1;32m<ipython-input-24-b1b3a8ab7ea2>\u001b[0m in \u001b[0;36m__init__\u001b[1;34m(self, price)\u001b[0m\n\u001b[0;32m      2\u001b[0m \u001b[1;33m\u001b[0m\u001b[0m\n\u001b[0;32m      3\u001b[0m     \u001b[1;32mdef\u001b[0m \u001b[0m__init__\u001b[0m\u001b[1;33m(\u001b[0m\u001b[0mself\u001b[0m\u001b[1;33m,\u001b[0m\u001b[0mprice\u001b[0m\u001b[1;33m)\u001b[0m\u001b[1;33m:\u001b[0m\u001b[1;33m\u001b[0m\u001b[1;33m\u001b[0m\u001b[0m\n\u001b[1;32m----> 4\u001b[1;33m         \u001b[0mself\u001b[0m\u001b[1;33m.\u001b[0m\u001b[0mset_price\u001b[0m\u001b[1;33m(\u001b[0m\u001b[0mprice\u001b[0m\u001b[1;33m)\u001b[0m\u001b[1;33m\u001b[0m\u001b[1;33m\u001b[0m\u001b[0m\n\u001b[0m\u001b[0;32m      5\u001b[0m \u001b[1;33m\u001b[0m\u001b[0m\n\u001b[0;32m      6\u001b[0m \u001b[1;33m\u001b[0m\u001b[0m\n",
      "\u001b[1;32m<ipython-input-24-b1b3a8ab7ea2>\u001b[0m in \u001b[0;36mset_price\u001b[1;34m(self, value)\u001b[0m\n\u001b[0;32m     13\u001b[0m                 \u001b[0mself\u001b[0m\u001b[1;33m.\u001b[0m\u001b[0m_price\u001b[0m\u001b[1;33m=\u001b[0m\u001b[0mvalue\u001b[0m\u001b[1;33m\u001b[0m\u001b[1;33m\u001b[0m\u001b[0m\n\u001b[0;32m     14\u001b[0m             \u001b[1;32melse\u001b[0m\u001b[1;33m:\u001b[0m\u001b[1;33m\u001b[0m\u001b[1;33m\u001b[0m\u001b[0m\n\u001b[1;32m---> 15\u001b[1;33m                 \u001b[1;32mraise\u001b[0m \u001b[0mValueError\u001b[0m\u001b[1;33m(\u001b[0m\u001b[1;34m\"Price must be positive (>0)\"\u001b[0m\u001b[1;33m)\u001b[0m\u001b[1;33m\u001b[0m\u001b[1;33m\u001b[0m\u001b[0m\n\u001b[0m\u001b[0;32m     16\u001b[0m         \u001b[1;32melse\u001b[0m\u001b[1;33m:\u001b[0m\u001b[1;33m\u001b[0m\u001b[1;33m\u001b[0m\u001b[0m\n\u001b[0;32m     17\u001b[0m             \u001b[1;32mraise\u001b[0m \u001b[0mTypeError\u001b[0m\u001b[1;33m(\u001b[0m\u001b[1;34m\"Price must be float/int.\"\u001b[0m\u001b[1;33m)\u001b[0m\u001b[1;33m\u001b[0m\u001b[1;33m\u001b[0m\u001b[0m\n",
      "\u001b[1;31mValueError\u001b[0m: Price must be positive (>0)"
     ]
    }
   ],
   "source": [
    "phone1=Phone(-2)"
   ]
  },
  {
   "cell_type": "markdown",
   "id": "22428728",
   "metadata": {},
   "source": [
    "## Tworzenie właściwości - property()"
   ]
  },
  {
   "cell_type": "code",
   "execution_count": 26,
   "id": "89a389e4",
   "metadata": {},
   "outputs": [
    {
     "name": "stdout",
     "output_type": "stream",
     "text": [
      "Help on class property in module builtins:\n",
      "\n",
      "class property(object)\n",
      " |  property(fget=None, fset=None, fdel=None, doc=None)\n",
      " |  \n",
      " |  Property attribute.\n",
      " |  \n",
      " |    fget\n",
      " |      function to be used for getting an attribute value\n",
      " |    fset\n",
      " |      function to be used for setting an attribute value\n",
      " |    fdel\n",
      " |      function to be used for del'ing an attribute\n",
      " |    doc\n",
      " |      docstring\n",
      " |  \n",
      " |  Typical use is to define a managed attribute x:\n",
      " |  \n",
      " |  class C(object):\n",
      " |      def getx(self): return self._x\n",
      " |      def setx(self, value): self._x = value\n",
      " |      def delx(self): del self._x\n",
      " |      x = property(getx, setx, delx, \"I'm the 'x' property.\")\n",
      " |  \n",
      " |  Decorators make defining new properties or modifying existing ones easy:\n",
      " |  \n",
      " |  class C(object):\n",
      " |      @property\n",
      " |      def x(self):\n",
      " |          \"I am the 'x' property.\"\n",
      " |          return self._x\n",
      " |      @x.setter\n",
      " |      def x(self, value):\n",
      " |          self._x = value\n",
      " |      @x.deleter\n",
      " |      def x(self):\n",
      " |          del self._x\n",
      " |  \n",
      " |  Methods defined here:\n",
      " |  \n",
      " |  __delete__(self, instance, /)\n",
      " |      Delete an attribute of instance.\n",
      " |  \n",
      " |  __get__(self, instance, owner, /)\n",
      " |      Return an attribute of instance, which is of type owner.\n",
      " |  \n",
      " |  __getattribute__(self, name, /)\n",
      " |      Return getattr(self, name).\n",
      " |  \n",
      " |  __init__(self, /, *args, **kwargs)\n",
      " |      Initialize self.  See help(type(self)) for accurate signature.\n",
      " |  \n",
      " |  __set__(self, instance, value, /)\n",
      " |      Set an attribute of instance to value.\n",
      " |  \n",
      " |  deleter(...)\n",
      " |      Descriptor to change the deleter on a property.\n",
      " |  \n",
      " |  getter(...)\n",
      " |      Descriptor to change the getter on a property.\n",
      " |  \n",
      " |  setter(...)\n",
      " |      Descriptor to change the setter on a property.\n",
      " |  \n",
      " |  ----------------------------------------------------------------------\n",
      " |  Static methods defined here:\n",
      " |  \n",
      " |  __new__(*args, **kwargs) from builtins.type\n",
      " |      Create and return a new object.  See help(type) for accurate signature.\n",
      " |  \n",
      " |  ----------------------------------------------------------------------\n",
      " |  Data descriptors defined here:\n",
      " |  \n",
      " |  __isabstractmethod__\n",
      " |  \n",
      " |  fdel\n",
      " |  \n",
      " |  fget\n",
      " |  \n",
      " |  fset\n",
      "\n"
     ]
    }
   ],
   "source": [
    "help(property)"
   ]
  },
  {
   "cell_type": "code",
   "execution_count": 28,
   "id": "a0f2c2e5",
   "metadata": {},
   "outputs": [
    {
     "data": {
      "text/plain": [
       "mappingproxy({'__module__': '__main__',\n",
       "              '__init__': <function __main__.Phone.__init__(self, price)>,\n",
       "              'get_price': <function __main__.Phone.get_price(self)>,\n",
       "              'price': <property at 0x25b9b72b770>,\n",
       "              '__dict__': <attribute '__dict__' of 'Phone' objects>,\n",
       "              '__weakref__': <attribute '__weakref__' of 'Phone' objects>,\n",
       "              '__doc__': None})"
      ]
     },
     "execution_count": 28,
     "metadata": {},
     "output_type": "execute_result"
    }
   ],
   "source": [
    "class Phone:\n",
    "    \n",
    "    \n",
    "    def __init__(self,price):\n",
    "        self._price=price\n",
    "        \n",
    "    def get_price(self):\n",
    "        print(\"getting...\")\n",
    "        return self._price\n",
    "    \n",
    "    price=property(fget=get_price)\n",
    "\n",
    "    \n",
    "\n",
    "Phone.__dict__"
   ]
  },
  {
   "cell_type": "code",
   "execution_count": 29,
   "id": "81e42c77",
   "metadata": {},
   "outputs": [
    {
     "name": "stdout",
     "output_type": "stream",
     "text": [
      "getting...\n"
     ]
    },
    {
     "data": {
      "text/plain": [
       "1200"
      ]
     },
     "execution_count": 29,
     "metadata": {},
     "output_type": "execute_result"
    }
   ],
   "source": [
    "phone=Phone(1200)\n",
    "phone.get_price()"
   ]
  },
  {
   "cell_type": "code",
   "execution_count": 30,
   "id": "8f61e613",
   "metadata": {},
   "outputs": [
    {
     "name": "stdout",
     "output_type": "stream",
     "text": [
      "getting...\n"
     ]
    },
    {
     "data": {
      "text/plain": [
       "1200"
      ]
     },
     "execution_count": 30,
     "metadata": {},
     "output_type": "execute_result"
    }
   ],
   "source": [
    "phone.price"
   ]
  },
  {
   "cell_type": "code",
   "execution_count": 31,
   "id": "dde76368",
   "metadata": {},
   "outputs": [
    {
     "data": {
      "text/plain": [
       "mappingproxy({'__module__': '__main__',\n",
       "              '__init__': <function __main__.Phone.__init__(self, price)>,\n",
       "              'price': <property at 0x25b9b72b2c0>,\n",
       "              '__dict__': <attribute '__dict__' of 'Phone' objects>,\n",
       "              '__weakref__': <attribute '__weakref__' of 'Phone' objects>,\n",
       "              '__doc__': None})"
      ]
     },
     "execution_count": 31,
     "metadata": {},
     "output_type": "execute_result"
    }
   ],
   "source": [
    "class Phone:\n",
    "    \n",
    "    \n",
    "    def __init__(self,price):\n",
    "        self._price=price\n",
    "        \n",
    "    def price(self):\n",
    "        print(\"getting...\")\n",
    "        return self._price\n",
    "    \n",
    "    price=property(fget=price)\n",
    "\n",
    "    \n",
    "\n",
    "Phone.__dict__"
   ]
  },
  {
   "cell_type": "code",
   "execution_count": 32,
   "id": "7dc26003",
   "metadata": {},
   "outputs": [
    {
     "ename": "AttributeError",
     "evalue": "can't set attribute",
     "output_type": "error",
     "traceback": [
      "\u001b[1;31m---------------------------------------------------------------------------\u001b[0m",
      "\u001b[1;31mAttributeError\u001b[0m                            Traceback (most recent call last)",
      "\u001b[1;32m<ipython-input-32-4380b3528053>\u001b[0m in \u001b[0;36m<module>\u001b[1;34m\u001b[0m\n\u001b[1;32m----> 1\u001b[1;33m \u001b[0mphone\u001b[0m\u001b[1;33m.\u001b[0m\u001b[0mprice\u001b[0m \u001b[1;33m=\u001b[0m \u001b[1;36m3000\u001b[0m\u001b[1;33m\u001b[0m\u001b[1;33m\u001b[0m\u001b[0m\n\u001b[0m",
      "\u001b[1;31mAttributeError\u001b[0m: can't set attribute"
     ]
    }
   ],
   "source": [
    "phone.price = 3000"
   ]
  },
  {
   "cell_type": "code",
   "execution_count": 33,
   "id": "1d944014",
   "metadata": {},
   "outputs": [
    {
     "ename": "AttributeError",
     "evalue": "can't delete attribute",
     "output_type": "error",
     "traceback": [
      "\u001b[1;31m---------------------------------------------------------------------------\u001b[0m",
      "\u001b[1;31mAttributeError\u001b[0m                            Traceback (most recent call last)",
      "\u001b[1;32m<ipython-input-33-eaddd3e9ab37>\u001b[0m in \u001b[0;36m<module>\u001b[1;34m\u001b[0m\n\u001b[1;32m----> 1\u001b[1;33m \u001b[1;32mdel\u001b[0m \u001b[0mphone\u001b[0m\u001b[1;33m.\u001b[0m\u001b[0mprice\u001b[0m\u001b[1;33m\u001b[0m\u001b[1;33m\u001b[0m\u001b[0m\n\u001b[0m",
      "\u001b[1;31mAttributeError\u001b[0m: can't delete attribute"
     ]
    }
   ],
   "source": [
    "del phone.price"
   ]
  },
  {
   "cell_type": "markdown",
   "id": "16dcf80b",
   "metadata": {},
   "source": [
    "## getter+setter"
   ]
  },
  {
   "cell_type": "code",
   "execution_count": 37,
   "id": "ca0d210d",
   "metadata": {},
   "outputs": [
    {
     "data": {
      "text/plain": [
       "mappingproxy({'__module__': '__main__',\n",
       "              '__init__': <function __main__.Phone.__init__(self, price)>,\n",
       "              'get_price': <function __main__.Phone.get_price(self)>,\n",
       "              'set_price': <function __main__.Phone.set_price(self, value)>,\n",
       "              'price': <property at 0x25b9c11bf40>,\n",
       "              '__dict__': <attribute '__dict__' of 'Phone' objects>,\n",
       "              '__weakref__': <attribute '__weakref__' of 'Phone' objects>,\n",
       "              '__doc__': None})"
      ]
     },
     "execution_count": 37,
     "metadata": {},
     "output_type": "execute_result"
    }
   ],
   "source": [
    "class Phone:\n",
    "    \n",
    "    \n",
    "    def __init__(self,price):\n",
    "        self._price=price\n",
    "        \n",
    "    def get_price(self):\n",
    "        print(\"getting...\")\n",
    "        return self._price\n",
    "    \n",
    "    \n",
    "    def set_price(self,value):\n",
    "        print(\"setting...\")\n",
    "        if isinstance(value,(int,float)):\n",
    "            if value>0:\n",
    "                self._price=value\n",
    "            else:\n",
    "                raise ValueError(\"Price must be positive (>0)\")\n",
    "        else:\n",
    "            raise TypeError(\"Price must be float/int.\")\n",
    "    \n",
    "    price=property(fget=get_price, fset=set_price)\n",
    "\n",
    "    \n",
    "\n",
    "Phone.__dict__"
   ]
  },
  {
   "cell_type": "code",
   "execution_count": 38,
   "id": "a4f98da1",
   "metadata": {},
   "outputs": [
    {
     "name": "stdout",
     "output_type": "stream",
     "text": [
      "getting...\n"
     ]
    },
    {
     "data": {
      "text/plain": [
       "3000"
      ]
     },
     "execution_count": 38,
     "metadata": {},
     "output_type": "execute_result"
    }
   ],
   "source": [
    "phone=Phone(3000)\n",
    "phone.price"
   ]
  },
  {
   "cell_type": "code",
   "execution_count": 41,
   "id": "93d51a83",
   "metadata": {},
   "outputs": [
    {
     "name": "stdout",
     "output_type": "stream",
     "text": [
      "setting...\n"
     ]
    }
   ],
   "source": [
    "phone.set_price(2500)"
   ]
  },
  {
   "cell_type": "code",
   "execution_count": 43,
   "id": "f4c09654",
   "metadata": {},
   "outputs": [
    {
     "name": "stdout",
     "output_type": "stream",
     "text": [
      "getting...\n"
     ]
    },
    {
     "data": {
      "text/plain": [
       "2500"
      ]
     },
     "execution_count": 43,
     "metadata": {},
     "output_type": "execute_result"
    }
   ],
   "source": [
    "phone.price"
   ]
  },
  {
   "cell_type": "code",
   "execution_count": 44,
   "id": "ec8d423a",
   "metadata": {},
   "outputs": [
    {
     "name": "stdout",
     "output_type": "stream",
     "text": [
      "setting...\n"
     ]
    }
   ],
   "source": [
    "phone.price=4000"
   ]
  },
  {
   "cell_type": "code",
   "execution_count": 45,
   "id": "bfe25f32",
   "metadata": {},
   "outputs": [
    {
     "name": "stdout",
     "output_type": "stream",
     "text": [
      "getting...\n"
     ]
    },
    {
     "data": {
      "text/plain": [
       "4000"
      ]
     },
     "execution_count": 45,
     "metadata": {},
     "output_type": "execute_result"
    }
   ],
   "source": [
    "phone.price"
   ]
  },
  {
   "cell_type": "markdown",
   "id": "ada0a1c7",
   "metadata": {},
   "source": [
    "## getter + setter + deleter"
   ]
  },
  {
   "cell_type": "code",
   "execution_count": 46,
   "id": "a49183cc",
   "metadata": {},
   "outputs": [
    {
     "data": {
      "text/plain": [
       "mappingproxy({'__module__': '__main__',\n",
       "              '__init__': <function __main__.Phone.__init__(self, price)>,\n",
       "              'get_price': <function __main__.Phone.get_price(self)>,\n",
       "              'set_price': <function __main__.Phone.set_price(self, value)>,\n",
       "              'del_price': <function __main__.Phone.del_price(self)>,\n",
       "              'price': <property at 0x25b9bb564a0>,\n",
       "              '__dict__': <attribute '__dict__' of 'Phone' objects>,\n",
       "              '__weakref__': <attribute '__weakref__' of 'Phone' objects>,\n",
       "              '__doc__': None})"
      ]
     },
     "execution_count": 46,
     "metadata": {},
     "output_type": "execute_result"
    }
   ],
   "source": [
    "class Phone:\n",
    "    \n",
    "    \n",
    "    def __init__(self,price):\n",
    "        self._price=price\n",
    "        \n",
    "    def get_price(self):\n",
    "        print(\"getting...\")\n",
    "        return self._price\n",
    "    \n",
    "    \n",
    "    def set_price(self,value):\n",
    "        print(\"setting...\")\n",
    "        if isinstance(value,(int,float)):\n",
    "            if value>0:\n",
    "                self._price=value\n",
    "            else:\n",
    "                raise ValueError(\"Price must be positive (>0)\")\n",
    "        else:\n",
    "            raise TypeError(\"Price must be float/int.\")\n",
    "    \n",
    "    \n",
    "    def del_price(self):\n",
    "        print(\"deleting...\")\n",
    "        del self._price\n",
    "    \n",
    "    price=property(fget=get_price, fset=set_price, fdel=del_price)\n",
    "\n",
    "    \n",
    "\n",
    "Phone.__dict__"
   ]
  },
  {
   "cell_type": "code",
   "execution_count": 47,
   "id": "a28b0b92",
   "metadata": {},
   "outputs": [
    {
     "name": "stdout",
     "output_type": "stream",
     "text": [
      "getting...\n"
     ]
    },
    {
     "data": {
      "text/plain": [
       "3000"
      ]
     },
     "execution_count": 47,
     "metadata": {},
     "output_type": "execute_result"
    }
   ],
   "source": [
    "phone=Phone(3000)\n",
    "phone.price"
   ]
  },
  {
   "cell_type": "code",
   "execution_count": 48,
   "id": "a9b8c40d",
   "metadata": {},
   "outputs": [
    {
     "name": "stdout",
     "output_type": "stream",
     "text": [
      "setting...\n"
     ]
    }
   ],
   "source": [
    "phone.price=2000"
   ]
  },
  {
   "cell_type": "code",
   "execution_count": 49,
   "id": "3e292b3b",
   "metadata": {},
   "outputs": [
    {
     "name": "stdout",
     "output_type": "stream",
     "text": [
      "getting...\n"
     ]
    },
    {
     "data": {
      "text/plain": [
       "2000"
      ]
     },
     "execution_count": 49,
     "metadata": {},
     "output_type": "execute_result"
    }
   ],
   "source": [
    "phone.price"
   ]
  },
  {
   "cell_type": "code",
   "execution_count": 50,
   "id": "718f6ba8",
   "metadata": {},
   "outputs": [
    {
     "name": "stdout",
     "output_type": "stream",
     "text": [
      "deleting...\n"
     ]
    }
   ],
   "source": [
    "del phone.price"
   ]
  },
  {
   "cell_type": "code",
   "execution_count": 51,
   "id": "ee898bc5",
   "metadata": {},
   "outputs": [
    {
     "data": {
      "text/plain": [
       "{}"
      ]
     },
     "execution_count": 51,
     "metadata": {},
     "output_type": "execute_result"
    }
   ],
   "source": [
    "phone.__dict__"
   ]
  },
  {
   "cell_type": "code",
   "execution_count": 52,
   "id": "e75602dd",
   "metadata": {},
   "outputs": [
    {
     "name": "stdout",
     "output_type": "stream",
     "text": [
      "setting...\n"
     ]
    }
   ],
   "source": [
    "phone.price=1000"
   ]
  },
  {
   "cell_type": "code",
   "execution_count": 53,
   "id": "042bb434",
   "metadata": {},
   "outputs": [
    {
     "data": {
      "text/plain": [
       "{'_price': 1000}"
      ]
     },
     "execution_count": 53,
     "metadata": {},
     "output_type": "execute_result"
    }
   ],
   "source": [
    "phone.__dict__"
   ]
  },
  {
   "cell_type": "markdown",
   "id": "dcd50806",
   "metadata": {},
   "source": [
    "## getter+setter+deleter+doc"
   ]
  },
  {
   "cell_type": "code",
   "execution_count": 54,
   "id": "5d10301f",
   "metadata": {},
   "outputs": [
    {
     "data": {
      "text/plain": [
       "mappingproxy({'__module__': '__main__',\n",
       "              '__doc__': 'Phone class docs.',\n",
       "              '__init__': <function __main__.Phone.__init__(self, price)>,\n",
       "              'get_price': <function __main__.Phone.get_price(self)>,\n",
       "              'set_price': <function __main__.Phone.set_price(self, value)>,\n",
       "              'del_price': <function __main__.Phone.del_price(self)>,\n",
       "              'price': <property at 0x25b9bb56130>,\n",
       "              '__dict__': <attribute '__dict__' of 'Phone' objects>,\n",
       "              '__weakref__': <attribute '__weakref__' of 'Phone' objects>})"
      ]
     },
     "execution_count": 54,
     "metadata": {},
     "output_type": "execute_result"
    }
   ],
   "source": [
    "class Phone:\n",
    "    \n",
    "    \"\"\"Phone class docs.\"\"\"\n",
    "    \n",
    "    \n",
    "    def __init__(self,price):\n",
    "        self._price=price\n",
    "        \n",
    "    def get_price(self):\n",
    "        print(\"getting...\")\n",
    "        return self._price\n",
    "    \n",
    "    \n",
    "    def set_price(self,value):\n",
    "        print(\"setting...\")\n",
    "        if isinstance(value,(int,float)):\n",
    "            if value>0:\n",
    "                self._price=value\n",
    "            else:\n",
    "                raise ValueError(\"Price must be positive (>0)\")\n",
    "        else:\n",
    "            raise TypeError(\"Price must be float/int.\")\n",
    "    \n",
    "    \n",
    "    def del_price(self):\n",
    "        print(\"deleting...\")\n",
    "        del self._price\n",
    "    \n",
    "    price=property(fget=get_price, fset=set_price, fdel=del_price, doc=\"Phone price.\")\n",
    "\n",
    "    \n",
    "\n",
    "Phone.__dict__"
   ]
  },
  {
   "cell_type": "code",
   "execution_count": 56,
   "id": "73a8ec3a",
   "metadata": {},
   "outputs": [
    {
     "name": "stdout",
     "output_type": "stream",
     "text": [
      "Help on class Phone in module __main__:\n",
      "\n",
      "class Phone(builtins.object)\n",
      " |  Phone(price)\n",
      " |  \n",
      " |  Phone class docs.\n",
      " |  \n",
      " |  Methods defined here:\n",
      " |  \n",
      " |  __init__(self, price)\n",
      " |      Initialize self.  See help(type(self)) for accurate signature.\n",
      " |  \n",
      " |  del_price(self)\n",
      " |  \n",
      " |  get_price(self)\n",
      " |  \n",
      " |  set_price(self, value)\n",
      " |  \n",
      " |  ----------------------------------------------------------------------\n",
      " |  Data descriptors defined here:\n",
      " |  \n",
      " |  __dict__\n",
      " |      dictionary for instance variables (if defined)\n",
      " |  \n",
      " |  __weakref__\n",
      " |      list of weak references to the object (if defined)\n",
      " |  \n",
      " |  price\n",
      " |      Phone price.\n",
      "\n"
     ]
    }
   ],
   "source": [
    "help(Phone)"
   ]
  },
  {
   "cell_type": "markdown",
   "id": "6a6eb174",
   "metadata": {},
   "source": [
    "### dekoratory - przypomnienie"
   ]
  },
  {
   "cell_type": "code",
   "execution_count": 57,
   "id": "dcf32ec7",
   "metadata": {},
   "outputs": [
    {
     "data": {
      "text/plain": [
       "mappingproxy({'__module__': '__main__',\n",
       "              '__doc__': 'Phone class docs.',\n",
       "              '__init__': <function __main__.Phone.__init__(self, price)>,\n",
       "              'get_price': <function __main__.Phone.get_price(self)>,\n",
       "              'set_price': <function __main__.Phone.set_price(self, value)>,\n",
       "              'del_price': <function __main__.Phone.del_price(self)>,\n",
       "              'price': <property at 0x25b9b7b9040>,\n",
       "              '__dict__': <attribute '__dict__' of 'Phone' objects>,\n",
       "              '__weakref__': <attribute '__weakref__' of 'Phone' objects>})"
      ]
     },
     "execution_count": 57,
     "metadata": {},
     "output_type": "execute_result"
    }
   ],
   "source": [
    "class Phone:\n",
    "    \n",
    "    \"\"\"Phone class docs.\"\"\"\n",
    "    \n",
    "    \n",
    "    def __init__(self,price):\n",
    "        self._price=price\n",
    "        \n",
    "    def get_price(self):\n",
    "        print(\"getting...\")\n",
    "        return self._price\n",
    "    \n",
    "    \n",
    "    def set_price(self,value):\n",
    "        print(\"setting...\")\n",
    "        if isinstance(value,(int,float)):\n",
    "            if value>0:\n",
    "                self._price=value\n",
    "            else:\n",
    "                raise ValueError(\"Price must be positive (>0)\")\n",
    "        else:\n",
    "            raise TypeError(\"Price must be float/int.\")\n",
    "    \n",
    "    \n",
    "    def del_price(self):\n",
    "        print(\"deleting...\")\n",
    "        del self._price\n",
    "    \n",
    "    price=property(fget=get_price, fset=set_price, fdel=del_price, doc=\"Phone price.\")\n",
    "\n",
    "    \n",
    "\n",
    "Phone.__dict__"
   ]
  },
  {
   "cell_type": "code",
   "execution_count": 59,
   "id": "bc049353",
   "metadata": {},
   "outputs": [
    {
     "name": "stdout",
     "output_type": "stream",
     "text": [
      "Python 3.8\n"
     ]
    }
   ],
   "source": [
    "def hello():\n",
    "    print(\"Python 3.8\")\n",
    "\n",
    "hello()"
   ]
  },
  {
   "cell_type": "code",
   "execution_count": 65,
   "id": "c4487fdc",
   "metadata": {},
   "outputs": [
    {
     "data": {
      "text/plain": [
       "<function __main__.pretty_print.<locals>.wrapper()>"
      ]
     },
     "execution_count": 65,
     "metadata": {},
     "output_type": "execute_result"
    }
   ],
   "source": [
    "def pretty_print(func):\n",
    "    def wrapper():\n",
    "        print(\"=\"*30)\n",
    "        func()\n",
    "        print(\"=\"*30)\n",
    "    return wrapper\n",
    "\n",
    "pretty_print(hello)"
   ]
  },
  {
   "cell_type": "code",
   "execution_count": 66,
   "id": "57ff16ee",
   "metadata": {},
   "outputs": [
    {
     "name": "stdout",
     "output_type": "stream",
     "text": [
      "==============================\n",
      "Python 3.8\n",
      "==============================\n"
     ]
    }
   ],
   "source": [
    "pretty_print(hello)()"
   ]
  },
  {
   "cell_type": "code",
   "execution_count": 67,
   "id": "b0bacb6d",
   "metadata": {},
   "outputs": [],
   "source": [
    "hello=pretty_print(hello)"
   ]
  },
  {
   "cell_type": "code",
   "execution_count": 68,
   "id": "3466ac0f",
   "metadata": {},
   "outputs": [
    {
     "name": "stdout",
     "output_type": "stream",
     "text": [
      "==============================\n",
      "Python 3.8\n",
      "==============================\n"
     ]
    }
   ],
   "source": [
    "hello()"
   ]
  },
  {
   "cell_type": "code",
   "execution_count": 1,
   "id": "751b0d3b",
   "metadata": {},
   "outputs": [],
   "source": [
    "def pretty_print(func):\n",
    "    def wrapper():\n",
    "        print(\"=\"*30)\n",
    "        func()\n",
    "        print(\"=\"*30)\n",
    "    return wrapper\n",
    "\n",
    "def hello():\n",
    "    print(\"Python 3.8\")\n",
    "\n",
    "hello=pretty_print(hello)"
   ]
  },
  {
   "cell_type": "code",
   "execution_count": 2,
   "id": "59a587dc",
   "metadata": {},
   "outputs": [
    {
     "data": {
      "text/plain": [
       "<function __main__.pretty_print.<locals>.wrapper()>"
      ]
     },
     "execution_count": 2,
     "metadata": {},
     "output_type": "execute_result"
    }
   ],
   "source": [
    "hello"
   ]
  },
  {
   "cell_type": "code",
   "execution_count": 3,
   "id": "1b8277de",
   "metadata": {},
   "outputs": [
    {
     "name": "stdout",
     "output_type": "stream",
     "text": [
      "==============================\n",
      "Python 3.8\n",
      "==============================\n"
     ]
    }
   ],
   "source": [
    "hello()"
   ]
  },
  {
   "cell_type": "code",
   "execution_count": 5,
   "id": "367988db",
   "metadata": {},
   "outputs": [
    {
     "data": {
      "text/plain": [
       "<function __main__.pretty_print.<locals>.wrapper()>"
      ]
     },
     "execution_count": 5,
     "metadata": {},
     "output_type": "execute_result"
    }
   ],
   "source": [
    "def pretty_print(func):\n",
    "    def wrapper():\n",
    "        print(\"=\"*30)\n",
    "        func()\n",
    "        print(\"=\"*30)\n",
    "    return wrapper\n",
    "\n",
    "@pretty_print\n",
    "def hello():\n",
    "    print(\"Python 3.8\")\n",
    "\n",
    "hello"
   ]
  },
  {
   "cell_type": "code",
   "execution_count": 6,
   "id": "8231661b",
   "metadata": {},
   "outputs": [
    {
     "name": "stdout",
     "output_type": "stream",
     "text": [
      "==============================\n",
      "Python 3.8\n",
      "==============================\n"
     ]
    }
   ],
   "source": [
    "hello()"
   ]
  },
  {
   "cell_type": "markdown",
   "id": "4b0ba2bf",
   "metadata": {},
   "source": [
    "## Przykład"
   ]
  },
  {
   "cell_type": "code",
   "execution_count": 1,
   "id": "84df7c92",
   "metadata": {},
   "outputs": [
    {
     "data": {
      "text/plain": [
       "1627482116.3507113"
      ]
     },
     "execution_count": 1,
     "metadata": {},
     "output_type": "execute_result"
    }
   ],
   "source": [
    "import time\n",
    "\n",
    "time.time()"
   ]
  },
  {
   "cell_type": "code",
   "execution_count": 2,
   "id": "c3fc8508",
   "metadata": {},
   "outputs": [],
   "source": [
    "time.sleep(2)"
   ]
  },
  {
   "cell_type": "code",
   "execution_count": 3,
   "id": "d507329c",
   "metadata": {},
   "outputs": [
    {
     "name": "stdout",
     "output_type": "stream",
     "text": [
      "Executing fake_sleep...\n"
     ]
    }
   ],
   "source": [
    "def timer(func):\n",
    "    def wrapper(sec):\n",
    "        start=time.time()\n",
    "        func(sec)\n",
    "        stop=time.time()\n",
    "        print(f\"Execution time {stop-start:.4f}\")\n",
    "    return wrapper\n",
    "\n",
    "\n",
    "def fake_sleep(sec):\n",
    "    print(f\"Executing {fake_sleep.__name__}...\")\n",
    "    time.sleep(sec)\n",
    "    \n",
    "\n",
    "fake_sleep(2)"
   ]
  },
  {
   "cell_type": "code",
   "execution_count": 4,
   "id": "de38abf5",
   "metadata": {},
   "outputs": [
    {
     "name": "stdout",
     "output_type": "stream",
     "text": [
      "Executing fake_sleep...\n",
      "Execution time 3.0076\n"
     ]
    }
   ],
   "source": [
    "timer(fake_sleep)(3)"
   ]
  },
  {
   "cell_type": "code",
   "execution_count": 6,
   "id": "5292a314",
   "metadata": {},
   "outputs": [
    {
     "name": "stdout",
     "output_type": "stream",
     "text": [
      "Executing wrapper...\n",
      "Execution time 3.0079\n",
      "Execution time 3.0079\n"
     ]
    }
   ],
   "source": [
    "fake_sleep = timer(fake_sleep)\n",
    "fake_sleep(3)"
   ]
  },
  {
   "cell_type": "code",
   "execution_count": 7,
   "id": "5dd51d8d",
   "metadata": {},
   "outputs": [
    {
     "name": "stdout",
     "output_type": "stream",
     "text": [
      "Executing wrapper...\n",
      "Execution time 2.0112\n"
     ]
    }
   ],
   "source": [
    "def timer(func):\n",
    "    def wrapper(sec):\n",
    "        start=time.time()\n",
    "        func(sec)\n",
    "        stop=time.time()\n",
    "        print(f\"Execution time {stop-start:.4f}\")\n",
    "    return wrapper\n",
    "\n",
    "\n",
    "@timer\n",
    "def fake_sleep(sec):\n",
    "    print(f\"Executing {fake_sleep.__name__}...\")\n",
    "    time.sleep(sec)\n",
    "    \n",
    "\n",
    "fake_sleep(2)"
   ]
  },
  {
   "cell_type": "code",
   "execution_count": 8,
   "id": "38563f51",
   "metadata": {},
   "outputs": [
    {
     "name": "stdout",
     "output_type": "stream",
     "text": [
      "Executing wrapper...\n",
      "Execution time 4.0132\n"
     ]
    }
   ],
   "source": [
    "fake_sleep(4)"
   ]
  },
  {
   "cell_type": "markdown",
   "id": "87e80b8d",
   "metadata": {},
   "source": [
    "## Dekorator property()"
   ]
  },
  {
   "cell_type": "code",
   "execution_count": 9,
   "id": "a038d688",
   "metadata": {},
   "outputs": [],
   "source": [
    "class Phone:\n",
    "    \n",
    "    def __init__(self,price):\n",
    "        self._price=price\n",
    "        \n",
    "    def get_price(self):\n",
    "        print(\"getting...\")\n",
    "        return self._price\n",
    "    \n",
    "    price= property(fget=get_price)"
   ]
  },
  {
   "cell_type": "code",
   "execution_count": 10,
   "id": "3da0cdb3",
   "metadata": {},
   "outputs": [
    {
     "data": {
      "text/plain": [
       "mappingproxy({'__module__': '__main__',\n",
       "              '__init__': <function __main__.Phone.__init__(self, price)>,\n",
       "              'price': <property at 0x17bc64bf720>,\n",
       "              '__dict__': <attribute '__dict__' of 'Phone' objects>,\n",
       "              '__weakref__': <attribute '__weakref__' of 'Phone' objects>,\n",
       "              '__doc__': None})"
      ]
     },
     "execution_count": 10,
     "metadata": {},
     "output_type": "execute_result"
    }
   ],
   "source": [
    "class Phone:\n",
    "    \n",
    "    def __init__(self,price):\n",
    "        self._price=price\n",
    "        \n",
    "        \n",
    "    @property\n",
    "    def price(self):\n",
    "        print(\"getting...\")\n",
    "        return self._price\n",
    "\n",
    "Phone.__dict__"
   ]
  },
  {
   "cell_type": "code",
   "execution_count": 11,
   "id": "7670428e",
   "metadata": {},
   "outputs": [],
   "source": [
    "phone=Phone(2000)"
   ]
  },
  {
   "cell_type": "code",
   "execution_count": 12,
   "id": "ac679538",
   "metadata": {},
   "outputs": [
    {
     "data": {
      "text/plain": [
       "{'_price': 2000}"
      ]
     },
     "execution_count": 12,
     "metadata": {},
     "output_type": "execute_result"
    }
   ],
   "source": [
    "phone.__dict__"
   ]
  },
  {
   "cell_type": "code",
   "execution_count": 13,
   "id": "6df2d5b2",
   "metadata": {},
   "outputs": [
    {
     "name": "stdout",
     "output_type": "stream",
     "text": [
      "getting...\n"
     ]
    },
    {
     "data": {
      "text/plain": [
       "2000"
      ]
     },
     "execution_count": 13,
     "metadata": {},
     "output_type": "execute_result"
    }
   ],
   "source": [
    "phone.price"
   ]
  },
  {
   "cell_type": "code",
   "execution_count": 14,
   "id": "810caaf5",
   "metadata": {},
   "outputs": [
    {
     "ename": "AttributeError",
     "evalue": "can't set attribute",
     "output_type": "error",
     "traceback": [
      "\u001b[1;31m---------------------------------------------------------------------------\u001b[0m",
      "\u001b[1;31mAttributeError\u001b[0m                            Traceback (most recent call last)",
      "\u001b[1;32m<ipython-input-14-464a3f1ed411>\u001b[0m in \u001b[0;36m<module>\u001b[1;34m\u001b[0m\n\u001b[1;32m----> 1\u001b[1;33m \u001b[0mphone\u001b[0m\u001b[1;33m.\u001b[0m\u001b[0mprice\u001b[0m \u001b[1;33m=\u001b[0m \u001b[1;36m1000\u001b[0m\u001b[1;33m\u001b[0m\u001b[1;33m\u001b[0m\u001b[0m\n\u001b[0m",
      "\u001b[1;31mAttributeError\u001b[0m: can't set attribute"
     ]
    }
   ],
   "source": [
    "phone.price = 1000"
   ]
  },
  {
   "cell_type": "code",
   "execution_count": 15,
   "id": "e505b3d2",
   "metadata": {},
   "outputs": [],
   "source": [
    "phone._price=1000"
   ]
  },
  {
   "cell_type": "code",
   "execution_count": 16,
   "id": "70ec0bc4",
   "metadata": {},
   "outputs": [
    {
     "name": "stdout",
     "output_type": "stream",
     "text": [
      "getting...\n"
     ]
    },
    {
     "data": {
      "text/plain": [
       "1000"
      ]
     },
     "execution_count": 16,
     "metadata": {},
     "output_type": "execute_result"
    }
   ],
   "source": [
    "phone.price"
   ]
  },
  {
   "cell_type": "markdown",
   "id": "d0bce6e8",
   "metadata": {},
   "source": [
    "## Dekorator property cd."
   ]
  },
  {
   "cell_type": "code",
   "execution_count": 17,
   "id": "cf372fea",
   "metadata": {},
   "outputs": [
    {
     "data": {
      "text/plain": [
       "mappingproxy({'__module__': '__main__',\n",
       "              '__doc__': 'Phone class docs.',\n",
       "              '__init__': <function __main__.Phone.__init__(self, price)>,\n",
       "              'price': <property at 0x17bc7495db0>,\n",
       "              'set_price': <function __main__.Phone.set_price(self, value)>,\n",
       "              '__dict__': <attribute '__dict__' of 'Phone' objects>,\n",
       "              '__weakref__': <attribute '__weakref__' of 'Phone' objects>})"
      ]
     },
     "execution_count": 17,
     "metadata": {},
     "output_type": "execute_result"
    }
   ],
   "source": [
    "class Phone:\n",
    "    \n",
    "    \"\"\"Phone class docs.\"\"\"\n",
    "    \n",
    "    \n",
    "    def __init__(self,price):\n",
    "        self._price=price\n",
    "    \n",
    "    @property\n",
    "    def price(self):\n",
    "        print(\"getting...\")\n",
    "        return self._price\n",
    "    \n",
    "    \n",
    "    def set_price(self,value):\n",
    "        print(\"setting...\")\n",
    "        if isinstance(value,(int,float)):\n",
    "            if value>0:\n",
    "                self._price=value\n",
    "            else:\n",
    "                raise ValueError(\"Price must be positive (>0)\")\n",
    "        else:\n",
    "            raise TypeError(\"Price must be float/int.\")\n",
    "    \n",
    "    \n",
    "\n",
    "    price= price.setter(set_price)\n",
    "\n",
    "    \n",
    "\n",
    "Phone.__dict__"
   ]
  },
  {
   "cell_type": "code",
   "execution_count": 18,
   "id": "dd51eb5d",
   "metadata": {},
   "outputs": [],
   "source": [
    "phone=Phone(2000)"
   ]
  },
  {
   "cell_type": "code",
   "execution_count": 19,
   "id": "5f5d4f18",
   "metadata": {},
   "outputs": [
    {
     "name": "stdout",
     "output_type": "stream",
     "text": [
      "getting...\n"
     ]
    },
    {
     "data": {
      "text/plain": [
       "2000"
      ]
     },
     "execution_count": 19,
     "metadata": {},
     "output_type": "execute_result"
    }
   ],
   "source": [
    "phone.price"
   ]
  },
  {
   "cell_type": "code",
   "execution_count": 20,
   "id": "108342d1",
   "metadata": {},
   "outputs": [
    {
     "name": "stdout",
     "output_type": "stream",
     "text": [
      "setting...\n"
     ]
    }
   ],
   "source": [
    "phone.price=3000"
   ]
  },
  {
   "cell_type": "code",
   "execution_count": 21,
   "id": "66151a25",
   "metadata": {},
   "outputs": [
    {
     "name": "stdout",
     "output_type": "stream",
     "text": [
      "getting...\n"
     ]
    },
    {
     "data": {
      "text/plain": [
       "3000"
      ]
     },
     "execution_count": 21,
     "metadata": {},
     "output_type": "execute_result"
    }
   ],
   "source": [
    "phone.price"
   ]
  },
  {
   "cell_type": "code",
   "execution_count": 22,
   "id": "ef11143e",
   "metadata": {},
   "outputs": [
    {
     "ename": "AttributeError",
     "evalue": "can't delete attribute",
     "output_type": "error",
     "traceback": [
      "\u001b[1;31m---------------------------------------------------------------------------\u001b[0m",
      "\u001b[1;31mAttributeError\u001b[0m                            Traceback (most recent call last)",
      "\u001b[1;32m<ipython-input-22-eaddd3e9ab37>\u001b[0m in \u001b[0;36m<module>\u001b[1;34m\u001b[0m\n\u001b[1;32m----> 1\u001b[1;33m \u001b[1;32mdel\u001b[0m \u001b[0mphone\u001b[0m\u001b[1;33m.\u001b[0m\u001b[0mprice\u001b[0m\u001b[1;33m\u001b[0m\u001b[1;33m\u001b[0m\u001b[0m\n\u001b[0m",
      "\u001b[1;31mAttributeError\u001b[0m: can't delete attribute"
     ]
    }
   ],
   "source": [
    "del phone.price"
   ]
  },
  {
   "cell_type": "code",
   "execution_count": 23,
   "id": "02358ad6",
   "metadata": {},
   "outputs": [
    {
     "data": {
      "text/plain": [
       "mappingproxy({'__module__': '__main__',\n",
       "              '__doc__': 'Phone class docs.',\n",
       "              '__init__': <function __main__.Phone.__init__(self, price)>,\n",
       "              'price': <property at 0x17bc752ef90>,\n",
       "              '__dict__': <attribute '__dict__' of 'Phone' objects>,\n",
       "              '__weakref__': <attribute '__weakref__' of 'Phone' objects>})"
      ]
     },
     "execution_count": 23,
     "metadata": {},
     "output_type": "execute_result"
    }
   ],
   "source": [
    "class Phone:\n",
    "    \n",
    "    \"\"\"Phone class docs.\"\"\"\n",
    "    \n",
    "    \n",
    "    def __init__(self,price):\n",
    "        self._price=price\n",
    "        \n",
    "    @property    \n",
    "    def price(self):\n",
    "        print(\"getting...\")\n",
    "        return self._price\n",
    "    \n",
    "    \n",
    "    @price.setter\n",
    "    def price(self,value):\n",
    "        print(\"setting...\")\n",
    "        if isinstance(value,(int,float)):\n",
    "            if value>0:\n",
    "                self._price=value\n",
    "            else:\n",
    "                raise ValueError(\"Price must be positive (>0)\")\n",
    "        else:\n",
    "            raise TypeError(\"Price must be float/int.\")\n",
    "    \n",
    "    \n",
    "\n",
    "    \n",
    "\n",
    "\n",
    "    \n",
    "\n",
    "Phone.__dict__"
   ]
  },
  {
   "cell_type": "code",
   "execution_count": 24,
   "id": "4bd0d5c7",
   "metadata": {},
   "outputs": [],
   "source": [
    "phone=Phone(2000)"
   ]
  },
  {
   "cell_type": "code",
   "execution_count": 25,
   "id": "ef55e05f",
   "metadata": {},
   "outputs": [
    {
     "name": "stdout",
     "output_type": "stream",
     "text": [
      "getting...\n"
     ]
    },
    {
     "data": {
      "text/plain": [
       "2000"
      ]
     },
     "execution_count": 25,
     "metadata": {},
     "output_type": "execute_result"
    }
   ],
   "source": [
    "phone.price"
   ]
  },
  {
   "cell_type": "code",
   "execution_count": 26,
   "id": "20e29b76",
   "metadata": {},
   "outputs": [
    {
     "name": "stdout",
     "output_type": "stream",
     "text": [
      "setting...\n"
     ]
    },
    {
     "ename": "ValueError",
     "evalue": "Price must be positive (>0)",
     "output_type": "error",
     "traceback": [
      "\u001b[1;31m---------------------------------------------------------------------------\u001b[0m",
      "\u001b[1;31mValueError\u001b[0m                                Traceback (most recent call last)",
      "\u001b[1;32m<ipython-input-26-b58cd251f057>\u001b[0m in \u001b[0;36m<module>\u001b[1;34m\u001b[0m\n\u001b[1;32m----> 1\u001b[1;33m \u001b[0mphone\u001b[0m\u001b[1;33m.\u001b[0m\u001b[0mprice\u001b[0m\u001b[1;33m=\u001b[0m\u001b[1;33m-\u001b[0m\u001b[1;36m1000\u001b[0m\u001b[1;33m\u001b[0m\u001b[1;33m\u001b[0m\u001b[0m\n\u001b[0m",
      "\u001b[1;32m<ipython-input-23-169d183dd28d>\u001b[0m in \u001b[0;36mprice\u001b[1;34m(self, value)\u001b[0m\n\u001b[0;32m     20\u001b[0m                 \u001b[0mself\u001b[0m\u001b[1;33m.\u001b[0m\u001b[0m_price\u001b[0m\u001b[1;33m=\u001b[0m\u001b[0mvalue\u001b[0m\u001b[1;33m\u001b[0m\u001b[1;33m\u001b[0m\u001b[0m\n\u001b[0;32m     21\u001b[0m             \u001b[1;32melse\u001b[0m\u001b[1;33m:\u001b[0m\u001b[1;33m\u001b[0m\u001b[1;33m\u001b[0m\u001b[0m\n\u001b[1;32m---> 22\u001b[1;33m                 \u001b[1;32mraise\u001b[0m \u001b[0mValueError\u001b[0m\u001b[1;33m(\u001b[0m\u001b[1;34m\"Price must be positive (>0)\"\u001b[0m\u001b[1;33m)\u001b[0m\u001b[1;33m\u001b[0m\u001b[1;33m\u001b[0m\u001b[0m\n\u001b[0m\u001b[0;32m     23\u001b[0m         \u001b[1;32melse\u001b[0m\u001b[1;33m:\u001b[0m\u001b[1;33m\u001b[0m\u001b[1;33m\u001b[0m\u001b[0m\n\u001b[0;32m     24\u001b[0m             \u001b[1;32mraise\u001b[0m \u001b[0mTypeError\u001b[0m\u001b[1;33m(\u001b[0m\u001b[1;34m\"Price must be float/int.\"\u001b[0m\u001b[1;33m)\u001b[0m\u001b[1;33m\u001b[0m\u001b[1;33m\u001b[0m\u001b[0m\n",
      "\u001b[1;31mValueError\u001b[0m: Price must be positive (>0)"
     ]
    }
   ],
   "source": [
    "phone.price=-1000"
   ]
  },
  {
   "cell_type": "code",
   "execution_count": 27,
   "id": "3bf8bc3e",
   "metadata": {},
   "outputs": [
    {
     "name": "stdout",
     "output_type": "stream",
     "text": [
      "setting...\n"
     ]
    }
   ],
   "source": [
    "phone.price=4000"
   ]
  },
  {
   "cell_type": "code",
   "execution_count": 28,
   "id": "5c90b4ff",
   "metadata": {},
   "outputs": [
    {
     "name": "stdout",
     "output_type": "stream",
     "text": [
      "getting...\n"
     ]
    },
    {
     "data": {
      "text/plain": [
       "4000"
      ]
     },
     "execution_count": 28,
     "metadata": {},
     "output_type": "execute_result"
    }
   ],
   "source": [
    "phone.price"
   ]
  },
  {
   "cell_type": "code",
   "execution_count": 29,
   "id": "80435547",
   "metadata": {},
   "outputs": [
    {
     "ename": "AttributeError",
     "evalue": "can't delete attribute",
     "output_type": "error",
     "traceback": [
      "\u001b[1;31m---------------------------------------------------------------------------\u001b[0m",
      "\u001b[1;31mAttributeError\u001b[0m                            Traceback (most recent call last)",
      "\u001b[1;32m<ipython-input-29-eaddd3e9ab37>\u001b[0m in \u001b[0;36m<module>\u001b[1;34m\u001b[0m\n\u001b[1;32m----> 1\u001b[1;33m \u001b[1;32mdel\u001b[0m \u001b[0mphone\u001b[0m\u001b[1;33m.\u001b[0m\u001b[0mprice\u001b[0m\u001b[1;33m\u001b[0m\u001b[1;33m\u001b[0m\u001b[0m\n\u001b[0m",
      "\u001b[1;31mAttributeError\u001b[0m: can't delete attribute"
     ]
    }
   ],
   "source": [
    "del phone.price"
   ]
  },
  {
   "cell_type": "markdown",
   "id": "995fb357",
   "metadata": {},
   "source": [
    "## Dekorator property cd v2"
   ]
  },
  {
   "cell_type": "code",
   "execution_count": 30,
   "id": "fb579b20",
   "metadata": {},
   "outputs": [
    {
     "data": {
      "text/plain": [
       "mappingproxy({'__module__': '__main__',\n",
       "              '__doc__': 'Phone class docs.',\n",
       "              '__init__': <function __main__.Phone.__init__(self, price)>,\n",
       "              'price': <property at 0x17bc7675130>,\n",
       "              '__dict__': <attribute '__dict__' of 'Phone' objects>,\n",
       "              '__weakref__': <attribute '__weakref__' of 'Phone' objects>})"
      ]
     },
     "execution_count": 30,
     "metadata": {},
     "output_type": "execute_result"
    }
   ],
   "source": [
    "class Phone:\n",
    "    \n",
    "    \"\"\"Phone class docs.\"\"\"\n",
    "    \n",
    "    \n",
    "    def __init__(self,price):\n",
    "        self._price=price\n",
    "    \n",
    "    @property\n",
    "    def price(self):\n",
    "        print(\"getting...\")\n",
    "        return self._price\n",
    "    \n",
    "    @price.setter\n",
    "    def price(self,value):\n",
    "        print(\"setting...\")\n",
    "        if isinstance(value,(int,float)):\n",
    "            if value>0:\n",
    "                self._price=value\n",
    "            else:\n",
    "                raise ValueError(\"Price must be positive (>0)\")\n",
    "        else:\n",
    "            raise TypeError(\"Price must be float/int.\")\n",
    "    \n",
    "    @price.deleter\n",
    "    def price(self):\n",
    "        print(\"deleting...\")\n",
    "        del self._price\n",
    "  \n",
    "\n",
    "Phone.__dict__"
   ]
  },
  {
   "cell_type": "code",
   "execution_count": 31,
   "id": "290c0a18",
   "metadata": {},
   "outputs": [],
   "source": [
    "phone=Phone(2000)"
   ]
  },
  {
   "cell_type": "code",
   "execution_count": 32,
   "id": "00c3f6a8",
   "metadata": {},
   "outputs": [
    {
     "name": "stdout",
     "output_type": "stream",
     "text": [
      "getting...\n"
     ]
    },
    {
     "data": {
      "text/plain": [
       "2000"
      ]
     },
     "execution_count": 32,
     "metadata": {},
     "output_type": "execute_result"
    }
   ],
   "source": [
    "phone.price"
   ]
  },
  {
   "cell_type": "code",
   "execution_count": 33,
   "id": "d0046fa3",
   "metadata": {},
   "outputs": [
    {
     "name": "stdout",
     "output_type": "stream",
     "text": [
      "setting...\n"
     ]
    }
   ],
   "source": [
    "phone.price=3000"
   ]
  },
  {
   "cell_type": "code",
   "execution_count": 34,
   "id": "7b2d4ce9",
   "metadata": {},
   "outputs": [
    {
     "name": "stdout",
     "output_type": "stream",
     "text": [
      "getting...\n"
     ]
    },
    {
     "data": {
      "text/plain": [
       "3000"
      ]
     },
     "execution_count": 34,
     "metadata": {},
     "output_type": "execute_result"
    }
   ],
   "source": [
    "phone.price"
   ]
  },
  {
   "cell_type": "code",
   "execution_count": 35,
   "id": "fa6e9138",
   "metadata": {},
   "outputs": [
    {
     "name": "stdout",
     "output_type": "stream",
     "text": [
      "deleting...\n"
     ]
    }
   ],
   "source": [
    "del phone.price"
   ]
  },
  {
   "cell_type": "code",
   "execution_count": 36,
   "id": "58d790e1",
   "metadata": {},
   "outputs": [
    {
     "name": "stdout",
     "output_type": "stream",
     "text": [
      "getting...\n"
     ]
    },
    {
     "ename": "AttributeError",
     "evalue": "'Phone' object has no attribute '_price'",
     "output_type": "error",
     "traceback": [
      "\u001b[1;31m---------------------------------------------------------------------------\u001b[0m",
      "\u001b[1;31mAttributeError\u001b[0m                            Traceback (most recent call last)",
      "\u001b[1;32m<ipython-input-36-12d2c38d518b>\u001b[0m in \u001b[0;36m<module>\u001b[1;34m\u001b[0m\n\u001b[1;32m----> 1\u001b[1;33m \u001b[0mphone\u001b[0m\u001b[1;33m.\u001b[0m\u001b[0mprice\u001b[0m\u001b[1;33m\u001b[0m\u001b[1;33m\u001b[0m\u001b[0m\n\u001b[0m",
      "\u001b[1;32m<ipython-input-30-237751586684>\u001b[0m in \u001b[0;36mprice\u001b[1;34m(self)\u001b[0m\n\u001b[0;32m     10\u001b[0m     \u001b[1;32mdef\u001b[0m \u001b[0mprice\u001b[0m\u001b[1;33m(\u001b[0m\u001b[0mself\u001b[0m\u001b[1;33m)\u001b[0m\u001b[1;33m:\u001b[0m\u001b[1;33m\u001b[0m\u001b[1;33m\u001b[0m\u001b[0m\n\u001b[0;32m     11\u001b[0m         \u001b[0mprint\u001b[0m\u001b[1;33m(\u001b[0m\u001b[1;34m\"getting...\"\u001b[0m\u001b[1;33m)\u001b[0m\u001b[1;33m\u001b[0m\u001b[1;33m\u001b[0m\u001b[0m\n\u001b[1;32m---> 12\u001b[1;33m         \u001b[1;32mreturn\u001b[0m \u001b[0mself\u001b[0m\u001b[1;33m.\u001b[0m\u001b[0m_price\u001b[0m\u001b[1;33m\u001b[0m\u001b[1;33m\u001b[0m\u001b[0m\n\u001b[0m\u001b[0;32m     13\u001b[0m \u001b[1;33m\u001b[0m\u001b[0m\n\u001b[0;32m     14\u001b[0m     \u001b[1;33m@\u001b[0m\u001b[0mprice\u001b[0m\u001b[1;33m.\u001b[0m\u001b[0msetter\u001b[0m\u001b[1;33m\u001b[0m\u001b[1;33m\u001b[0m\u001b[0m\n",
      "\u001b[1;31mAttributeError\u001b[0m: 'Phone' object has no attribute '_price'"
     ]
    }
   ],
   "source": [
    "phone.price"
   ]
  },
  {
   "cell_type": "code",
   "execution_count": 37,
   "id": "c88482e3",
   "metadata": {},
   "outputs": [
    {
     "name": "stdout",
     "output_type": "stream",
     "text": [
      "setting...\n"
     ]
    }
   ],
   "source": [
    "phone.price = 3555"
   ]
  },
  {
   "cell_type": "code",
   "execution_count": 38,
   "id": "fb196b29",
   "metadata": {},
   "outputs": [
    {
     "name": "stdout",
     "output_type": "stream",
     "text": [
      "getting...\n"
     ]
    },
    {
     "data": {
      "text/plain": [
       "3555"
      ]
     },
     "execution_count": 38,
     "metadata": {},
     "output_type": "execute_result"
    }
   ],
   "source": [
    "phone.price"
   ]
  },
  {
   "cell_type": "code",
   "execution_count": 1,
   "id": "843ebd41",
   "metadata": {},
   "outputs": [
    {
     "data": {
      "text/plain": [
       "mappingproxy({'__module__': '__main__',\n",
       "              '__doc__': 'Phone class docs.',\n",
       "              '__init__': <function __main__.Phone.__init__(self, price)>,\n",
       "              'price': <property at 0x22414c2d720>,\n",
       "              '__dict__': <attribute '__dict__' of 'Phone' objects>,\n",
       "              '__weakref__': <attribute '__weakref__' of 'Phone' objects>})"
      ]
     },
     "execution_count": 1,
     "metadata": {},
     "output_type": "execute_result"
    }
   ],
   "source": [
    "class Phone:\n",
    "    \n",
    "    \"\"\"Phone class docs.\"\"\"\n",
    "    \n",
    "    \n",
    "    def __init__(self,price):\n",
    "        self.price=price\n",
    "    \n",
    "    @property\n",
    "    def price(self):\n",
    "        print(\"getting...\")\n",
    "        return self._price\n",
    "    \n",
    "    @price.setter\n",
    "    def price(self,value):\n",
    "        print(\"setting...\")\n",
    "        if isinstance(value,(int,float)):\n",
    "            if value>0:\n",
    "                self._price=value\n",
    "            else:\n",
    "                raise ValueError(\"Price must be positive (>0)\")\n",
    "        else:\n",
    "            raise TypeError(\"Price must be float/int.\")\n",
    "    \n",
    "    @price.deleter\n",
    "    def price(self):\n",
    "        print(\"deleting...\")\n",
    "        del self._price\n",
    "\n",
    "        \n",
    "        \n",
    "Phone.__dict__"
   ]
  },
  {
   "cell_type": "code",
   "execution_count": 2,
   "id": "de2a8d60",
   "metadata": {},
   "outputs": [
    {
     "name": "stdout",
     "output_type": "stream",
     "text": [
      "setting...\n"
     ]
    },
    {
     "ename": "TypeError",
     "evalue": "Price must be float/int.",
     "output_type": "error",
     "traceback": [
      "\u001b[1;31m---------------------------------------------------------------------------\u001b[0m",
      "\u001b[1;31mTypeError\u001b[0m                                 Traceback (most recent call last)",
      "\u001b[1;32m<ipython-input-2-e66f4d6ac35b>\u001b[0m in \u001b[0;36m<module>\u001b[1;34m\u001b[0m\n\u001b[1;32m----> 1\u001b[1;33m \u001b[0mphone\u001b[0m\u001b[1;33m=\u001b[0m\u001b[0mPhone\u001b[0m\u001b[1;33m(\u001b[0m\u001b[1;34m\"abc\"\u001b[0m\u001b[1;33m)\u001b[0m\u001b[1;33m\u001b[0m\u001b[1;33m\u001b[0m\u001b[0m\n\u001b[0m",
      "\u001b[1;32m<ipython-input-1-ff78989ba9d4>\u001b[0m in \u001b[0;36m__init__\u001b[1;34m(self, price)\u001b[0m\n\u001b[0;32m      5\u001b[0m \u001b[1;33m\u001b[0m\u001b[0m\n\u001b[0;32m      6\u001b[0m     \u001b[1;32mdef\u001b[0m \u001b[0m__init__\u001b[0m\u001b[1;33m(\u001b[0m\u001b[0mself\u001b[0m\u001b[1;33m,\u001b[0m\u001b[0mprice\u001b[0m\u001b[1;33m)\u001b[0m\u001b[1;33m:\u001b[0m\u001b[1;33m\u001b[0m\u001b[1;33m\u001b[0m\u001b[0m\n\u001b[1;32m----> 7\u001b[1;33m         \u001b[0mself\u001b[0m\u001b[1;33m.\u001b[0m\u001b[0mprice\u001b[0m\u001b[1;33m=\u001b[0m\u001b[0mprice\u001b[0m\u001b[1;33m\u001b[0m\u001b[1;33m\u001b[0m\u001b[0m\n\u001b[0m\u001b[0;32m      8\u001b[0m \u001b[1;33m\u001b[0m\u001b[0m\n\u001b[0;32m      9\u001b[0m     \u001b[1;33m@\u001b[0m\u001b[0mproperty\u001b[0m\u001b[1;33m\u001b[0m\u001b[1;33m\u001b[0m\u001b[0m\n",
      "\u001b[1;32m<ipython-input-1-ff78989ba9d4>\u001b[0m in \u001b[0;36mprice\u001b[1;34m(self, value)\u001b[0m\n\u001b[0;32m     21\u001b[0m                 \u001b[1;32mraise\u001b[0m \u001b[0mValueError\u001b[0m\u001b[1;33m(\u001b[0m\u001b[1;34m\"Price must be positive (>0)\"\u001b[0m\u001b[1;33m)\u001b[0m\u001b[1;33m\u001b[0m\u001b[1;33m\u001b[0m\u001b[0m\n\u001b[0;32m     22\u001b[0m         \u001b[1;32melse\u001b[0m\u001b[1;33m:\u001b[0m\u001b[1;33m\u001b[0m\u001b[1;33m\u001b[0m\u001b[0m\n\u001b[1;32m---> 23\u001b[1;33m             \u001b[1;32mraise\u001b[0m \u001b[0mTypeError\u001b[0m\u001b[1;33m(\u001b[0m\u001b[1;34m\"Price must be float/int.\"\u001b[0m\u001b[1;33m)\u001b[0m\u001b[1;33m\u001b[0m\u001b[1;33m\u001b[0m\u001b[0m\n\u001b[0m\u001b[0;32m     24\u001b[0m \u001b[1;33m\u001b[0m\u001b[0m\n\u001b[0;32m     25\u001b[0m     \u001b[1;33m@\u001b[0m\u001b[0mprice\u001b[0m\u001b[1;33m.\u001b[0m\u001b[0mdeleter\u001b[0m\u001b[1;33m\u001b[0m\u001b[1;33m\u001b[0m\u001b[0m\n",
      "\u001b[1;31mTypeError\u001b[0m: Price must be float/int."
     ]
    }
   ],
   "source": [
    "phone=Phone(\"abc\")"
   ]
  },
  {
   "cell_type": "code",
   "execution_count": 3,
   "id": "49512259",
   "metadata": {},
   "outputs": [
    {
     "ename": "NameError",
     "evalue": "name 'phone' is not defined",
     "output_type": "error",
     "traceback": [
      "\u001b[1;31m---------------------------------------------------------------------------\u001b[0m",
      "\u001b[1;31mNameError\u001b[0m                                 Traceback (most recent call last)",
      "\u001b[1;32m<ipython-input-3-12d2c38d518b>\u001b[0m in \u001b[0;36m<module>\u001b[1;34m\u001b[0m\n\u001b[1;32m----> 1\u001b[1;33m \u001b[0mphone\u001b[0m\u001b[1;33m.\u001b[0m\u001b[0mprice\u001b[0m\u001b[1;33m\u001b[0m\u001b[1;33m\u001b[0m\u001b[0m\n\u001b[0m",
      "\u001b[1;31mNameError\u001b[0m: name 'phone' is not defined"
     ]
    }
   ],
   "source": [
    "phone.price"
   ]
  },
  {
   "cell_type": "code",
   "execution_count": 4,
   "id": "256f0611",
   "metadata": {},
   "outputs": [
    {
     "name": "stdout",
     "output_type": "stream",
     "text": [
      "setting...\n"
     ]
    }
   ],
   "source": [
    "phone=Phone(123)"
   ]
  },
  {
   "cell_type": "code",
   "execution_count": 5,
   "id": "b9027c30",
   "metadata": {},
   "outputs": [
    {
     "name": "stdout",
     "output_type": "stream",
     "text": [
      "getting...\n"
     ]
    },
    {
     "data": {
      "text/plain": [
       "123"
      ]
     },
     "execution_count": 5,
     "metadata": {},
     "output_type": "execute_result"
    }
   ],
   "source": [
    "phone.price"
   ]
  },
  {
   "cell_type": "markdown",
   "id": "d07e55c8",
   "metadata": {},
   "source": [
    "## Przykład"
   ]
  },
  {
   "cell_type": "code",
   "execution_count": 7,
   "id": "91087550",
   "metadata": {},
   "outputs": [],
   "source": [
    "class Game:\n",
    "    \n",
    "    def __init__(self,level=0):\n",
    "        self.level=level\n",
    "    \n",
    "    @property\n",
    "    def level(self):\n",
    "        return self._level\n",
    "    \n",
    "    @level.setter\n",
    "    def level(self,value):\n",
    "        if value<0:\n",
    "            self._level=0\n",
    "        elif value>100:\n",
    "            self._level=100\n",
    "        else:\n",
    "            self._level=value\n",
    "        "
   ]
  },
  {
   "cell_type": "code",
   "execution_count": 8,
   "id": "68e05c6c",
   "metadata": {},
   "outputs": [
    {
     "data": {
      "text/plain": [
       "[<__main__.Game at 0x22415fa2160>,\n",
       " <__main__.Game at 0x22415fa2250>,\n",
       " <__main__.Game at 0x22415fa2280>,\n",
       " <__main__.Game at 0x22415fa22b0>]"
      ]
     },
     "execution_count": 8,
     "metadata": {},
     "output_type": "execute_result"
    }
   ],
   "source": [
    "games=[Game(),Game(10),Game(-10),Game(130)]\n",
    "games"
   ]
  },
  {
   "cell_type": "code",
   "execution_count": 9,
   "id": "b5f35e82",
   "metadata": {},
   "outputs": [
    {
     "data": {
      "text/plain": [
       "[0, 10, 0, 100]"
      ]
     },
     "execution_count": 9,
     "metadata": {},
     "output_type": "execute_result"
    }
   ],
   "source": [
    "[game.level for game in games]"
   ]
  },
  {
   "cell_type": "code",
   "execution_count": 10,
   "id": "fd0decb0",
   "metadata": {},
   "outputs": [
    {
     "name": "stdout",
     "output_type": "stream",
     "text": [
      "0\n",
      "10\n",
      "0\n",
      "100\n"
     ]
    }
   ],
   "source": [
    "for game in games:\n",
    "    print(game.level)"
   ]
  },
  {
   "cell_type": "code",
   "execution_count": null,
   "id": "0cbc4a29",
   "metadata": {},
   "outputs": [],
   "source": []
  }
 ],
 "metadata": {
  "kernelspec": {
   "display_name": "Python 3",
   "language": "python",
   "name": "python3"
  },
  "language_info": {
   "codemirror_mode": {
    "name": "ipython",
    "version": 3
   },
   "file_extension": ".py",
   "mimetype": "text/x-python",
   "name": "python",
   "nbconvert_exporter": "python",
   "pygments_lexer": "ipython3",
   "version": "3.8.10"
  }
 },
 "nbformat": 4,
 "nbformat_minor": 5
}
